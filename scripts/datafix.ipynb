{
 "cells": [
  {
   "cell_type": "markdown",
   "metadata": {},
   "source": []
  },
  {
   "cell_type": "code",
   "execution_count": 1,
   "metadata": {},
   "outputs": [],
   "source": [
    "import pandas as pd\n",
    "import numpy as np"
   ]
  },
  {
   "cell_type": "code",
   "execution_count": 2,
   "metadata": {},
   "outputs": [],
   "source": [
    "def hamilton_product(a: np.array, b: np.array):\n",
    "    \"\"\"\n",
    "    Hamilton product for two quaternions or a Vec4 and a Quaternion.\n",
    "    :param a: quaternion or vec4 in order [w,x,y,z]\n",
    "    :param b: quaternion in order [w,x,y,z]\n",
    "    \"\"\"\n",
    "    # check shape to deal with a whole column of rotations\n",
    "    if len(a.shape) > 1:\n",
    "        a = [a[:, 0], a[:, 1], a[:, 2], a[:, 3]]\n",
    "    if len(b.shape) > 1:\n",
    "        b = [b[:, 0], b[:, 1], b[:, 2], b[:, 3]]\n",
    "    h_p = np.array([\n",
    "        a[0] * b[0] - a[1] * b[1] - a[2] * b[2] - a[3] * b[3],\n",
    "        a[0] * b[1] + a[1] * b[0] + a[2] * b[3] - a[3] * b[2],\n",
    "        a[0] * b[2] - a[1] * b[3] + a[2] * b[0] + a[3] * b[1],\n",
    "        a[0] * b[3] + a[1] * b[2] - a[2] * b[1] + a[3] * b[0]\n",
    "    ], dtype=np.float64)\n",
    "    if len(h_p.shape) > 1:\n",
    "        return h_p.transpose()\n",
    "    else:\n",
    "        return h_p\n",
    "    \n",
    "\n",
    "def quat_invert(q: np.array):\n",
    "    \"\"\"\n",
    "    estimates the inverse rotation.\n",
    "    :param q: input quaternion\n",
    "    :return: inverse quaternion\n",
    "    \"\"\"\n",
    "    q_s = q * np.array([1, -1, -1, -1], dtype=np.float64)  # the conjugate of the quaternion\n",
    "    if len(q.shape) > 1:\n",
    "        return q_s / np.sum(np.square(q, dtype=np.float64), axis=1, keepdims=True, dtype=np.float64)\n",
    "    else:\n",
    "        return q_s / np.sum(np.square(q, dtype=np.float64), dtype=np.float64)"
   ]
  },
  {
   "cell_type": "code",
   "execution_count": 3,
   "metadata": {},
   "outputs": [
    {
     "name": "stdout",
     "output_type": "stream",
     "text": [
      "(26579, 75)\n"
     ]
    }
   ],
   "source": [
    "#Add file name you want to update\n",
    "data = pd.read_csv(\"/Users/affanbinusman/Dropbox (ASU)/IRL-Lab/P&G/hackathon_data/\")\n",
    "print(data.shape)\n"
   ]
  },
  {
   "cell_type": "code",
   "execution_count": 4,
   "metadata": {},
   "outputs": [],
   "source": [
    "sw_forward = np.array(data[[\"sw_forward_w\", \"sw_forward_x\", \"sw_forward_y\", \"sw_forward_z\"]])\n",
    "sw_rotvec = np.array(data[[\"sw_rotvec_w\", \"sw_rotvec_x\", \"sw_rotvec_y\", \"sw_rotvec_z\"]])\n",
    "hamilton = hamilton_product(quat_invert(sw_forward), sw_rotvec)"
   ]
  },
  {
   "cell_type": "code",
   "execution_count": 5,
   "metadata": {},
   "outputs": [],
   "source": [
    "data[\"sw_rot_cal_w\"] = hamilton[:, 0]\n",
    "data[\"sw_rot_cal_x\"] = hamilton[:, 1]\n",
    "data[\"sw_rot_cal_y\"] = hamilton[:, 2]\n",
    "data[\"sw_rot_cal_z\"] = hamilton[:, 3]"
   ]
  },
  {
   "cell_type": "code",
   "execution_count": 6,
   "metadata": {},
   "outputs": [],
   "source": [
    "sw_forward = np.array(data[[\"ph_forward_w\", \"ph_forward_x\", \"ph_forward_y\", \"ph_forward_z\"]])\n",
    "sw_rotvec = np.array(data[[\"ph_rotvec_w\", \"ph_rotvec_x\", \"ph_rotvec_y\", \"ph_rotvec_z\"]])\n",
    "hamilton = hamilton_product(quat_invert(sw_forward), sw_rotvec)"
   ]
  },
  {
   "cell_type": "code",
   "execution_count": 7,
   "metadata": {},
   "outputs": [],
   "source": [
    "data[\"ph_rot_cal_w\"] = hamilton[:, 0]\n",
    "data[\"ph_rot_cal_x\"] = hamilton[:, 1]\n",
    "data[\"ph_rot_cal_y\"] = hamilton[:, 2]\n",
    "data[\"ph_rot_cal_z\"] = hamilton[:, 3]"
   ]
  },
  {
   "cell_type": "code",
   "execution_count": 8,
   "metadata": {},
   "outputs": [],
   "source": [
    "data[\"pres_cal\"] = data[\"sw_pres\"] - data[\"sw_rel_pres\"]"
   ]
  },
  {
   "cell_type": "code",
   "execution_count": 9,
   "metadata": {},
   "outputs": [
    {
     "name": "stdout",
     "output_type": "stream",
     "text": [
      "(26579, 84)\n"
     ]
    }
   ],
   "source": [
    "print(data.shape)"
   ]
  },
  {
   "cell_type": "code",
   "execution_count": 10,
   "metadata": {},
   "outputs": [],
   "source": [
    "# Are you sure you want to overwrite? Are you sure sure?\n",
    "# data.to_csv('/Users/affanbinusman/Dropbox (ASU)/IRL-Lab/P&G/hackathon_data/', index=False)"
   ]
  }
 ],
 "metadata": {
  "kernelspec": {
   "display_name": "Python 3",
   "language": "python",
   "name": "python3"
  },
  "language_info": {
   "codemirror_mode": {
    "name": "ipython",
    "version": 3
   },
   "file_extension": ".py",
   "mimetype": "text/x-python",
   "name": "python",
   "nbconvert_exporter": "python",
   "pygments_lexer": "ipython3",
   "version": "3.9.6"
  },
  "orig_nbformat": 4
 },
 "nbformat": 4,
 "nbformat_minor": 2
}
