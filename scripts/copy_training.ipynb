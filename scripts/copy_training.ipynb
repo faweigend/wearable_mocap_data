{
 "cells": [
  {
   "cell_type": "markdown",
   "metadata": {},
   "source": [
    "# Pose Prediction From Smartwatch Data\n",
    "### Part 2\n",
    "\n",
    "Welcome! This notebook is the second chapter of the hackathon challenge to predict human arm pose from the sensor data of a single smartwatch. In other words, a human wears a smartwatch, and we will try to predict their arm pose from the sensor outputs we can read from the watch.\n",
    "\n",
    "## Creating a Predictive Model with Machine Learning\n",
    "\n",
    "In this second chapter, we will have the opportunity to utilize the processed data from the previous chapter and train a Neural Network to generate predictions. The following sections will guide you step-by-step through model architecture design, model training and evaluation, performance analysis, and 3D visualization for better interpretability of the model's performance. "
   ]
  },
  {
   "cell_type": "markdown",
   "metadata": {},
   "source": [
    "### 0. Downloading Dependencies (Optional)\n",
    "\n",
    "We begin by downloading the libraries in this notebook. If you have all of these pre-installed, you may skip this step.\n",
    "\n",
    "Note: We installed some packages in the first notebook. If you skipped running it, please run step 0 from the first notebook to download dependacies and continute with this notebook. "
   ]
  },
  {
   "cell_type": "code",
   "execution_count": 1,
   "metadata": {},
   "outputs": [
    {
     "name": "stdout",
     "output_type": "stream",
     "text": [
      "Defaulting to user installation because normal site-packages is not writeable\n",
      "Requirement already satisfied: torch in /Users/affanbinusman/Library/Python/3.9/lib/python/site-packages (2.0.1)\n",
      "Requirement already satisfied: filelock in /Users/affanbinusman/Library/Python/3.9/lib/python/site-packages (from torch) (3.8.0)\n",
      "Requirement already satisfied: typing-extensions in /Users/affanbinusman/Library/Python/3.9/lib/python/site-packages (from torch) (4.5.0)\n",
      "Requirement already satisfied: sympy in /Users/affanbinusman/Library/Python/3.9/lib/python/site-packages (from torch) (1.12)\n",
      "Requirement already satisfied: networkx in /Users/affanbinusman/Library/Python/3.9/lib/python/site-packages (from torch) (3.1)\n",
      "Requirement already satisfied: jinja2 in /Users/affanbinusman/Library/Python/3.9/lib/python/site-packages (from torch) (3.1.2)\n",
      "Requirement already satisfied: MarkupSafe>=2.0 in /Users/affanbinusman/Library/Python/3.9/lib/python/site-packages (from jinja2->torch) (2.1.1)\n",
      "Requirement already satisfied: mpmath>=0.19 in /Users/affanbinusman/Library/Python/3.9/lib/python/site-packages (from sympy->torch) (1.3.0)\n",
      "\n",
      "\u001b[1m[\u001b[0m\u001b[34;49mnotice\u001b[0m\u001b[1;39;49m]\u001b[0m\u001b[39;49m A new release of pip is available: \u001b[0m\u001b[31;49m23.1.2\u001b[0m\u001b[39;49m -> \u001b[0m\u001b[32;49m23.2.1\u001b[0m\n",
      "\u001b[1m[\u001b[0m\u001b[34;49mnotice\u001b[0m\u001b[1;39;49m]\u001b[0m\u001b[39;49m To update, run: \u001b[0m\u001b[32;49m/Library/Developer/CommandLineTools/usr/bin/python3 -m pip install --upgrade pip\u001b[0m\n",
      "Defaulting to user installation because normal site-packages is not writeable\n",
      "Requirement already satisfied: sklearn in /Users/affanbinusman/Library/Python/3.9/lib/python/site-packages (0.0.post1)\n",
      "\n",
      "\u001b[1m[\u001b[0m\u001b[34;49mnotice\u001b[0m\u001b[1;39;49m]\u001b[0m\u001b[39;49m A new release of pip is available: \u001b[0m\u001b[31;49m23.1.2\u001b[0m\u001b[39;49m -> \u001b[0m\u001b[32;49m23.2.1\u001b[0m\n",
      "\u001b[1m[\u001b[0m\u001b[34;49mnotice\u001b[0m\u001b[1;39;49m]\u001b[0m\u001b[39;49m To update, run: \u001b[0m\u001b[32;49m/Library/Developer/CommandLineTools/usr/bin/python3 -m pip install --upgrade pip\u001b[0m\n"
     ]
    }
   ],
   "source": [
    "!pip install torch\n",
    "!pip install sklearn"
   ]
  },
  {
   "cell_type": "markdown",
   "metadata": {},
   "source": [
    "### 1. Importing Libraries\n",
    "\n",
    "Lets import the libraries we will be primarily working with in this notebook. You may notice some similar ones. Let us help you understand why:\n",
    "- Libraries like Numpy and Pandas are helpful for mathematical functions and data frameworks respectively. Therefore, you would see them almost everywhere.\n",
    "- Matplotlib is often used to display plots. Using plotly, we will display interactive plots. But why do we need plots for training a machine learning model? You will find out soon. \n",
    "- Finally, Torch (PyTorch) provides powerful tools to deploy Neural Networks (NN)"
   ]
  },
  {
   "cell_type": "code",
   "execution_count": 2,
   "metadata": {},
   "outputs": [],
   "source": [
    "# PyTorch Libraries for Neural Network\n",
    "import torch\n",
    "import torch.nn as nn\n",
    "import torch.optim as optim\n",
    "from torch.utils.data import DataLoader, Dataset\n",
    "from sklearn.model_selection import train_test_split    # Scikit-Lean for preparing the train-test data split\n",
    "\n",
    "import pandas as pd\n",
    "import numpy as np\n",
    "\n",
    "# Plotting tools\n",
    "import matplotlib.pyplot as plt\n",
    "import plotly.graph_objs as go\n",
    "\n",
    "# adjust data paths in config.py\n",
    "import config   \n",
    "import os    "
   ]
  },
  {
   "cell_type": "markdown",
   "metadata": {},
   "source": [
    "### 2. Loading Processed Data\n",
    "\n",
    "Let's load the normalized dataset into the environment that we processed in the previous notebook. You will notice two files in the cache folder. \n",
    "1. `normalized_data.csv` contains the normalized dataset\n",
    "2. `means_stds.csv` contains the means and standard deviations of different columns utilized during normalization."
   ]
  },
  {
   "cell_type": "code",
   "execution_count": 3,
   "metadata": {},
   "outputs": [],
   "source": [
    "cache_path = config.paths[\"cache_path\"]\n",
    "path = os.path.join(cache_path, \"normalized_data.csv\")\n",
    "data_normalized = pd.read_csv(path)"
   ]
  },
  {
   "cell_type": "markdown",
   "metadata": {},
   "source": [
    "### 3. Plotting Functions\n",
    "Lets get the simpler stuff out of the way first. Since the neural networks will help estimate the X, Y & Z coordinates, we use a similar 3D visualization for representing the outputs by the model and actual labels to gain a deeper understanding of model's performance. \n",
    "\n",
    "Secondly, during the training process you will notice the loss decreases with epochs. It is useful to visualize the loss for a number of reasons:\n",
    "- Overfitting: When model starts remembering the training dataset instead of figuring out a \"pattern\".\n",
    "- Performance: To figure out if further training decreases or increases loss \n",
    "\n",
    "Note: Epoch refers to the iteration number where the model goes through the entire training data. For instance, 1 epoch indicates that model has passed through the data once. \n",
    "\n",
    "For these purposes, we are using helper functions that can be called repeatedly. "
   ]
  },
  {
   "cell_type": "code",
   "execution_count": 4,
   "metadata": {},
   "outputs": [],
   "source": [
    "\"\"\"\n",
    "    This section represents the function and helper function required for interactive 3D visualization:\n",
    "        - The interactive_output_visualization function helps in visualizing the X, Y, Z coordinates in an interactive 3D map. It is also used to display the output and original labels\n",
    "\"\"\"\n",
    "\n",
    "# Helper function that provides appropriate the approriate length for columns. \n",
    "# The duration variable helps in defining the length of continuous data - this helps in visualizing a smaller hand trajectory \n",
    "# The randomseed variable helps to visualize the same data without randomizing the selection process\n",
    "# The remaining functions follow the same variables and analogy\n",
    "def data_visualization(data, duration, randomseed=False, output=False):\n",
    "    if output is True:\n",
    "        dim1, dim2, dim3 = data[:,0], data[:,1], data[:,2]\n",
    "    else:\n",
    "        dim1, dim2, dim3 = np.array(data['gt_hand_orig_rua_x']), np.array(data['gt_hand_orig_rua_y']), np.array(data['gt_hand_orig_rua_z'])\n",
    "\n",
    "    if duration is not None:\n",
    "        if randomseed:\n",
    "            np.random.seed(42)\n",
    "        else: \n",
    "            np.random.seed(None)\n",
    "        reduced_samples = 10 * duration\n",
    "        start_index = np.random.choice(len(dim1) - reduced_samples + 1)\n",
    "        dim1 = dim1[start_index : start_index + reduced_samples]\n",
    "        dim2 = dim2[start_index : start_index + reduced_samples]\n",
    "        dim3 = dim3[start_index : start_index + reduced_samples]\n",
    "        \n",
    "    return dim1, dim2, dim3\n",
    "\n",
    "def interactive_output_visualization(data, duration=None, randomseed=False, output=False, output_data = None):\n",
    "    dim1, dim2, dim3 = data_visualization(data, duration, randomseed, output)\n",
    "    \n",
    "    trace = go.Scatter3d(x=dim1, y=dim2, z=dim3, mode='markers', marker=dict(size=3, \n",
    "                                                                             color='blue', \n",
    "                                                                             opacity=0.8),\n",
    "                                                                             name=\"Input Points\")\n",
    "\n",
    "    if output:\n",
    "        dim1, dim2, dim3 = data_visualization(output_data, duration, randomseed, output)\n",
    "        trace_output = go.Scatter3d(x=dim1, y=dim2, z=dim3, mode='markers', marker=dict(size=3, \n",
    "                                                                                    color='red', \n",
    "                                                                                    opacity=0.5), \n",
    "                                                                                    name='Output Points')\n",
    "        traces = [trace, trace_output]\n",
    "        title = 'Input and Output Points in 3D Space'\n",
    "    else:\n",
    "        traces = [trace]\n",
    "        title = 'Values in 3D Space'\n",
    "\n",
    "    layout = go.Layout(title=title, scene=dict(xaxis=dict(title='X-Dimension'),\n",
    "                                                                        yaxis=dict(title='Y-Dimension'),\n",
    "                                                                        zaxis=dict(title='Z-Dimension')))\n",
    "\n",
    "    fig = go.Figure(data=traces, layout=layout)\n",
    "    fig.show()\n",
    "\n",
    "def lossPlot(losses):\n",
    "    epochs_total = range(1, 1 + len(losses[\"evaluation\"]))\n",
    "\n",
    "    plt.subplots(1, figsize=(20,5))\n",
    "    plt.plot(epochs_total, losses[\"training\"], label = \"Training Loss\")\n",
    "    plt.plot(epochs_total, losses[\"evaluation\"], label = \"Evaluation Loss\")\n",
    "    plt.xlabel('Epochs')\n",
    "    plt.ylabel('Loss')\n",
    "    plt.title('Losses over Epochs')\n",
    "    plt.legend()\n",
    "    plt.show()"
   ]
  },
  {
   "cell_type": "markdown",
   "metadata": {},
   "source": [
    "### 4. Data Loader & Model Architecture\n",
    "\n",
    "A data loader is an integral part of training a neural network. The data loader assists in selecting the relevant columns assigned as features and labels. We accomplish this task using the PyTorch library. \n",
    "\n",
    "In the next portion of the code block, we implement a basic feed-forward architecture comprising an input, two hidden, and an output layer."
   ]
  },
  {
   "cell_type": "code",
   "execution_count": 5,
   "metadata": {},
   "outputs": [],
   "source": [
    "\"\"\"\n",
    "    Data Loader: \n",
    "        This serves as the framework to load data using pandas and segment out the useful columns (labels and inputs)\n",
    "\"\"\"\n",
    "gt_columns = [\n",
    "    \"gt_hand_orig_rua_x\", \"gt_hand_orig_rua_y\", \"gt_hand_orig_rua_z\",\n",
    "    \"gt_larm_6drr_rh_1\", \"gt_larm_6drr_rh_2\", \"gt_larm_6drr_rh_3\",\n",
    "    \"gt_larm_6drr_rh_4\", \"gt_larm_6drr_rh_5\", \"gt_larm_6drr_rh_6\",\n",
    "    \"gt_larm_orig_rua_x\", \"gt_larm_orig_rua_y\", \"gt_larm_orig_rua_z\",\n",
    "    \"gt_uarm_6drr_rh_1\", \"gt_uarm_6drr_rh_2\", \"gt_uarm_6drr_rh_3\",\n",
    "    \"gt_uarm_6drr_rh_4\", \"gt_uarm_6drr_rh_5\", \"gt_uarm_6drr_rh_6\"\n",
    "]\n",
    "\n",
    "sw_columns = [\n",
    "    \"sw_dt\",\n",
    "    \"sw_gyro_x\", \"sw_gyro_y\", \"sw_gyro_z\",\n",
    "    \"sw_lvel_x\", \"sw_lvel_y\", \"sw_lvel_z\",\n",
    "    \"sw_lacc_x\", \"sw_lacc_y\", \"sw_lacc_z\",\n",
    "    \"sw_grav_x\", \"sw_grav_y\", \"sw_grav_z\",\n",
    "    \"sw_6drr_cal_1\", \"sw_6drr_cal_2\", \"sw_6drr_cal_3\",\n",
    "    \"sw_6drr_cal_4\", \"sw_6drr_cal_5\", \"sw_6drr_cal_6\",\n",
    "    \"sw_pres_cal\"\n",
    "]\n",
    "\n",
    "class MyDataset(Dataset):\n",
    "    def __init__ (self, data):\n",
    "        self.data = data\n",
    "        self.features = self.data.loc[:, sw_columns].values     # All smart watch inputs that contribute towards the outputs\n",
    "        self.labels = self.data.loc[:, gt_columns[0:3]].values          # The model predicts X, Y, Z coordinates of hand\n",
    "\n",
    "    def __len__ (self):\n",
    "        return len(self.data)\n",
    "    \n",
    "    def __getitem__ (self, idx):\n",
    "        features = torch.tensor(self.features[idx], dtype=torch.float32) \n",
    "        label = torch.tensor(self.labels[idx], dtype=torch.float32)\n",
    "        return features, label\n",
    "    \n",
    "\"\"\"\n",
    "    Neural Network / Model:\n",
    "        A simple linear architecture based model with 3 layers (including input and output layers). \n",
    "\"\"\"\n",
    "\n",
    "class MyModel(nn.Module):\n",
    "    def __init__ (self, input_size, hidden_size, output_size):\n",
    "        super (MyModel, self).__init__()\n",
    "        \n",
    "        self.fc1 = nn.Linear(input_size, hidden_size + int(hidden_size/2))\n",
    "        self.fc2 = nn.Linear(hidden_size + int(hidden_size/2), hidden_size - int(hidden_size/2))\n",
    "        self.fc3 = nn.Linear(hidden_size - int(hidden_size/2), output_size)\n",
    "        self.relu = nn.LeakyReLU()\n",
    "\n",
    "    def forward(self, x):\n",
    "        x = self.fc1(x)\n",
    "        x = self.relu(x)\n",
    "        x = self.fc2(x)\n",
    "        x = self.relu(x)\n",
    "        x = self.fc3(x)\n",
    "        return x"
   ]
  },
  {
   "cell_type": "markdown",
   "metadata": {},
   "source": [
    "The next code block provides a basic overview of some of the tunable parameters. We encourage you to play around with these parameters to see what works better for this model architecture and dataset."
   ]
  },
  {
   "cell_type": "code",
   "execution_count": 6,
   "metadata": {},
   "outputs": [],
   "source": [
    "batch_size = 1000        \n",
    "learning_rate = 0.01\n",
    "num_epochs = 500\n",
    "test_data_size = 0.2            # Range 0-1. You may increase or decrease the recommended testing data size by updating this variable\n",
    "hidden_size = 128               # This represents the middle layer of the neural network. You may manually play around with the model architecture by adding more layers"
   ]
  },
  {
   "cell_type": "markdown",
   "metadata": {},
   "source": [
    "Let's initialize our model with the help of helper functions defined previously. You would also notice the `criterion` and `optimizer` variables that work differently for different tasks. Feel free to play around with them. \n",
    "\n",
    "For more information on loss functions and optimizers, visit:  \n",
    "- https://pytorch.org/docs/stable/nn.html#loss-functions     \n",
    "- https://pytorch.org/docs/stable/optim.html"
   ]
  },
  {
   "cell_type": "code",
   "execution_count": 7,
   "metadata": {},
   "outputs": [
    {
     "data": {
      "text/plain": [
       "MyModel(\n",
       "  (fc1): Linear(in_features=20, out_features=192, bias=True)\n",
       "  (fc2): Linear(in_features=192, out_features=64, bias=True)\n",
       "  (fc3): Linear(in_features=64, out_features=3, bias=True)\n",
       "  (relu): LeakyReLU(negative_slope=0.01)\n",
       ")"
      ]
     },
     "execution_count": 7,
     "metadata": {},
     "output_type": "execute_result"
    }
   ],
   "source": [
    "# Data loading calls to class and functions\n",
    "dataset = MyDataset(data_normalized)\n",
    "\n",
    "train_dataset, test_dataset = train_test_split(dataset, test_size=test_data_size, shuffle=False)\n",
    "train_loader = DataLoader(train_dataset, batch_size=batch_size, shuffle=False)\n",
    "test_loader = DataLoader(test_dataset, batch_size=batch_size, shuffle=False)\n",
    "\n",
    "# Initialzing the model with inputs\n",
    "input_size = len(dataset.features[0])\n",
    "output_size = len(dataset.labels[0])\n",
    "\n",
    "model = MyModel(input_size, hidden_size, output_size)\n",
    "# Try out different loss functions and optimizers to see what works with different tasks. \n",
    "criterion = nn.SmoothL1Loss()\n",
    "optimizer = optim.ASGD(model.parameters(), lr=learning_rate)     \n",
    "\n",
    "\"\"\"\n",
    "    If you have GPU resource available, the training process will be faster!\n",
    "    It's okay if you dont have a GPU. The code works without one as well. \n",
    "\"\"\"\n",
    "device = torch.device(\"cuda\" if torch.cuda.is_available() else \"cpu\")\n",
    "model.to(device)"
   ]
  },
  {
   "cell_type": "markdown",
   "metadata": {},
   "source": [
    "### 5. Model Training & Evaluation\n",
    "\n",
    "Let's train our data using the defined neural network. The notebook implements the training loop, where batches of data are fed into the model iteratively. During training, the model learns to optimize its parameters to minimize the defined loss function through backpropagation. Training hyperparameters, such as learning rate, batch size, and number of epochs, can be fine-tuned to achieve optimal performance.\n",
    "\n",
    "Following training, you will notice the evaluation block that evaluates the neural network's performance on a separate test dataset (not included in training) to assess its performance. \n",
    "\n",
    "Lastly, the `losses` dictionary is populated to visualize important metrics later in the notebook. "
   ]
  },
  {
   "cell_type": "code",
   "execution_count": 8,
   "metadata": {},
   "outputs": [
    {
     "name": "stdout",
     "output_type": "stream",
     "text": [
      "Epoch 1/500, Training Loss: 0.3179608818485541, Smooth L1 Loss: 0.2015352358755011\n",
      "Epoch 2/500, Training Loss: 0.14955677036285978, Smooth L1 Loss: 0.11361298301758674\n",
      "Epoch 3/500, Training Loss: 0.10714952323297804, Smooth L1 Loss: 0.09545202524616168\n",
      "Epoch 4/500, Training Loss: 0.0959582979147489, Smooth L1 Loss: 0.09007485916551489\n",
      "Epoch 5/500, Training Loss: 0.09164726010249288, Smooth L1 Loss: 0.08751036094215053\n",
      "Epoch 6/500, Training Loss: 0.08915166896070548, Smooth L1 Loss: 0.08574804470229608\n",
      "Epoch 7/500, Training Loss: 0.08734808372702575, Smooth L1 Loss: 0.08436720087551154\n",
      "Epoch 8/500, Training Loss: 0.08591912252657512, Smooth L1 Loss: 0.08323957720914713\n",
      "Epoch 9/500, Training Loss: 0.08473896523622643, Smooth L1 Loss: 0.08229379701571396\n",
      "Epoch 10/500, Training Loss: 0.08374015207217943, Smooth L1 Loss: 0.08148516089512178\n",
      "Epoch 11/500, Training Loss: 0.08287912930231452, Smooth L1 Loss: 0.08078346037879013\n",
      "Epoch 12/500, Training Loss: 0.08212637459490323, Smooth L1 Loss: 0.08016949333250523\n",
      "Epoch 13/500, Training Loss: 0.08146149982306836, Smooth L1 Loss: 0.07962505535509151\n",
      "Epoch 14/500, Training Loss: 0.08086541837648205, Smooth L1 Loss: 0.07914118522491592\n",
      "Epoch 15/500, Training Loss: 0.08032600202368222, Smooth L1 Loss: 0.07870579609432472\n",
      "Epoch 16/500, Training Loss: 0.07983352477855729, Smooth L1 Loss: 0.0783116204592471\n",
      "Epoch 17/500, Training Loss: 0.07937959871808256, Smooth L1 Loss: 0.07795433365166761\n",
      "Epoch 18/500, Training Loss: 0.07895913073154176, Smooth L1 Loss: 0.07762827357062353\n",
      "Epoch 19/500, Training Loss: 0.07856656576322328, Smooth L1 Loss: 0.0773281232238962\n",
      "Epoch 20/500, Training Loss: 0.07819861849850934, Smooth L1 Loss: 0.07705207262188196\n",
      "Epoch 21/500, Training Loss: 0.07785212365991395, Smooth L1 Loss: 0.07679672329686582\n",
      "Epoch 22/500, Training Loss: 0.07752268306982978, Smooth L1 Loss: 0.076558425807609\n",
      "Epoch 23/500, Training Loss: 0.07720913150874169, Smooth L1 Loss: 0.07633533491753042\n",
      "Epoch 24/500, Training Loss: 0.07690923992130491, Smooth L1 Loss: 0.0761260067542585\n",
      "Epoch 25/500, Training Loss: 0.07662170661100443, Smooth L1 Loss: 0.07592756582352404\n",
      "Epoch 26/500, Training Loss: 0.07634554030418685, Smooth L1 Loss: 0.07574023415621084\n",
      "Epoch 27/500, Training Loss: 0.07607931603232156, Smooth L1 Loss: 0.07556196699778621\n",
      "Epoch 28/500, Training Loss: 0.07582124780665561, Smooth L1 Loss: 0.07539184332395402\n",
      "Epoch 29/500, Training Loss: 0.07557189157727548, Smooth L1 Loss: 0.07522971037990199\n",
      "Epoch 30/500, Training Loss: 0.07533028706512301, Smooth L1 Loss: 0.07507441932550417\n",
      "Epoch 31/500, Training Loss: 0.07509610076673365, Smooth L1 Loss: 0.0749260274012788\n",
      "Epoch 32/500, Training Loss: 0.07486847833986732, Smooth L1 Loss: 0.07478535026670076\n",
      "Epoch 33/500, Training Loss: 0.07464636670614498, Smooth L1 Loss: 0.07464956642630008\n",
      "Epoch 34/500, Training Loss: 0.07442982733285658, Smooth L1 Loss: 0.07452131773775014\n",
      "Epoch 35/500, Training Loss: 0.07421917653224175, Smooth L1 Loss: 0.07439898260725805\n",
      "Epoch 36/500, Training Loss: 0.07401388757614698, Smooth L1 Loss: 0.07428059263083224\n",
      "Epoch 37/500, Training Loss: 0.07381203191597825, Smooth L1 Loss: 0.07416641536670235\n",
      "Epoch 38/500, Training Loss: 0.07361424367892858, Smooth L1 Loss: 0.07405715536039609\n",
      "Epoch 39/500, Training Loss: 0.07342057713365929, Smooth L1 Loss: 0.07395365950651467\n",
      "Epoch 40/500, Training Loss: 0.0732308099910185, Smooth L1 Loss: 0.07385434292686674\n",
      "Epoch 41/500, Training Loss: 0.07304438325499998, Smooth L1 Loss: 0.07375816028350247\n",
      "Epoch 42/500, Training Loss: 0.0728607275005844, Smooth L1 Loss: 0.07366737381268579\n",
      "Epoch 43/500, Training Loss: 0.0726802770367819, Smooth L1 Loss: 0.07358055918190914\n",
      "Epoch 44/500, Training Loss: 0.07250343449413776, Smooth L1 Loss: 0.07349818606431094\n",
      "Epoch 45/500, Training Loss: 0.07232983164480271, Smooth L1 Loss: 0.07341939615658842\n",
      "Epoch 46/500, Training Loss: 0.07215913361082403, Smooth L1 Loss: 0.0733441063740219\n",
      "Epoch 47/500, Training Loss: 0.07199145392357295, Smooth L1 Loss: 0.07327188780674568\n",
      "Epoch 48/500, Training Loss: 0.07182661885764575, Smooth L1 Loss: 0.07320403964975132\n",
      "Epoch 49/500, Training Loss: 0.07166531692137537, Smooth L1 Loss: 0.07313844036812392\n",
      "Epoch 50/500, Training Loss: 0.07150618920939555, Smooth L1 Loss: 0.07307767590436225\n",
      "Epoch 51/500, Training Loss: 0.07134978259702164, Smooth L1 Loss: 0.07301763609911387\n",
      "Epoch 52/500, Training Loss: 0.07119602521269577, Smooth L1 Loss: 0.07295894117739338\n",
      "Epoch 53/500, Training Loss: 0.07104490153437508, Smooth L1 Loss: 0.07290167476122196\n",
      "Epoch 54/500, Training Loss: 0.07089688304748729, Smooth L1 Loss: 0.07284685089969291\n",
      "Epoch 55/500, Training Loss: 0.07075155335410997, Smooth L1 Loss: 0.07279295870102942\n",
      "Epoch 56/500, Training Loss: 0.07060886043965241, Smooth L1 Loss: 0.07274240045808256\n",
      "Epoch 57/500, Training Loss: 0.0704685297574182, Smooth L1 Loss: 0.07269263138564733\n",
      "Epoch 58/500, Training Loss: 0.07033033509275331, Smooth L1 Loss: 0.07264380593999074\n",
      "Epoch 59/500, Training Loss: 0.07019401193204997, Smooth L1 Loss: 0.07259534881450236\n",
      "Epoch 60/500, Training Loss: 0.07005994716110293, Smooth L1 Loss: 0.07254832657054067\n",
      "Epoch 61/500, Training Loss: 0.06992819188117692, Smooth L1 Loss: 0.07250273965585691\n",
      "Epoch 62/500, Training Loss: 0.06979788512954317, Smooth L1 Loss: 0.0724568186650196\n",
      "Epoch 63/500, Training Loss: 0.06966952861462167, Smooth L1 Loss: 0.07241213246463583\n",
      "Epoch 64/500, Training Loss: 0.06954281114419733, Smooth L1 Loss: 0.07236586892619155\n",
      "Epoch 65/500, Training Loss: 0.06941845133261765, Smooth L1 Loss: 0.07232140215973441\n",
      "Epoch 66/500, Training Loss: 0.06929530735815996, Smooth L1 Loss: 0.07227581291674422\n",
      "Epoch 67/500, Training Loss: 0.06917396664691432, Smooth L1 Loss: 0.07223079233573607\n",
      "Epoch 68/500, Training Loss: 0.0690543421179704, Smooth L1 Loss: 0.0721881097684113\n",
      "Epoch 69/500, Training Loss: 0.06893669573842111, Smooth L1 Loss: 0.07214666367508471\n",
      "Epoch 70/500, Training Loss: 0.06882018996807544, Smooth L1 Loss: 0.07210547401784705\n",
      "Epoch 71/500, Training Loss: 0.06870567802213816, Smooth L1 Loss: 0.07206561269525152\n",
      "Epoch 72/500, Training Loss: 0.06859215915626014, Smooth L1 Loss: 0.07202535482624975\n",
      "Epoch 73/500, Training Loss: 0.06848012187162747, Smooth L1 Loss: 0.07198788779071318\n",
      "Epoch 74/500, Training Loss: 0.06836921024329709, Smooth L1 Loss: 0.07195160439452873\n",
      "Epoch 75/500, Training Loss: 0.06826010884960061, Smooth L1 Loss: 0.07191593798163992\n",
      "Epoch 76/500, Training Loss: 0.06815219773114592, Smooth L1 Loss: 0.0718813781053401\n",
      "Epoch 77/500, Training Loss: 0.06804545160275006, Smooth L1 Loss: 0.07184632600714955\n",
      "Epoch 78/500, Training Loss: 0.06793965515118218, Smooth L1 Loss: 0.07181195187597321\n",
      "Epoch 79/500, Training Loss: 0.06783539666861728, Smooth L1 Loss: 0.07178012600455147\n",
      "Epoch 80/500, Training Loss: 0.0677322199239715, Smooth L1 Loss: 0.0717484387390029\n",
      "Epoch 81/500, Training Loss: 0.06763011620465469, Smooth L1 Loss: 0.07171771560723965\n",
      "Epoch 82/500, Training Loss: 0.06752903238253821, Smooth L1 Loss: 0.07168871026414518\n",
      "Epoch 83/500, Training Loss: 0.06742928618484217, Smooth L1 Loss: 0.07165914478425223\n",
      "Epoch 84/500, Training Loss: 0.06733031240449364, Smooth L1 Loss: 0.0716319397951548\n",
      "Epoch 85/500, Training Loss: 0.06723255483469598, Smooth L1 Loss: 0.07160487735214141\n",
      "Epoch 86/500, Training Loss: 0.06713626865558506, Smooth L1 Loss: 0.07157753359598036\n",
      "Epoch 87/500, Training Loss: 0.06704071484020223, Smooth L1 Loss: 0.07155140389043552\n",
      "Epoch 88/500, Training Loss: 0.06694648331616092, Smooth L1 Loss: 0.07152449592159918\n",
      "Epoch 89/500, Training Loss: 0.06685258507062704, Smooth L1 Loss: 0.0714988513276554\n",
      "Epoch 90/500, Training Loss: 0.06676009907904598, Smooth L1 Loss: 0.07147336033029625\n",
      "Epoch 91/500, Training Loss: 0.066668593203244, Smooth L1 Loss: 0.07145025088595083\n",
      "Epoch 92/500, Training Loss: 0.06657817168836144, Smooth L1 Loss: 0.07142879063478456\n",
      "Epoch 93/500, Training Loss: 0.06648870040820057, Smooth L1 Loss: 0.07140804511996415\n",
      "Epoch 94/500, Training Loss: 0.06640004408028391, Smooth L1 Loss: 0.07138712145388126\n",
      "Epoch 95/500, Training Loss: 0.06631228420433503, Smooth L1 Loss: 0.07136600190558685\n",
      "Epoch 96/500, Training Loss: 0.06622559062974609, Smooth L1 Loss: 0.0713453537497956\n",
      "Epoch 97/500, Training Loss: 0.06613983014814448, Smooth L1 Loss: 0.07132673345936033\n",
      "Epoch 98/500, Training Loss: 0.06605410515803142, Smooth L1 Loss: 0.07130804052576423\n",
      "Epoch 99/500, Training Loss: 0.06596989405300954, Smooth L1 Loss: 0.0712902273158901\n",
      "Epoch 100/500, Training Loss: 0.06588628376802601, Smooth L1 Loss: 0.0712720260847933\n",
      "Epoch 101/500, Training Loss: 0.06580312116800444, Smooth L1 Loss: 0.07125550214774333\n",
      "Epoch 102/500, Training Loss: 0.06572108327721556, Smooth L1 Loss: 0.07123880077583286\n",
      "Epoch 103/500, Training Loss: 0.06563969272760234, Smooth L1 Loss: 0.07122114739524057\n",
      "Epoch 104/500, Training Loss: 0.06555854909769866, Smooth L1 Loss: 0.07120508467778563\n",
      "Epoch 105/500, Training Loss: 0.06547865440061199, Smooth L1 Loss: 0.07119024638086557\n",
      "Epoch 106/500, Training Loss: 0.06539906089864492, Smooth L1 Loss: 0.0711762013200384\n",
      "Epoch 107/500, Training Loss: 0.06532039494222201, Smooth L1 Loss: 0.07116093810719366\n",
      "Epoch 108/500, Training Loss: 0.06524276753194666, Smooth L1 Loss: 0.07114915537218061\n",
      "Epoch 109/500, Training Loss: 0.06516556348201734, Smooth L1 Loss: 0.07113876960311945\n",
      "Epoch 110/500, Training Loss: 0.06508927013734041, Smooth L1 Loss: 0.0711273627821356\n",
      "Epoch 111/500, Training Loss: 0.06501345409548297, Smooth L1 Loss: 0.07111521826412243\n",
      "Epoch 112/500, Training Loss: 0.06493853379697831, Smooth L1 Loss: 0.07110287438934812\n",
      "Epoch 113/500, Training Loss: 0.06486396742354772, Smooth L1 Loss: 0.07109138195832762\n",
      "Epoch 114/500, Training Loss: 0.06479034246201965, Smooth L1 Loss: 0.0710807830775873\n",
      "Epoch 115/500, Training Loss: 0.06471739375765845, Smooth L1 Loss: 0.07107032061769412\n",
      "Epoch 116/500, Training Loss: 0.06464516470244758, Smooth L1 Loss: 0.0710617068868417\n",
      "Epoch 117/500, Training Loss: 0.06457382310766745, Smooth L1 Loss: 0.07105338079138444\n",
      "Epoch 118/500, Training Loss: 0.06450260770259704, Smooth L1 Loss: 0.07104422784267136\n",
      "Epoch 119/500, Training Loss: 0.06443222092266604, Smooth L1 Loss: 0.07103525069900431\n",
      "Epoch 120/500, Training Loss: 0.06436234848249865, Smooth L1 Loss: 0.07102836695356438\n",
      "Epoch 121/500, Training Loss: 0.06429319620888302, Smooth L1 Loss: 0.07102084790284817\n",
      "Epoch 122/500, Training Loss: 0.06422509083407368, Smooth L1 Loss: 0.07101333968771192\n",
      "Epoch 123/500, Training Loss: 0.06415744915442623, Smooth L1 Loss: 0.07100692429006673\n",
      "Epoch 124/500, Training Loss: 0.06409037134785583, Smooth L1 Loss: 0.07099990030893913\n",
      "Epoch 125/500, Training Loss: 0.06402344272161524, Smooth L1 Loss: 0.0709919786403099\n",
      "Epoch 126/500, Training Loss: 0.06395731436691567, Smooth L1 Loss: 0.07098409730511215\n",
      "Epoch 127/500, Training Loss: 0.06389187255892273, Smooth L1 Loss: 0.07097908302855033\n",
      "Epoch 128/500, Training Loss: 0.06382664295525295, Smooth L1 Loss: 0.07097325314624378\n",
      "Epoch 129/500, Training Loss: 0.06376202166044481, Smooth L1 Loss: 0.07096872473350511\n",
      "Epoch 130/500, Training Loss: 0.06369810824502925, Smooth L1 Loss: 0.07096224122394162\n",
      "Epoch 131/500, Training Loss: 0.06363453770254329, Smooth L1 Loss: 0.0709550728699049\n",
      "Epoch 132/500, Training Loss: 0.06357184410149204, Smooth L1 Loss: 0.0709498747287748\n",
      "Epoch 133/500, Training Loss: 0.06350976722269962, Smooth L1 Loss: 0.07094536372460425\n",
      "Epoch 134/500, Training Loss: 0.06344787513270327, Smooth L1 Loss: 0.07094010694597203\n",
      "Epoch 135/500, Training Loss: 0.063386553576765, Smooth L1 Loss: 0.07093507545785262\n",
      "Epoch 136/500, Training Loss: 0.06332564951429044, Smooth L1 Loss: 0.07093043747143103\n",
      "Epoch 137/500, Training Loss: 0.06326532960028032, Smooth L1 Loss: 0.0709243817254901\n",
      "Epoch 138/500, Training Loss: 0.06320520514478357, Smooth L1 Loss: 0.07091886159748985\n",
      "Epoch 139/500, Training Loss: 0.06314551168242874, Smooth L1 Loss: 0.07091332816232282\n",
      "Epoch 140/500, Training Loss: 0.06308660198875887, Smooth L1 Loss: 0.07090733220012715\n",
      "Epoch 141/500, Training Loss: 0.06302803903053276, Smooth L1 Loss: 0.07090116138211809\n",
      "Epoch 142/500, Training Loss: 0.06296972910860095, Smooth L1 Loss: 0.0708970049252877\n",
      "Epoch 143/500, Training Loss: 0.06291208037395696, Smooth L1 Loss: 0.0708915397274093\n",
      "Epoch 144/500, Training Loss: 0.06285525046531922, Smooth L1 Loss: 0.07088589988863812\n",
      "Epoch 145/500, Training Loss: 0.06279850385156302, Smooth L1 Loss: 0.07088102522091223\n",
      "Epoch 146/500, Training Loss: 0.06274197790501775, Smooth L1 Loss: 0.07087578447177433\n",
      "Epoch 147/500, Training Loss: 0.06268608954550635, Smooth L1 Loss: 0.07087093349904396\n",
      "Epoch 148/500, Training Loss: 0.0626304631350913, Smooth L1 Loss: 0.0708671362998967\n",
      "Epoch 149/500, Training Loss: 0.06257525844508467, Smooth L1 Loss: 0.0708635832863645\n",
      "Epoch 150/500, Training Loss: 0.062520246113682, Smooth L1 Loss: 0.07085947654783152\n",
      "Epoch 151/500, Training Loss: 0.06246581835816232, Smooth L1 Loss: 0.07085782952176836\n",
      "Epoch 152/500, Training Loss: 0.062411635994893196, Smooth L1 Loss: 0.0708545648600333\n",
      "Epoch 153/500, Training Loss: 0.06235769623440605, Smooth L1 Loss: 0.07085178290995267\n",
      "Epoch 154/500, Training Loss: 0.062304667118432876, Smooth L1 Loss: 0.07084821673253408\n",
      "Epoch 155/500, Training Loss: 0.062251724860662425, Smooth L1 Loss: 0.07084481711857595\n",
      "Epoch 156/500, Training Loss: 0.062199342665195036, Smooth L1 Loss: 0.07084152498282492\n",
      "Epoch 157/500, Training Loss: 0.062147239376093455, Smooth L1 Loss: 0.07083744410640345\n",
      "Epoch 158/500, Training Loss: 0.062095618257883956, Smooth L1 Loss: 0.07083431767443052\n",
      "Epoch 159/500, Training Loss: 0.06204443026765965, Smooth L1 Loss: 0.0708328694320069\n",
      "Epoch 160/500, Training Loss: 0.06199349624280264, Smooth L1 Loss: 0.07083058160228226\n",
      "Epoch 161/500, Training Loss: 0.0619432815881491, Smooth L1 Loss: 0.07082948659976515\n",
      "Epoch 162/500, Training Loss: 0.06189295166770473, Smooth L1 Loss: 0.07082688905155429\n",
      "Epoch 163/500, Training Loss: 0.0618433833171744, Smooth L1 Loss: 0.07082416787027167\n",
      "Epoch 164/500, Training Loss: 0.06179373941703695, Smooth L1 Loss: 0.07082206827516739\n",
      "Epoch 165/500, Training Loss: 0.06174443207078294, Smooth L1 Loss: 0.07082036470707792\n",
      "Epoch 166/500, Training Loss: 0.06169550487960594, Smooth L1 Loss: 0.07081844265429446\n",
      "Epoch 167/500, Training Loss: 0.061647337602658406, Smooth L1 Loss: 0.07081696303346409\n",
      "Epoch 168/500, Training Loss: 0.06159932097276124, Smooth L1 Loss: 0.07081461554536453\n",
      "Epoch 169/500, Training Loss: 0.061551870715215014, Smooth L1 Loss: 0.07081403418515737\n",
      "Epoch 170/500, Training Loss: 0.061504451796448464, Smooth L1 Loss: 0.07081207183476251\n",
      "Epoch 171/500, Training Loss: 0.06145721598829768, Smooth L1 Loss: 0.07081162599990001\n",
      "Epoch 172/500, Training Loss: 0.06141087441853639, Smooth L1 Loss: 0.07080979048847579\n",
      "Epoch 173/500, Training Loss: 0.06136413253528844, Smooth L1 Loss: 0.07080634219500308\n",
      "Epoch 174/500, Training Loss: 0.061318731716055654, Smooth L1 Loss: 0.07080492606529823\n",
      "Epoch 175/500, Training Loss: 0.06127295907190888, Smooth L1 Loss: 0.07080329582095146\n",
      "Epoch 176/500, Training Loss: 0.06122748000583283, Smooth L1 Loss: 0.07080334451837608\n",
      "Epoch 177/500, Training Loss: 0.061182010675901954, Smooth L1 Loss: 0.07080234685697807\n",
      "Epoch 178/500, Training Loss: 0.061136937308786575, Smooth L1 Loss: 0.07080218052634826\n",
      "Epoch 179/500, Training Loss: 0.06109235456420316, Smooth L1 Loss: 0.07080144574865699\n",
      "Epoch 180/500, Training Loss: 0.06104780878007844, Smooth L1 Loss: 0.07079899208978392\n",
      "Epoch 181/500, Training Loss: 0.061003577380310654, Smooth L1 Loss: 0.07079794490709901\n",
      "Epoch 182/500, Training Loss: 0.06095958745179041, Smooth L1 Loss: 0.07079624542250083\n",
      "Epoch 183/500, Training Loss: 0.060916162424401385, Smooth L1 Loss: 0.07079545657437009\n",
      "Epoch 184/500, Training Loss: 0.060873004279418844, Smooth L1 Loss: 0.07079443770747346\n",
      "Epoch 185/500, Training Loss: 0.0608298902777766, Smooth L1 Loss: 0.0707924986222329\n",
      "Epoch 186/500, Training Loss: 0.06078701757866403, Smooth L1 Loss: 0.07079305635908476\n",
      "Epoch 187/500, Training Loss: 0.060744445325563785, Smooth L1 Loss: 0.07079194163760313\n",
      "Epoch 188/500, Training Loss: 0.06070236240824064, Smooth L1 Loss: 0.07079211853516217\n",
      "Epoch 189/500, Training Loss: 0.060660234699700624, Smooth L1 Loss: 0.07079238926347059\n",
      "Epoch 190/500, Training Loss: 0.060618619956436075, Smooth L1 Loss: 0.07079267277955435\n",
      "Epoch 191/500, Training Loss: 0.06057748337307774, Smooth L1 Loss: 0.0707920900760935\n",
      "Epoch 192/500, Training Loss: 0.0605366166325619, Smooth L1 Loss: 0.07079158443957567\n",
      "Epoch 193/500, Training Loss: 0.06049574979756405, Smooth L1 Loss: 0.07079093443014874\n",
      "Epoch 194/500, Training Loss: 0.0604548308579926, Smooth L1 Loss: 0.0707896998187957\n",
      "Epoch 195/500, Training Loss: 0.060414083126554455, Smooth L1 Loss: 0.07078932840018891\n",
      "Epoch 196/500, Training Loss: 0.06037390565697626, Smooth L1 Loss: 0.07078958714667422\n",
      "Epoch 197/500, Training Loss: 0.06033372192459118, Smooth L1 Loss: 0.07078938324076052\n",
      "Epoch 198/500, Training Loss: 0.06029426786544674, Smooth L1 Loss: 0.07079016453085038\n",
      "Epoch 199/500, Training Loss: 0.06025454318060895, Smooth L1 Loss: 0.07079039071686566\n",
      "Epoch 200/500, Training Loss: 0.06021499018531275, Smooth L1 Loss: 0.07078938118110482\n",
      "Epoch 201/500, Training Loss: 0.060175677014577794, Smooth L1 Loss: 0.07078922384131986\n",
      "Epoch 202/500, Training Loss: 0.06013722652524422, Smooth L1 Loss: 0.07078961755793828\n",
      "Epoch 203/500, Training Loss: 0.06009839867030221, Smooth L1 Loss: 0.07078993476282519\n",
      "Epoch 204/500, Training Loss: 0.06006000085468381, Smooth L1 Loss: 0.07078986942696457\n",
      "Epoch 205/500, Training Loss: 0.06002184934239241, Smooth L1 Loss: 0.07079040239421794\n",
      "Epoch 206/500, Training Loss: 0.059983680247450655, Smooth L1 Loss: 0.07079008377443713\n",
      "Epoch 207/500, Training Loss: 0.059946275732349515, Smooth L1 Loss: 0.07079074820145391\n",
      "Epoch 208/500, Training Loss: 0.059908969860955855, Smooth L1 Loss: 0.0707927757802491\n",
      "Epoch 209/500, Training Loss: 0.059871962937359934, Smooth L1 Loss: 0.07079367160510558\n",
      "Epoch 210/500, Training Loss: 0.059835079735693866, Smooth L1 Loss: 0.07079352802023865\n",
      "Epoch 211/500, Training Loss: 0.05979869159496421, Smooth L1 Loss: 0.07079502356310304\n",
      "Epoch 212/500, Training Loss: 0.059762365002509046, Smooth L1 Loss: 0.07079602043645886\n",
      "Epoch 213/500, Training Loss: 0.0597263940875441, Smooth L1 Loss: 0.07079669885122432\n",
      "Epoch 214/500, Training Loss: 0.05969039855551892, Smooth L1 Loss: 0.07079709792294754\n",
      "Epoch 215/500, Training Loss: 0.05965467803360183, Smooth L1 Loss: 0.07079743832134856\n",
      "Early stopping triggered. Stopping training.\n"
     ]
    }
   ],
   "source": [
    "# Storing data for visually observing the losses\n",
    "losses = {\"training\" : [], \n",
    "          \"evaluation\" : [], \n",
    "          \"labels\" : [], \n",
    "          \"outputs\" : [],\n",
    "          \"labels_t\" : [], \n",
    "          \"outputs_t\" : []\n",
    "          }\n",
    "\n",
    "# Training & Evaluation Porcess\n",
    "patience = 15                      # Patience based stopping criteria. You may also play around with this number for early or delayed stopping of the model from over-fitting\n",
    "best_loss = float('inf')\n",
    "num_epochs_without_improvement = 0\n",
    "\n",
    "for epoch in range(num_epochs):\n",
    "\n",
    "    all_outputs_training = []\n",
    "    all_labels_training = []\n",
    "    model.train(True)\n",
    "    running_loss = 0.0                          # To calculates the losses in training for each epoch\n",
    "    for inputs, labels in train_loader:\n",
    "        # Transfers data to GPU/CPU\n",
    "        inputs = inputs.to(device)              \n",
    "        labels = labels.to(device)\n",
    "        \n",
    "        optimizer.zero_grad()                   # Zeros the optimizer before generating output\n",
    "        outputs = model(inputs)                 # Calculates the output\n",
    "        loss = criterion(outputs, labels)       # Finds loss as per the criteria defined\n",
    "        loss.backward()                         # Back propogation of loss\n",
    "        optimizer.step()                        # Updates parameters based on gradients computed duing back propogation\n",
    "        \n",
    "        running_loss += loss.item()             # Calculates loss over the training\n",
    "\n",
    "        all_outputs_training.append(outputs.detach().numpy())  # Append outputs to the list\n",
    "        all_labels_training.append(labels.detach().numpy())    # Append labels to the list\n",
    "    \n",
    "    training_loss = running_loss/len(train_loader)\n",
    "\n",
    "    \"\"\"\n",
    "    Evaluating the model that has been trained (so far). \n",
    "    You would notice similar steps as during the training process. The lack of a few lines of code is because we \n",
    "    are evaluating the model here and not training it.\n",
    "    \"\"\"\n",
    "    model.train(False)\n",
    "    model.eval()\n",
    "    total_loss = 0.0\n",
    "    all_outputs = []\n",
    "    all_labels = []\n",
    "\n",
    "    \n",
    "    with torch.no_grad():\n",
    "        for inputs, labels in test_loader:\n",
    "            inputs = inputs.to(device)\n",
    "            labels = labels.to(device)\n",
    "            \n",
    "            outputs = model(inputs)\n",
    "            loss = criterion(outputs, labels)\n",
    "            total_loss += loss.item()\n",
    "            \n",
    "            all_outputs.append(outputs.cpu().numpy())  \n",
    "            all_labels.append(labels.cpu().numpy())    \n",
    "                \n",
    "    mean_loss = total_loss / len(test_loader)\n",
    "\n",
    "    if mean_loss < best_loss:\n",
    "        best_loss = mean_loss\n",
    "        num_epochs_without_improvement = 0\n",
    "    else:\n",
    "        num_epochs_without_improvement += 1\n",
    "        if num_epochs_without_improvement == patience:\n",
    "            print(\"Early stopping triggered. Stopping training.\")\n",
    "            break\n",
    "    \n",
    "    # Recording the data values for\n",
    "    losses[\"training\"].append(training_loss)\n",
    "    losses[\"evaluation\"].append(mean_loss)\n",
    "    losses[\"outputs\"] = np.concatenate(all_outputs)\n",
    "    losses[\"labels\"] = np.concatenate(all_labels)\n",
    "    \n",
    "    losses[\"outputs_t\"] = np.concatenate(all_outputs_training)\n",
    "    losses[\"labels_t\"] = np.concatenate(all_labels_training)\n",
    "\n",
    "    print(f\"Epoch {epoch+1}/{num_epochs}, Training Loss: {training_loss}, Smooth L1 Loss: {mean_loss}\")"
   ]
  },
  {
   "cell_type": "markdown",
   "metadata": {},
   "source": [
    "### 6. Performance Analysis & Visualization\n",
    "\n",
    "The model's training and evaluation losses over an epochs curve help to analyze its learning progress and detect signs of overfitting or underfitting. Analyzing these curves aids in fine-tuning the model's architecture or regularization techniques to achieve a balance between accuracy and generalization.\n",
    "\n",
    "Since we will be using the neural networks to estimate the X, Y & Z coordinates, a 3D visualization represents the outputs and actual labels to gain a deeper understanding of the model's performance. "
   ]
  },
  {
   "cell_type": "code",
   "execution_count": 9,
   "metadata": {},
   "outputs": [
    {
     "data": {
      "image/png": "[encoded data removed]",
      "text/plain": [
       "<Figure size 2000x500 with 1 Axes>"
      ]
     },
     "metadata": {},
     "output_type": "display_data"
    }
   ],
   "source": [
    "lossPlot(losses)"
   ]
  },
  {
   "cell_type": "code",
   "execution_count": 10,
   "metadata": {},
   "outputs": [
    {
     "data": {
      "application/vnd.plotly.v1+json": {
       "config": {
        "plotlyServerURL": "https://plot.ly"
       },
       "data": [
        {
         "marker": {
          "color": "blue",
          "opacity": 0.8,
          "size": 3
         },
         "mode": "markers",
         "name": "Input Points",
         "type": "scatter3d",
         "x": [
          -0.49874985218048096,
          -0.5144867897033691,
          -0.5297678709030151,
          -0.5457211136817932,
          -0.5753890872001648,
          -0.589623749256134,
          -0.6039479374885559,
          -0.6184786558151245,
          -0.6466314792633057,
          -0.6603966355323792,
          -0.6733823418617249,
          -0.6864622235298157,
          -0.6989315152168274,
          -0.734955906867981,
          -0.734955906867981,
          -0.734955906867981,
          -0.7593094706535339,
          -0.7701637744903564,
          -0.7944981455802917,
          -0.8056339621543884,
          -0.8171684145927429,
          -0.8268512487411499,
          -0.8374772071838379,
          -0.8785598278045654,
          -0.8866031169891357,
          -0.8946902751922607,
          -0.9250491261482239,
          -0.9324983358383179,
          -0.9396504163742065,
          -0.9461093544960022,
          -0.9527925848960876,
          -0.9583308696746826,
          -0.9685856699943542,
          -0.972902238368988,
          -0.9770859479904175,
          -0.9808561205863953,
          -0.9887126684188843,
          -0.9887126684188843,
          -0.9965931177139282,
          -1.0141360759735107
         ],
         "y": [
          -1.9319140911102295,
          -1.9255797863006592,
          -1.9195547103881836,
          -1.9124367237091064,
          -1.8989204168319702,
          -1.892258644104004,
          -1.8851134777069092,
          -1.878017783164978,
          -1.8636646270751953,
          -1.8563951253890991,
          -1.8486716747283936,
          -1.8417819738388062,
          -1.8338298797607422,
          -1.8122745752334595,
          -1.8122745752334595,
          -1.8122745752334595,
          -1.7971630096435547,
          -1.7912300825119019,
          -1.7761211395263672,
          -1.7688839435577393,
          -1.7614792585372925,
          -1.7545400857925415,
          -1.747046709060669,
          -1.7170284986495972,
          -1.7105188369750977,
          -1.7032060623168945,
          -1.6761283874511719,
          -1.6693227291107178,
          -1.6636451482772827,
          -1.6575782299041748,
          -1.6519408226013184,
          -1.6466946601867676,
          -1.6368190050125122,
          -1.6324628591537476,
          -1.6275509595870972,
          -1.6228314638137817,
          -1.6134597063064575,
          -1.6134597063064575,
          -1.6043128967285156,
          -1.5848649740219116
         ],
         "z": [
          -0.9946130514144897,
          -1.0026453733444214,
          -1.011023998260498,
          -1.0180599689483643,
          -1.0369688272476196,
          -1.047417163848877,
          -1.0580670833587646,
          -1.0691381692886353,
          -1.0922472476959229,
          -1.1043494939804077,
          -1.11496901512146,
          -1.1262441873550415,
          -1.1378004550933838,
          -1.1716588735580444,
          -1.1716588735580444,
          -1.1716588735580444,
          -1.197799801826477,
          -1.2120776176452637,
          -1.2374154329299927,
          -1.2493393421173096,
          -1.2621628046035767,
          -1.2747352123260498,
          -1.286943793296814,
          -1.3350005149841309,
          -1.3480455875396729,
          -1.3599400520324707,
          -1.4015065431594849,
          -1.411489486694336,
          -1.4224317073822021,
          -1.4324508905410767,
          -1.443000078201294,
          -1.4526327848434448,
          -1.4707776308059692,
          -1.4801137447357178,
          -1.489208459854126,
          -1.4988361597061157,
          -1.5178577899932861,
          -1.5178577899932861,
          -1.5407054424285889,
          -1.5962817668914795
         ]
        },
        {
         "marker": {
          "color": "red",
          "opacity": 0.5,
          "size": 3
         },
         "mode": "markers",
         "name": "Output Points",
         "type": "scatter3d",
         "x": [
          -0.37779685854911804,
          -0.40935221314430237,
          -0.500554084777832,
          -0.5231955051422119,
          -0.5626986026763916,
          -0.5845061540603638,
          -0.6054167747497559,
          -0.6494696140289307,
          -0.6904171705245972,
          -0.7393077611923218,
          -0.7528753280639648,
          -0.7326315641403198,
          -0.8069385290145874,
          -0.8026703596115112,
          -0.8380314111709595,
          -0.8798638582229614,
          -0.9242385625839233,
          -0.9503263235092163,
          -0.9472954273223877,
          -0.9486340284347534,
          -0.980721116065979,
          -0.996101975440979,
          -1.0036060810089111,
          -1.0215500593185425,
          -1.0567536354064941,
          -1.0561686754226685,
          -1.1199326515197754,
          -1.1504002809524536,
          -1.1757761240005493,
          -1.1812553405761719,
          -1.2469028234481812,
          -1.2778221368789673,
          -1.261217713356018,
          -1.2724686861038208,
          -1.2848824262619019,
          -1.2951492071151733,
          -1.3175923824310303,
          -1.307201862335205,
          -1.3277517557144165,
          -1.3479359149932861
         ],
         "y": [
          -0.13567523658275604,
          -0.11647401750087738,
          -0.16260050237178802,
          -0.1655871719121933,
          -0.16143487393856049,
          -0.15533922612667084,
          -0.13214658200740814,
          -0.1125326007604599,
          -0.14458386600017548,
          -0.14470873773097992,
          -0.17543767392635345,
          -0.15025417506694794,
          -0.12892495095729828,
          -0.0986284464597702,
          -0.039333924651145935,
          -0.03759633004665375,
          -0.05324731767177582,
          -0.0389319509267807,
          -0.07092450559139252,
          -0.07828877866268158,
          -0.05547754466533661,
          -0.029100343585014343,
          -0.040608808398246765,
          -0.013603373430669308,
          0.012840227223932743,
          0.0172736793756485,
          0.06365849077701569,
          0.05714370310306549,
          0.06795866787433624,
          0.03129412233829498,
          0.03412844240665436,
          0.036858752369880676,
          0.009135083295404911,
          0.009858564473688602,
          0.020753756165504456,
          -0.0020143829751759768,
          0.008692638017237186,
          -0.009985758922994137,
          -0.012442096136510372,
          -0.0249321311712265
         ],
         "z": [
          1.2192533016204834,
          1.2197673320770264,
          1.1302192211151123,
          1.1107892990112305,
          1.095528244972229,
          1.1329209804534912,
          1.1886447668075562,
          1.2604585886001587,
          1.22458016872406,
          1.2158936262130737,
          1.151816487312317,
          1.2079508304595947,
          1.1311547756195068,
          1.1463432312011719,
          1.1851253509521484,
          1.1722242832183838,
          1.0720579624176025,
          1.0992987155914307,
          1.0660704374313354,
          1.087662935256958,
          0.9848060011863708,
          0.9754392504692078,
          1.036074161529541,
          0.9968480467796326,
          0.9484003186225891,
          0.9674844145774841,
          0.8348656892776489,
          0.8214961290359497,
          0.7725234627723694,
          0.6503387093544006,
          0.5455381870269775,
          0.5908347964286804,
          0.6275677680969238,
          0.585022509098053,
          0.5253897905349731,
          0.5216515064239502,
          0.4458498954772949,
          0.4709094166755676,
          0.41311562061309814,
          0.3572019338607788
         ]
        }
       ],
       "layout": {
        "scene": {
         "xaxis": {
          "title": {
           "text": "X-Dimension"
          }
         },
         "yaxis": {
          "title": {
           "text": "Y-Dimension"
          }
         },
         "zaxis": {
          "title": {
           "text": "Z-Dimension"
          }
         }
        },
        "template": {
         "data": {
          "bar": [
           {
            "error_x": {
             "color": "#2a3f5f"
            },
            "error_y": {
             "color": "#2a3f5f"
            },
            "marker": {
             "line": {
              "color": "#E5ECF6",
              "width": 0.5
             },
             "pattern": {
              "fillmode": "overlay",
              "size": 10,
              "solidity": 0.2
             }
            },
            "type": "bar"
           }
          ],
          "barpolar": [
           {
            "marker": {
             "line": {
              "color": "#E5ECF6",
              "width": 0.5
             },
             "pattern": {
              "fillmode": "overlay",
              "size": 10,
              "solidity": 0.2
             }
            },
            "type": "barpolar"
           }
          ],
          "carpet": [
           {
            "aaxis": {
             "endlinecolor": "#2a3f5f",
             "gridcolor": "white",
             "linecolor": "white",
             "minorgridcolor": "white",
             "startlinecolor": "#2a3f5f"
            },
            "baxis": {
             "endlinecolor": "#2a3f5f",
             "gridcolor": "white",
             "linecolor": "white",
             "minorgridcolor": "white",
             "startlinecolor": "#2a3f5f"
            },
            "type": "carpet"
           }
          ],
          "choropleth": [
           {
            "colorbar": {
             "outlinewidth": 0,
             "ticks": ""
            },
            "type": "choropleth"
           }
          ],
          "contour": [
           {
            "colorbar": {
             "outlinewidth": 0,
             "ticks": ""
            },
            "colorscale": [
             [
              0,
              "#0d0887"
             ],
             [
              0.1111111111111111,
              "#46039f"
             ],
             [
              0.2222222222222222,
              "#7201a8"
             ],
             [
              0.3333333333333333,
              "#9c179e"
             ],
             [
              0.4444444444444444,
              "#bd3786"
             ],
             [
              0.5555555555555556,
              "#d8576b"
             ],
             [
              0.6666666666666666,
              "#ed7953"
             ],
             [
              0.7777777777777778,
              "#fb9f3a"
             ],
             [
              0.8888888888888888,
              "#fdca26"
             ],
             [
              1,
              "#f0f921"
             ]
            ],
            "type": "contour"
           }
          ],
          "contourcarpet": [
           {
            "colorbar": {
             "outlinewidth": 0,
             "ticks": ""
            },
            "type": "contourcarpet"
           }
          ],
          "heatmap": [
           {
            "colorbar": {
             "outlinewidth": 0,
             "ticks": ""
            },
            "colorscale": [
             [
              0,
              "#0d0887"
             ],
             [
              0.1111111111111111,
              "#46039f"
             ],
             [
              0.2222222222222222,
              "#7201a8"
             ],
             [
              0.3333333333333333,
              "#9c179e"
             ],
             [
              0.4444444444444444,
              "#bd3786"
             ],
             [
              0.5555555555555556,
              "#d8576b"
             ],
             [
              0.6666666666666666,
              "#ed7953"
             ],
             [
              0.7777777777777778,
              "#fb9f3a"
             ],
             [
              0.8888888888888888,
              "#fdca26"
             ],
             [
              1,
              "#f0f921"
             ]
            ],
            "type": "heatmap"
           }
          ],
          "heatmapgl": [
           {
            "colorbar": {
             "outlinewidth": 0,
             "ticks": ""
            },
            "colorscale": [
             [
              0,
              "#0d0887"
             ],
             [
              0.1111111111111111,
              "#46039f"
             ],
             [
              0.2222222222222222,
              "#7201a8"
             ],
             [
              0.3333333333333333,
              "#9c179e"
             ],
             [
              0.4444444444444444,
              "#bd3786"
             ],
             [
              0.5555555555555556,
              "#d8576b"
             ],
             [
              0.6666666666666666,
              "#ed7953"
             ],
             [
              0.7777777777777778,
              "#fb9f3a"
             ],
             [
              0.8888888888888888,
              "#fdca26"
             ],
             [
              1,
              "#f0f921"
             ]
            ],
            "type": "heatmapgl"
           }
          ],
          "histogram": [
           {
            "marker": {
             "pattern": {
              "fillmode": "overlay",
              "size": 10,
              "solidity": 0.2
             }
            },
            "type": "histogram"
           }
          ],
          "histogram2d": [
           {
            "colorbar": {
             "outlinewidth": 0,
             "ticks": ""
            },
            "colorscale": [
             [
              0,
              "#0d0887"
             ],
             [
              0.1111111111111111,
              "#46039f"
             ],
             [
              0.2222222222222222,
              "#7201a8"
             ],
             [
              0.3333333333333333,
              "#9c179e"
             ],
             [
              0.4444444444444444,
              "#bd3786"
             ],
             [
              0.5555555555555556,
              "#d8576b"
             ],
             [
              0.6666666666666666,
              "#ed7953"
             ],
             [
              0.7777777777777778,
              "#fb9f3a"
             ],
             [
              0.8888888888888888,
              "#fdca26"
             ],
             [
              1,
              "#f0f921"
             ]
            ],
            "type": "histogram2d"
           }
          ],
          "histogram2dcontour": [
           {
            "colorbar": {
             "outlinewidth": 0,
             "ticks": ""
            },
            "colorscale": [
             [
              0,
              "#0d0887"
             ],
             [
              0.1111111111111111,
              "#46039f"
             ],
             [
              0.2222222222222222,
              "#7201a8"
             ],
             [
              0.3333333333333333,
              "#9c179e"
             ],
             [
              0.4444444444444444,
              "#bd3786"
             ],
             [
              0.5555555555555556,
              "#d8576b"
             ],
             [
              0.6666666666666666,
              "#ed7953"
             ],
             [
              0.7777777777777778,
              "#fb9f3a"
             ],
             [
              0.8888888888888888,
              "#fdca26"
             ],
             [
              1,
              "#f0f921"
             ]
            ],
            "type": "histogram2dcontour"
           }
          ],
          "mesh3d": [
           {
            "colorbar": {
             "outlinewidth": 0,
             "ticks": ""
            },
            "type": "mesh3d"
           }
          ],
          "parcoords": [
           {
            "line": {
             "colorbar": {
              "outlinewidth": 0,
              "ticks": ""
             }
            },
            "type": "parcoords"
           }
          ],
          "pie": [
           {
            "automargin": true,
            "type": "pie"
           }
          ],
          "scatter": [
           {
            "fillpattern": {
             "fillmode": "overlay",
             "size": 10,
             "solidity": 0.2
            },
            "type": "scatter"
           }
          ],
          "scatter3d": [
           {
            "line": {
             "colorbar": {
              "outlinewidth": 0,
              "ticks": ""
             }
            },
            "marker": {
             "colorbar": {
              "outlinewidth": 0,
              "ticks": ""
             }
            },
            "type": "scatter3d"
           }
          ],
          "scattercarpet": [
           {
            "marker": {
             "colorbar": {
              "outlinewidth": 0,
              "ticks": ""
             }
            },
            "type": "scattercarpet"
           }
          ],
          "scattergeo": [
           {
            "marker": {
             "colorbar": {
              "outlinewidth": 0,
              "ticks": ""
             }
            },
            "type": "scattergeo"
           }
          ],
          "scattergl": [
           {
            "marker": {
             "colorbar": {
              "outlinewidth": 0,
              "ticks": ""
             }
            },
            "type": "scattergl"
           }
          ],
          "scattermapbox": [
           {
            "marker": {
             "colorbar": {
              "outlinewidth": 0,
              "ticks": ""
             }
            },
            "type": "scattermapbox"
           }
          ],
          "scatterpolar": [
           {
            "marker": {
             "colorbar": {
              "outlinewidth": 0,
              "ticks": ""
             }
            },
            "type": "scatterpolar"
           }
          ],
          "scatterpolargl": [
           {
            "marker": {
             "colorbar": {
              "outlinewidth": 0,
              "ticks": ""
             }
            },
            "type": "scatterpolargl"
           }
          ],
          "scatterternary": [
           {
            "marker": {
             "colorbar": {
              "outlinewidth": 0,
              "ticks": ""
             }
            },
            "type": "scatterternary"
           }
          ],
          "surface": [
           {
            "colorbar": {
             "outlinewidth": 0,
             "ticks": ""
            },
            "colorscale": [
             [
              0,
              "#0d0887"
             ],
             [
              0.1111111111111111,
              "#46039f"
             ],
             [
              0.2222222222222222,
              "#7201a8"
             ],
             [
              0.3333333333333333,
              "#9c179e"
             ],
             [
              0.4444444444444444,
              "#bd3786"
             ],
             [
              0.5555555555555556,
              "#d8576b"
             ],
             [
              0.6666666666666666,
              "#ed7953"
             ],
             [
              0.7777777777777778,
              "#fb9f3a"
             ],
             [
              0.8888888888888888,
              "#fdca26"
             ],
             [
              1,
              "#f0f921"
             ]
            ],
            "type": "surface"
           }
          ],
          "table": [
           {
            "cells": {
             "fill": {
              "color": "#EBF0F8"
             },
             "line": {
              "color": "white"
             }
            },
            "header": {
             "fill": {
              "color": "#C8D4E3"
             },
             "line": {
              "color": "white"
             }
            },
            "type": "table"
           }
          ]
         },
         "layout": {
          "annotationdefaults": {
           "arrowcolor": "#2a3f5f",
           "arrowhead": 0,
           "arrowwidth": 1
          },
          "autotypenumbers": "strict",
          "coloraxis": {
           "colorbar": {
            "outlinewidth": 0,
            "ticks": ""
           }
          },
          "colorscale": {
           "diverging": [
            [
             0,
             "#8e0152"
            ],
            [
             0.1,
             "#c51b7d"
            ],
            [
             0.2,
             "#de77ae"
            ],
            [
             0.3,
             "#f1b6da"
            ],
            [
             0.4,
             "#fde0ef"
            ],
            [
             0.5,
             "#f7f7f7"
            ],
            [
             0.6,
             "#e6f5d0"
            ],
            [
             0.7,
             "#b8e186"
            ],
            [
             0.8,
             "#7fbc41"
            ],
            [
             0.9,
             "#4d9221"
            ],
            [
             1,
             "#276419"
            ]
           ],
           "sequential": [
            [
             0,
             "#0d0887"
            ],
            [
             0.1111111111111111,
             "#46039f"
            ],
            [
             0.2222222222222222,
             "#7201a8"
            ],
            [
             0.3333333333333333,
             "#9c179e"
            ],
            [
             0.4444444444444444,
             "#bd3786"
            ],
            [
             0.5555555555555556,
             "#d8576b"
            ],
            [
             0.6666666666666666,
             "#ed7953"
            ],
            [
             0.7777777777777778,
             "#fb9f3a"
            ],
            [
             0.8888888888888888,
             "#fdca26"
            ],
            [
             1,
             "#f0f921"
            ]
           ],
           "sequentialminus": [
            [
             0,
             "#0d0887"
            ],
            [
             0.1111111111111111,
             "#46039f"
            ],
            [
             0.2222222222222222,
             "#7201a8"
            ],
            [
             0.3333333333333333,
             "#9c179e"
            ],
            [
             0.4444444444444444,
             "#bd3786"
            ],
            [
             0.5555555555555556,
             "#d8576b"
            ],
            [
             0.6666666666666666,
             "#ed7953"
            ],
            [
             0.7777777777777778,
             "#fb9f3a"
            ],
            [
             0.8888888888888888,
             "#fdca26"
            ],
            [
             1,
             "#f0f921"
            ]
           ]
          },
          "colorway": [
           "#636efa",
           "#EF553B",
           "#00cc96",
           "#ab63fa",
           "#FFA15A",
           "#19d3f3",
           "#FF6692",
           "#B6E880",
           "#FF97FF",
           "#FECB52"
          ],
          "font": {
           "color": "#2a3f5f"
          },
          "geo": {
           "bgcolor": "white",
           "lakecolor": "white",
           "landcolor": "#E5ECF6",
           "showlakes": true,
           "showland": true,
           "subunitcolor": "white"
          },
          "hoverlabel": {
           "align": "left"
          },
          "hovermode": "closest",
          "mapbox": {
           "style": "light"
          },
          "paper_bgcolor": "white",
          "plot_bgcolor": "#E5ECF6",
          "polar": {
           "angularaxis": {
            "gridcolor": "white",
            "linecolor": "white",
            "ticks": ""
           },
           "bgcolor": "#E5ECF6",
           "radialaxis": {
            "gridcolor": "white",
            "linecolor": "white",
            "ticks": ""
           }
          },
          "scene": {
           "xaxis": {
            "backgroundcolor": "#E5ECF6",
            "gridcolor": "white",
            "gridwidth": 2,
            "linecolor": "white",
            "showbackground": true,
            "ticks": "",
            "zerolinecolor": "white"
           },
           "yaxis": {
            "backgroundcolor": "#E5ECF6",
            "gridcolor": "white",
            "gridwidth": 2,
            "linecolor": "white",
            "showbackground": true,
            "ticks": "",
            "zerolinecolor": "white"
           },
           "zaxis": {
            "backgroundcolor": "#E5ECF6",
            "gridcolor": "white",
            "gridwidth": 2,
            "linecolor": "white",
            "showbackground": true,
            "ticks": "",
            "zerolinecolor": "white"
           }
          },
          "shapedefaults": {
           "line": {
            "color": "#2a3f5f"
           }
          },
          "ternary": {
           "aaxis": {
            "gridcolor": "white",
            "linecolor": "white",
            "ticks": ""
           },
           "baxis": {
            "gridcolor": "white",
            "linecolor": "white",
            "ticks": ""
           },
           "bgcolor": "#E5ECF6",
           "caxis": {
            "gridcolor": "white",
            "linecolor": "white",
            "ticks": ""
           }
          },
          "title": {
           "x": 0.05
          },
          "xaxis": {
           "automargin": true,
           "gridcolor": "white",
           "linecolor": "white",
           "ticks": "",
           "title": {
            "standoff": 15
           },
           "zerolinecolor": "white",
           "zerolinewidth": 2
          },
          "yaxis": {
           "automargin": true,
           "gridcolor": "white",
           "linecolor": "white",
           "ticks": "",
           "title": {
            "standoff": 15
           },
           "zerolinecolor": "white",
           "zerolinewidth": 2
          }
         }
        },
        "title": {
         "text": "Input and Output Points in 3D Space"
        }
       }
      }
     },
     "metadata": {},
     "output_type": "display_data"
    },
    {
     "data": {
      "application/vnd.plotly.v1+json": {
       "config": {
        "plotlyServerURL": "https://plot.ly"
       },
       "data": [
        {
         "marker": {
          "color": "blue",
          "opacity": 0.8,
          "size": 3
         },
         "mode": "markers",
         "name": "Input Points",
         "type": "scatter3d",
         "x": [
          -0.14089955389499664,
          -0.14089955389499664,
          -0.12300638854503632,
          -0.10519318282604218,
          -0.08778654783964157,
          -0.05591364577412605,
          -0.023483730852603912,
          -0.023483730852603912,
          -0.003576472867280245,
          0.04824317991733551,
          0.0665457621216774,
          0.08557109534740448,
          0.10139555484056473,
          0.17366746068000793,
          0.2080557644367218,
          0.2080557644367218,
          0.23893733322620392,
          0.23893733322620392,
          0.31859683990478516,
          0.31859683990478516,
          0.33420875668525696,
          0.3534175753593445,
          0.3881053030490875,
          0.4919719994068146,
          0.5085610747337341,
          0.5245456695556641,
          0.5245456695556641,
          0.5572245121002197,
          0.6866689920425415,
          0.6866689920425415,
          0.7009871602058411,
          0.7144783139228821,
          0.729035496711731,
          0.7577530741691589,
          0.8525683283805847,
          0.8654925227165222,
          0.8779615759849548,
          0.8901668787002563,
          0.9084713459014893,
          0.919012725353241
         ],
         "y": [
          -0.26968103647232056,
          -0.26968103647232056,
          -0.268094003200531,
          -0.2673455476760864,
          -0.2661062479019165,
          -0.26426321268081665,
          -0.2672717273235321,
          -0.2672717273235321,
          -0.26639068126678467,
          -0.2604435980319977,
          -0.2586442232131958,
          -0.25849124789237976,
          -0.25585341453552246,
          -0.24825875461101532,
          -0.24456383287906647,
          -0.24456383287906647,
          -0.2389596551656723,
          -0.2389596551656723,
          -0.2300746887922287,
          -0.2300746887922287,
          -0.22903388738632202,
          -0.22597722709178925,
          -0.22192713618278503,
          -0.20570695400238037,
          -0.20350131392478943,
          -0.2018214464187622,
          -0.2018214464187622,
          -0.19685938954353333,
          -0.18107083439826965,
          -0.18107083439826965,
          -0.17892269790172577,
          -0.17578184604644775,
          -0.17370039224624634,
          -0.16894079744815826,
          -0.14819060266017914,
          -0.14641179144382477,
          -0.1447986662387848,
          -0.14226143062114716,
          -0.13567766547203064,
          -0.1331517994403839
         ],
         "z": [
          1.737989902496338,
          1.737989902496338,
          1.745093822479248,
          1.7509522438049316,
          1.7565516233444214,
          1.7682288885116577,
          1.7714289426803589,
          1.7714289426803589,
          1.7755464315414429,
          1.7868213653564453,
          1.7889269590377808,
          1.7893954515457153,
          1.7914236783981323,
          1.7938604354858398,
          1.7939460277557373,
          1.7939460277557373,
          1.788777232170105,
          1.788777232170105,
          1.7867454290390015,
          1.7867454290390015,
          1.7827033996582031,
          1.7805067300796509,
          1.7723288536071777,
          1.7404533624649048,
          1.7338192462921143,
          1.7267155647277832,
          1.7267155647277832,
          1.7127318382263184,
          1.6440829038619995,
          1.6440829038619995,
          1.6327632665634155,
          1.6231560707092285,
          1.6123422384262085,
          1.5885683298110962,
          1.4855369329452515,
          1.4718283414840698,
          1.4577703475952148,
          1.4422084093093872,
          1.4150792360305786,
          1.3999449014663696
         ]
        },
        {
         "marker": {
          "color": "red",
          "opacity": 0.5,
          "size": 3
         },
         "mode": "markers",
         "name": "Output Points",
         "type": "scatter3d",
         "x": [
          -1.4901843070983887,
          -1.474707007408142,
          -1.4804985523223877,
          -1.3991048336029053,
          -1.3995170593261719,
          -1.3651450872421265,
          -1.370044231414795,
          -1.3398560285568237,
          -1.336839199066162,
          -1.3020027875900269,
          -1.2847282886505127,
          -1.2616721391677856,
          -1.1873153448104858,
          -1.2207270860671997,
          -1.2382187843322754,
          -1.2320339679718018,
          -1.2246029376983643,
          -1.1985445022583008,
          -1.2025247812271118,
          -1.179915189743042,
          -1.1670993566513062,
          -1.1862404346466064,
          -1.1569736003875732,
          -1.1896198987960815,
          -1.171345829963684,
          -1.1675914525985718,
          -1.1494967937469482,
          -1.116771936416626,
          -1.1439146995544434,
          -1.1097859144210815,
          -1.0862128734588623,
          -1.0945039987564087,
          -1.0850989818572998,
          -1.0709540843963623,
          -0.986189603805542,
          -1.0028671026229858,
          -1.0208117961883545,
          -1.0134642124176025,
          -1.0194191932678223,
          -0.9940516948699951
         ],
         "y": [
          -0.27531561255455017,
          -0.28072458505630493,
          -0.2931218147277832,
          -0.3152318000793457,
          -0.3565896153450012,
          -0.36996787786483765,
          -0.3509759306907654,
          -0.3668341338634491,
          -0.3629518151283264,
          -0.39797425270080566,
          -0.4101731479167938,
          -0.3880321979522705,
          -0.3667762279510498,
          -0.385684609413147,
          -0.38634008169174194,
          -0.402253121137619,
          -0.42737245559692383,
          -0.4462187588214874,
          -0.4708840250968933,
          -0.44918352365493774,
          -0.4348424971103668,
          -0.4199264943599701,
          -0.4361357092857361,
          -0.40385299921035767,
          -0.4345674514770508,
          -0.4340198338031769,
          -0.44221141934394836,
          -0.4690045714378357,
          -0.43553298711776733,
          -0.4635399580001831,
          -0.47614240646362305,
          -0.4610981047153473,
          -0.47156596183776855,
          -0.4740404486656189,
          -0.46911677718162537,
          -0.48718711733818054,
          -0.46809402108192444,
          -0.46088796854019165,
          -0.44899770617485046,
          -0.46056967973709106
         ],
         "z": [
          -0.3698262572288513,
          -0.3690873086452484,
          -0.40278878808021545,
          -0.36465582251548767,
          -0.40935787558555603,
          -0.4048241376876831,
          -0.29077866673469543,
          -0.24272039532661438,
          -0.28444305062294006,
          -0.3140052556991577,
          -0.27985599637031555,
          -0.174069344997406,
          -0.014862067997455597,
          -0.05867458134889603,
          -0.1578274965286255,
          -0.14501693844795227,
          -0.13993209600448608,
          -0.1197885200381279,
          -0.16412794589996338,
          -0.1125677153468132,
          -0.06436624377965927,
          -0.04315454512834549,
          0.003206096589565277,
          -0.045084334909915924,
          -0.06762536615133286,
          -0.08015558868646622,
          -0.0410919114947319,
          -0.010133884847164154,
          -0.037841446697711945,
          -0.04065736383199692,
          -0.02536434680223465,
          -0.02926456183195114,
          -0.0416087731719017,
          -0.05419110506772995,
          0.06726974993944168,
          0.05213097482919693,
          0.07339959591627121,
          0.10559330135583878,
          0.09906918555498123,
          0.11273504048585892
         ]
        }
       ],
       "layout": {
        "scene": {
         "xaxis": {
          "title": {
           "text": "X-Dimension"
          }
         },
         "yaxis": {
          "title": {
           "text": "Y-Dimension"
          }
         },
         "zaxis": {
          "title": {
           "text": "Z-Dimension"
          }
         }
        },
        "template": {
         "data": {
          "bar": [
           {
            "error_x": {
             "color": "#2a3f5f"
            },
            "error_y": {
             "color": "#2a3f5f"
            },
            "marker": {
             "line": {
              "color": "#E5ECF6",
              "width": 0.5
             },
             "pattern": {
              "fillmode": "overlay",
              "size": 10,
              "solidity": 0.2
             }
            },
            "type": "bar"
           }
          ],
          "barpolar": [
           {
            "marker": {
             "line": {
              "color": "#E5ECF6",
              "width": 0.5
             },
             "pattern": {
              "fillmode": "overlay",
              "size": 10,
              "solidity": 0.2
             }
            },
            "type": "barpolar"
           }
          ],
          "carpet": [
           {
            "aaxis": {
             "endlinecolor": "#2a3f5f",
             "gridcolor": "white",
             "linecolor": "white",
             "minorgridcolor": "white",
             "startlinecolor": "#2a3f5f"
            },
            "baxis": {
             "endlinecolor": "#2a3f5f",
             "gridcolor": "white",
             "linecolor": "white",
             "minorgridcolor": "white",
             "startlinecolor": "#2a3f5f"
            },
            "type": "carpet"
           }
          ],
          "choropleth": [
           {
            "colorbar": {
             "outlinewidth": 0,
             "ticks": ""
            },
            "type": "choropleth"
           }
          ],
          "contour": [
           {
            "colorbar": {
             "outlinewidth": 0,
             "ticks": ""
            },
            "colorscale": [
             [
              0,
              "#0d0887"
             ],
             [
              0.1111111111111111,
              "#46039f"
             ],
             [
              0.2222222222222222,
              "#7201a8"
             ],
             [
              0.3333333333333333,
              "#9c179e"
             ],
             [
              0.4444444444444444,
              "#bd3786"
             ],
             [
              0.5555555555555556,
              "#d8576b"
             ],
             [
              0.6666666666666666,
              "#ed7953"
             ],
             [
              0.7777777777777778,
              "#fb9f3a"
             ],
             [
              0.8888888888888888,
              "#fdca26"
             ],
             [
              1,
              "#f0f921"
             ]
            ],
            "type": "contour"
           }
          ],
          "contourcarpet": [
           {
            "colorbar": {
             "outlinewidth": 0,
             "ticks": ""
            },
            "type": "contourcarpet"
           }
          ],
          "heatmap": [
           {
            "colorbar": {
             "outlinewidth": 0,
             "ticks": ""
            },
            "colorscale": [
             [
              0,
              "#0d0887"
             ],
             [
              0.1111111111111111,
              "#46039f"
             ],
             [
              0.2222222222222222,
              "#7201a8"
             ],
             [
              0.3333333333333333,
              "#9c179e"
             ],
             [
              0.4444444444444444,
              "#bd3786"
             ],
             [
              0.5555555555555556,
              "#d8576b"
             ],
             [
              0.6666666666666666,
              "#ed7953"
             ],
             [
              0.7777777777777778,
              "#fb9f3a"
             ],
             [
              0.8888888888888888,
              "#fdca26"
             ],
             [
              1,
              "#f0f921"
             ]
            ],
            "type": "heatmap"
           }
          ],
          "heatmapgl": [
           {
            "colorbar": {
             "outlinewidth": 0,
             "ticks": ""
            },
            "colorscale": [
             [
              0,
              "#0d0887"
             ],
             [
              0.1111111111111111,
              "#46039f"
             ],
             [
              0.2222222222222222,
              "#7201a8"
             ],
             [
              0.3333333333333333,
              "#9c179e"
             ],
             [
              0.4444444444444444,
              "#bd3786"
             ],
             [
              0.5555555555555556,
              "#d8576b"
             ],
             [
              0.6666666666666666,
              "#ed7953"
             ],
             [
              0.7777777777777778,
              "#fb9f3a"
             ],
             [
              0.8888888888888888,
              "#fdca26"
             ],
             [
              1,
              "#f0f921"
             ]
            ],
            "type": "heatmapgl"
           }
          ],
          "histogram": [
           {
            "marker": {
             "pattern": {
              "fillmode": "overlay",
              "size": 10,
              "solidity": 0.2
             }
            },
            "type": "histogram"
           }
          ],
          "histogram2d": [
           {
            "colorbar": {
             "outlinewidth": 0,
             "ticks": ""
            },
            "colorscale": [
             [
              0,
              "#0d0887"
             ],
             [
              0.1111111111111111,
              "#46039f"
             ],
             [
              0.2222222222222222,
              "#7201a8"
             ],
             [
              0.3333333333333333,
              "#9c179e"
             ],
             [
              0.4444444444444444,
              "#bd3786"
             ],
             [
              0.5555555555555556,
              "#d8576b"
             ],
             [
              0.6666666666666666,
              "#ed7953"
             ],
             [
              0.7777777777777778,
              "#fb9f3a"
             ],
             [
              0.8888888888888888,
              "#fdca26"
             ],
             [
              1,
              "#f0f921"
             ]
            ],
            "type": "histogram2d"
           }
          ],
          "histogram2dcontour": [
           {
            "colorbar": {
             "outlinewidth": 0,
             "ticks": ""
            },
            "colorscale": [
             [
              0,
              "#0d0887"
             ],
             [
              0.1111111111111111,
              "#46039f"
             ],
             [
              0.2222222222222222,
              "#7201a8"
             ],
             [
              0.3333333333333333,
              "#9c179e"
             ],
             [
              0.4444444444444444,
              "#bd3786"
             ],
             [
              0.5555555555555556,
              "#d8576b"
             ],
             [
              0.6666666666666666,
              "#ed7953"
             ],
             [
              0.7777777777777778,
              "#fb9f3a"
             ],
             [
              0.8888888888888888,
              "#fdca26"
             ],
             [
              1,
              "#f0f921"
             ]
            ],
            "type": "histogram2dcontour"
           }
          ],
          "mesh3d": [
           {
            "colorbar": {
             "outlinewidth": 0,
             "ticks": ""
            },
            "type": "mesh3d"
           }
          ],
          "parcoords": [
           {
            "line": {
             "colorbar": {
              "outlinewidth": 0,
              "ticks": ""
             }
            },
            "type": "parcoords"
           }
          ],
          "pie": [
           {
            "automargin": true,
            "type": "pie"
           }
          ],
          "scatter": [
           {
            "fillpattern": {
             "fillmode": "overlay",
             "size": 10,
             "solidity": 0.2
            },
            "type": "scatter"
           }
          ],
          "scatter3d": [
           {
            "line": {
             "colorbar": {
              "outlinewidth": 0,
              "ticks": ""
             }
            },
            "marker": {
             "colorbar": {
              "outlinewidth": 0,
              "ticks": ""
             }
            },
            "type": "scatter3d"
           }
          ],
          "scattercarpet": [
           {
            "marker": {
             "colorbar": {
              "outlinewidth": 0,
              "ticks": ""
             }
            },
            "type": "scattercarpet"
           }
          ],
          "scattergeo": [
           {
            "marker": {
             "colorbar": {
              "outlinewidth": 0,
              "ticks": ""
             }
            },
            "type": "scattergeo"
           }
          ],
          "scattergl": [
           {
            "marker": {
             "colorbar": {
              "outlinewidth": 0,
              "ticks": ""
             }
            },
            "type": "scattergl"
           }
          ],
          "scattermapbox": [
           {
            "marker": {
             "colorbar": {
              "outlinewidth": 0,
              "ticks": ""
             }
            },
            "type": "scattermapbox"
           }
          ],
          "scatterpolar": [
           {
            "marker": {
             "colorbar": {
              "outlinewidth": 0,
              "ticks": ""
             }
            },
            "type": "scatterpolar"
           }
          ],
          "scatterpolargl": [
           {
            "marker": {
             "colorbar": {
              "outlinewidth": 0,
              "ticks": ""
             }
            },
            "type": "scatterpolargl"
           }
          ],
          "scatterternary": [
           {
            "marker": {
             "colorbar": {
              "outlinewidth": 0,
              "ticks": ""
             }
            },
            "type": "scatterternary"
           }
          ],
          "surface": [
           {
            "colorbar": {
             "outlinewidth": 0,
             "ticks": ""
            },
            "colorscale": [
             [
              0,
              "#0d0887"
             ],
             [
              0.1111111111111111,
              "#46039f"
             ],
             [
              0.2222222222222222,
              "#7201a8"
             ],
             [
              0.3333333333333333,
              "#9c179e"
             ],
             [
              0.4444444444444444,
              "#bd3786"
             ],
             [
              0.5555555555555556,
              "#d8576b"
             ],
             [
              0.6666666666666666,
              "#ed7953"
             ],
             [
              0.7777777777777778,
              "#fb9f3a"
             ],
             [
              0.8888888888888888,
              "#fdca26"
             ],
             [
              1,
              "#f0f921"
             ]
            ],
            "type": "surface"
           }
          ],
          "table": [
           {
            "cells": {
             "fill": {
              "color": "#EBF0F8"
             },
             "line": {
              "color": "white"
             }
            },
            "header": {
             "fill": {
              "color": "#C8D4E3"
             },
             "line": {
              "color": "white"
             }
            },
            "type": "table"
           }
          ]
         },
         "layout": {
          "annotationdefaults": {
           "arrowcolor": "#2a3f5f",
           "arrowhead": 0,
           "arrowwidth": 1
          },
          "autotypenumbers": "strict",
          "coloraxis": {
           "colorbar": {
            "outlinewidth": 0,
            "ticks": ""
           }
          },
          "colorscale": {
           "diverging": [
            [
             0,
             "#8e0152"
            ],
            [
             0.1,
             "#c51b7d"
            ],
            [
             0.2,
             "#de77ae"
            ],
            [
             0.3,
             "#f1b6da"
            ],
            [
             0.4,
             "#fde0ef"
            ],
            [
             0.5,
             "#f7f7f7"
            ],
            [
             0.6,
             "#e6f5d0"
            ],
            [
             0.7,
             "#b8e186"
            ],
            [
             0.8,
             "#7fbc41"
            ],
            [
             0.9,
             "#4d9221"
            ],
            [
             1,
             "#276419"
            ]
           ],
           "sequential": [
            [
             0,
             "#0d0887"
            ],
            [
             0.1111111111111111,
             "#46039f"
            ],
            [
             0.2222222222222222,
             "#7201a8"
            ],
            [
             0.3333333333333333,
             "#9c179e"
            ],
            [
             0.4444444444444444,
             "#bd3786"
            ],
            [
             0.5555555555555556,
             "#d8576b"
            ],
            [
             0.6666666666666666,
             "#ed7953"
            ],
            [
             0.7777777777777778,
             "#fb9f3a"
            ],
            [
             0.8888888888888888,
             "#fdca26"
            ],
            [
             1,
             "#f0f921"
            ]
           ],
           "sequentialminus": [
            [
             0,
             "#0d0887"
            ],
            [
             0.1111111111111111,
             "#46039f"
            ],
            [
             0.2222222222222222,
             "#7201a8"
            ],
            [
             0.3333333333333333,
             "#9c179e"
            ],
            [
             0.4444444444444444,
             "#bd3786"
            ],
            [
             0.5555555555555556,
             "#d8576b"
            ],
            [
             0.6666666666666666,
             "#ed7953"
            ],
            [
             0.7777777777777778,
             "#fb9f3a"
            ],
            [
             0.8888888888888888,
             "#fdca26"
            ],
            [
             1,
             "#f0f921"
            ]
           ]
          },
          "colorway": [
           "#636efa",
           "#EF553B",
           "#00cc96",
           "#ab63fa",
           "#FFA15A",
           "#19d3f3",
           "#FF6692",
           "#B6E880",
           "#FF97FF",
           "#FECB52"
          ],
          "font": {
           "color": "#2a3f5f"
          },
          "geo": {
           "bgcolor": "white",
           "lakecolor": "white",
           "landcolor": "#E5ECF6",
           "showlakes": true,
           "showland": true,
           "subunitcolor": "white"
          },
          "hoverlabel": {
           "align": "left"
          },
          "hovermode": "closest",
          "mapbox": {
           "style": "light"
          },
          "paper_bgcolor": "white",
          "plot_bgcolor": "#E5ECF6",
          "polar": {
           "angularaxis": {
            "gridcolor": "white",
            "linecolor": "white",
            "ticks": ""
           },
           "bgcolor": "#E5ECF6",
           "radialaxis": {
            "gridcolor": "white",
            "linecolor": "white",
            "ticks": ""
           }
          },
          "scene": {
           "xaxis": {
            "backgroundcolor": "#E5ECF6",
            "gridcolor": "white",
            "gridwidth": 2,
            "linecolor": "white",
            "showbackground": true,
            "ticks": "",
            "zerolinecolor": "white"
           },
           "yaxis": {
            "backgroundcolor": "#E5ECF6",
            "gridcolor": "white",
            "gridwidth": 2,
            "linecolor": "white",
            "showbackground": true,
            "ticks": "",
            "zerolinecolor": "white"
           },
           "zaxis": {
            "backgroundcolor": "#E5ECF6",
            "gridcolor": "white",
            "gridwidth": 2,
            "linecolor": "white",
            "showbackground": true,
            "ticks": "",
            "zerolinecolor": "white"
           }
          },
          "shapedefaults": {
           "line": {
            "color": "#2a3f5f"
           }
          },
          "ternary": {
           "aaxis": {
            "gridcolor": "white",
            "linecolor": "white",
            "ticks": ""
           },
           "baxis": {
            "gridcolor": "white",
            "linecolor": "white",
            "ticks": ""
           },
           "bgcolor": "#E5ECF6",
           "caxis": {
            "gridcolor": "white",
            "linecolor": "white",
            "ticks": ""
           }
          },
          "title": {
           "x": 0.05
          },
          "xaxis": {
           "automargin": true,
           "gridcolor": "white",
           "linecolor": "white",
           "ticks": "",
           "title": {
            "standoff": 15
           },
           "zerolinecolor": "white",
           "zerolinewidth": 2
          },
          "yaxis": {
           "automargin": true,
           "gridcolor": "white",
           "linecolor": "white",
           "ticks": "",
           "title": {
            "standoff": 15
           },
           "zerolinecolor": "white",
           "zerolinewidth": 2
          }
         }
        },
        "title": {
         "text": "Input and Output Points in 3D Space"
        }
       }
      }
     },
     "metadata": {},
     "output_type": "display_data"
    }
   ],
   "source": [
    "interactive_output_visualization(losses[\"labels\"], duration=4, randomseed=False, output=True, output_data=losses[\"outputs\"])\n",
    "interactive_output_visualization(losses[\"labels_t\"], duration=4, randomseed=False, output=True, output_data=losses[\"outputs_t\"])"
   ]
  },
  {
   "cell_type": "markdown",
   "metadata": {},
   "source": [
    "Remove later \\\\ For manual observation"
   ]
  },
  {
   "cell_type": "code",
   "execution_count": 11,
   "metadata": {},
   "outputs": [
    {
     "name": "stdout",
     "output_type": "stream",
     "text": [
      "[[ 1.3492407   0.02201911  0.19627056]\n",
      " [ 1.3446476   0.01915568  0.18802874]\n",
      " [ 1.3548763   0.02433347  0.19811517]\n",
      " ...\n",
      " [-0.74008     0.80878407  0.6305661 ]\n",
      " [-0.72019994  0.82205045  0.6825632 ]\n",
      " [-0.70652753  0.8231659   0.7160667 ]]\n",
      "\n",
      "[[ 1.3153378  -0.2982605   0.3474542 ]\n",
      " [ 1.3117746  -0.2975147   0.3478456 ]\n",
      " [ 1.3117645  -0.2976793   0.34789118]\n",
      " ...\n",
      " [-0.6184554   0.6673867   0.5959649 ]\n",
      " [-0.56821537  0.6565397   0.6336926 ]\n",
      " [-0.5475797   0.64997905  0.6471011 ]]\n"
     ]
    }
   ],
   "source": [
    "print(losses[\"outputs_t\"])\n",
    "print()\n",
    "print(losses[\"labels_t\"])"
   ]
  },
  {
   "cell_type": "code",
   "execution_count": 12,
   "metadata": {},
   "outputs": [
    {
     "name": "stdout",
     "output_type": "stream",
     "text": [
      "[[-0.68769133  0.79811907  0.75302744]\n",
      " [-0.6726419   0.75571537  0.7053458 ]\n",
      " [-0.64839756  0.7481772   0.7217366 ]\n",
      " ...\n",
      " [ 1.6128058   0.18679734 -0.10340557]\n",
      " [ 1.6141653   0.19279666 -0.10687317]\n",
      " [ 1.6503621   0.23909695  0.01932029]]\n",
      "\n",
      "[[-0.51455855  0.6345319   0.6635679 ]\n",
      " [-0.49432316  0.63156945  0.6758016 ]\n",
      " [-0.474348    0.6273448   0.6853503 ]\n",
      " ...\n",
      " [ 1.5170327  -0.06560533  0.12764059]\n",
      " [ 1.5168868  -0.06152498  0.12844376]\n",
      " [ 1.5165348  -0.05362112  0.12474921]]\n"
     ]
    }
   ],
   "source": [
    "print(losses[\"outputs\"])\n",
    "print()\n",
    "print(losses[\"labels\"])"
   ]
  }
 ],
 "metadata": {
  "kernelspec": {
   "display_name": "Python 3",
   "language": "python",
   "name": "python3"
  },
  "language_info": {
   "codemirror_mode": {
    "name": "ipython",
    "version": 3
   },
   "file_extension": ".py",
   "mimetype": "text/x-python",
   "name": "python",
   "nbconvert_exporter": "python",
   "pygments_lexer": "ipython3",
   "version": "3.9.6"
  },
  "orig_nbformat": 4
 },
 "nbformat": 4,
 "nbformat_minor": 2
}
