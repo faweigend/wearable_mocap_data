{
 "cells": [
  {
   "cell_type": "markdown",
   "metadata": {},
   "source": [
    "# Pose Prediction From Smartwatch Data\n",
    "### Part 2\n",
    "\n",
    "Welcome! This notebook is the second chapter of the hackathon challenge to predict human arm pose from the sensor data of a single smartwatch. In other words, a human wears a smartwatch, and we will try to predict their arm pose from the sensor outputs we can read from the watch.\n",
    "\n",
    "## Creating a Predictive Model with Machine Learning\n",
    "\n",
    "In this second chapter, we will have the opportunity to utilize the processed data from the previous chapter and train a Neural Network to generate predictions. The following sections will guide you step-by-step through model architecture design, model training and evaluation, performance analysis, and 3D visualization for better interpretability of the model's performance. "
   ]
  },
  {
   "cell_type": "markdown",
   "metadata": {},
   "source": [
    "### 0. Downloading Dependencies (Optional)\n",
    "\n",
    "We begin by downloading the libraries in this notebook. If you have all of these pre-installed, you may skip this step.\n",
    "\n",
    "Note: We installed some packages in the first notebook. If you skipped running it, please run step 0 from the first notebook to download dependacies and continute with this notebook. "
   ]
  },
  {
   "cell_type": "code",
   "execution_count": null,
   "metadata": {},
   "outputs": [],
   "source": [
    "!pip install torch\n",
    "!pip install sklearn"
   ]
  },
  {
   "cell_type": "markdown",
   "metadata": {},
   "source": [
    "### 1. Importing Libraries\n",
    "\n",
    "Lets import the libraries we will be primarily working with in this notebook. You may notice some similar ones. Let us help you understand why:\n",
    "- Libraries like Numpy and Pandas are helpful for mathematical functions and data frameworks respectively. Therefore, you would see them almost everywhere.\n",
    "- Matplotlib is often used to display plots. Using plotly, we will display interactive plots. But why do we need plots for training a machine learning model? You will find out soon. \n",
    "- Finally, Torch (PyTorch) provides powerful tools to deploy Neural Networks (NN)"
   ]
  },
  {
   "cell_type": "code",
   "execution_count": 1,
   "metadata": {},
   "outputs": [],
   "source": [
    "# PyTorch Libraries for Neural Network\n",
    "import torch\n",
    "import torch.nn as nn\n",
    "import torch.optim as optim\n",
    "from torch.utils.data import DataLoader, Dataset\n",
    "from sklearn.model_selection import train_test_split    # Scikit-Lean for preparing the train-test data split\n",
    "\n",
    "import pandas as pd\n",
    "import numpy as np\n",
    "\n",
    "# Plotting tools\n",
    "import matplotlib.pyplot as plt\n",
    "import plotly.graph_objs as go\n",
    "\n",
    "# adjust data paths in config.py\n",
    "import config   \n",
    "import os    "
   ]
  },
  {
   "cell_type": "markdown",
   "metadata": {},
   "source": [
    "### 2. Loading Processed Data\n",
    "\n",
    "Let's load the normalized dataset into the environment that we processed in the previous notebook. You will notice two files in the cache folder. \n",
    "1. `normalized_data.csv` contains the normalized dataset\n",
    "2. `means_stds.csv` contains the means and standard deviations of different columns utilized during normalization."
   ]
  },
  {
   "cell_type": "code",
   "execution_count": 4,
   "metadata": {},
   "outputs": [],
   "source": [
    "cache_path = config.paths[\"cache_path\"]\n",
    "path = os.path.join(cache_path, \"normalized_data.csv\")\n",
    "data_normalized = pd.read_csv(path)"
   ]
  },
  {
   "cell_type": "code",
   "execution_count": 5,
   "metadata": {},
   "outputs": [],
   "source": [
    "path = os.path.join(cache_path, \"means_stds.csv\")\n",
    "means_stds_df = pd.read_csv(path)\n",
    "meanss = means_stds_df.iloc[:, 1].values\n",
    "stdd = means_stds_df.iloc[:, 2].values"
   ]
  },
  {
   "cell_type": "markdown",
   "metadata": {},
   "source": [
    "### 3. Plotting Functions\n",
    "Lets get the simpler stuff out of the way first. Since the neural networks will help estimate the X, Y & Z coordinates, we use a similar 3D visualization for representing the outputs by the model and actual labels to gain a deeper understanding of model's performance. \n",
    "\n",
    "Secondly, during the training process you will notice the loss decreases with epochs. It is useful to visualize the loss for a number of reasons:\n",
    "- Overfitting: When model starts remembering the training dataset instead of figuring out a \"pattern\".\n",
    "- Performance: To figure out if further training decreases or increases loss \n",
    "\n",
    "Note: Epoch refers to the iteration number where the model goes through the entire training data. For instance, 1 epoch indicates that model has passed through the data once. \n",
    "\n",
    "For these purposes, we are using helper functions that can be called repeatedly. "
   ]
  },
  {
   "cell_type": "code",
   "execution_count": 6,
   "metadata": {},
   "outputs": [],
   "source": [
    "\"\"\"\n",
    "    This section represents the function and helper function required for interactive 3D visualization:\n",
    "        - The interactive_output_visualization function helps in visualizing the X, Y, Z coordinates in an interactive 3D map. It is also used to display the output and original labels\n",
    "\"\"\"\n",
    "\n",
    "# Helper function that provides appropriate the approriate length for columns. \n",
    "# The duration variable helps in defining the length of continuous data - this helps in visualizing a smaller hand trajectory \n",
    "# The randomseed variable helps to visualize the same data without randomizing the selection process\n",
    "# The remaining functions follow the same variables and analogy\n",
    "def data_visualization(data, duration, randomseed=False, output=False, start_idx = None):\n",
    "    if output is True:\n",
    "        dim1, dim2, dim3 = data[:,0], data[:,1], data[:,2]\n",
    "    else:\n",
    "        dim1, dim2, dim3 = np.array(data['gt_hand_orig_rua_x']), np.array(data['gt_hand_orig_rua_y']), np.array(data['gt_hand_orig_rua_z'])\n",
    "\n",
    "    if start_idx is not None:\n",
    "        dim1 = dim1[start_idx : start_idx + duration]\n",
    "        dim2 = dim2[start_idx : start_idx + duration]\n",
    "        dim3 = dim3[start_idx : start_idx + duration]\n",
    "        \n",
    "    return dim1, dim2, dim3\n",
    "\n",
    "def interactive_output_visualization(data, duration=None, randomseed=False, output=False, output_data = None):\n",
    "    \n",
    "    if duration is not None:\n",
    "        if randomseed:\n",
    "            np.random.seed(42)\n",
    "        else: \n",
    "            np.random.seed(None)\n",
    "        duration *= 10\n",
    "        start_idx = np.random.choice(len(data[:,0]) - (duration))    \n",
    "    else: \n",
    "        start_idx = None\n",
    "\n",
    "    dim1, dim2, dim3 = data_visualization(data, duration, randomseed, output, start_idx=start_idx)\n",
    "\n",
    "    trace = go.Scatter3d(x=dim1, y=dim2, z=dim3, mode='markers', marker=dict(size=3, \n",
    "                                                                             color='blue', \n",
    "                                                                             opacity=0.8),\n",
    "                                                                             name=\"Input Points\")\n",
    "\n",
    "    if output:\n",
    "        dim1, dim2, dim3 = data_visualization(output_data, duration, randomseed, output, start_idx=start_idx)\n",
    "        trace_output = go.Scatter3d(x=dim1, y=dim2, z=dim3, mode='markers', marker=dict(size=3, \n",
    "                                                                                    color='red', \n",
    "                                                                                    opacity=0.5), \n",
    "                                                                                    name='Output Points')\n",
    "        traces = [trace, trace_output]\n",
    "        title = 'Input and Output Points in 3D Space'\n",
    "    else:\n",
    "        traces = [trace]\n",
    "        title = 'Values in 3D Space'\n",
    "\n",
    "    layout = go.Layout(title=title, scene=dict(xaxis=dict(title='X-Dimension'),\n",
    "                                                                        yaxis=dict(title='Y-Dimension'),\n",
    "                                                                        zaxis=dict(title='Z-Dimension')))\n",
    "\n",
    "    fig = go.Figure(data=traces, layout=layout)\n",
    "    fig.show()\n",
    "\n",
    "def lossPlot(losses):\n",
    "    epochs_total = range(1, 1 + len(losses[\"evaluation\"]))\n",
    "\n",
    "    plt.subplots(1, figsize=(20,5))\n",
    "    plt.plot(epochs_total, losses[\"training\"], label = \"Training Loss\")\n",
    "    plt.plot(epochs_total, losses[\"evaluation\"], label = \"Evaluation Loss\")\n",
    "    plt.xlabel('Epochs')\n",
    "    plt.ylabel('Loss')\n",
    "    plt.title('Losses over Epochs')\n",
    "    plt.legend()\n",
    "    plt.show()\n",
    "\n",
    "def deNorm(data):\n",
    "    return (data * stdd[:3]) + meanss[:3]"
   ]
  },
  {
   "cell_type": "markdown",
   "metadata": {},
   "source": [
    "### 4. Data Loader & Model Architecture\n",
    "\n",
    "A data loader is an integral part of training a neural network. The data loader assists in selecting the relevant columns assigned as features and labels. We accomplish this task using the PyTorch library. \n",
    "\n",
    "In the next portion of the code block, we implement a basic feed-forward architecture comprising an input, two hidden, and an output layer."
   ]
  },
  {
   "cell_type": "code",
   "execution_count": 7,
   "metadata": {},
   "outputs": [],
   "source": [
    "\"\"\"\n",
    "    Data Loader: \n",
    "        This serves as the framework to load data using pandas and segment out the useful columns (labels and inputs)\n",
    "\"\"\"\n",
    "gt_columns = [\n",
    "    \"gt_hand_orig_rua_x\", \"gt_hand_orig_rua_y\", \"gt_hand_orig_rua_z\",\n",
    "    \"gt_larm_6drr_rh_1\", \"gt_larm_6drr_rh_2\", \"gt_larm_6drr_rh_3\",\n",
    "    \"gt_larm_6drr_rh_4\", \"gt_larm_6drr_rh_5\", \"gt_larm_6drr_rh_6\",\n",
    "    \"gt_larm_orig_rua_x\", \"gt_larm_orig_rua_y\", \"gt_larm_orig_rua_z\",\n",
    "    \"gt_uarm_6drr_rh_1\", \"gt_uarm_6drr_rh_2\", \"gt_uarm_6drr_rh_3\",\n",
    "    \"gt_uarm_6drr_rh_4\", \"gt_uarm_6drr_rh_5\", \"gt_uarm_6drr_rh_6\"\n",
    "]\n",
    "\n",
    "sw_columns = [\n",
    "    \"sw_dt\",\n",
    "    \"sw_gyro_x\", \"sw_gyro_y\", \"sw_gyro_z\",\n",
    "    \"sw_lvel_x\", \"sw_lvel_y\", \"sw_lvel_z\",\n",
    "    \"sw_lacc_x\", \"sw_lacc_y\", \"sw_lacc_z\",\n",
    "    \"sw_grav_x\", \"sw_grav_y\", \"sw_grav_z\",\n",
    "    \"sw_6drr_cal_1\", \"sw_6drr_cal_2\", \"sw_6drr_cal_3\",\n",
    "    \"sw_6drr_cal_4\", \"sw_6drr_cal_5\", \"sw_6drr_cal_6\",\n",
    "    \"sw_pres_cal\"\n",
    "]\n",
    "\n",
    "class MyDataset(Dataset):\n",
    "    def __init__ (self, data):\n",
    "        self.data = data\n",
    "        self.features = self.data.loc[:, sw_columns].values     # All smart watch inputs that contribute towards the outputs\n",
    "        self.labels = self.data.loc[:, gt_columns[0:3]].values          # The model predicts X, Y, Z coordinates of hand\n",
    "\n",
    "    def __len__ (self):\n",
    "        return len(self.data)\n",
    "    \n",
    "    def __getitem__ (self, idx):\n",
    "        features = torch.tensor(self.features[idx], dtype=torch.float32) \n",
    "        label = torch.tensor(self.labels[idx], dtype=torch.float32)\n",
    "        return features, label\n",
    "    \n",
    "\"\"\"\n",
    "    Neural Network / Model:\n",
    "        A simple linear architecture based model with 3 layers (including input and output layers). \n",
    "\"\"\"\n",
    "\n",
    "class MyModel1(nn.Module):\n",
    "    def __init__ (self, input_size, hidden_size, output_size):\n",
    "        super (MyModel1, self).__init__()\n",
    "\n",
    "        self.flatten = nn.Flatten()\n",
    "        self.linear_stack = nn.Sequential(\n",
    "            nn.Linear(input_size, int(hidden_size * 1.5)),\n",
    "            nn.LeakyReLU(negative_slope= 0.5),\n",
    "            nn.Linear(int(hidden_size * 1.5), int(hidden_size * 0.75)),\n",
    "            nn.LeakyReLU(negative_slope= 0.1),\n",
    "            nn.Linear(int(hidden_size * 0.75), int(hidden_size * 0.25)),\n",
    "            nn.LeakyReLU(negative_slope= 0.05),\n",
    "            nn.Linear(int(hidden_size * 0.25), int(hidden_size * 0.1)),\n",
    "            nn.LeakyReLU(negative_slope= 0.01),\n",
    "            nn.Linear(int(hidden_size * 0.1), output_size),\n",
    "            nn.LeakyReLU()\n",
    "        )\n",
    "    \n",
    "    def forward(self, x):\n",
    "        x = self.flatten(x)\n",
    "        x = self.linear_stack(x)\n",
    "        return x\n",
    "    \n",
    "\n",
    "class MyModel2(nn.Module):\n",
    "    def __init__ (self, input_size, hidden_size, output_size):\n",
    "        super (MyModel2, self).__init__()\n",
    "\n",
    "        self.fc1 = nn.Linear(input_size, 40)\n",
    "        self.fc2 = nn.Linear(40, 300)\n",
    "        self.fc3 = nn.Linear(300, 100)\n",
    "        self.fc4 = nn.Linear(100, 64)\n",
    "        self.fc5 = nn.Linear(64, 33)\n",
    "        self.fc6 = nn.Linear(33, output_size)\n",
    "\n",
    "        self.leakyrelu = nn.LeakyReLU()\n",
    "        self.dropout = nn.Dropout(p=0.25)\n",
    "    \n",
    "    def forward(self, x):\n",
    "        \n",
    "        x = self.fc1(x)\n",
    "        x = self.leakyrelu(x)\n",
    "        x = self.fc2(x)\n",
    "        x = self.leakyrelu(x)\n",
    "        x = self.fc3(x)\n",
    "        x = self.leakyrelu(x)\n",
    "        x = self.fc4(x)\n",
    "        x = self.leakyrelu(x)\n",
    "        x = self.fc5(x)\n",
    "        x = self.leakyrelu(x)\n",
    "        x = self.dropout(x)\n",
    "        x = self.fc6(x)\n",
    "\n",
    "        return x"
   ]
  },
  {
   "cell_type": "markdown",
   "metadata": {},
   "source": [
    "The next code block provides a basic overview of some of the tunable parameters. We encourage you to play around with these parameters to see what works better for this model architecture and dataset."
   ]
  },
  {
   "cell_type": "code",
   "execution_count": 8,
   "metadata": {},
   "outputs": [],
   "source": [
    "batch_size = 1000        \n",
    "learning_rate = 0.01\n",
    "num_epochs = 500\n",
    "test_data_size = 0.2            # Range 0-1. You may increase or decrease the recommended testing data size by updating this variable\n",
    "hidden_size = 128               # This represents the middle layer of the neural network. You may manually play around with the model architecture by adding more layers"
   ]
  },
  {
   "cell_type": "markdown",
   "metadata": {},
   "source": [
    "Let's initialize our model with the help of helper functions defined previously. You would also notice the `criterion` and `optimizer` variables that work differently for different tasks. Feel free to play around with them. \n",
    "\n",
    "For more information on loss functions and optimizers, visit:  \n",
    "- https://pytorch.org/docs/stable/nn.html#loss-functions     \n",
    "- https://pytorch.org/docs/stable/optim.html"
   ]
  },
  {
   "cell_type": "code",
   "execution_count": 9,
   "metadata": {},
   "outputs": [],
   "source": [
    "# Data loading calls to class and functions\n",
    "dataset = MyDataset(data_normalized)\n",
    "\n",
    "train_dataset, test_dataset = train_test_split(dataset, test_size=test_data_size, shuffle=False)\n",
    "train_loader = DataLoader(train_dataset, batch_size=batch_size, shuffle=True)\n",
    "test_loader = DataLoader(test_dataset, batch_size=batch_size, shuffle=False)\n",
    "\n",
    "# Initialzing the model with inputs\n",
    "input_size = len(dataset.features[0])\n",
    "output_size = len(dataset.labels[0])"
   ]
  },
  {
   "cell_type": "code",
   "execution_count": 10,
   "metadata": {},
   "outputs": [
    {
     "data": {
      "text/plain": [
       "MyModel1(\n",
       "  (flatten): Flatten(start_dim=1, end_dim=-1)\n",
       "  (linear_stack): Sequential(\n",
       "    (0): Linear(in_features=20, out_features=192, bias=True)\n",
       "    (1): LeakyReLU(negative_slope=0.5)\n",
       "    (2): Linear(in_features=192, out_features=96, bias=True)\n",
       "    (3): LeakyReLU(negative_slope=0.1)\n",
       "    (4): Linear(in_features=96, out_features=32, bias=True)\n",
       "    (5): LeakyReLU(negative_slope=0.05)\n",
       "    (6): Linear(in_features=32, out_features=12, bias=True)\n",
       "    (7): LeakyReLU(negative_slope=0.01)\n",
       "    (8): Linear(in_features=12, out_features=3, bias=True)\n",
       "    (9): LeakyReLU(negative_slope=0.01)\n",
       "  )\n",
       ")"
      ]
     },
     "execution_count": 10,
     "metadata": {},
     "output_type": "execute_result"
    }
   ],
   "source": [
    "model = MyModel1(input_size, hidden_size, output_size)\n",
    "# Try out different loss functions and optimizers to see what works with different tasks. \n",
    "criterion = nn.SmoothL1Loss()\n",
    "optimizer = optim.ASGD(model.parameters(), lr=learning_rate)     \n",
    "\n",
    "\"\"\"\n",
    "    If you have GPU resource available, the training process will be faster!\n",
    "    It's okay if you dont have a GPU. The code works without one as well. \n",
    "\"\"\"\n",
    "device = torch.device(\"cuda\" if torch.cuda.is_available() else \"cpu\")\n",
    "model.to(device)"
   ]
  },
  {
   "cell_type": "markdown",
   "metadata": {},
   "source": [
    "### 5. Model Training & Evaluation\n",
    "\n",
    "Let's train our data using the defined neural network. The notebook implements the training loop, where batches of data are fed into the model iteratively. During training, the model learns to optimize its parameters to minimize the defined loss function through backpropagation. Training hyperparameters, such as learning rate, batch size, and number of epochs, can be fine-tuned to achieve optimal performance.\n",
    "\n",
    "Following training, you will notice the evaluation block that evaluates the neural network's performance on a separate test dataset (not included in training) to assess its performance. \n",
    "\n",
    "Lastly, the `losses` dictionary is populated to visualize important metrics later in the notebook. "
   ]
  },
  {
   "cell_type": "code",
   "execution_count": 12,
   "metadata": {},
   "outputs": [
    {
     "name": "stdout",
     "output_type": "stream",
     "text": [
      "Epoch 1/500, Training Loss: 0.4223155297950846, Loss(SmoothL1Loss()): 0.41711838872959983\n",
      "Epoch 2/500, Training Loss: 0.41123002098090405, Loss(SmoothL1Loss()): 0.40520984364243656\n",
      "Epoch 3/500, Training Loss: 0.396513228615125, Loss(SmoothL1Loss()): 0.38956751946646434\n",
      "Epoch 4/500, Training Loss: 0.3779368054319695, Loss(SmoothL1Loss()): 0.3705384636727663\n",
      "Epoch 5/500, Training Loss: 0.3602690077634249, Loss(SmoothL1Loss()): 0.3552452649634618\n",
      "Epoch 6/500, Training Loss: 0.34976781926293304, Loss(SmoothL1Loss()): 0.34636995805284154\n",
      "Epoch 7/500, Training Loss: 0.34386203492033307, Loss(SmoothL1Loss()): 0.34067130884012353\n",
      "Epoch 8/500, Training Loss: 0.3398071603786542, Loss(SmoothL1Loss()): 0.3367710147912686\n",
      "Epoch 9/500, Training Loss: 0.33686744835641647, Loss(SmoothL1Loss()): 0.33406722201750827\n",
      "Epoch 10/500, Training Loss: 0.33471814100293146, Loss(SmoothL1Loss()): 0.33228883534096754\n",
      "Epoch 11/500, Training Loss: 0.33315309651807884, Loss(SmoothL1Loss()): 0.33119738954477584\n",
      "Epoch 12/500, Training Loss: 0.3319325637846177, Loss(SmoothL1Loss()): 0.3303338295708482\n",
      "Epoch 13/500, Training Loss: 0.3307586181998829, Loss(SmoothL1Loss()): 0.32954484102531123\n",
      "Epoch 14/500, Training Loss: 0.32949995001157123, Loss(SmoothL1Loss()): 0.3284070502536801\n",
      "Epoch 15/500, Training Loss: 0.3274485740972602, Loss(SmoothL1Loss()): 0.3257981838228611\n",
      "Epoch 16/500, Training Loss: 0.32285403579041577, Loss(SmoothL1Loss()): 0.31859640913227427\n",
      "Epoch 17/500, Training Loss: 0.311560732802907, Loss(SmoothL1Loss()): 0.3028128845617175\n",
      "Epoch 18/500, Training Loss: 0.2961608079320567, Loss(SmoothL1Loss()): 0.28899070964409757\n",
      "Epoch 19/500, Training Loss: 0.2859775099345451, Loss(SmoothL1Loss()): 0.28135468094394755\n",
      "Epoch 20/500, Training Loss: 0.27924873813050954, Loss(SmoothL1Loss()): 0.2747597835528163\n",
      "Epoch 21/500, Training Loss: 0.27304817642566664, Loss(SmoothL1Loss()): 0.2697222742896814\n",
      "Epoch 22/500, Training Loss: 0.2689478130300264, Loss(SmoothL1Loss()): 0.2676877114348687\n",
      "Epoch 23/500, Training Loss: 0.2670911108885986, Loss(SmoothL1Loss()): 0.26689733751118183\n",
      "Epoch 24/500, Training Loss: 0.265996307314594, Loss(SmoothL1Loss()): 0.2663007113867654\n",
      "Epoch 25/500, Training Loss: 0.2651867774013736, Loss(SmoothL1Loss()): 0.2657669815593041\n",
      "Epoch 26/500, Training Loss: 0.26457100512756815, Loss(SmoothL1Loss()): 0.26531006793419903\n",
      "Epoch 27/500, Training Loss: 0.26401660566168705, Loss(SmoothL1Loss()): 0.26506379361336047\n",
      "Epoch 28/500, Training Loss: 0.2635178149898271, Loss(SmoothL1Loss()): 0.26479395242551196\n",
      "Epoch 29/500, Training Loss: 0.26307051456060965, Loss(SmoothL1Loss()): 0.2644206339923235\n",
      "Epoch 30/500, Training Loss: 0.2626201631366343, Loss(SmoothL1Loss()): 0.26432898081839085\n",
      "Epoch 31/500, Training Loss: 0.26226057536936037, Loss(SmoothL1Loss()): 0.2641732254280494\n",
      "Epoch 32/500, Training Loss: 0.2619256150463353, Loss(SmoothL1Loss()): 0.26387882730565393\n",
      "Epoch 33/500, Training Loss: 0.26157895425235594, Loss(SmoothL1Loss()): 0.2636141855842792\n",
      "Epoch 34/500, Training Loss: 0.2612621819123554, Loss(SmoothL1Loss()): 0.26352050818073064\n",
      "Epoch 35/500, Training Loss: 0.2609707356795021, Loss(SmoothL1Loss()): 0.2632929800579754\n",
      "Epoch 36/500, Training Loss: 0.26067451725979357, Loss(SmoothL1Loss()): 0.2631305101542519\n",
      "Epoch 37/500, Training Loss: 0.26041349351118154, Loss(SmoothL1Loss()): 0.2629853784679793\n",
      "Epoch 38/500, Training Loss: 0.2601230250680504, Loss(SmoothL1Loss()): 0.2627318578485686\n",
      "Epoch 39/500, Training Loss: 0.25984172746179185, Loss(SmoothL1Loss()): 0.26278096344321966\n",
      "Epoch 40/500, Training Loss: 0.2595667027044987, Loss(SmoothL1Loss()): 0.2626407931630428\n",
      "Epoch 41/500, Training Loss: 0.25928360202174255, Loss(SmoothL1Loss()): 0.26249655106892955\n",
      "Epoch 42/500, Training Loss: 0.25904338752877887, Loss(SmoothL1Loss()): 0.2622932378704158\n",
      "Epoch 43/500, Training Loss: 0.2587902276700246, Loss(SmoothL1Loss()): 0.2622108581260993\n",
      "Epoch 44/500, Training Loss: 0.2585291845930947, Loss(SmoothL1Loss()): 0.26200046483427286\n",
      "Epoch 45/500, Training Loss: 0.2583518073610637, Loss(SmoothL1Loss()): 0.2620372029307943\n",
      "Epoch 46/500, Training Loss: 0.25809276201154874, Loss(SmoothL1Loss()): 0.26180156560328144\n",
      "Epoch 47/500, Training Loss: 0.2578495234466981, Loss(SmoothL1Loss()): 0.26195591401595336\n",
      "Epoch 48/500, Training Loss: 0.2575973914441279, Loss(SmoothL1Loss()): 0.26180682958175355\n",
      "Epoch 49/500, Training Loss: 0.2574086197908374, Loss(SmoothL1Loss()): 0.26156807902197426\n",
      "Epoch 50/500, Training Loss: 0.2571948136108509, Loss(SmoothL1Loss()): 0.2614743062653221\n",
      "Epoch 51/500, Training Loss: 0.25695866951044055, Loss(SmoothL1Loss()): 0.2613284336044811\n",
      "Epoch 52/500, Training Loss: 0.2567386008115206, Loss(SmoothL1Loss()): 0.26142767515893167\n",
      "Epoch 53/500, Training Loss: 0.2565338395643925, Loss(SmoothL1Loss()): 0.26116742290413153\n",
      "Epoch 54/500, Training Loss: 0.25632313865682355, Loss(SmoothL1Loss()): 0.26111966808541465\n",
      "Epoch 55/500, Training Loss: 0.25611094327796485, Loss(SmoothL1Loss()): 0.2611059771062663\n",
      "Epoch 56/500, Training Loss: 0.2558883293959254, Loss(SmoothL1Loss()): 0.26106214677341855\n",
      "Epoch 57/500, Training Loss: 0.25568221862189433, Loss(SmoothL1Loss()): 0.26092656472554576\n",
      "Epoch 58/500, Training Loss: 0.2555047676399134, Loss(SmoothL1Loss()): 0.26089367256141627\n",
      "Epoch 59/500, Training Loss: 0.25528982925962135, Loss(SmoothL1Loss()): 0.26086760702757883\n",
      "Epoch 60/500, Training Loss: 0.2551092400714971, Loss(SmoothL1Loss()): 0.26067724462168723\n",
      "Epoch 61/500, Training Loss: 0.25488575605522606, Loss(SmoothL1Loss()): 0.2607055359090177\n",
      "Epoch 62/500, Training Loss: 0.254701544445206, Loss(SmoothL1Loss()): 0.2604247539017636\n",
      "Epoch 63/500, Training Loss: 0.25449011676409394, Loss(SmoothL1Loss()): 0.2604092095548717\n",
      "Epoch 64/500, Training Loss: 0.2542988603601709, Loss(SmoothL1Loss()): 0.26069218561483115\n",
      "Epoch 65/500, Training Loss: 0.25408732189216476, Loss(SmoothL1Loss()): 0.2604552644591492\n",
      "Epoch 66/500, Training Loss: 0.25392264145727894, Loss(SmoothL1Loss()): 0.26020326673124844\n",
      "Epoch 67/500, Training Loss: 0.2537046606126039, Loss(SmoothL1Loss()): 0.26037131378856987\n",
      "Epoch 68/500, Training Loss: 0.2534857620867554, Loss(SmoothL1Loss()): 0.26014205483862984\n",
      "Epoch 69/500, Training Loss: 0.2533030108625186, Loss(SmoothL1Loss()): 0.2599833433229763\n",
      "Epoch 70/500, Training Loss: 0.2531088214493604, Loss(SmoothL1Loss()): 0.25998659034331256\n",
      "Epoch 71/500, Training Loss: 0.25293693990235167, Loss(SmoothL1Loss()): 0.2597627007903961\n",
      "Epoch 72/500, Training Loss: 0.2527302734661793, Loss(SmoothL1Loss()): 0.25985977601689786\n",
      "Epoch 73/500, Training Loss: 0.25250024409685734, Loss(SmoothL1Loss()): 0.25968269971557534\n",
      "Epoch 74/500, Training Loss: 0.2522978297826173, Loss(SmoothL1Loss()): 0.2597056789538608\n",
      "Epoch 75/500, Training Loss: 0.2520977692759555, Loss(SmoothL1Loss()): 0.2593349009895554\n",
      "Epoch 76/500, Training Loss: 0.2518897155560733, Loss(SmoothL1Loss()): 0.2593089428801949\n",
      "Epoch 77/500, Training Loss: 0.25168490463840787, Loss(SmoothL1Loss()): 0.25911508668930483\n",
      "Epoch 78/500, Training Loss: 0.25146906574567157, Loss(SmoothL1Loss()): 0.2590080485679209\n",
      "Epoch 79/500, Training Loss: 0.251242243581348, Loss(SmoothL1Loss()): 0.2588487238479921\n",
      "Epoch 80/500, Training Loss: 0.25103117820721316, Loss(SmoothL1Loss()): 0.25875089879935753\n",
      "Epoch 81/500, Training Loss: 0.2508188454065346, Loss(SmoothL1Loss()): 0.2587252954164377\n",
      "Epoch 82/500, Training Loss: 0.25060190602345167, Loss(SmoothL1Loss()): 0.258518617385282\n",
      "Epoch 83/500, Training Loss: 0.25038246648467105, Loss(SmoothL1Loss()): 0.25839004572480917\n",
      "Epoch 84/500, Training Loss: 0.2501291089155824, Loss(SmoothL1Loss()): 0.2581036569407353\n",
      "Epoch 85/500, Training Loss: 0.2498524690379843, Loss(SmoothL1Loss()): 0.25801694572258455\n",
      "Epoch 86/500, Training Loss: 0.24961889913116675, Loss(SmoothL1Loss()): 0.25767464011621016\n",
      "Epoch 87/500, Training Loss: 0.2493614005509782, Loss(SmoothL1Loss()): 0.2574581161427956\n",
      "Epoch 88/500, Training Loss: 0.24905971592463158, Loss(SmoothL1Loss()): 0.2572745787552916\n",
      "Epoch 89/500, Training Loss: 0.24878355320813, Loss(SmoothL1Loss()): 0.2570829069098601\n",
      "Epoch 90/500, Training Loss: 0.24848158891506242, Loss(SmoothL1Loss()): 0.2568388653274339\n",
      "Epoch 91/500, Training Loss: 0.24817717712426532, Loss(SmoothL1Loss()): 0.25651102925006014\n",
      "Epoch 92/500, Training Loss: 0.24786047903811875, Loss(SmoothL1Loss()): 0.2561923823176095\n",
      "Epoch 93/500, Training Loss: 0.2475231270427289, Loss(SmoothL1Loss()): 0.25625785619307023\n",
      "Epoch 94/500, Training Loss: 0.24713436866871977, Loss(SmoothL1Loss()): 0.2560233583745475\n",
      "Epoch 95/500, Training Loss: 0.24675956361247722, Loss(SmoothL1Loss()): 0.2553068231074856\n",
      "Epoch 96/500, Training Loss: 0.246341766078691, Loss(SmoothL1Loss()): 0.25484606272612625\n",
      "Epoch 97/500, Training Loss: 0.24587236229636242, Loss(SmoothL1Loss()): 0.25435256875621587\n",
      "Epoch 98/500, Training Loss: 0.24535696294860562, Loss(SmoothL1Loss()): 0.2542405870671456\n",
      "Epoch 99/500, Training Loss: 0.24484025928133352, Loss(SmoothL1Loss()): 0.25331384853388256\n",
      "Epoch 100/500, Training Loss: 0.24425626276195914, Loss(SmoothL1Loss()): 0.2526388789813679\n",
      "Epoch 101/500, Training Loss: 0.24361242796631827, Loss(SmoothL1Loss()): 0.25196511710349184\n",
      "Epoch 102/500, Training Loss: 0.24295713946871136, Loss(SmoothL1Loss()): 0.2518459547024507\n",
      "Epoch 103/500, Training Loss: 0.24216871884997915, Loss(SmoothL1Loss()): 0.2509454515977548\n",
      "Epoch 104/500, Training Loss: 0.24134061345155688, Loss(SmoothL1Loss()): 0.24960243565818438\n",
      "Epoch 105/500, Training Loss: 0.24036123474007068, Loss(SmoothL1Loss()): 0.2488257704445949\n",
      "Epoch 106/500, Training Loss: 0.2392406235066589, Loss(SmoothL1Loss()): 0.24743026838852808\n",
      "Epoch 107/500, Training Loss: 0.2379564516570257, Loss(SmoothL1Loss()): 0.24617310631303832\n",
      "Epoch 108/500, Training Loss: 0.2364989369387788, Loss(SmoothL1Loss()): 0.2441786241431076\n",
      "Epoch 109/500, Training Loss: 0.23475512102750187, Loss(SmoothL1Loss()): 0.24236287029746634\n",
      "Epoch 110/500, Training Loss: 0.2327265937043273, Loss(SmoothL1Loss()): 0.23986712252148068\n",
      "Epoch 111/500, Training Loss: 0.2303076148537046, Loss(SmoothL1Loss()): 0.23720856655675632\n",
      "Epoch 112/500, Training Loss: 0.22743721925406066, Loss(SmoothL1Loss()): 0.23395437446351236\n",
      "Epoch 113/500, Training Loss: 0.22402459523384122, Loss(SmoothL1Loss()): 0.22948720714507195\n",
      "Epoch 114/500, Training Loss: 0.21998578659146303, Loss(SmoothL1Loss()): 0.22502423110059822\n",
      "Epoch 115/500, Training Loss: 0.21528822500348668, Loss(SmoothL1Loss()): 0.21931882893953186\n",
      "Epoch 116/500, Training Loss: 0.21018145769690547, Loss(SmoothL1Loss()): 0.21426702118836916\n",
      "Epoch 117/500, Training Loss: 0.20517423025507858, Loss(SmoothL1Loss()): 0.20863810890855697\n",
      "Epoch 118/500, Training Loss: 0.20097447640222052, Loss(SmoothL1Loss()): 0.20526690498137704\n",
      "Epoch 119/500, Training Loss: 0.19776053733871754, Loss(SmoothL1Loss()): 0.20225631241471723\n",
      "Epoch 120/500, Training Loss: 0.19552565193262653, Loss(SmoothL1Loss()): 0.20025064760389236\n",
      "Epoch 121/500, Training Loss: 0.19402563885070276, Loss(SmoothL1Loss()): 0.1984268703068105\n",
      "Epoch 122/500, Training Loss: 0.19299754352817214, Loss(SmoothL1Loss()): 0.19815224294479078\n",
      "Epoch 123/500, Training Loss: 0.1922483821781937, Loss(SmoothL1Loss()): 0.19712982910613602\n",
      "Epoch 124/500, Training Loss: 0.1916476256677494, Loss(SmoothL1Loss()): 0.19652179936663464\n",
      "Epoch 125/500, Training Loss: 0.1910737632697331, Loss(SmoothL1Loss()): 0.19643328002152535\n",
      "Epoch 126/500, Training Loss: 0.1906133449235976, Loss(SmoothL1Loss()): 0.19648649296365106\n",
      "Epoch 127/500, Training Loss: 0.1902065698939245, Loss(SmoothL1Loss()): 0.19560576151483333\n",
      "Epoch 128/500, Training Loss: 0.18980789580494886, Loss(SmoothL1Loss()): 0.19507088830981117\n",
      "Epoch 129/500, Training Loss: 0.189418645620634, Loss(SmoothL1Loss()): 0.19508426665113524\n",
      "Epoch 130/500, Training Loss: 0.18905361716586036, Loss(SmoothL1Loss()): 0.19532163466255253\n",
      "Epoch 131/500, Training Loss: 0.1886846007788239, Loss(SmoothL1Loss()): 0.19467145641549274\n",
      "Epoch 132/500, Training Loss: 0.18833878812726568, Loss(SmoothL1Loss()): 0.19469790920042074\n",
      "Epoch 133/500, Training Loss: 0.18799471991937516, Loss(SmoothL1Loss()): 0.1946604883728119\n",
      "Epoch 134/500, Training Loss: 0.18763653062967864, Loss(SmoothL1Loss()): 0.19364980780161345\n",
      "Epoch 135/500, Training Loss: 0.1872907352188359, Loss(SmoothL1Loss()): 0.19452229478897956\n",
      "Epoch 136/500, Training Loss: 0.18695260555559887, Loss(SmoothL1Loss()): 0.1940389506590481\n",
      "Epoch 137/500, Training Loss: 0.18662209466891588, Loss(SmoothL1Loss()): 0.19336568761187103\n",
      "Epoch 138/500, Training Loss: 0.18627726095886046, Loss(SmoothL1Loss()): 0.1933065916125018\n",
      "Epoch 139/500, Training Loss: 0.18590951944894837, Loss(SmoothL1Loss()): 0.19250816493653333\n",
      "Epoch 140/500, Training Loss: 0.18551292414394555, Loss(SmoothL1Loss()): 0.19256915173564965\n",
      "Epoch 141/500, Training Loss: 0.1851589846726201, Loss(SmoothL1Loss()): 0.1920925395993086\n",
      "Epoch 142/500, Training Loss: 0.18474637878977734, Loss(SmoothL1Loss()): 0.19210845407528374\n",
      "Epoch 143/500, Training Loss: 0.18433151530902742, Loss(SmoothL1Loss()): 0.1909300689943708\n",
      "Epoch 144/500, Training Loss: 0.1839265903988898, Loss(SmoothL1Loss()): 0.19107924656082803\n",
      "Epoch 145/500, Training Loss: 0.18342945789513382, Loss(SmoothL1Loss()): 0.19003051426261663\n",
      "Epoch 146/500, Training Loss: 0.18294681486300224, Loss(SmoothL1Loss()): 0.18998963392984408\n",
      "Epoch 147/500, Training Loss: 0.18245282355282041, Loss(SmoothL1Loss()): 0.18911630835813972\n",
      "Epoch 148/500, Training Loss: 0.18192580432275643, Loss(SmoothL1Loss()): 0.18933415746029753\n",
      "Epoch 149/500, Training Loss: 0.18132750142887594, Loss(SmoothL1Loss()): 0.1885485893401962\n",
      "Epoch 150/500, Training Loss: 0.18072880736151756, Loss(SmoothL1Loss()): 0.18835360918623897\n",
      "Epoch 151/500, Training Loss: 0.18013119632783142, Loss(SmoothL1Loss()): 0.18707010780389494\n",
      "Epoch 152/500, Training Loss: 0.17941331856204693, Loss(SmoothL1Loss()): 0.18666437207362974\n",
      "Epoch 153/500, Training Loss: 0.1787107219370667, Loss(SmoothL1Loss()): 0.18586814840539143\n",
      "Epoch 154/500, Training Loss: 0.17790433220961244, Loss(SmoothL1Loss()): 0.18440782110421702\n",
      "Epoch 155/500, Training Loss: 0.17705223950498922, Loss(SmoothL1Loss()): 0.184642504578313\n",
      "Epoch 156/500, Training Loss: 0.1761078177658832, Loss(SmoothL1Loss()): 0.18331128645401734\n",
      "Epoch 157/500, Training Loss: 0.17511063148290062, Loss(SmoothL1Loss()): 0.18188850080164579\n",
      "Epoch 158/500, Training Loss: 0.17403461632953174, Loss(SmoothL1Loss()): 0.1814186479896307\n",
      "Epoch 159/500, Training Loss: 0.17285353755173477, Loss(SmoothL1Loss()): 0.17940396213760743\n",
      "Epoch 160/500, Training Loss: 0.17155054301599373, Loss(SmoothL1Loss()): 0.17779015065529025\n",
      "Epoch 161/500, Training Loss: 0.17013659846523535, Loss(SmoothL1Loss()): 0.1775383032643451\n",
      "Epoch 162/500, Training Loss: 0.1685987730389056, Loss(SmoothL1Loss()): 0.17526973633525464\n",
      "Epoch 163/500, Training Loss: 0.16693767462519632, Loss(SmoothL1Loss()): 0.1728968983874298\n",
      "Epoch 164/500, Training Loss: 0.16509083485689716, Loss(SmoothL1Loss()): 0.17110947268800095\n",
      "Epoch 165/500, Training Loss: 0.16312066051695082, Loss(SmoothL1Loss()): 0.16916411495409334\n",
      "Epoch 166/500, Training Loss: 0.16099073935822011, Loss(SmoothL1Loss()): 0.16731095174327493\n",
      "Epoch 167/500, Training Loss: 0.1586756535630295, Loss(SmoothL1Loss()): 0.1648972677783324\n",
      "Epoch 168/500, Training Loss: 0.1562533518254469, Loss(SmoothL1Loss()): 0.16190519133725992\n",
      "Epoch 169/500, Training Loss: 0.15371056153002569, Loss(SmoothL1Loss()): 0.15912253123063308\n",
      "Epoch 170/500, Training Loss: 0.15106482274722363, Loss(SmoothL1Loss()): 0.15662696234022194\n",
      "Epoch 171/500, Training Loss: 0.14840174102840792, Loss(SmoothL1Loss()): 0.15456839529081032\n",
      "Epoch 172/500, Training Loss: 0.1457599921574915, Loss(SmoothL1Loss()): 0.15194786279104078\n",
      "Epoch 173/500, Training Loss: 0.14324945538948122, Loss(SmoothL1Loss()): 0.1500282987880592\n",
      "Epoch 174/500, Training Loss: 0.140892730962827, Loss(SmoothL1Loss()): 0.1473065297692441\n",
      "Epoch 175/500, Training Loss: 0.1387330809077203, Loss(SmoothL1Loss()): 0.14659148300639713\n",
      "Epoch 176/500, Training Loss: 0.1367862846540368, Loss(SmoothL1Loss()): 0.14420999575836155\n",
      "Epoch 177/500, Training Loss: 0.13505513240821695, Loss(SmoothL1Loss()): 0.14282461098180368\n",
      "Epoch 178/500, Training Loss: 0.133564289479296, Loss(SmoothL1Loss()): 0.14119572278398734\n",
      "Epoch 179/500, Training Loss: 0.13227697085715145, Loss(SmoothL1Loss()): 0.14008706195566517\n",
      "Epoch 180/500, Training Loss: 0.13117957871029343, Loss(SmoothL1Loss()): 0.13970234485056537\n",
      "Epoch 181/500, Training Loss: 0.13020365570046474, Loss(SmoothL1Loss()): 0.13852344148863965\n",
      "Epoch 182/500, Training Loss: 0.12933428266990013, Loss(SmoothL1Loss()): 0.13813294781945074\n",
      "Epoch 183/500, Training Loss: 0.1286310696983395, Loss(SmoothL1Loss()): 0.13812663947017148\n",
      "Epoch 184/500, Training Loss: 0.12793267619062737, Loss(SmoothL1Loss()): 0.13626190017049128\n",
      "Epoch 185/500, Training Loss: 0.12736581075162703, Loss(SmoothL1Loss()): 0.1369471731595695\n",
      "Epoch 186/500, Training Loss: 0.12681436191362458, Loss(SmoothL1Loss()): 0.1380188552161249\n",
      "Epoch 187/500, Training Loss: 0.1263241724151632, Loss(SmoothL1Loss()): 0.13664213116638935\n",
      "Epoch 188/500, Training Loss: 0.12587818596961994, Loss(SmoothL1Loss()): 0.1353401390190881\n",
      "Epoch 189/500, Training Loss: 0.12546389094657368, Loss(SmoothL1Loss()): 0.1363859144755854\n",
      "Epoch 190/500, Training Loss: 0.12505832174118015, Loss(SmoothL1Loss()): 0.13469537200692755\n",
      "Epoch 191/500, Training Loss: 0.12468865704565232, Loss(SmoothL1Loss()): 0.13428614750647774\n",
      "Epoch 192/500, Training Loss: 0.12433329660103516, Loss(SmoothL1Loss()): 0.13413546635554388\n",
      "Epoch 193/500, Training Loss: 0.12403099422437558, Loss(SmoothL1Loss()): 0.1335632366558107\n",
      "Epoch 194/500, Training Loss: 0.12371422271221733, Loss(SmoothL1Loss()): 0.133668367500202\n",
      "Epoch 195/500, Training Loss: 0.12342407910720161, Loss(SmoothL1Loss()): 0.13373103408286205\n",
      "Epoch 196/500, Training Loss: 0.12315574835463998, Loss(SmoothL1Loss()): 0.13403514142219836\n",
      "Epoch 197/500, Training Loss: 0.12287777001803048, Loss(SmoothL1Loss()): 0.13354513160167977\n",
      "Epoch 198/500, Training Loss: 0.12264496953663043, Loss(SmoothL1Loss()): 0.133515277161048\n",
      "Epoch 199/500, Training Loss: 0.12235319470437829, Loss(SmoothL1Loss()): 0.1335102733439551\n",
      "Epoch 200/500, Training Loss: 0.12213097084403614, Loss(SmoothL1Loss()): 0.1331202880694316\n",
      "Epoch 201/500, Training Loss: 0.12186761675537497, Loss(SmoothL1Loss()): 0.13394400180102542\n",
      "Epoch 202/500, Training Loss: 0.12163271535421916, Loss(SmoothL1Loss()): 0.1328128232047535\n",
      "Epoch 203/500, Training Loss: 0.12140072590630988, Loss(SmoothL1Loss()): 0.13199179938349587\n",
      "Epoch 204/500, Training Loss: 0.12115019381694171, Loss(SmoothL1Loss()): 0.13244138264025634\n",
      "Epoch 205/500, Training Loss: 0.12092422055089531, Loss(SmoothL1Loss()): 0.13273500486348683\n",
      "Epoch 206/500, Training Loss: 0.12068336545197283, Loss(SmoothL1Loss()): 0.13279556705114934\n",
      "Epoch 207/500, Training Loss: 0.1204662864514883, Loss(SmoothL1Loss()): 0.1314939116127789\n",
      "Epoch 208/500, Training Loss: 0.12021148390168153, Loss(SmoothL1Loss()): 0.13073459468208826\n",
      "Epoch 209/500, Training Loss: 0.11998729890095439, Loss(SmoothL1Loss()): 0.13126625657941288\n",
      "Epoch 210/500, Training Loss: 0.11973274619754962, Loss(SmoothL1Loss()): 0.13041979522229388\n",
      "Epoch 211/500, Training Loss: 0.11950297655474737, Loss(SmoothL1Loss()): 0.1307848238457854\n",
      "Epoch 212/500, Training Loss: 0.11926336645864058, Loss(SmoothL1Loss()): 0.13134208629624203\n",
      "Epoch 213/500, Training Loss: 0.1189861036117238, Loss(SmoothL1Loss()): 0.1302136552448456\n",
      "Epoch 214/500, Training Loss: 0.11873745189412781, Loss(SmoothL1Loss()): 0.129344683033056\n",
      "Epoch 215/500, Training Loss: 0.11846870484487446, Loss(SmoothL1Loss()): 0.12978761535711014\n",
      "Epoch 216/500, Training Loss: 0.1181743466767712, Loss(SmoothL1Loss()): 0.12992346401397997\n",
      "Epoch 217/500, Training Loss: 0.1178898262804833, Loss(SmoothL1Loss()): 0.12913619193176812\n",
      "Epoch 218/500, Training Loss: 0.11760448941574005, Loss(SmoothL1Loss()): 0.1280320557550742\n",
      "Epoch 219/500, Training Loss: 0.11728135098653715, Loss(SmoothL1Loss()): 0.12889436460458314\n",
      "Epoch 220/500, Training Loss: 0.11696323117124285, Loss(SmoothL1Loss()): 0.127800800336095\n",
      "Epoch 221/500, Training Loss: 0.11661286229168735, Loss(SmoothL1Loss()): 0.127509966170272\n",
      "Epoch 222/500, Training Loss: 0.1162925589343776, Loss(SmoothL1Loss()): 0.12785285242045155\n",
      "Epoch 223/500, Training Loss: 0.11589555744675623, Loss(SmoothL1Loss()): 0.1282699482085613\n",
      "Epoch 224/500, Training Loss: 0.11552645649383034, Loss(SmoothL1Loss()): 0.12674398759666544\n",
      "Epoch 225/500, Training Loss: 0.11512899485187254, Loss(SmoothL1Loss()): 0.12557844817638397\n",
      "Epoch 226/500, Training Loss: 0.11473273797239658, Loss(SmoothL1Loss()): 0.12573296207791337\n",
      "Epoch 227/500, Training Loss: 0.11429551835869245, Loss(SmoothL1Loss()): 0.12503810341541582\n",
      "Epoch 228/500, Training Loss: 0.11383423295573912, Loss(SmoothL1Loss()): 0.12552049265314752\n",
      "Epoch 229/500, Training Loss: 0.11332484969986234, Loss(SmoothL1Loss()): 0.12472678448718327\n",
      "Epoch 230/500, Training Loss: 0.11282566369731645, Loss(SmoothL1Loss()): 0.12438904279126571\n",
      "Epoch 231/500, Training Loss: 0.11227237749934772, Loss(SmoothL1Loss()): 0.1229640910616861\n",
      "Epoch 232/500, Training Loss: 0.11171049387126729, Loss(SmoothL1Loss()): 0.12176086330929628\n",
      "Epoch 233/500, Training Loss: 0.11111003732767658, Loss(SmoothL1Loss()): 0.12147930432827427\n",
      "Epoch 234/500, Training Loss: 0.11048352360221499, Loss(SmoothL1Loss()): 0.12132317293435335\n",
      "Epoch 235/500, Training Loss: 0.1098440884464029, Loss(SmoothL1Loss()): 0.12043519952119543\n",
      "Epoch 236/500, Training Loss: 0.10917755300943978, Loss(SmoothL1Loss()): 0.11893493581849796\n",
      "Epoch 237/500, Training Loss: 0.10846674186739945, Loss(SmoothL1Loss()): 0.11919418167179593\n",
      "Epoch 238/500, Training Loss: 0.10778156138848567, Loss(SmoothL1Loss()): 0.11845254249727497\n",
      "Epoch 239/500, Training Loss: 0.10704007028525578, Loss(SmoothL1Loss()): 0.11837363343399304\n",
      "Epoch 240/500, Training Loss: 0.10627794616680214, Loss(SmoothL1Loss()): 0.11811248961692819\n",
      "Epoch 241/500, Training Loss: 0.10549588771401971, Loss(SmoothL1Loss()): 0.11619324953510211\n",
      "Epoch 242/500, Training Loss: 0.10470910813065543, Loss(SmoothL1Loss()): 0.11428590036498812\n",
      "Epoch 243/500, Training Loss: 0.10391556901704287, Loss(SmoothL1Loss()): 0.1149145275927507\n",
      "Epoch 244/500, Training Loss: 0.10311637439085665, Loss(SmoothL1Loss()): 0.11197198619349645\n",
      "Epoch 245/500, Training Loss: 0.10231938265300028, Loss(SmoothL1Loss()): 0.11164850009103808\n",
      "Epoch 246/500, Training Loss: 0.10154611975458509, Loss(SmoothL1Loss()): 0.11208756174892187\n",
      "Epoch 247/500, Training Loss: 0.10077598482226403, Loss(SmoothL1Loss()): 0.10907113874474397\n",
      "Epoch 248/500, Training Loss: 0.10000076132336101, Loss(SmoothL1Loss()): 0.11029703641095413\n",
      "Epoch 249/500, Training Loss: 0.09926618560068849, Loss(SmoothL1Loss()): 0.10854695026332942\n",
      "Epoch 250/500, Training Loss: 0.09855290297148885, Loss(SmoothL1Loss()): 0.10691320194074741\n",
      "Epoch 251/500, Training Loss: 0.09785977587247817, Loss(SmoothL1Loss()): 0.10682956679151036\n",
      "Epoch 252/500, Training Loss: 0.09720812194445283, Loss(SmoothL1Loss()): 0.10555964382365346\n",
      "Epoch 253/500, Training Loss: 0.09656350368606871, Loss(SmoothL1Loss()): 0.10571424740080076\n",
      "Epoch 254/500, Training Loss: 0.09595542392077078, Loss(SmoothL1Loss()): 0.10707078053830908\n",
      "Epoch 255/500, Training Loss: 0.09536288962991918, Loss(SmoothL1Loss()): 0.10480914101935923\n",
      "Epoch 256/500, Training Loss: 0.09481824417980973, Loss(SmoothL1Loss()): 0.10328198584298101\n",
      "Epoch 257/500, Training Loss: 0.09428842027406185, Loss(SmoothL1Loss()): 0.10428559642213468\n",
      "Epoch 258/500, Training Loss: 0.0937382115798008, Loss(SmoothL1Loss()): 0.10282581265514287\n",
      "Epoch 259/500, Training Loss: 0.09324296355103524, Loss(SmoothL1Loss()): 0.10462430579802738\n",
      "Epoch 260/500, Training Loss: 0.09280189720616824, Loss(SmoothL1Loss()): 0.1015323550762752\n",
      "Epoch 261/500, Training Loss: 0.09227719057153388, Loss(SmoothL1Loss()): 0.1017752829222725\n",
      "Epoch 262/500, Training Loss: 0.09184846663532625, Loss(SmoothL1Loss()): 0.10210536705115093\n",
      "Epoch 263/500, Training Loss: 0.09137451042227698, Loss(SmoothL1Loss()): 0.10027623142545614\n",
      "Epoch 264/500, Training Loss: 0.09095311020883386, Loss(SmoothL1Loss()): 0.09997263719112827\n",
      "Epoch 265/500, Training Loss: 0.0905701063465381, Loss(SmoothL1Loss()): 0.09925288359562938\n",
      "Epoch 266/500, Training Loss: 0.0901802583521115, Loss(SmoothL1Loss()): 0.09817996667698026\n",
      "Epoch 267/500, Training Loss: 0.08980118177363262, Loss(SmoothL1Loss()): 0.09916100119097301\n",
      "Epoch 268/500, Training Loss: 0.08945397602547193, Loss(SmoothL1Loss()): 0.10234371782280505\n",
      "Epoch 269/500, Training Loss: 0.08914105263021257, Loss(SmoothL1Loss()): 0.10055051278322935\n",
      "Epoch 270/500, Training Loss: 0.08873641242583592, Loss(SmoothL1Loss()): 0.09628668355827148\n",
      "Epoch 271/500, Training Loss: 0.08850590240408257, Loss(SmoothL1Loss()): 0.10320928372227801\n",
      "Epoch 272/500, Training Loss: 0.08818469097576856, Loss(SmoothL1Loss()): 0.09684318146453454\n",
      "Epoch 273/500, Training Loss: 0.0877898516682323, Loss(SmoothL1Loss()): 0.09573581547906193\n",
      "Epoch 274/500, Training Loss: 0.08771775000625187, Loss(SmoothL1Loss()): 0.09513566311663733\n",
      "Epoch 275/500, Training Loss: 0.087230846663748, Loss(SmoothL1Loss()): 0.09715585503727198\n",
      "Epoch 276/500, Training Loss: 0.08697894352357745, Loss(SmoothL1Loss()): 0.09551346857244006\n",
      "Epoch 277/500, Training Loss: 0.08682123398867206, Loss(SmoothL1Loss()): 0.09857390104578091\n",
      "Epoch 278/500, Training Loss: 0.0866276648633434, Loss(SmoothL1Loss()): 0.09602830564388289\n",
      "Epoch 279/500, Training Loss: 0.08633331625141959, Loss(SmoothL1Loss()): 0.09295347986671214\n",
      "Epoch 280/500, Training Loss: 0.08633477989458231, Loss(SmoothL1Loss()): 0.09358419660622111\n",
      "Epoch 281/500, Training Loss: 0.08623421940826563, Loss(SmoothL1Loss()): 0.09280443986734518\n",
      "Epoch 282/500, Training Loss: 0.08619113676789877, Loss(SmoothL1Loss()): 0.097795868686472\n",
      "Epoch 283/500, Training Loss: 0.08614238709715254, Loss(SmoothL1Loss()): 0.10074446841071431\n",
      "Epoch 284/500, Training Loss: 0.08588655922867826, Loss(SmoothL1Loss()): 0.09544165715431938\n",
      "Epoch 285/500, Training Loss: 0.08566282263052637, Loss(SmoothL1Loss()): 0.09885894204489887\n",
      "Epoch 286/500, Training Loss: 0.08563821563038274, Loss(SmoothL1Loss()): 0.09180625171687168\n",
      "Epoch 287/500, Training Loss: 0.08512705263956158, Loss(SmoothL1Loss()): 0.09724306981437482\n",
      "Epoch 288/500, Training Loss: 0.08495949698243165, Loss(SmoothL1Loss()): 0.09710637739716241\n",
      "Epoch 289/500, Training Loss: 0.08529769640037979, Loss(SmoothL1Loss()): 0.09571660412117265\n",
      "Epoch 290/500, Training Loss: 0.08452837250154951, Loss(SmoothL1Loss()): 0.09711272604405306\n",
      "Epoch 291/500, Training Loss: 0.08471018016554308, Loss(SmoothL1Loss()): 0.09245867244541071\n",
      "Epoch 292/500, Training Loss: 0.08425414371461684, Loss(SmoothL1Loss()): 0.09611456495566437\n",
      "Epoch 293/500, Training Loss: 0.08447747254645191, Loss(SmoothL1Loss()): 0.09816686586978343\n",
      "Epoch 294/500, Training Loss: 0.08394385728499164, Loss(SmoothL1Loss()): 0.10050006330801317\n",
      "Epoch 295/500, Training Loss: 0.08364530533984088, Loss(SmoothL1Loss()): 0.0915510781431714\n",
      "Epoch 296/500, Training Loss: 0.08382231835725802, Loss(SmoothL1Loss()): 0.0921794066671282\n",
      "Epoch 297/500, Training Loss: 0.08342281964738012, Loss(SmoothL1Loss()): 0.0969374229809126\n",
      "Epoch 298/500, Training Loss: 0.08332375257055541, Loss(SmoothL1Loss()): 0.0962400018201711\n",
      "Epoch 299/500, Training Loss: 0.08315398135550932, Loss(SmoothL1Loss()): 0.09529497701889621\n",
      "Epoch 300/500, Training Loss: 0.08298446930908926, Loss(SmoothL1Loss()): 0.09006643755576359\n",
      "Epoch 301/500, Training Loss: 0.08278516311072497, Loss(SmoothL1Loss()): 0.09009639295534445\n",
      "Epoch 302/500, Training Loss: 0.08281919765083687, Loss(SmoothL1Loss()): 0.09095925578059486\n",
      "Epoch 303/500, Training Loss: 0.0824714728815544, Loss(SmoothL1Loss()): 0.10149996487710339\n",
      "Epoch 304/500, Training Loss: 0.0822427122525259, Loss(SmoothL1Loss()): 0.09930942506672671\n",
      "Epoch 305/500, Training Loss: 0.08221713100798464, Loss(SmoothL1Loss()): 0.09721842110873415\n",
      "Epoch 306/500, Training Loss: 0.08177450560213287, Loss(SmoothL1Loss()): 0.09194992222966483\n",
      "Epoch 307/500, Training Loss: 0.08214612647099195, Loss(SmoothL1Loss()): 0.10130624202653192\n",
      "Epoch 308/500, Training Loss: 0.08191259145952653, Loss(SmoothL1Loss()): 0.08831373000374207\n",
      "Epoch 309/500, Training Loss: 0.08142817985032491, Loss(SmoothL1Loss()): 0.08815811715948467\n",
      "Epoch 310/500, Training Loss: 0.08138629043663757, Loss(SmoothL1Loss()): 0.0876302848605869\n",
      "Epoch 311/500, Training Loss: 0.08135056198723074, Loss(SmoothL1Loss()): 0.08934758979683885\n",
      "Epoch 312/500, Training Loss: 0.08110022422484153, Loss(SmoothL1Loss()): 0.08854296753326288\n",
      "Epoch 313/500, Training Loss: 0.08104925267938254, Loss(SmoothL1Loss()): 0.08732813120318147\n",
      "Epoch 314/500, Training Loss: 0.08100925625306396, Loss(SmoothL1Loss()): 0.08830867546538894\n",
      "Epoch 315/500, Training Loss: 0.08064190319914749, Loss(SmoothL1Loss()): 0.10097976356673126\n",
      "Epoch 316/500, Training Loss: 0.08024569379462712, Loss(SmoothL1Loss()): 0.0952806645968499\n",
      "Epoch 317/500, Training Loss: 0.08006984988848369, Loss(SmoothL1Loss()): 0.09496993517789704\n",
      "Epoch 318/500, Training Loss: 0.0804099167206725, Loss(SmoothL1Loss()): 0.08714318160827343\n",
      "Epoch 319/500, Training Loss: 0.08016302010071451, Loss(SmoothL1Loss()): 0.08803938828910199\n",
      "Epoch 320/500, Training Loss: 0.0801763633347076, Loss(SmoothL1Loss()): 0.09056590305856214\n",
      "Epoch 321/500, Training Loss: 0.07959174152445678, Loss(SmoothL1Loss()): 0.0880027137374362\n",
      "Epoch 322/500, Training Loss: 0.0795470969616503, Loss(SmoothL1Loss()): 0.10352197275138818\n",
      "Epoch 323/500, Training Loss: 0.07981953818512999, Loss(SmoothL1Loss()): 0.1024002915678116\n",
      "Epoch 324/500, Training Loss: 0.0794197148171024, Loss(SmoothL1Loss()): 0.0938866210814852\n",
      "Epoch 325/500, Training Loss: 0.07949087916364993, Loss(SmoothL1Loss()): 0.08684257124192439\n",
      "Epoch 326/500, Training Loss: 0.07941411399610952, Loss(SmoothL1Loss()): 0.0856457817224929\n",
      "Epoch 327/500, Training Loss: 0.07878436968810316, Loss(SmoothL1Loss()): 0.08570651380488506\n",
      "Epoch 328/500, Training Loss: 0.07942180511888099, Loss(SmoothL1Loss()): 0.0858962104942363\n",
      "Epoch 329/500, Training Loss: 0.07874170276853773, Loss(SmoothL1Loss()): 0.0857123163027259\n",
      "Epoch 330/500, Training Loss: 0.07874233192867702, Loss(SmoothL1Loss()): 0.08598822260347123\n",
      "Epoch 331/500, Training Loss: 0.07870628026084624, Loss(SmoothL1Loss()): 0.10050539744014923\n",
      "Epoch 332/500, Training Loss: 0.07842686558187296, Loss(SmoothL1Loss()): 0.09336423447642189\n",
      "Epoch 333/500, Training Loss: 0.07837845557841702, Loss(SmoothL1Loss()): 0.08625925301860732\n",
      "Epoch 334/500, Training Loss: 0.07851727209661317, Loss(SmoothL1Loss()): 0.09206992382398592\n",
      "Epoch 335/500, Training Loss: 0.078330900196148, Loss(SmoothL1Loss()): 0.0873546392764323\n",
      "Epoch 336/500, Training Loss: 0.0780096695115025, Loss(SmoothL1Loss()): 0.08535268315329002\n",
      "Epoch 337/500, Training Loss: 0.07767445900014057, Loss(SmoothL1Loss()): 0.09224090995625235\n",
      "Epoch 338/500, Training Loss: 0.07809948743037555, Loss(SmoothL1Loss()): 0.08515925184250452\n",
      "Epoch 339/500, Training Loss: 0.0776733669321894, Loss(SmoothL1Loss()): 0.08769571512507704\n",
      "Epoch 340/500, Training Loss: 0.07734503809380647, Loss(SmoothL1Loss()): 0.09368700876187247\n",
      "Epoch 341/500, Training Loss: 0.07732878999721601, Loss(SmoothL1Loss()): 0.09067152582037334\n",
      "Epoch 342/500, Training Loss: 0.0774492919984935, Loss(SmoothL1Loss()): 0.09609560408772758\n",
      "Epoch 343/500, Training Loss: 0.07724009421856506, Loss(SmoothL1Loss()): 0.08491066212837513\n",
      "Epoch 344/500, Training Loss: 0.07731657568815249, Loss(SmoothL1Loss()): 0.09561467878162287\n",
      "Epoch 345/500, Training Loss: 0.07696702471677808, Loss(SmoothL1Loss()): 0.09431037131267098\n",
      "Epoch 346/500, Training Loss: 0.07748845925077724, Loss(SmoothL1Loss()): 0.08429440399273656\n",
      "Epoch 347/500, Training Loss: 0.07661579848055679, Loss(SmoothL1Loss()): 0.08495973319245073\n",
      "Epoch 348/500, Training Loss: 0.0767206734109328, Loss(SmoothL1Loss()): 0.08697920192319614\n",
      "Epoch 349/500, Training Loss: 0.07628850804434882, Loss(SmoothL1Loss()): 0.08777639681759936\n",
      "Epoch 350/500, Training Loss: 0.07678911732374757, Loss(SmoothL1Loss()): 0.0894378402736038\n",
      "Epoch 351/500, Training Loss: 0.0765044228286271, Loss(SmoothL1Loss()): 0.0916879098289288\n",
      "Epoch 352/500, Training Loss: 0.07656552840546134, Loss(SmoothL1Loss()): 0.09107233601837204\n",
      "Epoch 353/500, Training Loss: 0.07657628648594958, Loss(SmoothL1Loss()): 0.09904227155045821\n",
      "Epoch 354/500, Training Loss: 0.076463188994046, Loss(SmoothL1Loss()): 0.08367952883530122\n",
      "Epoch 355/500, Training Loss: 0.07594555540793184, Loss(SmoothL1Loss()): 0.09577679669914338\n",
      "Epoch 356/500, Training Loss: 0.0762114011399124, Loss(SmoothL1Loss()): 0.08473547610740823\n",
      "Epoch 357/500, Training Loss: 0.07598501578837201, Loss(SmoothL1Loss()): 0.09087532522300115\n",
      "Epoch 358/500, Training Loss: 0.07595849083961496, Loss(SmoothL1Loss()): 0.0935948253967441\n",
      "Epoch 359/500, Training Loss: 0.07526877952586626, Loss(SmoothL1Loss()): 0.08814582577906549\n",
      "Epoch 360/500, Training Loss: 0.07577625168982335, Loss(SmoothL1Loss()): 0.08382325560355988\n",
      "Epoch 361/500, Training Loss: 0.07581924265565504, Loss(SmoothL1Loss()): 0.08471104685360423\n",
      "Epoch 362/500, Training Loss: 0.07518975969385985, Loss(SmoothL1Loss()): 0.08772850702874936\n",
      "Epoch 363/500, Training Loss: 0.07577827414452741, Loss(SmoothL1Loss()): 0.08725674190701774\n",
      "Epoch 364/500, Training Loss: 0.07545868742869095, Loss(SmoothL1Loss()): 0.0843331205407874\n",
      "Epoch 365/500, Training Loss: 0.07518413745694691, Loss(SmoothL1Loss()): 0.08344056634590603\n",
      "Epoch 366/500, Training Loss: 0.07515763052275791, Loss(SmoothL1Loss()): 0.08459328639750871\n",
      "Epoch 367/500, Training Loss: 0.07541136128674959, Loss(SmoothL1Loss()): 0.08276648724523301\n",
      "Epoch 368/500, Training Loss: 0.07453504102169603, Loss(SmoothL1Loss()): 0.08449023405018334\n",
      "Epoch 369/500, Training Loss: 0.07529702532478577, Loss(SmoothL1Loss()): 0.08268708511828803\n",
      "Epoch 370/500, Training Loss: 0.07482453725404209, Loss(SmoothL1Loss()): 0.08413434247128092\n",
      "Epoch 371/500, Training Loss: 0.07480213546378602, Loss(SmoothL1Loss()): 0.09344668215355621\n",
      "Epoch 372/500, Training Loss: 0.07488253741448628, Loss(SmoothL1Loss()): 0.08318950160621451\n",
      "Epoch 373/500, Training Loss: 0.07446371308631367, Loss(SmoothL1Loss()): 0.09602794099527483\n",
      "Epoch 374/500, Training Loss: 0.0746384620450545, Loss(SmoothL1Loss()): 0.09865682461084081\n",
      "Epoch 375/500, Training Loss: 0.07456286670865069, Loss(SmoothL1Loss()): 0.0821277999605697\n",
      "Epoch 376/500, Training Loss: 0.07446388318990739, Loss(SmoothL1Loss()): 0.08426914546782008\n",
      "Epoch 377/500, Training Loss: 0.0740156636217942, Loss(SmoothL1Loss()): 0.08517285432809821\n",
      "Epoch 378/500, Training Loss: 0.07434799187425253, Loss(SmoothL1Loss()): 0.08303899070821129\n",
      "Epoch 379/500, Training Loss: 0.07413908518886797, Loss(SmoothL1Loss()): 0.08963669788164015\n",
      "Epoch 380/500, Training Loss: 0.07375179634290041, Loss(SmoothL1Loss()): 0.08515149023598777\n",
      "Epoch 381/500, Training Loss: 0.07441459543967016, Loss(SmoothL1Loss()): 0.08266914823952203\n",
      "Epoch 382/500, Training Loss: 0.0740954006711642, Loss(SmoothL1Loss()): 0.08223062502936675\n",
      "Epoch 383/500, Training Loss: 0.07377987844500565, Loss(SmoothL1Loss()): 0.08374365454969498\n",
      "Epoch 384/500, Training Loss: 0.07365683135059145, Loss(SmoothL1Loss()): 0.09433927764901175\n",
      "Epoch 385/500, Training Loss: 0.07389196838085778, Loss(SmoothL1Loss()): 0.08589746086643292\n",
      "Epoch 386/500, Training Loss: 0.07386331447368659, Loss(SmoothL1Loss()): 0.08211686883050089\n",
      "Epoch 387/500, Training Loss: 0.07362247393399045, Loss(SmoothL1Loss()): 0.08249091618479444\n",
      "Epoch 388/500, Training Loss: 0.0736562863064273, Loss(SmoothL1Loss()): 0.08280589601669747\n",
      "Epoch 389/500, Training Loss: 0.0736948855329251, Loss(SmoothL1Loss()): 0.0843925888542659\n",
      "Epoch 390/500, Training Loss: 0.07371132540098135, Loss(SmoothL1Loss()): 0.08594478061422706\n",
      "Epoch 391/500, Training Loss: 0.07332621507598582, Loss(SmoothL1Loss()): 0.0862495457001317\n",
      "Epoch 392/500, Training Loss: 0.07311623977218273, Loss(SmoothL1Loss()): 0.08245526033883485\n",
      "Epoch 393/500, Training Loss: 0.07290336077555942, Loss(SmoothL1Loss()): 0.08374782295252842\n",
      "Epoch 394/500, Training Loss: 0.07303844689243082, Loss(SmoothL1Loss()): 0.08981443850251918\n",
      "Epoch 395/500, Training Loss: 0.07342256717203896, Loss(SmoothL1Loss()): 0.08918204554356635\n",
      "Epoch 396/500, Training Loss: 0.07315395655479408, Loss(SmoothL1Loss()): 0.08265951802380957\n",
      "Epoch 397/500, Training Loss: 0.07287013669304801, Loss(SmoothL1Loss()): 0.08394940426716438\n",
      "Epoch 398/500, Training Loss: 0.07279537720740706, Loss(SmoothL1Loss()): 0.08148969677635111\n",
      "Epoch 399/500, Training Loss: 0.07282598419249922, Loss(SmoothL1Loss()): 0.0863034010757334\n",
      "Epoch 400/500, Training Loss: 0.07312179594368175, Loss(SmoothL1Loss()): 0.08290737274532708\n",
      "Epoch 401/500, Training Loss: 0.07255566712234907, Loss(SmoothL1Loss()): 0.08754564986492579\n",
      "Epoch 402/500, Training Loss: 0.07255062534685296, Loss(SmoothL1Loss()): 0.0881994111964909\n",
      "Epoch 403/500, Training Loss: 0.07256387766216688, Loss(SmoothL1Loss()): 0.08939961689667633\n",
      "Epoch 404/500, Training Loss: 0.0725188087761978, Loss(SmoothL1Loss()): 0.08174278696354192\n",
      "Epoch 405/500, Training Loss: 0.07268074453596908, Loss(SmoothL1Loss()): 0.08819191424677578\n",
      "Epoch 406/500, Training Loss: 0.07247015236368502, Loss(SmoothL1Loss()): 0.08120849450978522\n",
      "Epoch 407/500, Training Loss: 0.07250526266685431, Loss(SmoothL1Loss()): 0.09500845091847274\n",
      "Epoch 408/500, Training Loss: 0.07239356392247666, Loss(SmoothL1Loss()): 0.08146748659559168\n",
      "Epoch 409/500, Training Loss: 0.07226479798555374, Loss(SmoothL1Loss()): 0.08919160241762605\n",
      "Epoch 410/500, Training Loss: 0.07196766703169127, Loss(SmoothL1Loss()): 0.0928151962132408\n",
      "Epoch 411/500, Training Loss: 0.07193245549780736, Loss(SmoothL1Loss()): 0.0831856551902512\n",
      "Epoch 412/500, Training Loss: 0.07206200273788493, Loss(SmoothL1Loss()): 0.08624976660268238\n",
      "Epoch 413/500, Training Loss: 0.07206007939030007, Loss(SmoothL1Loss()): 0.08142831106670201\n",
      "Epoch 414/500, Training Loss: 0.07160087484092528, Loss(SmoothL1Loss()): 0.08530601327164242\n",
      "Epoch 415/500, Training Loss: 0.07222068900071481, Loss(SmoothL1Loss()): 0.08157210284844041\n",
      "Epoch 416/500, Training Loss: 0.0718650180792463, Loss(SmoothL1Loss()): 0.08786312771889453\n",
      "Epoch 417/500, Training Loss: 0.07172015845631631, Loss(SmoothL1Loss()): 0.08972478321251962\n",
      "Epoch 418/500, Training Loss: 0.07168156799414883, Loss(SmoothL1Loss()): 0.08227551361331\n",
      "Epoch 419/500, Training Loss: 0.07125513041436961, Loss(SmoothL1Loss()): 0.08288094721949445\n",
      "Epoch 420/500, Training Loss: 0.0716094530686952, Loss(SmoothL1Loss()): 0.08666779061492819\n",
      "Epoch 421/500, Training Loss: 0.07169167287107828, Loss(SmoothL1Loss()): 0.08093644295317623\n",
      "Epoch 422/500, Training Loss: 0.07188997837008486, Loss(SmoothL1Loss()): 0.08690183658081178\n",
      "Epoch 423/500, Training Loss: 0.07148739556975411, Loss(SmoothL1Loss()): 0.08171079923900273\n",
      "Epoch 424/500, Training Loss: 0.07142569266871554, Loss(SmoothL1Loss()): 0.08804264641366899\n",
      "Epoch 425/500, Training Loss: 0.07169045267653638, Loss(SmoothL1Loss()): 0.08109820870539317\n",
      "Epoch 426/500, Training Loss: 0.07162243483255162, Loss(SmoothL1Loss()): 0.08218837957471035\n",
      "Epoch 427/500, Training Loss: 0.07138933788463113, Loss(SmoothL1Loss()): 0.08165133411351305\n",
      "Epoch 428/500, Training Loss: 0.07134899245080165, Loss(SmoothL1Loss()): 0.08308487061339502\n",
      "Epoch 429/500, Training Loss: 0.07094535170401928, Loss(SmoothL1Loss()): 0.0898748615828271\n",
      "Epoch 430/500, Training Loss: 0.07129172239326624, Loss(SmoothL1Loss()): 0.08474005502648652\n",
      "Epoch 431/500, Training Loss: 0.07126953733572061, Loss(SmoothL1Loss()): 0.08959701515805836\n",
      "Epoch 432/500, Training Loss: 0.07095998532818136, Loss(SmoothL1Loss()): 0.09078544525143045\n",
      "Epoch 433/500, Training Loss: 0.07112182081105628, Loss(SmoothL1Loss()): 0.0809656755389789\n",
      "Epoch 434/500, Training Loss: 0.07110681571966208, Loss(SmoothL1Loss()): 0.08173486971869491\n",
      "Epoch 435/500, Training Loss: 0.07085606994800234, Loss(SmoothL1Loss()): 0.08898538360013984\n",
      "Early stopping triggered. Stopping training.\n",
      "Model checkpoint saved at /Users/affanbinusman/Dropbox (ASU)/IRL-Lab/P&G/p_and_g_hackathon/scripts/cache/best_model_checkpoint.pth\n"
     ]
    }
   ],
   "source": [
    "# Storing data for visually observing the losses\n",
    "losses = {\"training\" : [], \n",
    "          \"evaluation\" : [], \n",
    "          \"labels\" : [], \n",
    "          \"outputs\" : [],\n",
    "          \"labels_t\" : [], \n",
    "          \"outputs_t\" : []\n",
    "          }\n",
    "\n",
    "# Training & Evaluation Porcess\n",
    "patience = 15                      # Patience based stopping criteria. You may also play around with this number for early or delayed stopping of the model from over-fitting\n",
    "best_loss = float('inf')\n",
    "num_epochs_without_improvement = 0\n",
    "checkpoint_path = cache_path / 'best_model_checkpoint.pth'\n",
    "\n",
    "for epoch in range(num_epochs):\n",
    "\n",
    "    all_outputs_training = []\n",
    "    all_labels_training = []\n",
    "    model.train(True)\n",
    "    running_loss = 0.0                          # To calculates the losses in training for each epoch\n",
    "\n",
    "    for inputs, labels in train_loader:\n",
    "        # Transfers data to GPU/CPU\n",
    "        inputs = inputs.to(device)              \n",
    "        labels = labels.to(device)\n",
    "        \n",
    "        optimizer.zero_grad()                   # Zeros the optimizer before generating output\n",
    "        outputs = model(inputs)                 # Calculates the output\n",
    "        loss = criterion(outputs, labels)       # Finds loss as per the criteria defined\n",
    "        loss.backward()                         # Back propogation of loss\n",
    "        optimizer.step()                        # Updates parameters based on gradients computed duing back propogation\n",
    "        \n",
    "        running_loss += loss.item()             # Calculates loss over the training\n",
    "\n",
    "        all_outputs_training.append(outputs.detach().numpy())  # Append outputs to the list\n",
    "        all_labels_training.append(labels.detach().numpy())    # Append labels to the list\n",
    "    \n",
    "    training_loss = running_loss/len(train_loader)\n",
    "\n",
    "    \"\"\"\n",
    "    Evaluating the model that has been trained (so far). \n",
    "    You would notice similar steps as during the training process. The lack of a few lines of code is because we \n",
    "    are evaluating the model here and not training it.\n",
    "    \"\"\"\n",
    "    # model.train(False)\n",
    "    model.eval()\n",
    "    total_loss = 0.0\n",
    "    all_outputs = []\n",
    "    all_labels = []\n",
    "\n",
    "    \n",
    "    with torch.no_grad():\n",
    "        for inputs, labels in test_loader:\n",
    "            inputs = inputs.to(device)\n",
    "            labels = labels.to(device)\n",
    "            \n",
    "            outputs = model(inputs)\n",
    "            loss = criterion(outputs, labels)\n",
    "            total_loss += loss.item()\n",
    "            \n",
    "            all_outputs.append(outputs.cpu().numpy())  \n",
    "            all_labels.append(labels.cpu().numpy())    \n",
    "                \n",
    "    mean_loss = total_loss / len(test_loader)\n",
    "\n",
    "    if mean_loss < best_loss:\n",
    "        best_loss = mean_loss\n",
    "        num_epochs_without_improvement = 0\n",
    "\n",
    "        # Save model checkpoint\n",
    "        checkpoint = {\n",
    "            'epoch': epoch + 1,\n",
    "            'model_state_dict': model.state_dict(),\n",
    "            'optimizer_state_dict': optimizer.state_dict(),\n",
    "            'best_loss': best_loss,\n",
    "            'losses': losses\n",
    "        }\n",
    "        torch.save(checkpoint, checkpoint_path)\n",
    "\n",
    "    else:\n",
    "        num_epochs_without_improvement += 1\n",
    "        if num_epochs_without_improvement == patience:\n",
    "            print(\"Early stopping triggered. Stopping training.\")\n",
    "            print(f\"Model checkpoint saved at {checkpoint_path}\")\n",
    "            break\n",
    "    \n",
    "    # Recording the data values for\n",
    "    losses[\"training\"].append(training_loss)\n",
    "    losses[\"evaluation\"].append(mean_loss)\n",
    "    losses[\"outputs\"] = np.concatenate(all_outputs)\n",
    "    losses[\"labels\"] = np.concatenate(all_labels)\n",
    "    \n",
    "    losses[\"outputs_t\"] = np.concatenate(all_outputs_training)\n",
    "    losses[\"labels_t\"] = np.concatenate(all_labels_training)\n",
    "\n",
    "    print(f\"Epoch {epoch+1}/{num_epochs}, Training Loss: {training_loss}, Loss({criterion}): {mean_loss}\")"
   ]
  },
  {
   "cell_type": "markdown",
   "metadata": {},
   "source": [
    "### 6. Performance Analysis & Visualization\n",
    "\n",
    "The model's training and evaluation losses over an epochs curve help to analyze its learning progress and detect signs of overfitting or underfitting. Analyzing these curves aids in fine-tuning the model's architecture or regularization techniques to achieve a balance between accuracy and generalization.\n",
    "\n",
    "Since we will be using the neural networks to estimate the X, Y & Z coordinates, a 3D visualization represents the outputs and actual labels to gain a deeper understanding of the model's performance. "
   ]
  },
  {
   "cell_type": "code",
   "execution_count": 20,
   "metadata": {},
   "outputs": [
    {
     "data": {
      "image/png": "[encoded data removed]",
      "text/plain": [
       "<Figure size 2000x500 with 1 Axes>"
      ]
     },
     "metadata": {},
     "output_type": "display_data"
    }
   ],
   "source": [
    "lossPlot(losses)"
   ]
  },
  {
   "cell_type": "code",
   "execution_count": 23,
   "metadata": {},
   "outputs": [
    {
     "data": {
      "application/vnd.plotly.v1+json": {
       "config": {
        "plotlyServerURL": "https://plot.ly"
       },
       "data": [
        {
         "marker": {
          "color": "blue",
          "opacity": 0.8,
          "size": 3
         },
         "mode": "markers",
         "name": "Input Points",
         "type": "scatter3d",
         "x": [
          -0.23309974943941747,
          -0.2359611513726823,
          -0.23863169517222785,
          -0.2412410990324266,
          -0.2535241078213114,
          -0.2535241078213114,
          -0.2557834333851516,
          -0.2589136952489842,
          -0.2628534142259569,
          -0.2659883501665337,
          -0.2668603293384879,
          -0.26741535082241036,
          -0.2695856176336632,
          -0.26989334025070855,
          -0.26988107708161635,
          -0.26917099435817915,
          -0.26681415398355585,
          -0.26681415398355585,
          -0.2661164223822678,
          -0.26683845415673646,
          -0.2646203157530234,
          -0.26325591254429553,
          -0.2585238873003004,
          -0.25683701049039376,
          -0.2548013998094286,
          -0.25292020956713435,
          -0.24643290516432095,
          -0.24393360596678065,
          -0.24152857988163642,
          -0.23908765638450824
         ],
         "y": [
          -0.08501289992536835,
          -0.08407587269744797,
          -0.0841448535526772,
          -0.0848095818323068,
          -0.08377453485174528,
          -0.08377453485174528,
          -0.08345582109563872,
          -0.08527690974518484,
          -0.08410238928528513,
          -0.08333644255486777,
          -0.08314018746757057,
          -0.08314683278318097,
          -0.08373565733012671,
          -0.083620121538772,
          -0.083379890415203,
          -0.08366465808828265,
          -0.08208899339409031,
          -0.08208899339409031,
          -0.08110694994667605,
          -0.08238358082795033,
          -0.08187375900515316,
          -0.08162037468389785,
          -0.08058058220423253,
          -0.08066132305837653,
          -0.08054717507624298,
          -0.07997786339642415,
          -0.07877985931815992,
          -0.07816587500268354,
          -0.07796020706565918,
          -0.07756192603000242
         ],
         "z": [
          0.40822983667263785,
          0.4078756104624939,
          0.40746019808230427,
          0.40637675259770234,
          0.40464117669034416,
          0.40464117669034416,
          0.40377217645837593,
          0.4023956909336758,
          0.4010014203076161,
          0.40055022689370046,
          0.4004573257164886,
          0.39992466117780134,
          0.3983265019088057,
          0.398075100992551,
          0.39784696678383275,
          0.39803204628909034,
          0.39942533805690417,
          0.39942533805690417,
          0.39964802077816086,
          0.3986678222494618,
          0.3991804277237875,
          0.39960805324301407,
          0.4010959177767366,
          0.4014604596468563,
          0.4023609339362686,
          0.402808769113433,
          0.40481191968713914,
          0.40661771737912034,
          0.40661851552507466,
          0.4072727241391837
         ]
        },
        {
         "marker": {
          "color": "red",
          "opacity": 0.5,
          "size": 3
         },
         "mode": "markers",
         "name": "Output Points",
         "type": "scatter3d",
         "x": [
          -0.2621732481066267,
          -0.26692688467320225,
          -0.27194214389022564,
          -0.2768768255423023,
          -0.28436399286196745,
          -0.2849515821064298,
          -0.29106835284476773,
          -0.2943190727025416,
          -0.2977292011937912,
          -0.29885991313003424,
          -0.30370826257429084,
          -0.3124665526033599,
          -0.3094585203593312,
          -0.3115828882395454,
          -0.31419505633867884,
          -0.31645675663505834,
          -0.32212482857068075,
          -0.3200115679050951,
          -0.3231315392612572,
          -0.32472723388048574,
          -0.32484614641356796,
          -0.32418019099530665,
          -0.3239712396612875,
          -0.3232648509662448,
          -0.33183914320004165,
          -0.3318234624264484,
          -0.332187990153602,
          -0.32991186555587226,
          -0.32459068047711104,
          -0.32361138601087797
         ],
         "y": [
          -0.10354002367853955,
          -0.1038599743364568,
          -0.10329112885274529,
          -0.10314270602501205,
          -0.1036215837443403,
          -0.1021166245614967,
          -0.10258498726804643,
          -0.10302380715422435,
          -0.10296690158660673,
          -0.10361463122435861,
          -0.10402471133317034,
          -0.10539046651419443,
          -0.10494963363095205,
          -0.10612103084641038,
          -0.10616603359202831,
          -0.10596472849603122,
          -0.10613466101930472,
          -0.10507041345482007,
          -0.10371504932691591,
          -0.10264626645579206,
          -0.09899529880004079,
          -0.09797661718918811,
          -0.0978199645180347,
          -0.09719480901202182,
          -0.09539540252362791,
          -0.0924376064996019,
          -0.0916046676580431,
          -0.09075615571068035,
          -0.08986251166849071,
          -0.0888132524435945
         ],
         "z": [
          0.24417365609294037,
          0.24411293417465407,
          0.24426600477996926,
          0.24411901580211148,
          0.2439205600577426,
          0.24411749551289835,
          0.24388709463555452,
          0.24387715310649488,
          0.243893947349183,
          0.24408279381156994,
          0.24416714550909302,
          0.24365192770682362,
          0.24427826192056676,
          0.24403247390926325,
          0.24400551648259544,
          0.24399237013399044,
          0.24375826371346007,
          0.24449641777538994,
          0.24457020615709504,
          0.24429592348813328,
          0.24438559537434365,
          0.24411707126255766,
          0.24395936966946916,
          0.2440315534060282,
          0.24353789095648223,
          0.2437225742123922,
          0.24364423166916793,
          0.24385766017985924,
          0.24427284055182039,
          0.24418224345632572
         ]
        }
       ],
       "layout": {
        "scene": {
         "xaxis": {
          "title": {
           "text": "X-Dimension"
          }
         },
         "yaxis": {
          "title": {
           "text": "Y-Dimension"
          }
         },
         "zaxis": {
          "title": {
           "text": "Z-Dimension"
          }
         }
        },
        "template": {
         "data": {
          "bar": [
           {
            "error_x": {
             "color": "#2a3f5f"
            },
            "error_y": {
             "color": "#2a3f5f"
            },
            "marker": {
             "line": {
              "color": "#E5ECF6",
              "width": 0.5
             },
             "pattern": {
              "fillmode": "overlay",
              "size": 10,
              "solidity": 0.2
             }
            },
            "type": "bar"
           }
          ],
          "barpolar": [
           {
            "marker": {
             "line": {
              "color": "#E5ECF6",
              "width": 0.5
             },
             "pattern": {
              "fillmode": "overlay",
              "size": 10,
              "solidity": 0.2
             }
            },
            "type": "barpolar"
           }
          ],
          "carpet": [
           {
            "aaxis": {
             "endlinecolor": "#2a3f5f",
             "gridcolor": "white",
             "linecolor": "white",
             "minorgridcolor": "white",
             "startlinecolor": "#2a3f5f"
            },
            "baxis": {
             "endlinecolor": "#2a3f5f",
             "gridcolor": "white",
             "linecolor": "white",
             "minorgridcolor": "white",
             "startlinecolor": "#2a3f5f"
            },
            "type": "carpet"
           }
          ],
          "choropleth": [
           {
            "colorbar": {
             "outlinewidth": 0,
             "ticks": ""
            },
            "type": "choropleth"
           }
          ],
          "contour": [
           {
            "colorbar": {
             "outlinewidth": 0,
             "ticks": ""
            },
            "colorscale": [
             [
              0,
              "#0d0887"
             ],
             [
              0.1111111111111111,
              "#46039f"
             ],
             [
              0.2222222222222222,
              "#7201a8"
             ],
             [
              0.3333333333333333,
              "#9c179e"
             ],
             [
              0.4444444444444444,
              "#bd3786"
             ],
             [
              0.5555555555555556,
              "#d8576b"
             ],
             [
              0.6666666666666666,
              "#ed7953"
             ],
             [
              0.7777777777777778,
              "#fb9f3a"
             ],
             [
              0.8888888888888888,
              "#fdca26"
             ],
             [
              1,
              "#f0f921"
             ]
            ],
            "type": "contour"
           }
          ],
          "contourcarpet": [
           {
            "colorbar": {
             "outlinewidth": 0,
             "ticks": ""
            },
            "type": "contourcarpet"
           }
          ],
          "heatmap": [
           {
            "colorbar": {
             "outlinewidth": 0,
             "ticks": ""
            },
            "colorscale": [
             [
              0,
              "#0d0887"
             ],
             [
              0.1111111111111111,
              "#46039f"
             ],
             [
              0.2222222222222222,
              "#7201a8"
             ],
             [
              0.3333333333333333,
              "#9c179e"
             ],
             [
              0.4444444444444444,
              "#bd3786"
             ],
             [
              0.5555555555555556,
              "#d8576b"
             ],
             [
              0.6666666666666666,
              "#ed7953"
             ],
             [
              0.7777777777777778,
              "#fb9f3a"
             ],
             [
              0.8888888888888888,
              "#fdca26"
             ],
             [
              1,
              "#f0f921"
             ]
            ],
            "type": "heatmap"
           }
          ],
          "heatmapgl": [
           {
            "colorbar": {
             "outlinewidth": 0,
             "ticks": ""
            },
            "colorscale": [
             [
              0,
              "#0d0887"
             ],
             [
              0.1111111111111111,
              "#46039f"
             ],
             [
              0.2222222222222222,
              "#7201a8"
             ],
             [
              0.3333333333333333,
              "#9c179e"
             ],
             [
              0.4444444444444444,
              "#bd3786"
             ],
             [
              0.5555555555555556,
              "#d8576b"
             ],
             [
              0.6666666666666666,
              "#ed7953"
             ],
             [
              0.7777777777777778,
              "#fb9f3a"
             ],
             [
              0.8888888888888888,
              "#fdca26"
             ],
             [
              1,
              "#f0f921"
             ]
            ],
            "type": "heatmapgl"
           }
          ],
          "histogram": [
           {
            "marker": {
             "pattern": {
              "fillmode": "overlay",
              "size": 10,
              "solidity": 0.2
             }
            },
            "type": "histogram"
           }
          ],
          "histogram2d": [
           {
            "colorbar": {
             "outlinewidth": 0,
             "ticks": ""
            },
            "colorscale": [
             [
              0,
              "#0d0887"
             ],
             [
              0.1111111111111111,
              "#46039f"
             ],
             [
              0.2222222222222222,
              "#7201a8"
             ],
             [
              0.3333333333333333,
              "#9c179e"
             ],
             [
              0.4444444444444444,
              "#bd3786"
             ],
             [
              0.5555555555555556,
              "#d8576b"
             ],
             [
              0.6666666666666666,
              "#ed7953"
             ],
             [
              0.7777777777777778,
              "#fb9f3a"
             ],
             [
              0.8888888888888888,
              "#fdca26"
             ],
             [
              1,
              "#f0f921"
             ]
            ],
            "type": "histogram2d"
           }
          ],
          "histogram2dcontour": [
           {
            "colorbar": {
             "outlinewidth": 0,
             "ticks": ""
            },
            "colorscale": [
             [
              0,
              "#0d0887"
             ],
             [
              0.1111111111111111,
              "#46039f"
             ],
             [
              0.2222222222222222,
              "#7201a8"
             ],
             [
              0.3333333333333333,
              "#9c179e"
             ],
             [
              0.4444444444444444,
              "#bd3786"
             ],
             [
              0.5555555555555556,
              "#d8576b"
             ],
             [
              0.6666666666666666,
              "#ed7953"
             ],
             [
              0.7777777777777778,
              "#fb9f3a"
             ],
             [
              0.8888888888888888,
              "#fdca26"
             ],
             [
              1,
              "#f0f921"
             ]
            ],
            "type": "histogram2dcontour"
           }
          ],
          "mesh3d": [
           {
            "colorbar": {
             "outlinewidth": 0,
             "ticks": ""
            },
            "type": "mesh3d"
           }
          ],
          "parcoords": [
           {
            "line": {
             "colorbar": {
              "outlinewidth": 0,
              "ticks": ""
             }
            },
            "type": "parcoords"
           }
          ],
          "pie": [
           {
            "automargin": true,
            "type": "pie"
           }
          ],
          "scatter": [
           {
            "fillpattern": {
             "fillmode": "overlay",
             "size": 10,
             "solidity": 0.2
            },
            "type": "scatter"
           }
          ],
          "scatter3d": [
           {
            "line": {
             "colorbar": {
              "outlinewidth": 0,
              "ticks": ""
             }
            },
            "marker": {
             "colorbar": {
              "outlinewidth": 0,
              "ticks": ""
             }
            },
            "type": "scatter3d"
           }
          ],
          "scattercarpet": [
           {
            "marker": {
             "colorbar": {
              "outlinewidth": 0,
              "ticks": ""
             }
            },
            "type": "scattercarpet"
           }
          ],
          "scattergeo": [
           {
            "marker": {
             "colorbar": {
              "outlinewidth": 0,
              "ticks": ""
             }
            },
            "type": "scattergeo"
           }
          ],
          "scattergl": [
           {
            "marker": {
             "colorbar": {
              "outlinewidth": 0,
              "ticks": ""
             }
            },
            "type": "scattergl"
           }
          ],
          "scattermapbox": [
           {
            "marker": {
             "colorbar": {
              "outlinewidth": 0,
              "ticks": ""
             }
            },
            "type": "scattermapbox"
           }
          ],
          "scatterpolar": [
           {
            "marker": {
             "colorbar": {
              "outlinewidth": 0,
              "ticks": ""
             }
            },
            "type": "scatterpolar"
           }
          ],
          "scatterpolargl": [
           {
            "marker": {
             "colorbar": {
              "outlinewidth": 0,
              "ticks": ""
             }
            },
            "type": "scatterpolargl"
           }
          ],
          "scatterternary": [
           {
            "marker": {
             "colorbar": {
              "outlinewidth": 0,
              "ticks": ""
             }
            },
            "type": "scatterternary"
           }
          ],
          "surface": [
           {
            "colorbar": {
             "outlinewidth": 0,
             "ticks": ""
            },
            "colorscale": [
             [
              0,
              "#0d0887"
             ],
             [
              0.1111111111111111,
              "#46039f"
             ],
             [
              0.2222222222222222,
              "#7201a8"
             ],
             [
              0.3333333333333333,
              "#9c179e"
             ],
             [
              0.4444444444444444,
              "#bd3786"
             ],
             [
              0.5555555555555556,
              "#d8576b"
             ],
             [
              0.6666666666666666,
              "#ed7953"
             ],
             [
              0.7777777777777778,
              "#fb9f3a"
             ],
             [
              0.8888888888888888,
              "#fdca26"
             ],
             [
              1,
              "#f0f921"
             ]
            ],
            "type": "surface"
           }
          ],
          "table": [
           {
            "cells": {
             "fill": {
              "color": "#EBF0F8"
             },
             "line": {
              "color": "white"
             }
            },
            "header": {
             "fill": {
              "color": "#C8D4E3"
             },
             "line": {
              "color": "white"
             }
            },
            "type": "table"
           }
          ]
         },
         "layout": {
          "annotationdefaults": {
           "arrowcolor": "#2a3f5f",
           "arrowhead": 0,
           "arrowwidth": 1
          },
          "autotypenumbers": "strict",
          "coloraxis": {
           "colorbar": {
            "outlinewidth": 0,
            "ticks": ""
           }
          },
          "colorscale": {
           "diverging": [
            [
             0,
             "#8e0152"
            ],
            [
             0.1,
             "#c51b7d"
            ],
            [
             0.2,
             "#de77ae"
            ],
            [
             0.3,
             "#f1b6da"
            ],
            [
             0.4,
             "#fde0ef"
            ],
            [
             0.5,
             "#f7f7f7"
            ],
            [
             0.6,
             "#e6f5d0"
            ],
            [
             0.7,
             "#b8e186"
            ],
            [
             0.8,
             "#7fbc41"
            ],
            [
             0.9,
             "#4d9221"
            ],
            [
             1,
             "#276419"
            ]
           ],
           "sequential": [
            [
             0,
             "#0d0887"
            ],
            [
             0.1111111111111111,
             "#46039f"
            ],
            [
             0.2222222222222222,
             "#7201a8"
            ],
            [
             0.3333333333333333,
             "#9c179e"
            ],
            [
             0.4444444444444444,
             "#bd3786"
            ],
            [
             0.5555555555555556,
             "#d8576b"
            ],
            [
             0.6666666666666666,
             "#ed7953"
            ],
            [
             0.7777777777777778,
             "#fb9f3a"
            ],
            [
             0.8888888888888888,
             "#fdca26"
            ],
            [
             1,
             "#f0f921"
            ]
           ],
           "sequentialminus": [
            [
             0,
             "#0d0887"
            ],
            [
             0.1111111111111111,
             "#46039f"
            ],
            [
             0.2222222222222222,
             "#7201a8"
            ],
            [
             0.3333333333333333,
             "#9c179e"
            ],
            [
             0.4444444444444444,
             "#bd3786"
            ],
            [
             0.5555555555555556,
             "#d8576b"
            ],
            [
             0.6666666666666666,
             "#ed7953"
            ],
            [
             0.7777777777777778,
             "#fb9f3a"
            ],
            [
             0.8888888888888888,
             "#fdca26"
            ],
            [
             1,
             "#f0f921"
            ]
           ]
          },
          "colorway": [
           "#636efa",
           "#EF553B",
           "#00cc96",
           "#ab63fa",
           "#FFA15A",
           "#19d3f3",
           "#FF6692",
           "#B6E880",
           "#FF97FF",
           "#FECB52"
          ],
          "font": {
           "color": "#2a3f5f"
          },
          "geo": {
           "bgcolor": "white",
           "lakecolor": "white",
           "landcolor": "#E5ECF6",
           "showlakes": true,
           "showland": true,
           "subunitcolor": "white"
          },
          "hoverlabel": {
           "align": "left"
          },
          "hovermode": "closest",
          "mapbox": {
           "style": "light"
          },
          "paper_bgcolor": "white",
          "plot_bgcolor": "#E5ECF6",
          "polar": {
           "angularaxis": {
            "gridcolor": "white",
            "linecolor": "white",
            "ticks": ""
           },
           "bgcolor": "#E5ECF6",
           "radialaxis": {
            "gridcolor": "white",
            "linecolor": "white",
            "ticks": ""
           }
          },
          "scene": {
           "xaxis": {
            "backgroundcolor": "#E5ECF6",
            "gridcolor": "white",
            "gridwidth": 2,
            "linecolor": "white",
            "showbackground": true,
            "ticks": "",
            "zerolinecolor": "white"
           },
           "yaxis": {
            "backgroundcolor": "#E5ECF6",
            "gridcolor": "white",
            "gridwidth": 2,
            "linecolor": "white",
            "showbackground": true,
            "ticks": "",
            "zerolinecolor": "white"
           },
           "zaxis": {
            "backgroundcolor": "#E5ECF6",
            "gridcolor": "white",
            "gridwidth": 2,
            "linecolor": "white",
            "showbackground": true,
            "ticks": "",
            "zerolinecolor": "white"
           }
          },
          "shapedefaults": {
           "line": {
            "color": "#2a3f5f"
           }
          },
          "ternary": {
           "aaxis": {
            "gridcolor": "white",
            "linecolor": "white",
            "ticks": ""
           },
           "baxis": {
            "gridcolor": "white",
            "linecolor": "white",
            "ticks": ""
           },
           "bgcolor": "#E5ECF6",
           "caxis": {
            "gridcolor": "white",
            "linecolor": "white",
            "ticks": ""
           }
          },
          "title": {
           "x": 0.05
          },
          "xaxis": {
           "automargin": true,
           "gridcolor": "white",
           "linecolor": "white",
           "ticks": "",
           "title": {
            "standoff": 15
           },
           "zerolinecolor": "white",
           "zerolinewidth": 2
          },
          "yaxis": {
           "automargin": true,
           "gridcolor": "white",
           "linecolor": "white",
           "ticks": "",
           "title": {
            "standoff": 15
           },
           "zerolinecolor": "white",
           "zerolinewidth": 2
          }
         }
        },
        "title": {
         "text": "Input and Output Points in 3D Space"
        }
       }
      }
     },
     "metadata": {},
     "output_type": "display_data"
    },
    {
     "data": {
      "application/vnd.plotly.v1+json": {
       "config": {
        "plotlyServerURL": "https://plot.ly"
       },
       "data": [
        {
         "marker": {
          "color": "blue",
          "opacity": 0.8,
          "size": 3
         },
         "mode": "markers",
         "name": "Input Points",
         "type": "scatter3d",
         "x": [
          -0.3313322822971953,
          0.12627249619487224,
          -0.2666107185626836,
          -0.0024361101655865774,
          -0.16399671621672163,
          -0.20438509296246204,
          -0.3547296550417042,
          -0.2905572450657399,
          0.3129308211828683,
          -0.34614470792328633
         ],
         "y": [
          -0.014417879748858886,
          -0.21071835783931356,
          -0.01948478199438585,
          0.24774563101710728,
          -0.3843725057739546,
          0.05826543490038461,
          0.27490969787792485,
          -0.12334686922012417,
          -0.1239519270927946,
          -0.1774826498889324
         ],
         "z": [
          0.18816577958439457,
          0.3222290604275825,
          0.4342971781253838,
          0.06436759692367591,
          0.06145871634474495,
          0.13786726909522096,
          0.15673543192578143,
          0.3732819317887753,
          0.26213501005648343,
          0.27257023944934405
         ]
        },
        {
         "marker": {
          "color": "red",
          "opacity": 0.5,
          "size": 3
         },
         "mode": "markers",
         "name": "Output Points",
         "type": "scatter3d",
         "x": [
          -0.2940654160861147,
          0.05553741861095643,
          -0.31870991292018513,
          -0.061565948359144175,
          -0.10381766539205232,
          -0.17418102057095652,
          -0.26474696815512283,
          -0.285411538900443,
          0.2107678169838266,
          -0.34810555850578995
         ],
         "y": [
          0.06406824521732274,
          -0.207321054761437,
          -0.05827460560718023,
          0.3022642098907371,
          -0.3871690572299091,
          0.10064958123660026,
          0.2609435188551012,
          -0.11898363475567467,
          -0.10490553094024646,
          -0.10416334134787508
         ],
         "z": [
          0.2457929108159956,
          0.24579771775118558,
          0.35028594632441706,
          0.131208570818332,
          0.14686290107797895,
          0.20190728906223207,
          0.17603880266213456,
          0.2699805363080958,
          0.2361826938597257,
          0.20261567748025003
         ]
        }
       ],
       "layout": {
        "scene": {
         "xaxis": {
          "title": {
           "text": "X-Dimension"
          }
         },
         "yaxis": {
          "title": {
           "text": "Y-Dimension"
          }
         },
         "zaxis": {
          "title": {
           "text": "Z-Dimension"
          }
         }
        },
        "template": {
         "data": {
          "bar": [
           {
            "error_x": {
             "color": "#2a3f5f"
            },
            "error_y": {
             "color": "#2a3f5f"
            },
            "marker": {
             "line": {
              "color": "#E5ECF6",
              "width": 0.5
             },
             "pattern": {
              "fillmode": "overlay",
              "size": 10,
              "solidity": 0.2
             }
            },
            "type": "bar"
           }
          ],
          "barpolar": [
           {
            "marker": {
             "line": {
              "color": "#E5ECF6",
              "width": 0.5
             },
             "pattern": {
              "fillmode": "overlay",
              "size": 10,
              "solidity": 0.2
             }
            },
            "type": "barpolar"
           }
          ],
          "carpet": [
           {
            "aaxis": {
             "endlinecolor": "#2a3f5f",
             "gridcolor": "white",
             "linecolor": "white",
             "minorgridcolor": "white",
             "startlinecolor": "#2a3f5f"
            },
            "baxis": {
             "endlinecolor": "#2a3f5f",
             "gridcolor": "white",
             "linecolor": "white",
             "minorgridcolor": "white",
             "startlinecolor": "#2a3f5f"
            },
            "type": "carpet"
           }
          ],
          "choropleth": [
           {
            "colorbar": {
             "outlinewidth": 0,
             "ticks": ""
            },
            "type": "choropleth"
           }
          ],
          "contour": [
           {
            "colorbar": {
             "outlinewidth": 0,
             "ticks": ""
            },
            "colorscale": [
             [
              0,
              "#0d0887"
             ],
             [
              0.1111111111111111,
              "#46039f"
             ],
             [
              0.2222222222222222,
              "#7201a8"
             ],
             [
              0.3333333333333333,
              "#9c179e"
             ],
             [
              0.4444444444444444,
              "#bd3786"
             ],
             [
              0.5555555555555556,
              "#d8576b"
             ],
             [
              0.6666666666666666,
              "#ed7953"
             ],
             [
              0.7777777777777778,
              "#fb9f3a"
             ],
             [
              0.8888888888888888,
              "#fdca26"
             ],
             [
              1,
              "#f0f921"
             ]
            ],
            "type": "contour"
           }
          ],
          "contourcarpet": [
           {
            "colorbar": {
             "outlinewidth": 0,
             "ticks": ""
            },
            "type": "contourcarpet"
           }
          ],
          "heatmap": [
           {
            "colorbar": {
             "outlinewidth": 0,
             "ticks": ""
            },
            "colorscale": [
             [
              0,
              "#0d0887"
             ],
             [
              0.1111111111111111,
              "#46039f"
             ],
             [
              0.2222222222222222,
              "#7201a8"
             ],
             [
              0.3333333333333333,
              "#9c179e"
             ],
             [
              0.4444444444444444,
              "#bd3786"
             ],
             [
              0.5555555555555556,
              "#d8576b"
             ],
             [
              0.6666666666666666,
              "#ed7953"
             ],
             [
              0.7777777777777778,
              "#fb9f3a"
             ],
             [
              0.8888888888888888,
              "#fdca26"
             ],
             [
              1,
              "#f0f921"
             ]
            ],
            "type": "heatmap"
           }
          ],
          "heatmapgl": [
           {
            "colorbar": {
             "outlinewidth": 0,
             "ticks": ""
            },
            "colorscale": [
             [
              0,
              "#0d0887"
             ],
             [
              0.1111111111111111,
              "#46039f"
             ],
             [
              0.2222222222222222,
              "#7201a8"
             ],
             [
              0.3333333333333333,
              "#9c179e"
             ],
             [
              0.4444444444444444,
              "#bd3786"
             ],
             [
              0.5555555555555556,
              "#d8576b"
             ],
             [
              0.6666666666666666,
              "#ed7953"
             ],
             [
              0.7777777777777778,
              "#fb9f3a"
             ],
             [
              0.8888888888888888,
              "#fdca26"
             ],
             [
              1,
              "#f0f921"
             ]
            ],
            "type": "heatmapgl"
           }
          ],
          "histogram": [
           {
            "marker": {
             "pattern": {
              "fillmode": "overlay",
              "size": 10,
              "solidity": 0.2
             }
            },
            "type": "histogram"
           }
          ],
          "histogram2d": [
           {
            "colorbar": {
             "outlinewidth": 0,
             "ticks": ""
            },
            "colorscale": [
             [
              0,
              "#0d0887"
             ],
             [
              0.1111111111111111,
              "#46039f"
             ],
             [
              0.2222222222222222,
              "#7201a8"
             ],
             [
              0.3333333333333333,
              "#9c179e"
             ],
             [
              0.4444444444444444,
              "#bd3786"
             ],
             [
              0.5555555555555556,
              "#d8576b"
             ],
             [
              0.6666666666666666,
              "#ed7953"
             ],
             [
              0.7777777777777778,
              "#fb9f3a"
             ],
             [
              0.8888888888888888,
              "#fdca26"
             ],
             [
              1,
              "#f0f921"
             ]
            ],
            "type": "histogram2d"
           }
          ],
          "histogram2dcontour": [
           {
            "colorbar": {
             "outlinewidth": 0,
             "ticks": ""
            },
            "colorscale": [
             [
              0,
              "#0d0887"
             ],
             [
              0.1111111111111111,
              "#46039f"
             ],
             [
              0.2222222222222222,
              "#7201a8"
             ],
             [
              0.3333333333333333,
              "#9c179e"
             ],
             [
              0.4444444444444444,
              "#bd3786"
             ],
             [
              0.5555555555555556,
              "#d8576b"
             ],
             [
              0.6666666666666666,
              "#ed7953"
             ],
             [
              0.7777777777777778,
              "#fb9f3a"
             ],
             [
              0.8888888888888888,
              "#fdca26"
             ],
             [
              1,
              "#f0f921"
             ]
            ],
            "type": "histogram2dcontour"
           }
          ],
          "mesh3d": [
           {
            "colorbar": {
             "outlinewidth": 0,
             "ticks": ""
            },
            "type": "mesh3d"
           }
          ],
          "parcoords": [
           {
            "line": {
             "colorbar": {
              "outlinewidth": 0,
              "ticks": ""
             }
            },
            "type": "parcoords"
           }
          ],
          "pie": [
           {
            "automargin": true,
            "type": "pie"
           }
          ],
          "scatter": [
           {
            "fillpattern": {
             "fillmode": "overlay",
             "size": 10,
             "solidity": 0.2
            },
            "type": "scatter"
           }
          ],
          "scatter3d": [
           {
            "line": {
             "colorbar": {
              "outlinewidth": 0,
              "ticks": ""
             }
            },
            "marker": {
             "colorbar": {
              "outlinewidth": 0,
              "ticks": ""
             }
            },
            "type": "scatter3d"
           }
          ],
          "scattercarpet": [
           {
            "marker": {
             "colorbar": {
              "outlinewidth": 0,
              "ticks": ""
             }
            },
            "type": "scattercarpet"
           }
          ],
          "scattergeo": [
           {
            "marker": {
             "colorbar": {
              "outlinewidth": 0,
              "ticks": ""
             }
            },
            "type": "scattergeo"
           }
          ],
          "scattergl": [
           {
            "marker": {
             "colorbar": {
              "outlinewidth": 0,
              "ticks": ""
             }
            },
            "type": "scattergl"
           }
          ],
          "scattermapbox": [
           {
            "marker": {
             "colorbar": {
              "outlinewidth": 0,
              "ticks": ""
             }
            },
            "type": "scattermapbox"
           }
          ],
          "scatterpolar": [
           {
            "marker": {
             "colorbar": {
              "outlinewidth": 0,
              "ticks": ""
             }
            },
            "type": "scatterpolar"
           }
          ],
          "scatterpolargl": [
           {
            "marker": {
             "colorbar": {
              "outlinewidth": 0,
              "ticks": ""
             }
            },
            "type": "scatterpolargl"
           }
          ],
          "scatterternary": [
           {
            "marker": {
             "colorbar": {
              "outlinewidth": 0,
              "ticks": ""
             }
            },
            "type": "scatterternary"
           }
          ],
          "surface": [
           {
            "colorbar": {
             "outlinewidth": 0,
             "ticks": ""
            },
            "colorscale": [
             [
              0,
              "#0d0887"
             ],
             [
              0.1111111111111111,
              "#46039f"
             ],
             [
              0.2222222222222222,
              "#7201a8"
             ],
             [
              0.3333333333333333,
              "#9c179e"
             ],
             [
              0.4444444444444444,
              "#bd3786"
             ],
             [
              0.5555555555555556,
              "#d8576b"
             ],
             [
              0.6666666666666666,
              "#ed7953"
             ],
             [
              0.7777777777777778,
              "#fb9f3a"
             ],
             [
              0.8888888888888888,
              "#fdca26"
             ],
             [
              1,
              "#f0f921"
             ]
            ],
            "type": "surface"
           }
          ],
          "table": [
           {
            "cells": {
             "fill": {
              "color": "#EBF0F8"
             },
             "line": {
              "color": "white"
             }
            },
            "header": {
             "fill": {
              "color": "#C8D4E3"
             },
             "line": {
              "color": "white"
             }
            },
            "type": "table"
           }
          ]
         },
         "layout": {
          "annotationdefaults": {
           "arrowcolor": "#2a3f5f",
           "arrowhead": 0,
           "arrowwidth": 1
          },
          "autotypenumbers": "strict",
          "coloraxis": {
           "colorbar": {
            "outlinewidth": 0,
            "ticks": ""
           }
          },
          "colorscale": {
           "diverging": [
            [
             0,
             "#8e0152"
            ],
            [
             0.1,
             "#c51b7d"
            ],
            [
             0.2,
             "#de77ae"
            ],
            [
             0.3,
             "#f1b6da"
            ],
            [
             0.4,
             "#fde0ef"
            ],
            [
             0.5,
             "#f7f7f7"
            ],
            [
             0.6,
             "#e6f5d0"
            ],
            [
             0.7,
             "#b8e186"
            ],
            [
             0.8,
             "#7fbc41"
            ],
            [
             0.9,
             "#4d9221"
            ],
            [
             1,
             "#276419"
            ]
           ],
           "sequential": [
            [
             0,
             "#0d0887"
            ],
            [
             0.1111111111111111,
             "#46039f"
            ],
            [
             0.2222222222222222,
             "#7201a8"
            ],
            [
             0.3333333333333333,
             "#9c179e"
            ],
            [
             0.4444444444444444,
             "#bd3786"
            ],
            [
             0.5555555555555556,
             "#d8576b"
            ],
            [
             0.6666666666666666,
             "#ed7953"
            ],
            [
             0.7777777777777778,
             "#fb9f3a"
            ],
            [
             0.8888888888888888,
             "#fdca26"
            ],
            [
             1,
             "#f0f921"
            ]
           ],
           "sequentialminus": [
            [
             0,
             "#0d0887"
            ],
            [
             0.1111111111111111,
             "#46039f"
            ],
            [
             0.2222222222222222,
             "#7201a8"
            ],
            [
             0.3333333333333333,
             "#9c179e"
            ],
            [
             0.4444444444444444,
             "#bd3786"
            ],
            [
             0.5555555555555556,
             "#d8576b"
            ],
            [
             0.6666666666666666,
             "#ed7953"
            ],
            [
             0.7777777777777778,
             "#fb9f3a"
            ],
            [
             0.8888888888888888,
             "#fdca26"
            ],
            [
             1,
             "#f0f921"
            ]
           ]
          },
          "colorway": [
           "#636efa",
           "#EF553B",
           "#00cc96",
           "#ab63fa",
           "#FFA15A",
           "#19d3f3",
           "#FF6692",
           "#B6E880",
           "#FF97FF",
           "#FECB52"
          ],
          "font": {
           "color": "#2a3f5f"
          },
          "geo": {
           "bgcolor": "white",
           "lakecolor": "white",
           "landcolor": "#E5ECF6",
           "showlakes": true,
           "showland": true,
           "subunitcolor": "white"
          },
          "hoverlabel": {
           "align": "left"
          },
          "hovermode": "closest",
          "mapbox": {
           "style": "light"
          },
          "paper_bgcolor": "white",
          "plot_bgcolor": "#E5ECF6",
          "polar": {
           "angularaxis": {
            "gridcolor": "white",
            "linecolor": "white",
            "ticks": ""
           },
           "bgcolor": "#E5ECF6",
           "radialaxis": {
            "gridcolor": "white",
            "linecolor": "white",
            "ticks": ""
           }
          },
          "scene": {
           "xaxis": {
            "backgroundcolor": "#E5ECF6",
            "gridcolor": "white",
            "gridwidth": 2,
            "linecolor": "white",
            "showbackground": true,
            "ticks": "",
            "zerolinecolor": "white"
           },
           "yaxis": {
            "backgroundcolor": "#E5ECF6",
            "gridcolor": "white",
            "gridwidth": 2,
            "linecolor": "white",
            "showbackground": true,
            "ticks": "",
            "zerolinecolor": "white"
           },
           "zaxis": {
            "backgroundcolor": "#E5ECF6",
            "gridcolor": "white",
            "gridwidth": 2,
            "linecolor": "white",
            "showbackground": true,
            "ticks": "",
            "zerolinecolor": "white"
           }
          },
          "shapedefaults": {
           "line": {
            "color": "#2a3f5f"
           }
          },
          "ternary": {
           "aaxis": {
            "gridcolor": "white",
            "linecolor": "white",
            "ticks": ""
           },
           "baxis": {
            "gridcolor": "white",
            "linecolor": "white",
            "ticks": ""
           },
           "bgcolor": "#E5ECF6",
           "caxis": {
            "gridcolor": "white",
            "linecolor": "white",
            "ticks": ""
           }
          },
          "title": {
           "x": 0.05
          },
          "xaxis": {
           "automargin": true,
           "gridcolor": "white",
           "linecolor": "white",
           "ticks": "",
           "title": {
            "standoff": 15
           },
           "zerolinecolor": "white",
           "zerolinewidth": 2
          },
          "yaxis": {
           "automargin": true,
           "gridcolor": "white",
           "linecolor": "white",
           "ticks": "",
           "title": {
            "standoff": 15
           },
           "zerolinecolor": "white",
           "zerolinewidth": 2
          }
         }
        },
        "title": {
         "text": "Input and Output Points in 3D Space"
        }
       }
      }
     },
     "metadata": {},
     "output_type": "display_data"
    }
   ],
   "source": [
    "interactive_output_visualization(deNorm(losses[\"labels\"]), duration=3, randomseed=True, output=True, output_data=deNorm(losses[\"outputs\"]))\n",
    "interactive_output_visualization(deNorm(losses[\"labels_t\"]), duration=1, randomseed=True, output=True, output_data=deNorm(losses[\"outputs_t\"]))"
   ]
  }
 ],
 "metadata": {
  "kernelspec": {
   "display_name": "Python 3",
   "language": "python",
   "name": "python3"
  },
  "language_info": {
   "codemirror_mode": {
    "name": "ipython",
    "version": 3
   },
   "file_extension": ".py",
   "mimetype": "text/x-python",
   "name": "python",
   "nbconvert_exporter": "python",
   "pygments_lexer": "ipython3",
   "version": "3.9.6"
  },
  "orig_nbformat": 4
 },
 "nbformat": 4,
 "nbformat_minor": 2
}
