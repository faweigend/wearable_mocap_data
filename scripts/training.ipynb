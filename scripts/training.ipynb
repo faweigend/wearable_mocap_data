{
 "cells": [
  {
   "cell_type": "markdown",
   "metadata": {},
   "source": [
    "# Pose Prediction From Smartwatch Data\n",
    "### Part 2\n",
    "\n",
    "Welcome! This notebook is the second chapter of the hackathon challenge to predict human arm pose from the sensor data of a single smartwatch. In other words, a human wears a smartwatch, and we will try to predict their arm pose from the sensor outputs we can read from the watch.\n",
    "\n",
    "## Creating a Predictive Model with Machine Learning\n",
    "\n",
    "In this second chapter, we will have the opportunity to utilize the processed data from the previous chapter and train a Neural Network to generate predictions. The following sections will guide you step-by-step through model architecture design, model training and evaluation, performance analysis, and 3D visualization for better interpretability of the model's performance. "
   ]
  },
  {
   "cell_type": "markdown",
   "metadata": {},
   "source": [
    "### 0. Downloading Dependencies (Optional)\n",
    "\n",
    "We begin by downloading the libraries in this notebook. If you have all of these pre-installed, you may skip this step.\n",
    "\n",
    "Note: We installed some packages in the first notebook. If you skipped running it, please run step 0 from the first notebook to download dependacies and continute with this notebook. "
   ]
  },
  {
   "cell_type": "code",
   "execution_count": null,
   "metadata": {},
   "outputs": [],
   "source": [
    "!pip install torch\n",
    "!pip install sklearn"
   ]
  },
  {
   "cell_type": "markdown",
   "metadata": {},
   "source": [
    "### 1. Importing Libraries\n",
    "\n",
    "Lets import the libraries we will be primarily working with in this notebook. You may notice some similar ones. Let us help you understand why:\n",
    "- Libraries like Numpy and Pandas are helpful for mathematical functions and data frameworks respectively. Therefore, you would see them almost everywhere.\n",
    "- Matplotlib is often used to display plots. Using plotly, we will display interactive plots. But why do we need plots for training a machine learning model? You will find out soon. \n",
    "- Finally, Torch (PyTorch) provides powerful tools to deploy Neural Networks (NN)"
   ]
  },
  {
   "cell_type": "code",
   "execution_count": 1,
   "metadata": {},
   "outputs": [],
   "source": [
    "# PyTorch Libraries for Neural Network\n",
    "import torch\n",
    "import torch.nn as nn\n",
    "import torch.optim as optim\n",
    "from torch.utils.data import DataLoader, Dataset\n",
    "from sklearn.model_selection import train_test_split    # Scikit-Lean for preparing the train-test data split\n",
    "\n",
    "import pandas as pd\n",
    "import numpy as np\n",
    "\n",
    "# Plotting tools\n",
    "import matplotlib.pyplot as plt\n",
    "import plotly.graph_objs as go\n",
    "\n",
    "# adjust data paths in config.py\n",
    "import config   \n",
    "import os    "
   ]
  },
  {
   "cell_type": "markdown",
   "metadata": {},
   "source": [
    "### 2. Loading Processed Data\n",
    "\n",
    "Let's load the normalized dataset into the environment that we processed in the previous notebook. You will notice two files in the cache folder. \n",
    "1. `normalized_data.csv` contains the normalized dataset\n",
    "2. `means_stds.csv` contains the means and standard deviations of different columns utilized during normalization."
   ]
  },
  {
   "cell_type": "code",
   "execution_count": 2,
   "metadata": {},
   "outputs": [],
   "source": [
    "cache_path = config.paths[\"cache_path\"]\n",
    "path = os.path.join(cache_path, \"normalized_data.csv\")\n",
    "data_normalized = pd.read_csv(path)"
   ]
  },
  {
   "cell_type": "markdown",
   "metadata": {},
   "source": [
    "### 3. Plotting Functions\n",
    "Lets get the simpler stuff out of the way first. Since the neural networks will help estimate the X, Y & Z coordinates, we use a similar 3D visualization for representing the outputs by the model and actual labels to gain a deeper understanding of model's performance. \n",
    "\n",
    "Secondly, during the training process you will notice the loss decreases with epochs. It is useful to visualize the loss for a number of reasons:\n",
    "- Overfitting: When model starts remembering the training dataset instead of figuring out a \"pattern\".\n",
    "- Performance: To figure out if further training decreases or increases loss \n",
    "\n",
    "Note: Epoch refers to the iteration number where the model goes through the entire training data. For instance, 1 epoch indicates that model has passed through the data once. \n",
    "\n",
    "For these purposes, we are using helper functions that can be called repeatedly. "
   ]
  },
  {
   "cell_type": "code",
   "execution_count": 3,
   "metadata": {},
   "outputs": [],
   "source": [
    "\"\"\"\n",
    "    This section represents the function and helper function required for interactive 3D visualization:\n",
    "        - The interactive_output_visualization function helps in visualizing the X, Y, Z coordinates in an interactive 3D map. It is also used to display the output and original labels\n",
    "\"\"\"\n",
    "\n",
    "# Helper function that provides appropriate the approriate length for columns. \n",
    "# The duration variable helps in defining the length of continuous data - this helps in visualizing a smaller hand trajectory \n",
    "# The randomseed variable helps to visualize the same data without randomizing the selection process\n",
    "# The remaining functions follow the same variables and analogy\n",
    "def data_visualization(data, duration, randomseed=False, output=False, start_idx = None):\n",
    "    if output is True:\n",
    "        dim1, dim2, dim3 = data[:,0], data[:,1], data[:,2]\n",
    "    else:\n",
    "        dim1, dim2, dim3 = np.array(data['gt_hand_orig_rua_x']), np.array(data['gt_hand_orig_rua_y']), np.array(data['gt_hand_orig_rua_z'])\n",
    "\n",
    "    if start_idx is not None:\n",
    "        dim1 = dim1[start_idx : start_idx + duration]\n",
    "        dim2 = dim2[start_idx : start_idx + duration]\n",
    "        dim3 = dim3[start_idx : start_idx + duration]\n",
    "        \n",
    "    return dim1, dim2, dim3\n",
    "\n",
    "def interactive_output_visualization(data, duration=None, randomseed=False, output=False, output_data = None):\n",
    "    \n",
    "    if duration is not None:\n",
    "        if randomseed:\n",
    "            np.random.seed(42)\n",
    "        else: \n",
    "            np.random.seed(None)\n",
    "        duration *= 10\n",
    "        start_idx = np.random.choice(len(data[:,0]) - (duration))    \n",
    "    else: \n",
    "        start_idx = None\n",
    "\n",
    "    dim1, dim2, dim3 = data_visualization(data, duration, randomseed, output, start_idx=start_idx)\n",
    "\n",
    "    trace = go.Scatter3d(x=dim1, y=dim2, z=dim3, mode='markers', marker=dict(size=3, \n",
    "                                                                             color='blue', \n",
    "                                                                             opacity=0.8),\n",
    "                                                                             name=\"Input Points\")\n",
    "\n",
    "    if output:\n",
    "        dim1, dim2, dim3 = data_visualization(output_data, duration, randomseed, output, start_idx=start_idx)\n",
    "        trace_output = go.Scatter3d(x=dim1, y=dim2, z=dim3, mode='markers', marker=dict(size=3, \n",
    "                                                                                    color='red', \n",
    "                                                                                    opacity=0.5), \n",
    "                                                                                    name='Output Points')\n",
    "        traces = [trace, trace_output]\n",
    "        title = 'Input and Output Points in 3D Space'\n",
    "    else:\n",
    "        traces = [trace]\n",
    "        title = 'Values in 3D Space'\n",
    "\n",
    "    layout = go.Layout(title=title, scene=dict(xaxis=dict(title='X-Dimension'),\n",
    "                                                                        yaxis=dict(title='Y-Dimension'),\n",
    "                                                                        zaxis=dict(title='Z-Dimension')))\n",
    "\n",
    "    fig = go.Figure(data=traces, layout=layout)\n",
    "    fig.show()\n",
    "\n",
    "def lossPlot(losses):\n",
    "    epochs_total = range(1, 1 + len(losses[\"evaluation\"]))\n",
    "\n",
    "    plt.subplots(1, figsize=(20,5))\n",
    "    plt.plot(epochs_total, losses[\"training\"], label = \"Training Loss\")\n",
    "    plt.plot(epochs_total, losses[\"evaluation\"], label = \"Evaluation Loss\")\n",
    "    plt.xlabel('Epochs')\n",
    "    plt.ylabel('Loss')\n",
    "    plt.title('Losses over Epochs')\n",
    "    plt.legend()\n",
    "    plt.show()"
   ]
  },
  {
   "cell_type": "markdown",
   "metadata": {},
   "source": [
    "### 4. Data Loader & Model Architecture\n",
    "\n",
    "A data loader is an integral part of training a neural network. The data loader assists in selecting the relevant columns assigned as features and labels. We accomplish this task using the PyTorch library. \n",
    "\n",
    "In the next portion of the code block, we implement a basic feed-forward architecture comprising an input, two hidden, and an output layer."
   ]
  },
  {
   "cell_type": "code",
   "execution_count": 4,
   "metadata": {},
   "outputs": [],
   "source": [
    "\"\"\"\n",
    "    Data Loader: \n",
    "        This serves as the framework to load data using pandas and segment out the useful columns (labels and inputs)\n",
    "\"\"\"\n",
    "gt_columns = [\n",
    "    \"gt_hand_orig_rua_x\", \"gt_hand_orig_rua_y\", \"gt_hand_orig_rua_z\",\n",
    "    \"gt_larm_6drr_rh_1\", \"gt_larm_6drr_rh_2\", \"gt_larm_6drr_rh_3\",\n",
    "    \"gt_larm_6drr_rh_4\", \"gt_larm_6drr_rh_5\", \"gt_larm_6drr_rh_6\",\n",
    "    \"gt_larm_orig_rua_x\", \"gt_larm_orig_rua_y\", \"gt_larm_orig_rua_z\",\n",
    "    \"gt_uarm_6drr_rh_1\", \"gt_uarm_6drr_rh_2\", \"gt_uarm_6drr_rh_3\",\n",
    "    \"gt_uarm_6drr_rh_4\", \"gt_uarm_6drr_rh_5\", \"gt_uarm_6drr_rh_6\"\n",
    "]\n",
    "\n",
    "sw_columns = [\n",
    "    \"sw_dt\",\n",
    "    \"sw_gyro_x\", \"sw_gyro_y\", \"sw_gyro_z\",\n",
    "    \"sw_lvel_x\", \"sw_lvel_y\", \"sw_lvel_z\",\n",
    "    \"sw_lacc_x\", \"sw_lacc_y\", \"sw_lacc_z\",\n",
    "    \"sw_grav_x\", \"sw_grav_y\", \"sw_grav_z\",\n",
    "    \"sw_6drr_cal_1\", \"sw_6drr_cal_2\", \"sw_6drr_cal_3\",\n",
    "    \"sw_6drr_cal_4\", \"sw_6drr_cal_5\", \"sw_6drr_cal_6\",\n",
    "    \"sw_pres_cal\"\n",
    "]\n",
    "\n",
    "class MyDataset(Dataset):\n",
    "    def __init__ (self, data):\n",
    "        self.data = data\n",
    "        self.features = self.data.loc[:, sw_columns].values     # All smart watch inputs that contribute towards the outputs\n",
    "        self.labels = self.data.loc[:, gt_columns[0:3]].values          # The model predicts X, Y, Z coordinates of hand\n",
    "\n",
    "    def __len__ (self):\n",
    "        return len(self.data)\n",
    "    \n",
    "    def __getitem__ (self, idx):\n",
    "        features = torch.tensor(self.features[idx], dtype=torch.float32) \n",
    "        label = torch.tensor(self.labels[idx], dtype=torch.float32)\n",
    "        return features, label\n",
    "    \n",
    "\"\"\"\n",
    "    Neural Network / Model:\n",
    "        A simple linear architecture based model with 3 layers (including input and output layers). \n",
    "\"\"\"\n",
    "\n",
    "class MyModel(nn.Module):\n",
    "    def __init__ (self, input_size, hidden_size, output_size):\n",
    "        super (MyModel, self).__init__()\n",
    "\n",
    "        self.flatten = nn.Flatten()\n",
    "        self.linear_stack = nn.Sequential(\n",
    "            nn.Linear(input_size, int(hidden_size * 1.5)),\n",
    "            nn.LeakyReLU(negative_slope= 0.5),\n",
    "            nn.Linear(int(hidden_size * 1.5), int(hidden_size * 0.75)),\n",
    "            nn.LeakyReLU(negative_slope= 0.1),\n",
    "            nn.Linear(int(hidden_size * 0.75), int(hidden_size * 0.25)),\n",
    "            nn.LeakyReLU(negative_slope= 0.05),\n",
    "            nn.Linear(int(hidden_size * 0.25), int(hidden_size * 0.1)),\n",
    "            nn.LeakyReLU(negative_slope= 0.01),\n",
    "            nn.Linear(int(hidden_size * 0.1), output_size),\n",
    "            nn.LeakyReLU()\n",
    "        )\n",
    "    \n",
    "    def forward(self, x):\n",
    "        x = self.flatten(x)\n",
    "        x = self.linear_stack(x)\n",
    "        return x"
   ]
  },
  {
   "cell_type": "markdown",
   "metadata": {},
   "source": [
    "The next code block provides a basic overview of some of the tunable parameters. We encourage you to play around with these parameters to see what works better for this model architecture and dataset."
   ]
  },
  {
   "cell_type": "code",
   "execution_count": 7,
   "metadata": {},
   "outputs": [],
   "source": [
    "batch_size = 1000        \n",
    "learning_rate = 0.01\n",
    "num_epochs = 500\n",
    "test_data_size = 0.2            # Range 0-1. You may increase or decrease the recommended testing data size by updating this variable\n",
    "hidden_size = 128               # This represents the middle layer of the neural network. You may manually play around with the model architecture by adding more layers"
   ]
  },
  {
   "cell_type": "markdown",
   "metadata": {},
   "source": [
    "Let's initialize our model with the help of helper functions defined previously. You would also notice the `criterion` and `optimizer` variables that work differently for different tasks. Feel free to play around with them. \n",
    "\n",
    "For more information on loss functions and optimizers, visit:  \n",
    "- https://pytorch.org/docs/stable/nn.html#loss-functions     \n",
    "- https://pytorch.org/docs/stable/optim.html"
   ]
  },
  {
   "cell_type": "code",
   "execution_count": 8,
   "metadata": {},
   "outputs": [
    {
     "data": {
      "text/plain": [
       "MyModel(\n",
       "  (flatten): Flatten(start_dim=1, end_dim=-1)\n",
       "  (linear_stack): Sequential(\n",
       "    (0): Linear(in_features=20, out_features=192, bias=True)\n",
       "    (1): LeakyReLU(negative_slope=0.5)\n",
       "    (2): Linear(in_features=192, out_features=96, bias=True)\n",
       "    (3): LeakyReLU(negative_slope=0.1)\n",
       "    (4): Linear(in_features=96, out_features=32, bias=True)\n",
       "    (5): LeakyReLU(negative_slope=0.05)\n",
       "    (6): Linear(in_features=32, out_features=12, bias=True)\n",
       "    (7): LeakyReLU(negative_slope=0.01)\n",
       "    (8): Linear(in_features=12, out_features=3, bias=True)\n",
       "    (9): LeakyReLU(negative_slope=0.01)\n",
       "  )\n",
       ")"
      ]
     },
     "execution_count": 8,
     "metadata": {},
     "output_type": "execute_result"
    }
   ],
   "source": [
    "# Data loading calls to class and functions\n",
    "dataset = MyDataset(data_normalized)\n",
    "\n",
    "train_dataset, test_dataset = train_test_split(dataset, test_size=test_data_size, shuffle=False)\n",
    "train_loader = DataLoader(train_dataset, batch_size=batch_size, shuffle=True)\n",
    "test_loader = DataLoader(test_dataset, batch_size=batch_size, shuffle=False)\n",
    "\n",
    "# Initialzing the model with inputs\n",
    "input_size = len(dataset.features[0])\n",
    "output_size = len(dataset.labels[0])\n",
    "\n",
    "model = MyModel(input_size, hidden_size, output_size)\n",
    "# Try out different loss functions and optimizers to see what works with different tasks. \n",
    "criterion = nn.SmoothL1Loss()\n",
    "optimizer = optim.ASGD(model.parameters(), lr=learning_rate)     \n",
    "\n",
    "\"\"\"\n",
    "    If you have GPU resource available, the training process will be faster!\n",
    "    It's okay if you dont have a GPU. The code works without one as well. \n",
    "\"\"\"\n",
    "device = torch.device(\"cuda\" if torch.cuda.is_available() else \"cpu\")\n",
    "model.to(device)"
   ]
  },
  {
   "cell_type": "markdown",
   "metadata": {},
   "source": [
    "### 5. Model Training & Evaluation\n",
    "\n",
    "Let's train our data using the defined neural network. The notebook implements the training loop, where batches of data are fed into the model iteratively. During training, the model learns to optimize its parameters to minimize the defined loss function through backpropagation. Training hyperparameters, such as learning rate, batch size, and number of epochs, can be fine-tuned to achieve optimal performance.\n",
    "\n",
    "Following training, you will notice the evaluation block that evaluates the neural network's performance on a separate test dataset (not included in training) to assess its performance. \n",
    "\n",
    "Lastly, the `losses` dictionary is populated to visualize important metrics later in the notebook. "
   ]
  },
  {
   "cell_type": "code",
   "execution_count": 9,
   "metadata": {},
   "outputs": [
    {
     "name": "stdout",
     "output_type": "stream",
     "text": [
      "Epoch 1/500, Training Loss: 0.42743002029432764, Smooth L1 Loss: 0.4236213739674825\n",
      "Epoch 2/500, Training Loss: 0.42253297927298983, Smooth L1 Loss: 0.4188356320731915\n",
      "Epoch 3/500, Training Loss: 0.41774111705413763, Smooth L1 Loss: 0.4120915765659167\n",
      "Epoch 4/500, Training Loss: 0.4101660229301683, Smooth L1 Loss: 0.4015349386116633\n",
      "Epoch 5/500, Training Loss: 0.39783419747859383, Smooth L1 Loss: 0.38607660981898123\n",
      "Epoch 6/500, Training Loss: 0.38072320653332603, Smooth L1 Loss: 0.36689263517753434\n",
      "Epoch 7/500, Training Loss: 0.3599226325750351, Smooth L1 Loss: 0.34521168377250433\n",
      "Epoch 8/500, Training Loss: 0.3383410416795436, Smooth L1 Loss: 0.326906396720845\n",
      "Epoch 9/500, Training Loss: 0.3213865261722878, Smooth L1 Loss: 0.31402009976311374\n",
      "Epoch 10/500, Training Loss: 0.30510691607343976, Smooth L1 Loss: 0.29743179929657626\n",
      "Epoch 11/500, Training Loss: 0.2863164140262466, Smooth L1 Loss: 0.279449623507949\n",
      "Epoch 12/500, Training Loss: 0.2754684011069473, Smooth L1 Loss: 0.27273759973020506\n",
      "Epoch 13/500, Training Loss: 0.27178421400595404, Smooth L1 Loss: 0.270223123809466\n",
      "Epoch 14/500, Training Loss: 0.27000109084706375, Smooth L1 Loss: 0.268977619564304\n",
      "Epoch 15/500, Training Loss: 0.2688605110498442, Smooth L1 Loss: 0.2683271436522213\n",
      "Epoch 16/500, Training Loss: 0.26800175043551816, Smooth L1 Loss: 0.267713929562328\n",
      "Epoch 17/500, Training Loss: 0.26731672919026894, Smooth L1 Loss: 0.2671176713461486\n",
      "Epoch 18/500, Training Loss: 0.2665452941676269, Smooth L1 Loss: 0.26666840828525334\n",
      "Epoch 19/500, Training Loss: 0.26584090400433197, Smooth L1 Loss: 0.26613999512762976\n",
      "Epoch 20/500, Training Loss: 0.2651769356163228, Smooth L1 Loss: 0.26593047996553093\n",
      "Epoch 21/500, Training Loss: 0.2646064622606632, Smooth L1 Loss: 0.26556388661265373\n",
      "Epoch 22/500, Training Loss: 0.26411246933078997, Smooth L1 Loss: 0.2652263715863228\n",
      "Epoch 23/500, Training Loss: 0.26367152773815655, Smooth L1 Loss: 0.2648903235005072\n",
      "Epoch 24/500, Training Loss: 0.26327036893454153, Smooth L1 Loss: 0.2647173757163378\n",
      "Epoch 25/500, Training Loss: 0.2629214069549588, Smooth L1 Loss: 0.2645934668297951\n",
      "Epoch 26/500, Training Loss: 0.2625819186585537, Smooth L1 Loss: 0.2642023713471225\n",
      "Epoch 27/500, Training Loss: 0.2622775355902847, Smooth L1 Loss: 0.26405686942430645\n",
      "Epoch 28/500, Training Loss: 0.2619607614866201, Smooth L1 Loss: 0.26385529321403456\n",
      "Epoch 29/500, Training Loss: 0.2616798487910326, Smooth L1 Loss: 0.26367789388705903\n",
      "Epoch 30/500, Training Loss: 0.26135010203877507, Smooth L1 Loss: 0.26327139350514\n",
      "Epoch 31/500, Training Loss: 0.2611266390784927, Smooth L1 Loss: 0.263252493352271\n",
      "Epoch 32/500, Training Loss: 0.26083425252477904, Smooth L1 Loss: 0.26327231153845787\n",
      "Epoch 33/500, Training Loss: 0.260585630249574, Smooth L1 Loss: 0.26292397250206423\n",
      "Epoch 34/500, Training Loss: 0.26033407572098977, Smooth L1 Loss: 0.26284893380048185\n",
      "Epoch 35/500, Training Loss: 0.2600874663623059, Smooth L1 Loss: 0.26270487847236484\n",
      "Epoch 36/500, Training Loss: 0.25979003061850864, Smooth L1 Loss: 0.262616208073898\n",
      "Epoch 37/500, Training Loss: 0.2595351553265599, Smooth L1 Loss: 0.26240621650448215\n",
      "Epoch 38/500, Training Loss: 0.25930686374217415, Smooth L1 Loss: 0.26249120054909814\n",
      "Epoch 39/500, Training Loss: 0.2590427119734783, Smooth L1 Loss: 0.261967715055037\n",
      "Epoch 40/500, Training Loss: 0.2588040013820077, Smooth L1 Loss: 0.26192155423072666\n",
      "Epoch 41/500, Training Loss: 0.25855962205048344, Smooth L1 Loss: 0.26179593239122856\n",
      "Epoch 42/500, Training Loss: 0.25834315597723073, Smooth L1 Loss: 0.26187857107904094\n",
      "Epoch 43/500, Training Loss: 0.2581528435294755, Smooth L1 Loss: 0.26167923752934885\n",
      "Epoch 44/500, Training Loss: 0.2578933748646059, Smooth L1 Loss: 0.2614346098226423\n",
      "Epoch 45/500, Training Loss: 0.2576829479728344, Smooth L1 Loss: 0.2613463651102323\n",
      "Epoch 46/500, Training Loss: 0.2575126397940848, Smooth L1 Loss: 0.2611416900315537\n",
      "Epoch 47/500, Training Loss: 0.2572689576137469, Smooth L1 Loss: 0.2614050237820126\n",
      "Epoch 48/500, Training Loss: 0.25707566817313576, Smooth L1 Loss: 0.26129321908005154\n",
      "Epoch 49/500, Training Loss: 0.25684666615609386, Smooth L1 Loss: 0.2609345418615983\n",
      "Epoch 50/500, Training Loss: 0.2566785383699597, Smooth L1 Loss: 0.26100682080365145\n",
      "Epoch 51/500, Training Loss: 0.25646666376199123, Smooth L1 Loss: 0.2611769219287313\n",
      "Epoch 52/500, Training Loss: 0.25624917087635557, Smooth L1 Loss: 0.26102885335253984\n",
      "Epoch 53/500, Training Loss: 0.25606813555322405, Smooth L1 Loss: 0.2607529544128248\n",
      "Epoch 54/500, Training Loss: 0.25585268715009596, Smooth L1 Loss: 0.26054865662724924\n",
      "Epoch 55/500, Training Loss: 0.2556650294845807, Smooth L1 Loss: 0.2607419299893081\n",
      "Epoch 56/500, Training Loss: 0.25550353145541777, Smooth L1 Loss: 0.26100863219023895\n",
      "Epoch 57/500, Training Loss: 0.25529454385744776, Smooth L1 Loss: 0.2604002366917065\n",
      "Epoch 58/500, Training Loss: 0.25511893331284685, Smooth L1 Loss: 0.2604702740119627\n",
      "Epoch 59/500, Training Loss: 0.2549070388366635, Smooth L1 Loss: 0.260260426833366\n",
      "Epoch 60/500, Training Loss: 0.25473682474398956, Smooth L1 Loss: 0.26031946938914746\n",
      "Epoch 61/500, Training Loss: 0.254531293063636, Smooth L1 Loss: 0.2602607965684281\n",
      "Epoch 62/500, Training Loss: 0.2543672160897854, Smooth L1 Loss: 0.2604438838047477\n",
      "Epoch 63/500, Training Loss: 0.2541989964131572, Smooth L1 Loss: 0.2600876502334498\n",
      "Epoch 64/500, Training Loss: 0.2539879766423345, Smooth L1 Loss: 0.2602118580387189\n",
      "Epoch 65/500, Training Loss: 0.2537907580822562, Smooth L1 Loss: 0.2599929979142661\n",
      "Epoch 66/500, Training Loss: 0.25364320552435476, Smooth L1 Loss: 0.2600743711138001\n",
      "Epoch 67/500, Training Loss: 0.2534449345247757, Smooth L1 Loss: 0.25967408602054304\n",
      "Epoch 68/500, Training Loss: 0.25327946803564033, Smooth L1 Loss: 0.25953929061786485\n",
      "Epoch 69/500, Training Loss: 0.2531125839565687, Smooth L1 Loss: 0.25952339082813036\n",
      "Epoch 70/500, Training Loss: 0.25295971956661933, Smooth L1 Loss: 0.2598932297327198\n",
      "Epoch 71/500, Training Loss: 0.2527638191834164, Smooth L1 Loss: 0.25979675495853793\n",
      "Epoch 72/500, Training Loss: 0.25262170810486384, Smooth L1 Loss: 0.25953705727051085\n",
      "Epoch 73/500, Training Loss: 0.2523834845006178, Smooth L1 Loss: 0.2592205030557055\n",
      "Epoch 74/500, Training Loss: 0.25222706355622426, Smooth L1 Loss: 0.2596712577013442\n",
      "Epoch 75/500, Training Loss: 0.2520636000854958, Smooth L1 Loss: 0.2597208235484476\n",
      "Epoch 76/500, Training Loss: 0.2519207100793359, Smooth L1 Loss: 0.25944252183231026\n",
      "Epoch 77/500, Training Loss: 0.25171583818928633, Smooth L1 Loss: 0.2594197394254689\n",
      "Epoch 78/500, Training Loss: 0.25159607118598504, Smooth L1 Loss: 0.2591761967453819\n",
      "Epoch 79/500, Training Loss: 0.2513536368519212, Smooth L1 Loss: 0.25894981425685376\n",
      "Epoch 80/500, Training Loss: 0.2512220120156445, Smooth L1 Loss: 0.258727818261832\n",
      "Epoch 81/500, Training Loss: 0.25103790636943735, Smooth L1 Loss: 0.2589066248530379\n",
      "Epoch 82/500, Training Loss: 0.2508997852027704, Smooth L1 Loss: 0.259248219573727\n",
      "Epoch 83/500, Training Loss: 0.2507165677233595, Smooth L1 Loss: 0.25890803415901387\n",
      "Epoch 84/500, Training Loss: 0.2505301600277136, Smooth L1 Loss: 0.2587011231897542\n",
      "Epoch 85/500, Training Loss: 0.25038922574497074, Smooth L1 Loss: 0.25857456494122744\n",
      "Epoch 86/500, Training Loss: 0.25021894848433096, Smooth L1 Loss: 0.25876850631231296\n",
      "Epoch 87/500, Training Loss: 0.25005480373539213, Smooth L1 Loss: 0.2582907321003194\n",
      "Epoch 88/500, Training Loss: 0.24986258048366233, Smooth L1 Loss: 0.25851867312135607\n",
      "Epoch 89/500, Training Loss: 0.24969659317374807, Smooth L1 Loss: 0.25819023809610653\n",
      "Epoch 90/500, Training Loss: 0.24950635109258734, Smooth L1 Loss: 0.25865032774611163\n",
      "Epoch 91/500, Training Loss: 0.24938134474742815, Smooth L1 Loss: 0.25801742732381594\n",
      "Epoch 92/500, Training Loss: 0.24917390298296288, Smooth L1 Loss: 0.2579225906744026\n",
      "Epoch 93/500, Training Loss: 0.24901104369313246, Smooth L1 Loss: 0.258019549628863\n",
      "Epoch 94/500, Training Loss: 0.24884120302931698, Smooth L1 Loss: 0.25792633104496276\n",
      "Epoch 95/500, Training Loss: 0.24868522073335694, Smooth L1 Loss: 0.25780354848561376\n",
      "Epoch 96/500, Training Loss: 0.24847052152749996, Smooth L1 Loss: 0.25761852846839106\n",
      "Epoch 97/500, Training Loss: 0.2483031639226393, Smooth L1 Loss: 0.2578087813364199\n",
      "Epoch 98/500, Training Loss: 0.2480921037675102, Smooth L1 Loss: 0.2572440576309768\n",
      "Epoch 99/500, Training Loss: 0.24789779161773443, Smooth L1 Loss: 0.2571803154782034\n",
      "Epoch 100/500, Training Loss: 0.24772202176748268, Smooth L1 Loss: 0.25692968271099603\n",
      "Epoch 101/500, Training Loss: 0.2475362501786527, Smooth L1 Loss: 0.25692858532644236\n",
      "Epoch 102/500, Training Loss: 0.2473069905226933, Smooth L1 Loss: 0.25685150738662255\n",
      "Epoch 103/500, Training Loss: 0.24710269675450625, Smooth L1 Loss: 0.25701124174520373\n",
      "Epoch 104/500, Training Loss: 0.24688968091195332, Smooth L1 Loss: 0.2563427518336819\n",
      "Epoch 105/500, Training Loss: 0.24666573398787042, Smooth L1 Loss: 0.2565626260967782\n",
      "Epoch 106/500, Training Loss: 0.24644869292415858, Smooth L1 Loss: 0.25609807147142977\n",
      "Epoch 107/500, Training Loss: 0.24624562979752315, Smooth L1 Loss: 0.2562695771384125\n",
      "Epoch 108/500, Training Loss: 0.24597276236124085, Smooth L1 Loss: 0.2555917704549546\n",
      "Epoch 109/500, Training Loss: 0.24572991576171727, Smooth L1 Loss: 0.25552978380941427\n",
      "Epoch 110/500, Training Loss: 0.24544311311221928, Smooth L1 Loss: 0.2554672722203227\n",
      "Epoch 111/500, Training Loss: 0.24516043938012513, Smooth L1 Loss: 0.25501577187186253\n",
      "Epoch 112/500, Training Loss: 0.24487536677703764, Smooth L1 Loss: 0.25485187181486535\n",
      "Epoch 113/500, Training Loss: 0.2445522502136691, Smooth L1 Loss: 0.25433837762102485\n",
      "Epoch 114/500, Training Loss: 0.2441966707147838, Smooth L1 Loss: 0.2539279477026027\n",
      "Epoch 115/500, Training Loss: 0.24383877995221512, Smooth L1 Loss: 0.2532910507243986\n",
      "Epoch 116/500, Training Loss: 0.24345371249505288, Smooth L1 Loss: 0.2538217973823731\n",
      "Epoch 117/500, Training Loss: 0.2430142606586074, Smooth L1 Loss: 0.2524885894157566\n",
      "Epoch 118/500, Training Loss: 0.24259541457257985, Smooth L1 Loss: 0.25257868584818566\n",
      "Epoch 119/500, Training Loss: 0.2420959048297094, Smooth L1 Loss: 0.25173702384703434\n",
      "Epoch 120/500, Training Loss: 0.2415636760601099, Smooth L1 Loss: 0.2514797631257142\n",
      "Epoch 121/500, Training Loss: 0.24096078195289714, Smooth L1 Loss: 0.25078852492599535\n",
      "Epoch 122/500, Training Loss: 0.24030490000034876, Smooth L1 Loss: 0.2505207962822169\n",
      "Epoch 123/500, Training Loss: 0.23961844201681118, Smooth L1 Loss: 0.2493267512987726\n",
      "Epoch 124/500, Training Loss: 0.23882121758328545, Smooth L1 Loss: 0.2485123006089662\n",
      "Epoch 125/500, Training Loss: 0.23798993762564544, Smooth L1 Loss: 0.24797112423066908\n",
      "Epoch 126/500, Training Loss: 0.23702679887629938, Smooth L1 Loss: 0.2468567609679527\n",
      "Epoch 127/500, Training Loss: 0.23593546853261294, Smooth L1 Loss: 0.24584328598127916\n",
      "Epoch 128/500, Training Loss: 0.2347341289986735, Smooth L1 Loss: 0.2444684367555265\n",
      "Epoch 129/500, Training Loss: 0.2333550472262401, Smooth L1 Loss: 0.24325729863574871\n",
      "Epoch 130/500, Training Loss: 0.23184646540073958, Smooth L1 Loss: 0.24163603116399968\n",
      "Epoch 131/500, Training Loss: 0.23010196101262373, Smooth L1 Loss: 0.23943980038166046\n",
      "Epoch 132/500, Training Loss: 0.22806651371976602, Smooth L1 Loss: 0.23747825554500407\n",
      "Epoch 133/500, Training Loss: 0.22583774754390623, Smooth L1 Loss: 0.23501550286220244\n",
      "Epoch 134/500, Training Loss: 0.22322114103514215, Smooth L1 Loss: 0.23223185947594735\n",
      "Epoch 135/500, Training Loss: 0.2203128394369342, Smooth L1 Loss: 0.2289810314273032\n",
      "Epoch 136/500, Training Loss: 0.21704075705026082, Smooth L1 Loss: 0.2255776059240676\n",
      "Epoch 137/500, Training Loss: 0.21355164749322883, Smooth L1 Loss: 0.2218001674538335\n",
      "Epoch 138/500, Training Loss: 0.20984358999176303, Smooth L1 Loss: 0.2183041106372212\n",
      "Epoch 139/500, Training Loss: 0.20611194798335936, Smooth L1 Loss: 0.21461127107389844\n",
      "Epoch 140/500, Training Loss: 0.20250612835665255, Smooth L1 Loss: 0.21073916964591122\n",
      "Epoch 141/500, Training Loss: 0.19926359526057175, Smooth L1 Loss: 0.2078224157448858\n",
      "Epoch 142/500, Training Loss: 0.1964505927430259, Smooth L1 Loss: 0.2056327223813591\n",
      "Epoch 143/500, Training Loss: 0.19404494312506368, Smooth L1 Loss: 0.20486864999223214\n",
      "Epoch 144/500, Training Loss: 0.19206704750009204, Smooth L1 Loss: 0.20282961847260594\n",
      "Epoch 145/500, Training Loss: 0.19046423994544623, Smooth L1 Loss: 0.20191979895417506\n",
      "Epoch 146/500, Training Loss: 0.1890705330432325, Smooth L1 Loss: 0.20053980911437136\n",
      "Epoch 147/500, Training Loss: 0.1878749431979253, Smooth L1 Loss: 0.19966288519879946\n",
      "Epoch 148/500, Training Loss: 0.18685305514485365, Smooth L1 Loss: 0.1985994831372339\n",
      "Epoch 149/500, Training Loss: 0.18589531075983232, Smooth L1 Loss: 0.19813506144027299\n",
      "Epoch 150/500, Training Loss: 0.1850112178115453, Smooth L1 Loss: 0.1982270751435023\n",
      "Epoch 151/500, Training Loss: 0.18416042348756884, Smooth L1 Loss: 0.1969160737398152\n",
      "Epoch 152/500, Training Loss: 0.1834258627200472, Smooth L1 Loss: 0.19567612952624375\n",
      "Epoch 153/500, Training Loss: 0.1826528454028466, Smooth L1 Loss: 0.19557474829399815\n",
      "Epoch 154/500, Training Loss: 0.18193021528242867, Smooth L1 Loss: 0.19445346306579617\n",
      "Epoch 155/500, Training Loss: 0.18118622449141195, Smooth L1 Loss: 0.19471895601600409\n",
      "Epoch 156/500, Training Loss: 0.1804854146020424, Smooth L1 Loss: 0.19300754733670217\n",
      "Epoch 157/500, Training Loss: 0.17975375660951587, Smooth L1 Loss: 0.1934108413540973\n",
      "Epoch 158/500, Training Loss: 0.17904486449588325, Smooth L1 Loss: 0.1928328125952528\n",
      "Epoch 159/500, Training Loss: 0.17831849080065024, Smooth L1 Loss: 0.19123902085881966\n",
      "Epoch 160/500, Training Loss: 0.177565128043078, Smooth L1 Loss: 0.19071911912984574\n",
      "Epoch 161/500, Training Loss: 0.17676276753202153, Smooth L1 Loss: 0.1904953822063712\n",
      "Epoch 162/500, Training Loss: 0.17592802244252054, Smooth L1 Loss: 0.18848425346928147\n",
      "Epoch 163/500, Training Loss: 0.1750493337566726, Smooth L1 Loss: 0.18950271155112064\n",
      "Epoch 164/500, Training Loss: 0.17409693233776782, Smooth L1 Loss: 0.18598994988804826\n",
      "Epoch 165/500, Training Loss: 0.17305071234415118, Smooth L1 Loss: 0.18579621949734595\n",
      "Epoch 166/500, Training Loss: 0.17193205672617695, Smooth L1 Loss: 0.18424816712593803\n",
      "Epoch 167/500, Training Loss: 0.17070840255937714, Smooth L1 Loss: 0.18315316894306585\n",
      "Epoch 168/500, Training Loss: 0.16934167100611516, Smooth L1 Loss: 0.18104384252085134\n",
      "Epoch 169/500, Training Loss: 0.16785133633636623, Smooth L1 Loss: 0.18235072074458003\n",
      "Epoch 170/500, Training Loss: 0.16618888011733116, Smooth L1 Loss: 0.17878639558330178\n",
      "Epoch 171/500, Training Loss: 0.16432078862967697, Smooth L1 Loss: 0.1762794706827173\n",
      "Epoch 172/500, Training Loss: 0.1620991841174554, Smooth L1 Loss: 0.17317687809610596\n",
      "Epoch 173/500, Training Loss: 0.15968397806807993, Smooth L1 Loss: 0.16998399052625665\n",
      "Epoch 174/500, Training Loss: 0.15688619629484443, Smooth L1 Loss: 0.1695630565070762\n",
      "Epoch 175/500, Training Loss: 0.1537560495921379, Smooth L1 Loss: 0.16464101831213787\n",
      "Epoch 176/500, Training Loss: 0.1502674141727784, Smooth L1 Loss: 0.16069891289449656\n",
      "Epoch 177/500, Training Loss: 0.1465017160643702, Smooth L1 Loss: 0.1565015521258689\n",
      "Epoch 178/500, Training Loss: 0.14255680568552248, Smooth L1 Loss: 0.1533532512660783\n",
      "Epoch 179/500, Training Loss: 0.13859481231313972, Smooth L1 Loss: 0.1478336755043039\n",
      "Epoch 180/500, Training Loss: 0.1348706765487286, Smooth L1 Loss: 0.14374352887702677\n",
      "Epoch 181/500, Training Loss: 0.13153754525642464, Smooth L1 Loss: 0.14012312778056815\n",
      "Epoch 182/500, Training Loss: 0.12861862247764777, Smooth L1 Loss: 0.13902724964114335\n",
      "Epoch 183/500, Training Loss: 0.12617096652227325, Smooth L1 Loss: 0.13468689421335092\n",
      "Epoch 184/500, Training Loss: 0.12402297892936186, Smooth L1 Loss: 0.13219312016064158\n",
      "Epoch 185/500, Training Loss: 0.12224672439593624, Smooth L1 Loss: 0.12907192057285172\n",
      "Epoch 186/500, Training Loss: 0.12063142702271397, Smooth L1 Loss: 0.12897549322448099\n",
      "Epoch 187/500, Training Loss: 0.11919841634622519, Smooth L1 Loss: 0.12770343013107777\n",
      "Epoch 188/500, Training Loss: 0.1178949595325523, Smooth L1 Loss: 0.12569042377603742\n",
      "Epoch 189/500, Training Loss: 0.11668271551601553, Smooth L1 Loss: 0.12501396958787853\n",
      "Epoch 190/500, Training Loss: 0.11572658760104203, Smooth L1 Loss: 0.1229862357274844\n",
      "Epoch 191/500, Training Loss: 0.11456012356900362, Smooth L1 Loss: 0.12342266663192557\n",
      "Epoch 192/500, Training Loss: 0.11387021620060511, Smooth L1 Loss: 0.12384166147631522\n",
      "Epoch 193/500, Training Loss: 0.11298612820137525, Smooth L1 Loss: 0.1239968233455259\n",
      "Epoch 194/500, Training Loss: 0.11201655087263687, Smooth L1 Loss: 0.12011257829502799\n",
      "Epoch 195/500, Training Loss: 0.11168558289103461, Smooth L1 Loss: 0.11890982023368661\n",
      "Epoch 196/500, Training Loss: 0.11072246555760863, Smooth L1 Loss: 0.11975511451824926\n",
      "Epoch 197/500, Training Loss: 0.10978440134133693, Smooth L1 Loss: 0.11812675896530542\n",
      "Epoch 198/500, Training Loss: 0.10898382121310142, Smooth L1 Loss: 0.11765887869450335\n",
      "Epoch 199/500, Training Loss: 0.10850049019003837, Smooth L1 Loss: 0.11628059956889886\n",
      "Epoch 200/500, Training Loss: 0.10768852076956616, Smooth L1 Loss: 0.11456760105032188\n",
      "Epoch 201/500, Training Loss: 0.10727046692860875, Smooth L1 Loss: 0.11538033147987264\n",
      "Epoch 202/500, Training Loss: 0.10621909858379963, Smooth L1 Loss: 0.11491706306472994\n",
      "Epoch 203/500, Training Loss: 0.10591327751748228, Smooth L1 Loss: 0.11425018113536331\n",
      "Epoch 204/500, Training Loss: 0.10521803785493408, Smooth L1 Loss: 0.11272572761831376\n",
      "Epoch 205/500, Training Loss: 0.10467971350259828, Smooth L1 Loss: 0.11539229490937522\n",
      "Epoch 206/500, Training Loss: 0.1041087505142182, Smooth L1 Loss: 0.11061359673308638\n",
      "Epoch 207/500, Training Loss: 0.10341442286392341, Smooth L1 Loss: 0.11155227992612009\n",
      "Epoch 208/500, Training Loss: 0.10270709879156473, Smooth L1 Loss: 0.11004603978318091\n",
      "Epoch 209/500, Training Loss: 0.10260918948817369, Smooth L1 Loss: 0.1108239536316922\n",
      "Epoch 210/500, Training Loss: 0.10171671445674943, Smooth L1 Loss: 0.11095961566584614\n",
      "Epoch 211/500, Training Loss: 0.10144576439319025, Smooth L1 Loss: 0.10882085094300027\n",
      "Epoch 212/500, Training Loss: 0.10080356895923615, Smooth L1 Loss: 0.10770973686773616\n",
      "Epoch 213/500, Training Loss: 0.10042248142586238, Smooth L1 Loss: 0.1093356019924753\n",
      "Epoch 214/500, Training Loss: 0.10031624811427028, Smooth L1 Loss: 0.11344299583624189\n",
      "Epoch 215/500, Training Loss: 0.09980900758418484, Smooth L1 Loss: 0.1089848240909095\n",
      "Epoch 216/500, Training Loss: 0.09915838518364418, Smooth L1 Loss: 0.10648393519939138\n",
      "Epoch 217/500, Training Loss: 0.0984732429654414, Smooth L1 Loss: 0.107854562274252\n",
      "Epoch 218/500, Training Loss: 0.098536122860252, Smooth L1 Loss: 0.10562981013208628\n",
      "Epoch 219/500, Training Loss: 0.09816137494312392, Smooth L1 Loss: 0.11269448824728337\n",
      "Epoch 220/500, Training Loss: 0.0977918416765577, Smooth L1 Loss: 0.10393440175371674\n",
      "Epoch 221/500, Training Loss: 0.09722546309880588, Smooth L1 Loss: 0.10596600468628682\n",
      "Epoch 222/500, Training Loss: 0.09668273300580356, Smooth L1 Loss: 0.10405724304011808\n",
      "Epoch 223/500, Training Loss: 0.09609491660615097, Smooth L1 Loss: 0.10255360488708203\n",
      "Epoch 224/500, Training Loss: 0.09633838959434182, Smooth L1 Loss: 0.10221958867847346\n",
      "Epoch 225/500, Training Loss: 0.09605927594401986, Smooth L1 Loss: 0.10490238202664141\n",
      "Epoch 226/500, Training Loss: 0.09557314110910835, Smooth L1 Loss: 0.10213411484773342\n",
      "Epoch 227/500, Training Loss: 0.09484435869875738, Smooth L1 Loss: 0.10214705605847904\n",
      "Epoch 228/500, Training Loss: 0.0949479960768983, Smooth L1 Loss: 0.11226743246571949\n",
      "Epoch 229/500, Training Loss: 0.09501658052493984, Smooth L1 Loss: 0.0997077081567393\n",
      "Epoch 230/500, Training Loss: 0.09429637499261594, Smooth L1 Loss: 0.09867418928143497\n",
      "Epoch 231/500, Training Loss: 0.09422107357621769, Smooth L1 Loss: 0.12389166586889097\n",
      "Epoch 232/500, Training Loss: 0.09383197177363478, Smooth L1 Loss: 0.10605090598647411\n",
      "Epoch 233/500, Training Loss: 0.09373739316771572, Smooth L1 Loss: 0.11165511740658146\n",
      "Epoch 234/500, Training Loss: 0.09332643307133573, Smooth L1 Loss: 0.09766541378429303\n",
      "Epoch 235/500, Training Loss: 0.0935043774113275, Smooth L1 Loss: 0.10815959343185219\n",
      "Epoch 236/500, Training Loss: 0.09312234671363508, Smooth L1 Loss: 0.09828743583952579\n",
      "Epoch 237/500, Training Loss: 0.09298461178938548, Smooth L1 Loss: 0.09946539969398425\n",
      "Epoch 238/500, Training Loss: 0.09239924592888298, Smooth L1 Loss: 0.10495549125167039\n",
      "Epoch 239/500, Training Loss: 0.09207074704089603, Smooth L1 Loss: 0.09788593449271642\n",
      "Epoch 240/500, Training Loss: 0.09186964491067301, Smooth L1 Loss: 0.09739700887495509\n",
      "Epoch 241/500, Training Loss: 0.09125138516875281, Smooth L1 Loss: 0.09690542596105772\n",
      "Epoch 242/500, Training Loss: 0.09135337661645838, Smooth L1 Loss: 0.09889701945492281\n",
      "Epoch 243/500, Training Loss: 0.09092744133898602, Smooth L1 Loss: 0.10000524542724284\n",
      "Epoch 244/500, Training Loss: 0.09092770592458006, Smooth L1 Loss: 0.09557387666203655\n",
      "Epoch 245/500, Training Loss: 0.09102143791778652, Smooth L1 Loss: 0.10332997096702456\n",
      "Epoch 246/500, Training Loss: 0.0904385156677541, Smooth L1 Loss: 0.10998247793087593\n",
      "Epoch 247/500, Training Loss: 0.0908564844209215, Smooth L1 Loss: 0.10625012844012907\n",
      "Epoch 248/500, Training Loss: 0.0905123350844867, Smooth L1 Loss: 0.10387261179634012\n",
      "Epoch 249/500, Training Loss: 0.08961267427401842, Smooth L1 Loss: 0.0944456358690961\n",
      "Epoch 250/500, Training Loss: 0.0895402471980323, Smooth L1 Loss: 0.09528286538373393\n",
      "Epoch 251/500, Training Loss: 0.08941458718140344, Smooth L1 Loss: 0.09849919602633096\n",
      "Epoch 252/500, Training Loss: 0.08974066425276839, Smooth L1 Loss: 0.1075917978842671\n",
      "Epoch 253/500, Training Loss: 0.08915515593140598, Smooth L1 Loss: 0.11429823764886421\n",
      "Epoch 254/500, Training Loss: 0.08914051109537986, Smooth L1 Loss: 0.0956350915814535\n",
      "Epoch 255/500, Training Loss: 0.08881227918653097, Smooth L1 Loss: 0.0981141805398063\n",
      "Epoch 256/500, Training Loss: 0.08874632112213955, Smooth L1 Loss: 0.09394470566453841\n",
      "Epoch 257/500, Training Loss: 0.0888908895785394, Smooth L1 Loss: 0.10164390328841713\n",
      "Epoch 258/500, Training Loss: 0.08821277714509895, Smooth L1 Loss: 0.09449026090666078\n",
      "Epoch 259/500, Training Loss: 0.08822779746159264, Smooth L1 Loss: 0.09338712783601995\n",
      "Epoch 260/500, Training Loss: 0.0878783407382631, Smooth L1 Loss: 0.10176367830270185\n",
      "Epoch 261/500, Training Loss: 0.08764263177695482, Smooth L1 Loss: 0.09709196122219929\n",
      "Epoch 262/500, Training Loss: 0.08784956391450864, Smooth L1 Loss: 0.09667555110242504\n",
      "Epoch 263/500, Training Loss: 0.08706554354748865, Smooth L1 Loss: 0.09597884822421922\n",
      "Epoch 264/500, Training Loss: 0.08733693422110761, Smooth L1 Loss: 0.0957335345267963\n",
      "Epoch 265/500, Training Loss: 0.08689291658248878, Smooth L1 Loss: 0.09429238129478808\n",
      "Epoch 266/500, Training Loss: 0.08702477065909311, Smooth L1 Loss: 0.10577789566909465\n",
      "Epoch 267/500, Training Loss: 0.08645418590465606, Smooth L1 Loss: 0.09154214597163865\n",
      "Epoch 268/500, Training Loss: 0.0865563472399965, Smooth L1 Loss: 0.09961504120236406\n",
      "Epoch 269/500, Training Loss: 0.08575301441017556, Smooth L1 Loss: 0.09941477894496459\n",
      "Epoch 270/500, Training Loss: 0.08590766251231162, Smooth L1 Loss: 0.0944242372464102\n",
      "Epoch 271/500, Training Loss: 0.08591052596479798, Smooth L1 Loss: 0.09219159305883715\n",
      "Epoch 272/500, Training Loss: 0.08654729411869809, Smooth L1 Loss: 0.09686026852936126\n",
      "Epoch 273/500, Training Loss: 0.08555687823589297, Smooth L1 Loss: 0.10338150444798745\n",
      "Epoch 274/500, Training Loss: 0.08535106336149041, Smooth L1 Loss: 0.09087711151760931\n",
      "Epoch 275/500, Training Loss: 0.08528687281237132, Smooth L1 Loss: 0.10467907960096803\n",
      "Epoch 276/500, Training Loss: 0.08514075103589303, Smooth L1 Loss: 0.09057346505757707\n",
      "Epoch 277/500, Training Loss: 0.08506932969830462, Smooth L1 Loss: 0.10054832580499351\n",
      "Epoch 278/500, Training Loss: 0.08441887893106627, Smooth L1 Loss: 0.10855991011843659\n",
      "Epoch 279/500, Training Loss: 0.0846496445581245, Smooth L1 Loss: 0.09587021039512295\n",
      "Epoch 280/500, Training Loss: 0.08464895602729586, Smooth L1 Loss: 0.08955773987019292\n",
      "Epoch 281/500, Training Loss: 0.08383245339644128, Smooth L1 Loss: 0.08984078434654154\n",
      "Epoch 282/500, Training Loss: 0.08410323013502043, Smooth L1 Loss: 0.09023088299167845\n",
      "Epoch 283/500, Training Loss: 0.08423379011416204, Smooth L1 Loss: 0.09575471153052953\n",
      "Epoch 284/500, Training Loss: 0.08368876058122386, Smooth L1 Loss: 0.0921186723280698\n",
      "Epoch 285/500, Training Loss: 0.08356917482139407, Smooth L1 Loss: 0.10295627506163257\n",
      "Epoch 286/500, Training Loss: 0.08349626644510003, Smooth L1 Loss: 0.09045112333618678\n",
      "Epoch 287/500, Training Loss: 0.083537340146188, Smooth L1 Loss: 0.09087725739496258\n",
      "Epoch 288/500, Training Loss: 0.08287422819701945, Smooth L1 Loss: 0.09207380937340741\n",
      "Epoch 289/500, Training Loss: 0.08308899526794751, Smooth L1 Loss: 0.09783235939147954\n",
      "Epoch 290/500, Training Loss: 0.08268550641222852, Smooth L1 Loss: 0.0943554847393758\n",
      "Epoch 291/500, Training Loss: 0.08284032774936174, Smooth L1 Loss: 0.10580197628587484\n",
      "Epoch 292/500, Training Loss: 0.08255086004158149, Smooth L1 Loss: 0.08906469648130812\n",
      "Epoch 293/500, Training Loss: 0.08278373816019095, Smooth L1 Loss: 0.09088142603062667\n",
      "Epoch 294/500, Training Loss: 0.08301715585200684, Smooth L1 Loss: 0.1065713559062435\n",
      "Epoch 295/500, Training Loss: 0.08286326808701967, Smooth L1 Loss: 0.08760477179804674\n",
      "Epoch 296/500, Training Loss: 0.0817583177940569, Smooth L1 Loss: 0.09495846474041733\n",
      "Epoch 297/500, Training Loss: 0.08135028739554295, Smooth L1 Loss: 0.0902887551078143\n",
      "Epoch 298/500, Training Loss: 0.08213575450694503, Smooth L1 Loss: 0.09805868999459423\n",
      "Epoch 299/500, Training Loss: 0.08193525720549666, Smooth L1 Loss: 0.08937194995367183\n",
      "Epoch 300/500, Training Loss: 0.08196548419298182, Smooth L1 Loss: 0.0930841990854018\n",
      "Epoch 301/500, Training Loss: 0.08151935985770778, Smooth L1 Loss: 0.09127386002084957\n",
      "Epoch 302/500, Training Loss: 0.0813672770768548, Smooth L1 Loss: 0.09276542542144083\n",
      "Epoch 303/500, Training Loss: 0.08141295478683738, Smooth L1 Loss: 0.08740626687470537\n",
      "Epoch 304/500, Training Loss: 0.08132249631599528, Smooth L1 Loss: 0.10322161951961999\n",
      "Epoch 305/500, Training Loss: 0.0814485110450482, Smooth L1 Loss: 0.0936701106838882\n",
      "Epoch 306/500, Training Loss: 0.08130554430150755, Smooth L1 Loss: 0.08722994175667946\n",
      "Epoch 307/500, Training Loss: 0.08099525932960464, Smooth L1 Loss: 0.1015812789555639\n",
      "Epoch 308/500, Training Loss: 0.08047608527296407, Smooth L1 Loss: 0.09072663432631928\n",
      "Epoch 309/500, Training Loss: 0.08032201644447115, Smooth L1 Loss: 0.10132946151022154\n",
      "Epoch 310/500, Training Loss: 0.08091397662669564, Smooth L1 Loss: 0.08929970129751243\n",
      "Epoch 311/500, Training Loss: 0.08030829877381164, Smooth L1 Loss: 0.09080793687070791\n",
      "Epoch 312/500, Training Loss: 0.08058403045442945, Smooth L1 Loss: 0.08601707966926579\n",
      "Epoch 313/500, Training Loss: 0.0805730708843268, Smooth L1 Loss: 0.0949513977393508\n",
      "Epoch 314/500, Training Loss: 0.0794831449030966, Smooth L1 Loss: 0.09132874010202403\n",
      "Epoch 315/500, Training Loss: 0.08035678137543696, Smooth L1 Loss: 0.10029621040806748\n",
      "Epoch 316/500, Training Loss: 0.08054773028993951, Smooth L1 Loss: 0.09887574152806057\n",
      "Epoch 317/500, Training Loss: 0.07983431601581942, Smooth L1 Loss: 0.08933853479818656\n",
      "Epoch 318/500, Training Loss: 0.08003426024663275, Smooth L1 Loss: 0.0868754124877831\n",
      "Epoch 319/500, Training Loss: 0.07943933498528269, Smooth L1 Loss: 0.10099937902906767\n",
      "Epoch 320/500, Training Loss: 0.07972029420200753, Smooth L1 Loss: 0.0909208907172657\n",
      "Epoch 321/500, Training Loss: 0.079617606214999, Smooth L1 Loss: 0.09897214065019327\n",
      "Epoch 322/500, Training Loss: 0.07921918551774992, Smooth L1 Loss: 0.08647394328951262\n",
      "Epoch 323/500, Training Loss: 0.07941576294996888, Smooth L1 Loss: 0.08560884659751676\n",
      "Epoch 324/500, Training Loss: 0.07915678814701411, Smooth L1 Loss: 0.08875530945638624\n",
      "Epoch 325/500, Training Loss: 0.07929875041191704, Smooth L1 Loss: 0.09527973875475045\n",
      "Epoch 326/500, Training Loss: 0.07899781584667699, Smooth L1 Loss: 0.0892282875899512\n",
      "Epoch 327/500, Training Loss: 0.07919130524719395, Smooth L1 Loss: 0.09240078007300886\n",
      "Epoch 328/500, Training Loss: 0.07886223324039132, Smooth L1 Loss: 0.08868333455533363\n",
      "Epoch 329/500, Training Loss: 0.07869809644593709, Smooth L1 Loss: 0.08760173989531513\n",
      "Epoch 330/500, Training Loss: 0.07836671565897799, Smooth L1 Loss: 0.09205512415904266\n",
      "Epoch 331/500, Training Loss: 0.07894921821096669, Smooth L1 Loss: 0.09009367222181307\n",
      "Epoch 332/500, Training Loss: 0.07822437541208406, Smooth L1 Loss: 0.08731326416063194\n",
      "Epoch 333/500, Training Loss: 0.07877683288593224, Smooth L1 Loss: 0.09469180335648932\n",
      "Epoch 334/500, Training Loss: 0.07846290153869684, Smooth L1 Loss: 0.08568084721740049\n",
      "Epoch 335/500, Training Loss: 0.07841805852769654, Smooth L1 Loss: 0.08911557742752708\n",
      "Epoch 336/500, Training Loss: 0.07810379314609772, Smooth L1 Loss: 0.0863855335001762\n",
      "Epoch 337/500, Training Loss: 0.07809835267455681, Smooth L1 Loss: 0.08493747203969039\n",
      "Epoch 338/500, Training Loss: 0.07855674208722253, Smooth L1 Loss: 0.08530475860103391\n",
      "Epoch 339/500, Training Loss: 0.07785052676563678, Smooth L1 Loss: 0.10294206368808563\n",
      "Epoch 340/500, Training Loss: 0.07787349199255307, Smooth L1 Loss: 0.10599053694078556\n",
      "Epoch 341/500, Training Loss: 0.07763266099103983, Smooth L1 Loss: 0.09589178706161104\n",
      "Epoch 342/500, Training Loss: 0.07777979408485303, Smooth L1 Loss: 0.08517898350524214\n",
      "Epoch 343/500, Training Loss: 0.0775741569445905, Smooth L1 Loss: 0.08397322194650769\n",
      "Epoch 344/500, Training Loss: 0.07734916330391658, Smooth L1 Loss: 0.09521666287372892\n",
      "Epoch 345/500, Training Loss: 0.07767366542332414, Smooth L1 Loss: 0.10450636389522025\n",
      "Epoch 346/500, Training Loss: 0.07720345965978029, Smooth L1 Loss: 0.08624583720945968\n",
      "Epoch 347/500, Training Loss: 0.07725533727862409, Smooth L1 Loss: 0.08565992989147511\n",
      "Epoch 348/500, Training Loss: 0.07667112388256667, Smooth L1 Loss: 0.10249412806633\n",
      "Epoch 349/500, Training Loss: 0.07705324909825256, Smooth L1 Loss: 0.08453376517774394\n",
      "Epoch 350/500, Training Loss: 0.07691586831053673, Smooth L1 Loss: 0.08746597382168357\n",
      "Epoch 351/500, Training Loss: 0.07705143108460062, Smooth L1 Loss: 0.09892894773600766\n",
      "Epoch 352/500, Training Loss: 0.07681369858879399, Smooth L1 Loss: 0.08525637470973799\n",
      "Epoch 353/500, Training Loss: 0.07642174654320819, Smooth L1 Loss: 0.09699711035220669\n",
      "Epoch 354/500, Training Loss: 0.07676049325489191, Smooth L1 Loss: 0.09703904247054687\n",
      "Epoch 355/500, Training Loss: 0.07644024853041206, Smooth L1 Loss: 0.08415546133899345\n",
      "Epoch 356/500, Training Loss: 0.07607461697453462, Smooth L1 Loss: 0.08322049063057281\n",
      "Epoch 357/500, Training Loss: 0.07634104863888976, Smooth L1 Loss: 0.0897451165633706\n",
      "Epoch 358/500, Training Loss: 0.07623359924497236, Smooth L1 Loss: 0.08916240708472636\n",
      "Epoch 359/500, Training Loss: 0.07629084518710197, Smooth L1 Loss: 0.08838437646269225\n",
      "Epoch 360/500, Training Loss: 0.0760755146075274, Smooth L1 Loss: 0.09927048057747576\n",
      "Epoch 361/500, Training Loss: 0.07652938972420739, Smooth L1 Loss: 0.0984799860475155\n",
      "Epoch 362/500, Training Loss: 0.07628529549436869, Smooth L1 Loss: 0.0840416058468131\n",
      "Epoch 363/500, Training Loss: 0.07545063536668169, Smooth L1 Loss: 0.08473654779104087\n",
      "Epoch 364/500, Training Loss: 0.0756657303351423, Smooth L1 Loss: 0.09268722043802533\n",
      "Epoch 365/500, Training Loss: 0.0761858644908753, Smooth L1 Loss: 0.08534301192356417\n",
      "Epoch 366/500, Training Loss: 0.07545459094110894, Smooth L1 Loss: 0.09732472780160606\n",
      "Epoch 367/500, Training Loss: 0.07595552736218425, Smooth L1 Loss: 0.0922629999068494\n",
      "Epoch 368/500, Training Loss: 0.07537030927153025, Smooth L1 Loss: 0.08598704399684301\n",
      "Epoch 369/500, Training Loss: 0.07528419008001613, Smooth L1 Loss: 0.08501910803338084\n",
      "Epoch 370/500, Training Loss: 0.0747424006678056, Smooth L1 Loss: 0.08935127806706497\n",
      "Early stopping triggered. Stopping training.\n"
     ]
    }
   ],
   "source": [
    "# Storing data for visually observing the losses\n",
    "losses = {\"training\" : [], \n",
    "          \"evaluation\" : [], \n",
    "          \"labels\" : [], \n",
    "          \"outputs\" : [],\n",
    "          \"labels_t\" : [], \n",
    "          \"outputs_t\" : []\n",
    "          }\n",
    "\n",
    "# Training & Evaluation Porcess\n",
    "patience = 15                      # Patience based stopping criteria. You may also play around with this number for early or delayed stopping of the model from over-fitting\n",
    "best_loss = float('inf')\n",
    "num_epochs_without_improvement = 0\n",
    "\n",
    "for epoch in range(num_epochs):\n",
    "\n",
    "    all_outputs_training = []\n",
    "    all_labels_training = []\n",
    "    model.train(True)\n",
    "    running_loss = 0.0                          # To calculates the losses in training for each epoch\n",
    "    for inputs, labels in train_loader:\n",
    "        # Transfers data to GPU/CPU\n",
    "        inputs = inputs.to(device)              \n",
    "        labels = labels.to(device)\n",
    "        \n",
    "        optimizer.zero_grad()                   # Zeros the optimizer before generating output\n",
    "        outputs = model(inputs)                 # Calculates the output\n",
    "        loss = criterion(outputs, labels)       # Finds loss as per the criteria defined\n",
    "        loss.backward()                         # Back propogation of loss\n",
    "        optimizer.step()                        # Updates parameters based on gradients computed duing back propogation\n",
    "        \n",
    "        running_loss += loss.item()             # Calculates loss over the training\n",
    "\n",
    "        all_outputs_training.append(outputs.detach().numpy())  # Append outputs to the list\n",
    "        all_labels_training.append(labels.detach().numpy())    # Append labels to the list\n",
    "    \n",
    "    training_loss = running_loss/len(train_loader)\n",
    "\n",
    "    \"\"\"\n",
    "    Evaluating the model that has been trained (so far). \n",
    "    You would notice similar steps as during the training process. The lack of a few lines of code is because we \n",
    "    are evaluating the model here and not training it.\n",
    "    \"\"\"\n",
    "    # model.train(False)\n",
    "    model.eval()\n",
    "    total_loss = 0.0\n",
    "    all_outputs = []\n",
    "    all_labels = []\n",
    "\n",
    "    \n",
    "    with torch.no_grad():\n",
    "        for inputs, labels in test_loader:\n",
    "            inputs = inputs.to(device)\n",
    "            labels = labels.to(device)\n",
    "            \n",
    "            outputs = model(inputs)\n",
    "            loss = criterion(outputs, labels)\n",
    "            total_loss += loss.item()\n",
    "            \n",
    "            all_outputs.append(outputs.cpu().numpy())  \n",
    "            all_labels.append(labels.cpu().numpy())    \n",
    "                \n",
    "    mean_loss = total_loss / len(test_loader)\n",
    "\n",
    "    if mean_loss < best_loss:\n",
    "        best_loss = mean_loss\n",
    "        num_epochs_without_improvement = 0\n",
    "    else:\n",
    "        num_epochs_without_improvement += 1\n",
    "        if num_epochs_without_improvement == patience:\n",
    "            print(\"Early stopping triggered. Stopping training.\")\n",
    "            break\n",
    "    \n",
    "    # Recording the data values for\n",
    "    losses[\"training\"].append(training_loss)\n",
    "    losses[\"evaluation\"].append(mean_loss)\n",
    "    losses[\"outputs\"] = np.concatenate(all_outputs)\n",
    "    losses[\"labels\"] = np.concatenate(all_labels)\n",
    "    \n",
    "    losses[\"outputs_t\"] = np.concatenate(all_outputs_training)\n",
    "    losses[\"labels_t\"] = np.concatenate(all_labels_training)\n",
    "\n",
    "    print(f\"Epoch {epoch+1}/{num_epochs}, Training Loss: {training_loss}, Smooth L1 Loss: {mean_loss}\")"
   ]
  },
  {
   "cell_type": "markdown",
   "metadata": {},
   "source": [
    "### 6. Performance Analysis & Visualization\n",
    "\n",
    "The model's training and evaluation losses over an epochs curve help to analyze its learning progress and detect signs of overfitting or underfitting. Analyzing these curves aids in fine-tuning the model's architecture or regularization techniques to achieve a balance between accuracy and generalization.\n",
    "\n",
    "Since we will be using the neural networks to estimate the X, Y & Z coordinates, a 3D visualization represents the outputs and actual labels to gain a deeper understanding of the model's performance. "
   ]
  },
  {
   "cell_type": "code",
   "execution_count": 10,
   "metadata": {},
   "outputs": [
    {
     "data": {
      "image/png": "[encoded data removed]",
      "text/plain": [
       "<Figure size 2000x500 with 1 Axes>"
      ]
     },
     "metadata": {},
     "output_type": "display_data"
    }
   ],
   "source": [
    "lossPlot(losses)"
   ]
  },
  {
   "cell_type": "code",
   "execution_count": 25,
   "metadata": {},
   "outputs": [
    {
     "data": {
      "application/vnd.plotly.v1+json": {
       "config": {
        "plotlyServerURL": "https://plot.ly"
       },
       "data": [
        {
         "marker": {
          "color": "blue",
          "opacity": 0.8,
          "size": 3
         },
         "mode": "markers",
         "name": "Input Points",
         "type": "scatter3d",
         "x": [
          -0.9469305872917175,
          -0.956027090549469,
          -0.954154372215271,
          -0.9602676033973694,
          -0.9418819546699524,
          -0.9008376598358154,
          -0.9008376598358154,
          -0.8778604865074158,
          -0.811399519443512,
          -0.6911596655845642,
          -0.37776580452919006,
          -0.37776580452919006,
          -0.3529359996318817,
          -0.32806602120399475,
          -0.27468669414520264,
          -0.24799767136573792,
          -0.22068417072296143,
          -0.1932792216539383,
          -0.16541442275047302,
          -0.10720202326774597,
          -0.07855834066867828,
          -0.047605860978364944,
          0.07825876772403717,
          0.07825876772403717,
          0.1110263466835022,
          0.14543895423412323,
          0.14543895423412323,
          0.17920787632465363,
          0.24816250801086426,
          0.28313809633255005
         ],
         "y": [
          0.16705553233623505,
          0.13231605291366577,
          0.09451080858707428,
          0.02464568056166172,
          -0.15212562680244446,
          -0.3296133279800415,
          -0.3296133279800415,
          -0.3985465466976166,
          -0.5666955709457397,
          -0.782922089099884,
          -1.1415578126907349,
          -1.1415578126907349,
          -1.1639529466629028,
          -1.1854828596115112,
          -1.2270634174346924,
          -1.24612557888031,
          -1.2652839422225952,
          -1.2830147743225098,
          -1.3004298210144043,
          -1.334985613822937,
          -1.3509800434112549,
          -1.365745186805725,
          -1.420361042022705,
          -1.420361042022705,
          -1.4326233863830566,
          -1.4448503255844116,
          -1.4448503255844116,
          -1.454778790473938,
          -1.4739329814910889,
          -1.481728196144104
         ],
         "z": [
          1.2499948740005493,
          1.2441354990005493,
          1.2310998439788818,
          1.2201509475708008,
          1.1950119733810425,
          1.1734957695007324,
          1.1734957695007324,
          1.166783332824707,
          1.151073932647705,
          1.1288684606552124,
          1.0988446474075317,
          1.0988446474075317,
          1.095251441001892,
          1.091475486755371,
          1.08558988571167,
          1.0826630592346191,
          1.0796103477478027,
          1.0760396718978882,
          1.072333574295044,
          1.0621236562728882,
          1.0578819513320923,
          1.0553275346755981,
          1.0359694957733154,
          1.0359694957733154,
          1.029618740081787,
          1.0252641439437866,
          1.0252641439437866,
          1.0204412937164307,
          1.0114989280700684,
          1.006787896156311
         ]
        },
        {
         "marker": {
          "color": "red",
          "opacity": 0.5,
          "size": 3
         },
         "mode": "markers",
         "name": "Output Points",
         "type": "scatter3d",
         "x": [
          -1.243473768234253,
          -1.2578366994857788,
          -1.3032487630844116,
          -1.3128706216812134,
          -1.3260608911514282,
          -1.5094337463378906,
          -1.3670650720596313,
          -1.3771945238113403,
          -1.3872288465499878,
          -1.3575866222381592,
          -1.2548879384994507,
          -1.258333683013916,
          -1.2376761436462402,
          -1.2223453521728516,
          -1.2015886306762695,
          -1.14643132686615,
          -1.079545021057129,
          -1.0195696353912354,
          -0.9769852757453918,
          -0.9256396293640137,
          -0.9097328186035156,
          -0.8541747331619263,
          -0.8202550411224365,
          -0.7872467637062073,
          -0.7634827494621277,
          -0.7305611968040466,
          -0.6894874572753906,
          -0.6471609473228455,
          -0.6130210757255554,
          -0.5853163003921509
         ],
         "y": [
          0.665917158126831,
          0.5325133800506592,
          0.26439356803894043,
          0.09336352348327637,
          -0.00044200182310305536,
          -0.4532882571220398,
          -0.2556297481060028,
          -0.3095283806324005,
          -0.3392770290374756,
          -0.6035494804382324,
          -0.686351478099823,
          -0.6906444430351257,
          -0.7293614149093628,
          -0.7671677470207214,
          -0.8395494818687439,
          -0.9142617583274841,
          -0.9595259428024292,
          -1.0216201543807983,
          -1.0535659790039062,
          -1.109663486480713,
          -1.1367548704147339,
          -1.1807078123092651,
          -1.1918071508407593,
          -1.2110470533370972,
          -1.2220572233200073,
          -1.225204586982727,
          -1.2346588373184204,
          -1.2461692094802856,
          -1.2635873556137085,
          -1.2843899726867676
         ],
         "z": [
          -0.030943600460886955,
          -0.03349354490637779,
          -0.03971005231142044,
          -0.044384170323610306,
          -0.051396191120147705,
          -0.17841720581054688,
          -0.33809715509414673,
          -0.3997313976287842,
          -0.42188891768455505,
          -0.3611944019794464,
          -0.47284311056137085,
          -0.5326179265975952,
          -0.5464978218078613,
          -0.5665989518165588,
          -0.5961124300956726,
          -0.607897937297821,
          -0.5940951704978943,
          -0.5963580012321472,
          -0.5878599286079407,
          -0.5793797969818115,
          -0.5902532935142517,
          -0.5886039733886719,
          -0.5747719407081604,
          -0.5680134296417236,
          -0.560226559638977,
          -0.5401418209075928,
          -0.5158347487449646,
          -0.49806052446365356,
          -0.48633915185928345,
          -0.4787929952144623
         ]
        }
       ],
       "layout": {
        "scene": {
         "xaxis": {
          "title": {
           "text": "X-Dimension"
          }
         },
         "yaxis": {
          "title": {
           "text": "Y-Dimension"
          }
         },
         "zaxis": {
          "title": {
           "text": "Z-Dimension"
          }
         }
        },
        "template": {
         "data": {
          "bar": [
           {
            "error_x": {
             "color": "#2a3f5f"
            },
            "error_y": {
             "color": "#2a3f5f"
            },
            "marker": {
             "line": {
              "color": "#E5ECF6",
              "width": 0.5
             },
             "pattern": {
              "fillmode": "overlay",
              "size": 10,
              "solidity": 0.2
             }
            },
            "type": "bar"
           }
          ],
          "barpolar": [
           {
            "marker": {
             "line": {
              "color": "#E5ECF6",
              "width": 0.5
             },
             "pattern": {
              "fillmode": "overlay",
              "size": 10,
              "solidity": 0.2
             }
            },
            "type": "barpolar"
           }
          ],
          "carpet": [
           {
            "aaxis": {
             "endlinecolor": "#2a3f5f",
             "gridcolor": "white",
             "linecolor": "white",
             "minorgridcolor": "white",
             "startlinecolor": "#2a3f5f"
            },
            "baxis": {
             "endlinecolor": "#2a3f5f",
             "gridcolor": "white",
             "linecolor": "white",
             "minorgridcolor": "white",
             "startlinecolor": "#2a3f5f"
            },
            "type": "carpet"
           }
          ],
          "choropleth": [
           {
            "colorbar": {
             "outlinewidth": 0,
             "ticks": ""
            },
            "type": "choropleth"
           }
          ],
          "contour": [
           {
            "colorbar": {
             "outlinewidth": 0,
             "ticks": ""
            },
            "colorscale": [
             [
              0,
              "#0d0887"
             ],
             [
              0.1111111111111111,
              "#46039f"
             ],
             [
              0.2222222222222222,
              "#7201a8"
             ],
             [
              0.3333333333333333,
              "#9c179e"
             ],
             [
              0.4444444444444444,
              "#bd3786"
             ],
             [
              0.5555555555555556,
              "#d8576b"
             ],
             [
              0.6666666666666666,
              "#ed7953"
             ],
             [
              0.7777777777777778,
              "#fb9f3a"
             ],
             [
              0.8888888888888888,
              "#fdca26"
             ],
             [
              1,
              "#f0f921"
             ]
            ],
            "type": "contour"
           }
          ],
          "contourcarpet": [
           {
            "colorbar": {
             "outlinewidth": 0,
             "ticks": ""
            },
            "type": "contourcarpet"
           }
          ],
          "heatmap": [
           {
            "colorbar": {
             "outlinewidth": 0,
             "ticks": ""
            },
            "colorscale": [
             [
              0,
              "#0d0887"
             ],
             [
              0.1111111111111111,
              "#46039f"
             ],
             [
              0.2222222222222222,
              "#7201a8"
             ],
             [
              0.3333333333333333,
              "#9c179e"
             ],
             [
              0.4444444444444444,
              "#bd3786"
             ],
             [
              0.5555555555555556,
              "#d8576b"
             ],
             [
              0.6666666666666666,
              "#ed7953"
             ],
             [
              0.7777777777777778,
              "#fb9f3a"
             ],
             [
              0.8888888888888888,
              "#fdca26"
             ],
             [
              1,
              "#f0f921"
             ]
            ],
            "type": "heatmap"
           }
          ],
          "heatmapgl": [
           {
            "colorbar": {
             "outlinewidth": 0,
             "ticks": ""
            },
            "colorscale": [
             [
              0,
              "#0d0887"
             ],
             [
              0.1111111111111111,
              "#46039f"
             ],
             [
              0.2222222222222222,
              "#7201a8"
             ],
             [
              0.3333333333333333,
              "#9c179e"
             ],
             [
              0.4444444444444444,
              "#bd3786"
             ],
             [
              0.5555555555555556,
              "#d8576b"
             ],
             [
              0.6666666666666666,
              "#ed7953"
             ],
             [
              0.7777777777777778,
              "#fb9f3a"
             ],
             [
              0.8888888888888888,
              "#fdca26"
             ],
             [
              1,
              "#f0f921"
             ]
            ],
            "type": "heatmapgl"
           }
          ],
          "histogram": [
           {
            "marker": {
             "pattern": {
              "fillmode": "overlay",
              "size": 10,
              "solidity": 0.2
             }
            },
            "type": "histogram"
           }
          ],
          "histogram2d": [
           {
            "colorbar": {
             "outlinewidth": 0,
             "ticks": ""
            },
            "colorscale": [
             [
              0,
              "#0d0887"
             ],
             [
              0.1111111111111111,
              "#46039f"
             ],
             [
              0.2222222222222222,
              "#7201a8"
             ],
             [
              0.3333333333333333,
              "#9c179e"
             ],
             [
              0.4444444444444444,
              "#bd3786"
             ],
             [
              0.5555555555555556,
              "#d8576b"
             ],
             [
              0.6666666666666666,
              "#ed7953"
             ],
             [
              0.7777777777777778,
              "#fb9f3a"
             ],
             [
              0.8888888888888888,
              "#fdca26"
             ],
             [
              1,
              "#f0f921"
             ]
            ],
            "type": "histogram2d"
           }
          ],
          "histogram2dcontour": [
           {
            "colorbar": {
             "outlinewidth": 0,
             "ticks": ""
            },
            "colorscale": [
             [
              0,
              "#0d0887"
             ],
             [
              0.1111111111111111,
              "#46039f"
             ],
             [
              0.2222222222222222,
              "#7201a8"
             ],
             [
              0.3333333333333333,
              "#9c179e"
             ],
             [
              0.4444444444444444,
              "#bd3786"
             ],
             [
              0.5555555555555556,
              "#d8576b"
             ],
             [
              0.6666666666666666,
              "#ed7953"
             ],
             [
              0.7777777777777778,
              "#fb9f3a"
             ],
             [
              0.8888888888888888,
              "#fdca26"
             ],
             [
              1,
              "#f0f921"
             ]
            ],
            "type": "histogram2dcontour"
           }
          ],
          "mesh3d": [
           {
            "colorbar": {
             "outlinewidth": 0,
             "ticks": ""
            },
            "type": "mesh3d"
           }
          ],
          "parcoords": [
           {
            "line": {
             "colorbar": {
              "outlinewidth": 0,
              "ticks": ""
             }
            },
            "type": "parcoords"
           }
          ],
          "pie": [
           {
            "automargin": true,
            "type": "pie"
           }
          ],
          "scatter": [
           {
            "fillpattern": {
             "fillmode": "overlay",
             "size": 10,
             "solidity": 0.2
            },
            "type": "scatter"
           }
          ],
          "scatter3d": [
           {
            "line": {
             "colorbar": {
              "outlinewidth": 0,
              "ticks": ""
             }
            },
            "marker": {
             "colorbar": {
              "outlinewidth": 0,
              "ticks": ""
             }
            },
            "type": "scatter3d"
           }
          ],
          "scattercarpet": [
           {
            "marker": {
             "colorbar": {
              "outlinewidth": 0,
              "ticks": ""
             }
            },
            "type": "scattercarpet"
           }
          ],
          "scattergeo": [
           {
            "marker": {
             "colorbar": {
              "outlinewidth": 0,
              "ticks": ""
             }
            },
            "type": "scattergeo"
           }
          ],
          "scattergl": [
           {
            "marker": {
             "colorbar": {
              "outlinewidth": 0,
              "ticks": ""
             }
            },
            "type": "scattergl"
           }
          ],
          "scattermapbox": [
           {
            "marker": {
             "colorbar": {
              "outlinewidth": 0,
              "ticks": ""
             }
            },
            "type": "scattermapbox"
           }
          ],
          "scatterpolar": [
           {
            "marker": {
             "colorbar": {
              "outlinewidth": 0,
              "ticks": ""
             }
            },
            "type": "scatterpolar"
           }
          ],
          "scatterpolargl": [
           {
            "marker": {
             "colorbar": {
              "outlinewidth": 0,
              "ticks": ""
             }
            },
            "type": "scatterpolargl"
           }
          ],
          "scatterternary": [
           {
            "marker": {
             "colorbar": {
              "outlinewidth": 0,
              "ticks": ""
             }
            },
            "type": "scatterternary"
           }
          ],
          "surface": [
           {
            "colorbar": {
             "outlinewidth": 0,
             "ticks": ""
            },
            "colorscale": [
             [
              0,
              "#0d0887"
             ],
             [
              0.1111111111111111,
              "#46039f"
             ],
             [
              0.2222222222222222,
              "#7201a8"
             ],
             [
              0.3333333333333333,
              "#9c179e"
             ],
             [
              0.4444444444444444,
              "#bd3786"
             ],
             [
              0.5555555555555556,
              "#d8576b"
             ],
             [
              0.6666666666666666,
              "#ed7953"
             ],
             [
              0.7777777777777778,
              "#fb9f3a"
             ],
             [
              0.8888888888888888,
              "#fdca26"
             ],
             [
              1,
              "#f0f921"
             ]
            ],
            "type": "surface"
           }
          ],
          "table": [
           {
            "cells": {
             "fill": {
              "color": "#EBF0F8"
             },
             "line": {
              "color": "white"
             }
            },
            "header": {
             "fill": {
              "color": "#C8D4E3"
             },
             "line": {
              "color": "white"
             }
            },
            "type": "table"
           }
          ]
         },
         "layout": {
          "annotationdefaults": {
           "arrowcolor": "#2a3f5f",
           "arrowhead": 0,
           "arrowwidth": 1
          },
          "autotypenumbers": "strict",
          "coloraxis": {
           "colorbar": {
            "outlinewidth": 0,
            "ticks": ""
           }
          },
          "colorscale": {
           "diverging": [
            [
             0,
             "#8e0152"
            ],
            [
             0.1,
             "#c51b7d"
            ],
            [
             0.2,
             "#de77ae"
            ],
            [
             0.3,
             "#f1b6da"
            ],
            [
             0.4,
             "#fde0ef"
            ],
            [
             0.5,
             "#f7f7f7"
            ],
            [
             0.6,
             "#e6f5d0"
            ],
            [
             0.7,
             "#b8e186"
            ],
            [
             0.8,
             "#7fbc41"
            ],
            [
             0.9,
             "#4d9221"
            ],
            [
             1,
             "#276419"
            ]
           ],
           "sequential": [
            [
             0,
             "#0d0887"
            ],
            [
             0.1111111111111111,
             "#46039f"
            ],
            [
             0.2222222222222222,
             "#7201a8"
            ],
            [
             0.3333333333333333,
             "#9c179e"
            ],
            [
             0.4444444444444444,
             "#bd3786"
            ],
            [
             0.5555555555555556,
             "#d8576b"
            ],
            [
             0.6666666666666666,
             "#ed7953"
            ],
            [
             0.7777777777777778,
             "#fb9f3a"
            ],
            [
             0.8888888888888888,
             "#fdca26"
            ],
            [
             1,
             "#f0f921"
            ]
           ],
           "sequentialminus": [
            [
             0,
             "#0d0887"
            ],
            [
             0.1111111111111111,
             "#46039f"
            ],
            [
             0.2222222222222222,
             "#7201a8"
            ],
            [
             0.3333333333333333,
             "#9c179e"
            ],
            [
             0.4444444444444444,
             "#bd3786"
            ],
            [
             0.5555555555555556,
             "#d8576b"
            ],
            [
             0.6666666666666666,
             "#ed7953"
            ],
            [
             0.7777777777777778,
             "#fb9f3a"
            ],
            [
             0.8888888888888888,
             "#fdca26"
            ],
            [
             1,
             "#f0f921"
            ]
           ]
          },
          "colorway": [
           "#636efa",
           "#EF553B",
           "#00cc96",
           "#ab63fa",
           "#FFA15A",
           "#19d3f3",
           "#FF6692",
           "#B6E880",
           "#FF97FF",
           "#FECB52"
          ],
          "font": {
           "color": "#2a3f5f"
          },
          "geo": {
           "bgcolor": "white",
           "lakecolor": "white",
           "landcolor": "#E5ECF6",
           "showlakes": true,
           "showland": true,
           "subunitcolor": "white"
          },
          "hoverlabel": {
           "align": "left"
          },
          "hovermode": "closest",
          "mapbox": {
           "style": "light"
          },
          "paper_bgcolor": "white",
          "plot_bgcolor": "#E5ECF6",
          "polar": {
           "angularaxis": {
            "gridcolor": "white",
            "linecolor": "white",
            "ticks": ""
           },
           "bgcolor": "#E5ECF6",
           "radialaxis": {
            "gridcolor": "white",
            "linecolor": "white",
            "ticks": ""
           }
          },
          "scene": {
           "xaxis": {
            "backgroundcolor": "#E5ECF6",
            "gridcolor": "white",
            "gridwidth": 2,
            "linecolor": "white",
            "showbackground": true,
            "ticks": "",
            "zerolinecolor": "white"
           },
           "yaxis": {
            "backgroundcolor": "#E5ECF6",
            "gridcolor": "white",
            "gridwidth": 2,
            "linecolor": "white",
            "showbackground": true,
            "ticks": "",
            "zerolinecolor": "white"
           },
           "zaxis": {
            "backgroundcolor": "#E5ECF6",
            "gridcolor": "white",
            "gridwidth": 2,
            "linecolor": "white",
            "showbackground": true,
            "ticks": "",
            "zerolinecolor": "white"
           }
          },
          "shapedefaults": {
           "line": {
            "color": "#2a3f5f"
           }
          },
          "ternary": {
           "aaxis": {
            "gridcolor": "white",
            "linecolor": "white",
            "ticks": ""
           },
           "baxis": {
            "gridcolor": "white",
            "linecolor": "white",
            "ticks": ""
           },
           "bgcolor": "#E5ECF6",
           "caxis": {
            "gridcolor": "white",
            "linecolor": "white",
            "ticks": ""
           }
          },
          "title": {
           "x": 0.05
          },
          "xaxis": {
           "automargin": true,
           "gridcolor": "white",
           "linecolor": "white",
           "ticks": "",
           "title": {
            "standoff": 15
           },
           "zerolinecolor": "white",
           "zerolinewidth": 2
          },
          "yaxis": {
           "automargin": true,
           "gridcolor": "white",
           "linecolor": "white",
           "ticks": "",
           "title": {
            "standoff": 15
           },
           "zerolinecolor": "white",
           "zerolinewidth": 2
          }
         }
        },
        "title": {
         "text": "Input and Output Points in 3D Space"
        }
       }
      }
     },
     "metadata": {},
     "output_type": "display_data"
    },
    {
     "data": {
      "application/vnd.plotly.v1+json": {
       "config": {
        "plotlyServerURL": "https://plot.ly"
       },
       "data": [
        {
         "marker": {
          "color": "blue",
          "opacity": 0.8,
          "size": 3
         },
         "mode": "markers",
         "name": "Input Points",
         "type": "scatter3d",
         "x": [
          -0.9983063340187073,
          0.22637657821178436,
          0.46957308053970337,
          1.4455896615982056,
          -0.34010303020477295,
          -0.9377773404121399,
          0.6862784624099731,
          0.1623426377773285,
          -1.1912243366241455,
          -0.31681957840919495
         ],
         "y": [
          0.19163142144680023,
          -0.720569908618927,
          1.506942629814148,
          -0.3755626380443573,
          -0.5400371551513672,
          -0.36447811126708984,
          0.4818741977214813,
          0.024063946679234505,
          -1.0267384052276611,
          -0.599269688129425
         ],
         "z": [
          -0.9349627494812012,
          1.6896772384643555,
          -0.10411454737186432,
          0.08807818591594696,
          -0.25703170895576477,
          0.04911292716860771,
          0.06165716424584389,
          1.7808215618133545,
          -3.776843309402466,
          0.03379737213253975
         ]
        },
        {
         "marker": {
          "color": "red",
          "opacity": 0.5,
          "size": 3
         },
         "mode": "markers",
         "name": "Output Points",
         "type": "scatter3d",
         "x": [
          -1.0738190412521362,
          0.0003814995288848877,
          0.2550831139087677,
          1.7813072204589844,
          -0.17139840126037598,
          -0.47218576073646545,
          1.1755337715148926,
          -0.0003502818872220814,
          -1.266463041305542,
          -0.7361044883728027
         ],
         "y": [
          0.19201304018497467,
          -0.7039093375205994,
          1.154862642288208,
          -0.22997087240219116,
          -0.029796183109283447,
          -0.10789836943149567,
          0.5318527221679688,
          -0.014012605883181095,
          -1.1542885303497314,
          -0.27455204725265503
         ],
         "z": [
          -0.17834025621414185,
          0.34553587436676025,
          -0.5250577330589294,
          -0.016057031229138374,
          -0.006317030172795057,
          -0.010834632441401482,
          0.11023534834384918,
          0.8665553331375122,
          -2.754763126373291,
          -0.008562606759369373
         ]
        }
       ],
       "layout": {
        "scene": {
         "xaxis": {
          "title": {
           "text": "X-Dimension"
          }
         },
         "yaxis": {
          "title": {
           "text": "Y-Dimension"
          }
         },
         "zaxis": {
          "title": {
           "text": "Z-Dimension"
          }
         }
        },
        "template": {
         "data": {
          "bar": [
           {
            "error_x": {
             "color": "#2a3f5f"
            },
            "error_y": {
             "color": "#2a3f5f"
            },
            "marker": {
             "line": {
              "color": "#E5ECF6",
              "width": 0.5
             },
             "pattern": {
              "fillmode": "overlay",
              "size": 10,
              "solidity": 0.2
             }
            },
            "type": "bar"
           }
          ],
          "barpolar": [
           {
            "marker": {
             "line": {
              "color": "#E5ECF6",
              "width": 0.5
             },
             "pattern": {
              "fillmode": "overlay",
              "size": 10,
              "solidity": 0.2
             }
            },
            "type": "barpolar"
           }
          ],
          "carpet": [
           {
            "aaxis": {
             "endlinecolor": "#2a3f5f",
             "gridcolor": "white",
             "linecolor": "white",
             "minorgridcolor": "white",
             "startlinecolor": "#2a3f5f"
            },
            "baxis": {
             "endlinecolor": "#2a3f5f",
             "gridcolor": "white",
             "linecolor": "white",
             "minorgridcolor": "white",
             "startlinecolor": "#2a3f5f"
            },
            "type": "carpet"
           }
          ],
          "choropleth": [
           {
            "colorbar": {
             "outlinewidth": 0,
             "ticks": ""
            },
            "type": "choropleth"
           }
          ],
          "contour": [
           {
            "colorbar": {
             "outlinewidth": 0,
             "ticks": ""
            },
            "colorscale": [
             [
              0,
              "#0d0887"
             ],
             [
              0.1111111111111111,
              "#46039f"
             ],
             [
              0.2222222222222222,
              "#7201a8"
             ],
             [
              0.3333333333333333,
              "#9c179e"
             ],
             [
              0.4444444444444444,
              "#bd3786"
             ],
             [
              0.5555555555555556,
              "#d8576b"
             ],
             [
              0.6666666666666666,
              "#ed7953"
             ],
             [
              0.7777777777777778,
              "#fb9f3a"
             ],
             [
              0.8888888888888888,
              "#fdca26"
             ],
             [
              1,
              "#f0f921"
             ]
            ],
            "type": "contour"
           }
          ],
          "contourcarpet": [
           {
            "colorbar": {
             "outlinewidth": 0,
             "ticks": ""
            },
            "type": "contourcarpet"
           }
          ],
          "heatmap": [
           {
            "colorbar": {
             "outlinewidth": 0,
             "ticks": ""
            },
            "colorscale": [
             [
              0,
              "#0d0887"
             ],
             [
              0.1111111111111111,
              "#46039f"
             ],
             [
              0.2222222222222222,
              "#7201a8"
             ],
             [
              0.3333333333333333,
              "#9c179e"
             ],
             [
              0.4444444444444444,
              "#bd3786"
             ],
             [
              0.5555555555555556,
              "#d8576b"
             ],
             [
              0.6666666666666666,
              "#ed7953"
             ],
             [
              0.7777777777777778,
              "#fb9f3a"
             ],
             [
              0.8888888888888888,
              "#fdca26"
             ],
             [
              1,
              "#f0f921"
             ]
            ],
            "type": "heatmap"
           }
          ],
          "heatmapgl": [
           {
            "colorbar": {
             "outlinewidth": 0,
             "ticks": ""
            },
            "colorscale": [
             [
              0,
              "#0d0887"
             ],
             [
              0.1111111111111111,
              "#46039f"
             ],
             [
              0.2222222222222222,
              "#7201a8"
             ],
             [
              0.3333333333333333,
              "#9c179e"
             ],
             [
              0.4444444444444444,
              "#bd3786"
             ],
             [
              0.5555555555555556,
              "#d8576b"
             ],
             [
              0.6666666666666666,
              "#ed7953"
             ],
             [
              0.7777777777777778,
              "#fb9f3a"
             ],
             [
              0.8888888888888888,
              "#fdca26"
             ],
             [
              1,
              "#f0f921"
             ]
            ],
            "type": "heatmapgl"
           }
          ],
          "histogram": [
           {
            "marker": {
             "pattern": {
              "fillmode": "overlay",
              "size": 10,
              "solidity": 0.2
             }
            },
            "type": "histogram"
           }
          ],
          "histogram2d": [
           {
            "colorbar": {
             "outlinewidth": 0,
             "ticks": ""
            },
            "colorscale": [
             [
              0,
              "#0d0887"
             ],
             [
              0.1111111111111111,
              "#46039f"
             ],
             [
              0.2222222222222222,
              "#7201a8"
             ],
             [
              0.3333333333333333,
              "#9c179e"
             ],
             [
              0.4444444444444444,
              "#bd3786"
             ],
             [
              0.5555555555555556,
              "#d8576b"
             ],
             [
              0.6666666666666666,
              "#ed7953"
             ],
             [
              0.7777777777777778,
              "#fb9f3a"
             ],
             [
              0.8888888888888888,
              "#fdca26"
             ],
             [
              1,
              "#f0f921"
             ]
            ],
            "type": "histogram2d"
           }
          ],
          "histogram2dcontour": [
           {
            "colorbar": {
             "outlinewidth": 0,
             "ticks": ""
            },
            "colorscale": [
             [
              0,
              "#0d0887"
             ],
             [
              0.1111111111111111,
              "#46039f"
             ],
             [
              0.2222222222222222,
              "#7201a8"
             ],
             [
              0.3333333333333333,
              "#9c179e"
             ],
             [
              0.4444444444444444,
              "#bd3786"
             ],
             [
              0.5555555555555556,
              "#d8576b"
             ],
             [
              0.6666666666666666,
              "#ed7953"
             ],
             [
              0.7777777777777778,
              "#fb9f3a"
             ],
             [
              0.8888888888888888,
              "#fdca26"
             ],
             [
              1,
              "#f0f921"
             ]
            ],
            "type": "histogram2dcontour"
           }
          ],
          "mesh3d": [
           {
            "colorbar": {
             "outlinewidth": 0,
             "ticks": ""
            },
            "type": "mesh3d"
           }
          ],
          "parcoords": [
           {
            "line": {
             "colorbar": {
              "outlinewidth": 0,
              "ticks": ""
             }
            },
            "type": "parcoords"
           }
          ],
          "pie": [
           {
            "automargin": true,
            "type": "pie"
           }
          ],
          "scatter": [
           {
            "fillpattern": {
             "fillmode": "overlay",
             "size": 10,
             "solidity": 0.2
            },
            "type": "scatter"
           }
          ],
          "scatter3d": [
           {
            "line": {
             "colorbar": {
              "outlinewidth": 0,
              "ticks": ""
             }
            },
            "marker": {
             "colorbar": {
              "outlinewidth": 0,
              "ticks": ""
             }
            },
            "type": "scatter3d"
           }
          ],
          "scattercarpet": [
           {
            "marker": {
             "colorbar": {
              "outlinewidth": 0,
              "ticks": ""
             }
            },
            "type": "scattercarpet"
           }
          ],
          "scattergeo": [
           {
            "marker": {
             "colorbar": {
              "outlinewidth": 0,
              "ticks": ""
             }
            },
            "type": "scattergeo"
           }
          ],
          "scattergl": [
           {
            "marker": {
             "colorbar": {
              "outlinewidth": 0,
              "ticks": ""
             }
            },
            "type": "scattergl"
           }
          ],
          "scattermapbox": [
           {
            "marker": {
             "colorbar": {
              "outlinewidth": 0,
              "ticks": ""
             }
            },
            "type": "scattermapbox"
           }
          ],
          "scatterpolar": [
           {
            "marker": {
             "colorbar": {
              "outlinewidth": 0,
              "ticks": ""
             }
            },
            "type": "scatterpolar"
           }
          ],
          "scatterpolargl": [
           {
            "marker": {
             "colorbar": {
              "outlinewidth": 0,
              "ticks": ""
             }
            },
            "type": "scatterpolargl"
           }
          ],
          "scatterternary": [
           {
            "marker": {
             "colorbar": {
              "outlinewidth": 0,
              "ticks": ""
             }
            },
            "type": "scatterternary"
           }
          ],
          "surface": [
           {
            "colorbar": {
             "outlinewidth": 0,
             "ticks": ""
            },
            "colorscale": [
             [
              0,
              "#0d0887"
             ],
             [
              0.1111111111111111,
              "#46039f"
             ],
             [
              0.2222222222222222,
              "#7201a8"
             ],
             [
              0.3333333333333333,
              "#9c179e"
             ],
             [
              0.4444444444444444,
              "#bd3786"
             ],
             [
              0.5555555555555556,
              "#d8576b"
             ],
             [
              0.6666666666666666,
              "#ed7953"
             ],
             [
              0.7777777777777778,
              "#fb9f3a"
             ],
             [
              0.8888888888888888,
              "#fdca26"
             ],
             [
              1,
              "#f0f921"
             ]
            ],
            "type": "surface"
           }
          ],
          "table": [
           {
            "cells": {
             "fill": {
              "color": "#EBF0F8"
             },
             "line": {
              "color": "white"
             }
            },
            "header": {
             "fill": {
              "color": "#C8D4E3"
             },
             "line": {
              "color": "white"
             }
            },
            "type": "table"
           }
          ]
         },
         "layout": {
          "annotationdefaults": {
           "arrowcolor": "#2a3f5f",
           "arrowhead": 0,
           "arrowwidth": 1
          },
          "autotypenumbers": "strict",
          "coloraxis": {
           "colorbar": {
            "outlinewidth": 0,
            "ticks": ""
           }
          },
          "colorscale": {
           "diverging": [
            [
             0,
             "#8e0152"
            ],
            [
             0.1,
             "#c51b7d"
            ],
            [
             0.2,
             "#de77ae"
            ],
            [
             0.3,
             "#f1b6da"
            ],
            [
             0.4,
             "#fde0ef"
            ],
            [
             0.5,
             "#f7f7f7"
            ],
            [
             0.6,
             "#e6f5d0"
            ],
            [
             0.7,
             "#b8e186"
            ],
            [
             0.8,
             "#7fbc41"
            ],
            [
             0.9,
             "#4d9221"
            ],
            [
             1,
             "#276419"
            ]
           ],
           "sequential": [
            [
             0,
             "#0d0887"
            ],
            [
             0.1111111111111111,
             "#46039f"
            ],
            [
             0.2222222222222222,
             "#7201a8"
            ],
            [
             0.3333333333333333,
             "#9c179e"
            ],
            [
             0.4444444444444444,
             "#bd3786"
            ],
            [
             0.5555555555555556,
             "#d8576b"
            ],
            [
             0.6666666666666666,
             "#ed7953"
            ],
            [
             0.7777777777777778,
             "#fb9f3a"
            ],
            [
             0.8888888888888888,
             "#fdca26"
            ],
            [
             1,
             "#f0f921"
            ]
           ],
           "sequentialminus": [
            [
             0,
             "#0d0887"
            ],
            [
             0.1111111111111111,
             "#46039f"
            ],
            [
             0.2222222222222222,
             "#7201a8"
            ],
            [
             0.3333333333333333,
             "#9c179e"
            ],
            [
             0.4444444444444444,
             "#bd3786"
            ],
            [
             0.5555555555555556,
             "#d8576b"
            ],
            [
             0.6666666666666666,
             "#ed7953"
            ],
            [
             0.7777777777777778,
             "#fb9f3a"
            ],
            [
             0.8888888888888888,
             "#fdca26"
            ],
            [
             1,
             "#f0f921"
            ]
           ]
          },
          "colorway": [
           "#636efa",
           "#EF553B",
           "#00cc96",
           "#ab63fa",
           "#FFA15A",
           "#19d3f3",
           "#FF6692",
           "#B6E880",
           "#FF97FF",
           "#FECB52"
          ],
          "font": {
           "color": "#2a3f5f"
          },
          "geo": {
           "bgcolor": "white",
           "lakecolor": "white",
           "landcolor": "#E5ECF6",
           "showlakes": true,
           "showland": true,
           "subunitcolor": "white"
          },
          "hoverlabel": {
           "align": "left"
          },
          "hovermode": "closest",
          "mapbox": {
           "style": "light"
          },
          "paper_bgcolor": "white",
          "plot_bgcolor": "#E5ECF6",
          "polar": {
           "angularaxis": {
            "gridcolor": "white",
            "linecolor": "white",
            "ticks": ""
           },
           "bgcolor": "#E5ECF6",
           "radialaxis": {
            "gridcolor": "white",
            "linecolor": "white",
            "ticks": ""
           }
          },
          "scene": {
           "xaxis": {
            "backgroundcolor": "#E5ECF6",
            "gridcolor": "white",
            "gridwidth": 2,
            "linecolor": "white",
            "showbackground": true,
            "ticks": "",
            "zerolinecolor": "white"
           },
           "yaxis": {
            "backgroundcolor": "#E5ECF6",
            "gridcolor": "white",
            "gridwidth": 2,
            "linecolor": "white",
            "showbackground": true,
            "ticks": "",
            "zerolinecolor": "white"
           },
           "zaxis": {
            "backgroundcolor": "#E5ECF6",
            "gridcolor": "white",
            "gridwidth": 2,
            "linecolor": "white",
            "showbackground": true,
            "ticks": "",
            "zerolinecolor": "white"
           }
          },
          "shapedefaults": {
           "line": {
            "color": "#2a3f5f"
           }
          },
          "ternary": {
           "aaxis": {
            "gridcolor": "white",
            "linecolor": "white",
            "ticks": ""
           },
           "baxis": {
            "gridcolor": "white",
            "linecolor": "white",
            "ticks": ""
           },
           "bgcolor": "#E5ECF6",
           "caxis": {
            "gridcolor": "white",
            "linecolor": "white",
            "ticks": ""
           }
          },
          "title": {
           "x": 0.05
          },
          "xaxis": {
           "automargin": true,
           "gridcolor": "white",
           "linecolor": "white",
           "ticks": "",
           "title": {
            "standoff": 15
           },
           "zerolinecolor": "white",
           "zerolinewidth": 2
          },
          "yaxis": {
           "automargin": true,
           "gridcolor": "white",
           "linecolor": "white",
           "ticks": "",
           "title": {
            "standoff": 15
           },
           "zerolinecolor": "white",
           "zerolinewidth": 2
          }
         }
        },
        "title": {
         "text": "Input and Output Points in 3D Space"
        }
       }
      }
     },
     "metadata": {},
     "output_type": "display_data"
    }
   ],
   "source": [
    "interactive_output_visualization(losses[\"labels\"], duration=3, randomseed=False, output=True, output_data=losses[\"outputs\"])\n",
    "interactive_output_visualization(losses[\"labels_t\"], duration=1, randomseed=True, output=True, output_data=losses[\"outputs_t\"])"
   ]
  },
  {
   "cell_type": "markdown",
   "metadata": {},
   "source": [
    "Remove later \\\\ For manual observation"
   ]
  },
  {
   "cell_type": "code",
   "execution_count": 12,
   "metadata": {},
   "outputs": [
    {
     "name": "stdout",
     "output_type": "stream",
     "text": [
      "[[-2.41387874e-01 -1.73492789e+00 -6.47572994e-01]\n",
      " [-4.12719399e-02 -1.09263245e-04  4.32658911e-01]\n",
      " [-4.90657479e-01 -2.14836073e+00 -1.84781158e+00]\n",
      " [ 2.03442836e+00 -2.22721528e-02 -1.17204644e-01]\n",
      " [-2.11147860e-01 -1.92624044e+00 -9.10992742e-01]\n",
      " [ 2.19426483e-01 -6.14125058e-02  1.63788235e+00]\n",
      " [-1.01135719e+00 -5.99414408e-01 -2.89684553e-02]\n",
      " [ 1.63507545e+00 -1.90453492e-02  9.09197569e-01]\n",
      " [ 1.95478332e+00 -5.92342615e-01  8.48247766e-01]\n",
      " [ 2.60773152e-01 -3.33612971e-03  5.63411951e-01]]\n",
      "\n",
      "[[-0.42665794 -1.5441096  -0.33816755]\n",
      " [-0.0658415  -0.18996273  0.26924488]\n",
      " [-0.38690442 -2.053193   -1.6587903 ]\n",
      " [ 1.6857835   0.7732526  -0.9285927 ]\n",
      " [-0.13300632 -2.0352752  -0.8506796 ]\n",
      " [ 0.4091756   0.04113898  2.077549  ]\n",
      " [-1.2792237  -0.6650891  -0.22338611]\n",
      " [ 1.5670209  -0.18776903  0.84927785]\n",
      " [ 1.7725127  -0.8815917  -0.20482388]\n",
      " [ 0.0935408  -0.27339137  0.13137189]]\n"
     ]
    }
   ],
   "source": [
    "print(losses[\"outputs_t\"][:10])\n",
    "print()\n",
    "print(losses[\"labels_t\"][:10])"
   ]
  },
  {
   "cell_type": "code",
   "execution_count": 13,
   "metadata": {},
   "outputs": [
    {
     "name": "stdout",
     "output_type": "stream",
     "text": [
      "[[-8.0191648e-01  1.1433494e+00 -3.0422851e-04]\n",
      " [-7.7549404e-01  1.0667541e+00 -1.0965983e-03]\n",
      " [-7.5268596e-01  1.0062931e+00 -7.4353378e-04]\n",
      " [-7.3915541e-01  9.5700145e-01 -3.7299840e-05]\n",
      " [-7.1842170e-01  9.2594790e-01  1.3575728e-01]\n",
      " [-6.9699764e-01  9.2605281e-01  2.5110894e-01]\n",
      " [-6.7096055e-01  9.1949153e-01  4.2720014e-01]\n",
      " [-6.4159912e-01  9.3548942e-01  5.7310945e-01]\n",
      " [-6.1772865e-01  9.1883636e-01  6.0584289e-01]\n",
      " [-5.8674252e-01  9.0483642e-01  5.2509719e-01]]\n",
      "\n",
      "[[-0.51455855  0.6345319   0.6635679 ]\n",
      " [-0.49432316  0.63156945  0.6758016 ]\n",
      " [-0.474348    0.6273448   0.6853503 ]\n",
      " [-0.45370033  0.6215355   0.69645673]\n",
      " [-0.3920995   0.6002754   0.7260766 ]\n",
      " [-0.3920995   0.6002754   0.7260766 ]\n",
      " [-0.3711334   0.5911041   0.7366141 ]\n",
      " [-0.34291145  0.5956905   0.74907   ]\n",
      " [-0.30838543  0.57626975  0.76170856]\n",
      " [-0.29201266  0.5736187   0.76360667]]\n"
     ]
    }
   ],
   "source": [
    "print(losses[\"outputs\"][:10])\n",
    "print()\n",
    "print(losses[\"labels\"][:10])"
   ]
  },
  {
   "cell_type": "code",
   "execution_count": null,
   "metadata": {},
   "outputs": [],
   "source": [
    "interactive_output_visualization(losses[\"labels\"], duration=3, randomseed=False, output=True, output_data=losses[\"outputs\"])\n",
    "interactive_output_visualization(losses[\"labels_t\"], duration=1, randomseed=False, output=True, output_data=losses[\"outputs_t\"])"
   ]
  }
 ],
 "metadata": {
  "kernelspec": {
   "display_name": "Python 3",
   "language": "python",
   "name": "python3"
  },
  "language_info": {
   "codemirror_mode": {
    "name": "ipython",
    "version": 3
   },
   "file_extension": ".py",
   "mimetype": "text/x-python",
   "name": "python",
   "nbconvert_exporter": "python",
   "pygments_lexer": "ipython3",
   "version": "3.9.6"
  },
  "orig_nbformat": 4
 },
 "nbformat": 4,
 "nbformat_minor": 2
}
