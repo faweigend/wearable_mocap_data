{
 "cells": [
  {
   "cell_type": "markdown",
   "metadata": {},
   "source": [
    "# Pose Prediction From Smartwatch Data\n",
    "### Part 2\n",
    "\n",
    "Welcome! This notebook is the second chapter of the hackathon challenge to predict human arm pose from the sensor data of a single smartwatch. In other words, a human wears a smartwatch, and we will try to predict their arm pose from the sensor outputs we can read from the watch.\n",
    "\n",
    "## Creating a Predictive Model with Machine Learning\n",
    "\n",
    "In this second chapter, we will have the opportunity to utilize the processed data from the previous chapter and train a Neural Network to generate predictions. The following sections will guide you step-by-step through model architecture design, model training and evaluation, performance analysis, and 3D visualization for better interpretability of the model's performance. "
   ]
  },
  {
   "cell_type": "markdown",
   "metadata": {},
   "source": [
    "### 0. Downloading Dependencies (Optional)\n",
    "\n",
    "We begin by downloading the libraries in this notebook. If you have all of these pre-installed, you may skip this step.\n",
    "\n",
    "Note: We installed some packages in the first notebook. If you skipped running it, please run step 0 from the first notebook to download dependacies and continute with this notebook. "
   ]
  },
  {
   "cell_type": "code",
   "execution_count": 1,
   "metadata": {},
   "outputs": [
    {
     "name": "stdout",
     "output_type": "stream",
     "text": [
      "Defaulting to user installation because normal site-packages is not writeable\n",
      "Requirement already satisfied: torch in /Users/affanbinusman/Library/Python/3.9/lib/python/site-packages (2.0.1)\n",
      "Requirement already satisfied: filelock in /Users/affanbinusman/Library/Python/3.9/lib/python/site-packages (from torch) (3.8.0)\n",
      "Requirement already satisfied: typing-extensions in /Users/affanbinusman/Library/Python/3.9/lib/python/site-packages (from torch) (4.5.0)\n",
      "Requirement already satisfied: sympy in /Users/affanbinusman/Library/Python/3.9/lib/python/site-packages (from torch) (1.12)\n",
      "Requirement already satisfied: networkx in /Users/affanbinusman/Library/Python/3.9/lib/python/site-packages (from torch) (3.1)\n",
      "Requirement already satisfied: jinja2 in /Users/affanbinusman/Library/Python/3.9/lib/python/site-packages (from torch) (3.1.2)\n",
      "Requirement already satisfied: MarkupSafe>=2.0 in /Users/affanbinusman/Library/Python/3.9/lib/python/site-packages (from jinja2->torch) (2.1.1)\n",
      "Requirement already satisfied: mpmath>=0.19 in /Users/affanbinusman/Library/Python/3.9/lib/python/site-packages (from sympy->torch) (1.3.0)\n",
      "\n",
      "\u001b[1m[\u001b[0m\u001b[34;49mnotice\u001b[0m\u001b[1;39;49m]\u001b[0m\u001b[39;49m A new release of pip is available: \u001b[0m\u001b[31;49m23.1.2\u001b[0m\u001b[39;49m -> \u001b[0m\u001b[32;49m23.2.1\u001b[0m\n",
      "\u001b[1m[\u001b[0m\u001b[34;49mnotice\u001b[0m\u001b[1;39;49m]\u001b[0m\u001b[39;49m To update, run: \u001b[0m\u001b[32;49m/Library/Developer/CommandLineTools/usr/bin/python3 -m pip install --upgrade pip\u001b[0m\n",
      "Defaulting to user installation because normal site-packages is not writeable\n",
      "Requirement already satisfied: sklearn in /Users/affanbinusman/Library/Python/3.9/lib/python/site-packages (0.0.post1)\n",
      "\n",
      "\u001b[1m[\u001b[0m\u001b[34;49mnotice\u001b[0m\u001b[1;39;49m]\u001b[0m\u001b[39;49m A new release of pip is available: \u001b[0m\u001b[31;49m23.1.2\u001b[0m\u001b[39;49m -> \u001b[0m\u001b[32;49m23.2.1\u001b[0m\n",
      "\u001b[1m[\u001b[0m\u001b[34;49mnotice\u001b[0m\u001b[1;39;49m]\u001b[0m\u001b[39;49m To update, run: \u001b[0m\u001b[32;49m/Library/Developer/CommandLineTools/usr/bin/python3 -m pip install --upgrade pip\u001b[0m\n"
     ]
    }
   ],
   "source": [
    "!pip install torch\n",
    "!pip install sklearn"
   ]
  },
  {
   "cell_type": "markdown",
   "metadata": {},
   "source": [
    "### 1. Importing Libraries\n",
    "\n",
    "Lets import the libraries we will be primarily working with in this notebook. You may notice some similar ones. Let us help you understand why:\n",
    "- Libraries like Numpy and Pandas are helpful for mathematical functions and data frameworks respectively. Therefore, you would see them almost everywhere.\n",
    "- Matplotlib is often used to display plots. Using plotly, we will display interactive plots. But why do we need plots for training a machine learning model? You will find out soon. \n",
    "- Finally, Torch (PyTorch) provides powerful tools to deploy Neural Networks (NN)"
   ]
  },
  {
   "cell_type": "code",
   "execution_count": 2,
   "metadata": {},
   "outputs": [],
   "source": [
    "# PyTorch Libraries for Neural Network\n",
    "import torch\n",
    "import torch.nn as nn\n",
    "import torch.optim as optim\n",
    "from torch.utils.data import DataLoader, Dataset\n",
    "from sklearn.model_selection import train_test_split    # Scikit-Lean for preparing the train-test data split\n",
    "\n",
    "import pandas as pd\n",
    "import numpy as np\n",
    "\n",
    "# Plotting tools\n",
    "import matplotlib.pyplot as plt\n",
    "import plotly.graph_objs as go\n",
    "\n",
    "# adjust data paths in config.py\n",
    "import config   \n",
    "import os    "
   ]
  },
  {
   "cell_type": "markdown",
   "metadata": {},
   "source": [
    "### 2. Loading Processed Data\n",
    "\n",
    "Let's load the normalized dataset into the environment that we processed in the previous notebook. You will notice two files in the cache folder. \n",
    "1. `normalized_data.csv` contains the normalized dataset\n",
    "2. `means_stds.csv` contains the means and standard deviations of different columns utilized during normalization."
   ]
  },
  {
   "cell_type": "code",
   "execution_count": 3,
   "metadata": {},
   "outputs": [],
   "source": [
    "cache_path = config.paths[\"cache_path\"]\n",
    "path = os.path.join(cache_path, \"normalized_data.csv\")\n",
    "data_normalized = pd.read_csv(path)"
   ]
  },
  {
   "cell_type": "code",
   "execution_count": 4,
   "metadata": {},
   "outputs": [],
   "source": [
    "path = os.path.join(cache_path, \"means_stds.csv\")\n",
    "means_stds_df = pd.read_csv(path)\n",
    "meanss = means_stds_df.iloc[:, 1].values\n",
    "stdd = means_stds_df.iloc[:, 2].values"
   ]
  },
  {
   "cell_type": "markdown",
   "metadata": {},
   "source": [
    "### 3. Plotting Functions\n",
    "Lets get the simpler stuff out of the way first. Since the neural networks will help estimate the X, Y & Z coordinates, we use a similar 3D visualization for representing the outputs by the model and actual labels to gain a deeper understanding of model's performance. \n",
    "\n",
    "Secondly, during the training process you will notice the loss decreases with epochs. It is useful to visualize the loss for a number of reasons:\n",
    "- Overfitting: When model starts remembering the training dataset instead of figuring out a \"pattern\".\n",
    "- Performance: To figure out if further training decreases or increases loss \n",
    "\n",
    "Note: Epoch refers to the iteration number where the model goes through the entire training data. For instance, 1 epoch indicates that model has passed through the data once. \n",
    "\n",
    "For these purposes, we are using helper functions that can be called repeatedly. "
   ]
  },
  {
   "cell_type": "code",
   "execution_count": 5,
   "metadata": {},
   "outputs": [],
   "source": [
    "\"\"\"\n",
    "    This section represents the function and helper function required for interactive 3D visualization:\n",
    "        - The interactive_output_visualization function helps in visualizing the X, Y, Z coordinates in an interactive 3D map. It is also used to display the output and original labels\n",
    "\"\"\"\n",
    "\n",
    "# Helper function that provides appropriate the approriate length for columns. \n",
    "# The duration variable helps in defining the length of continuous data - this helps in visualizing a smaller hand trajectory \n",
    "# The randomseed variable helps to visualize the same data without randomizing the selection process\n",
    "# The remaining functions follow the same variables and analogy\n",
    "def data_visualization(data, duration, randomseed=False, output=False, start_idx = None):\n",
    "    if output is True:\n",
    "        dim1, dim2, dim3 = data[:,0], data[:,1], data[:,2]\n",
    "    else:\n",
    "        dim1, dim2, dim3 = np.array(data['gt_hand_orig_rua_x']), np.array(data['gt_hand_orig_rua_y']), np.array(data['gt_hand_orig_rua_z'])\n",
    "\n",
    "    if start_idx is not None:\n",
    "        dim1 = dim1[start_idx : start_idx + duration]\n",
    "        dim2 = dim2[start_idx : start_idx + duration]\n",
    "        dim3 = dim3[start_idx : start_idx + duration]\n",
    "        \n",
    "    return dim1, dim2, dim3\n",
    "\n",
    "def interactive_output_visualization(data, duration=None, randomseed=False, output=False, output_data = None):\n",
    "    \n",
    "    if duration is not None:\n",
    "        if randomseed:\n",
    "            np.random.seed(42)\n",
    "        else: \n",
    "            np.random.seed(None)\n",
    "        duration *= 10\n",
    "        start_idx = np.random.choice(len(data[:,0]) - (duration))    \n",
    "    else: \n",
    "        start_idx = None\n",
    "\n",
    "    dim1, dim2, dim3 = data_visualization(data, duration, randomseed, output, start_idx=start_idx)\n",
    "\n",
    "    trace = go.Scatter3d(x=dim1, y=dim2, z=dim3, mode='markers', marker=dict(size=3, \n",
    "                                                                             color='blue', \n",
    "                                                                             opacity=0.8),\n",
    "                                                                             name=\"Input Points\")\n",
    "\n",
    "    if output:\n",
    "        dim1, dim2, dim3 = data_visualization(output_data, duration, randomseed, output, start_idx=start_idx)\n",
    "        trace_output = go.Scatter3d(x=dim1, y=dim2, z=dim3, mode='markers', marker=dict(size=3, \n",
    "                                                                                    color='red', \n",
    "                                                                                    opacity=0.5), \n",
    "                                                                                    name='Output Points')\n",
    "        traces = [trace, trace_output]\n",
    "        title = 'Input and Output Points in 3D Space'\n",
    "    else:\n",
    "        traces = [trace]\n",
    "        title = 'Values in 3D Space'\n",
    "\n",
    "    layout = go.Layout(title=title, scene=dict(xaxis=dict(title='X-Dimension'),\n",
    "                                                                        yaxis=dict(title='Y-Dimension'),\n",
    "                                                                        zaxis=dict(title='Z-Dimension')))\n",
    "\n",
    "    fig = go.Figure(data=traces, layout=layout)\n",
    "    fig.show()\n",
    "\n",
    "def lossPlot(results):\n",
    "    epochs_total = range(1, 1 + len(results[\"evaluation\"]))\n",
    "\n",
    "    plt.subplots(1, figsize=(20,5))\n",
    "    plt.plot(epochs_total, results[\"training\"], label = \"Training Loss\")\n",
    "    plt.plot(epochs_total, results[\"evaluation\"], label = \"Evaluation Loss\")\n",
    "    plt.xlabel('Epochs')\n",
    "    plt.ylabel('Loss')\n",
    "    plt.title('Losses over Epochs')\n",
    "    plt.legend()\n",
    "    plt.show()\n",
    "\n",
    "# Function for de-normalizing data before visualizing\n",
    "def deNorm(data):\n",
    "    return (data * stdd[:3]) + meanss[:3]"
   ]
  },
  {
   "cell_type": "markdown",
   "metadata": {},
   "source": [
    "### 4. Data Loader & Model Architecture\n",
    "\n",
    "A data loader is an integral part of training a neural network. The data loader assists in selecting the relevant columns assigned as features and labels. We accomplish this task using the PyTorch library. \n",
    "\n",
    "In the next portion of the code block, we implement a basic feed-forward architecture comprising an input, two hidden, and an output layer."
   ]
  },
  {
   "cell_type": "code",
   "execution_count": 6,
   "metadata": {},
   "outputs": [],
   "source": [
    "\"\"\"\n",
    "    Data Loader: \n",
    "        This serves as the framework to load data using pandas and segment out the useful columns (labels and inputs)\n",
    "\"\"\"\n",
    "gt_columns = [\n",
    "    \"gt_hand_orig_rua_x\", \"gt_hand_orig_rua_y\", \"gt_hand_orig_rua_z\",\n",
    "    \"gt_larm_6drr_rh_1\", \"gt_larm_6drr_rh_2\", \"gt_larm_6drr_rh_3\",\n",
    "    \"gt_larm_6drr_rh_4\", \"gt_larm_6drr_rh_5\", \"gt_larm_6drr_rh_6\",\n",
    "    \"gt_larm_orig_rua_x\", \"gt_larm_orig_rua_y\", \"gt_larm_orig_rua_z\",\n",
    "    \"gt_uarm_6drr_rh_1\", \"gt_uarm_6drr_rh_2\", \"gt_uarm_6drr_rh_3\",\n",
    "    \"gt_uarm_6drr_rh_4\", \"gt_uarm_6drr_rh_5\", \"gt_uarm_6drr_rh_6\"\n",
    "]\n",
    "\n",
    "sw_columns = [\n",
    "    \"sw_dt\",\n",
    "    \"sw_gyro_x\", \"sw_gyro_y\", \"sw_gyro_z\",\n",
    "    \"sw_lvel_x\", \"sw_lvel_y\", \"sw_lvel_z\",\n",
    "    \"sw_lacc_x\", \"sw_lacc_y\", \"sw_lacc_z\",\n",
    "    \"sw_grav_x\", \"sw_grav_y\", \"sw_grav_z\",\n",
    "    \"sw_6drr_cal_1\", \"sw_6drr_cal_2\", \"sw_6drr_cal_3\",\n",
    "    \"sw_6drr_cal_4\", \"sw_6drr_cal_5\", \"sw_6drr_cal_6\",\n",
    "    \"sw_pres_cal\"\n",
    "]\n",
    "\n",
    "class MyDataset(Dataset):\n",
    "    def __init__ (self, data):\n",
    "        self.data = data\n",
    "        self.features = self.data.loc[:, sw_columns].values     # All smart watch inputs that contribute towards the outputs\n",
    "        self.labels = self.data.loc[:, gt_columns[0:3]].values          # The model predicts X, Y, Z coordinates of hand\n",
    "\n",
    "    def __len__ (self):\n",
    "        return len(self.data)\n",
    "    \n",
    "    def __getitem__ (self, idx):\n",
    "        features = torch.tensor(self.features[idx], dtype=torch.float32) \n",
    "        label = torch.tensor(self.labels[idx], dtype=torch.float32)\n",
    "        return features, label\n",
    "    \n",
    "\"\"\"\n",
    "    Neural Network / Model:\n",
    "        A simple linear architecture based model with 3 layers (including input and output layers). \n",
    "\"\"\"\n",
    "\n",
    "class MyModel1(nn.Module):\n",
    "    def __init__ (self, input_size, hidden_size, output_size):\n",
    "        super (MyModel1, self).__init__()\n",
    "\n",
    "        self.flatten = nn.Flatten()\n",
    "        self.linear_stack = nn.Sequential(\n",
    "            nn.Linear(input_size, int(hidden_size * 1.5)),\n",
    "            nn.LeakyReLU(negative_slope= 0.5),\n",
    "            nn.Linear(int(hidden_size * 1.5), int(hidden_size * 0.75)),\n",
    "            nn.LeakyReLU(negative_slope= 0.1),\n",
    "            nn.Linear(int(hidden_size * 0.75), int(hidden_size * 0.25)),\n",
    "            nn.LeakyReLU(negative_slope= 0.05),\n",
    "            nn.Linear(int(hidden_size * 0.25), int(hidden_size * 0.1)),\n",
    "            nn.LeakyReLU(negative_slope= 0.01),\n",
    "            nn.Linear(int(hidden_size * 0.1), output_size),\n",
    "            nn.LeakyReLU()\n",
    "        )\n",
    "    \n",
    "    def forward(self, x):\n",
    "        x = self.flatten(x)\n",
    "        x = self.linear_stack(x)\n",
    "        return x\n",
    "    \n",
    "\n",
    "class MyModel2(nn.Module):\n",
    "    def __init__ (self, input_size, hidden_size, output_size):\n",
    "        super (MyModel2, self).__init__()\n",
    "\n",
    "        self.fc1 = nn.Linear(input_size, 40)\n",
    "        self.fc2 = nn.Linear(40, 300)\n",
    "        self.fc3 = nn.Linear(300, 100)\n",
    "        self.fc4 = nn.Linear(100, 64)\n",
    "        self.fc5 = nn.Linear(64, 33)\n",
    "        self.fc6 = nn.Linear(33, output_size)\n",
    "\n",
    "        self.leakyrelu = nn.LeakyReLU()\n",
    "        self.dropout = nn.Dropout(p=0.25)\n",
    "    \n",
    "    def forward(self, x):\n",
    "        \n",
    "        x = self.fc1(x)\n",
    "        x = self.leakyrelu(x)\n",
    "        x = self.fc2(x)\n",
    "        x = self.leakyrelu(x)\n",
    "        x = self.fc3(x)\n",
    "        x = self.leakyrelu(x)\n",
    "        x = self.fc4(x)\n",
    "        x = self.leakyrelu(x)\n",
    "        x = self.fc5(x)\n",
    "        x = self.leakyrelu(x)\n",
    "        x = self.dropout(x)\n",
    "        x = self.fc6(x)\n",
    "\n",
    "        return x"
   ]
  },
  {
   "cell_type": "markdown",
   "metadata": {},
   "source": [
    "The next code block provides a basic overview of some of the tunable parameters. We encourage you to play around with these parameters to see what works better for this model architecture and dataset."
   ]
  },
  {
   "cell_type": "code",
   "execution_count": 7,
   "metadata": {},
   "outputs": [],
   "source": [
    "batch_size = 1000        \n",
    "learning_rate = 0.01\n",
    "num_epochs = 500\n",
    "test_data_size = 0.2            # Range 0-1. You may increase or decrease the recommended testing data size by updating this variable\n",
    "hidden_size = 128               # This represents the middle layer of the neural network. You may manually play around with the model architecture by adding more layers"
   ]
  },
  {
   "cell_type": "markdown",
   "metadata": {},
   "source": [
    "Let's initialize our model with the help of helper functions defined previously. You would also notice the `criterion` and `optimizer` variables that work differently for different tasks. Feel free to play around with them. \n",
    "\n",
    "For more information on loss functions and optimizers, visit:  \n",
    "- https://pytorch.org/docs/stable/nn.html#loss-functions     \n",
    "- https://pytorch.org/docs/stable/optim.html"
   ]
  },
  {
   "cell_type": "code",
   "execution_count": 8,
   "metadata": {},
   "outputs": [],
   "source": [
    "# Data loading calls to class and functions\n",
    "dataset = MyDataset(data_normalized)\n",
    "\n",
    "train_dataset, test_dataset = train_test_split(dataset, test_size=test_data_size, shuffle=False)\n",
    "train_loader = DataLoader(train_dataset, batch_size=batch_size, shuffle=True)\n",
    "test_loader = DataLoader(test_dataset, batch_size=batch_size, shuffle=False)\n",
    "\n",
    "# Initialzing the model with inputs\n",
    "input_size = len(dataset.features[0])\n",
    "output_size = len(dataset.labels[0])"
   ]
  },
  {
   "cell_type": "code",
   "execution_count": 26,
   "metadata": {},
   "outputs": [
    {
     "data": {
      "text/plain": [
       "MyModel1(\n",
       "  (flatten): Flatten(start_dim=1, end_dim=-1)\n",
       "  (linear_stack): Sequential(\n",
       "    (0): Linear(in_features=20, out_features=192, bias=True)\n",
       "    (1): LeakyReLU(negative_slope=0.5)\n",
       "    (2): Linear(in_features=192, out_features=96, bias=True)\n",
       "    (3): LeakyReLU(negative_slope=0.1)\n",
       "    (4): Linear(in_features=96, out_features=32, bias=True)\n",
       "    (5): LeakyReLU(negative_slope=0.05)\n",
       "    (6): Linear(in_features=32, out_features=12, bias=True)\n",
       "    (7): LeakyReLU(negative_slope=0.01)\n",
       "    (8): Linear(in_features=12, out_features=3, bias=True)\n",
       "    (9): LeakyReLU(negative_slope=0.01)\n",
       "  )\n",
       ")"
      ]
     },
     "execution_count": 26,
     "metadata": {},
     "output_type": "execute_result"
    }
   ],
   "source": [
    "model = MyModel1(input_size, hidden_size, output_size)\n",
    "\n",
    "# Try out different loss functions and optimizers to see what works with different tasks. \n",
    "criterion = nn.SmoothL1Loss()\n",
    "optimizer = optim.ASGD(model.parameters(), lr=learning_rate)     \n",
    "\n",
    "\"\"\"\n",
    "    If you have GPU resource available, the training process will be faster!\n",
    "    It's okay if you dont have a GPU. The code works without one as well. \n",
    "\"\"\"\n",
    "device = torch.device(\"cuda\" if torch.cuda.is_available() else \"cpu\")\n",
    "model.to(device)"
   ]
  },
  {
   "cell_type": "markdown",
   "metadata": {},
   "source": [
    "### 5. Model Training & Evaluation\n",
    "\n",
    "Let's train our data using the defined neural network. The notebook implements the training loop, where batches of data are fed into the model iteratively. During training, the model learns to optimize its parameters to minimize the defined loss function through backpropagation. Training hyperparameters, such as learning rate, batch size, and number of epochs, can be fine-tuned to achieve optimal performance.\n",
    "\n",
    "Following training, you will notice the evaluation block that evaluates the neural network's performance on a separate test dataset (not included in training) to assess its performance. \n",
    "\n",
    "Lastly, the `results` dictionary is populated to visualize important metrics later in the notebook. "
   ]
  },
  {
   "cell_type": "code",
   "execution_count": 29,
   "metadata": {},
   "outputs": [
    {
     "name": "stdout",
     "output_type": "stream",
     "text": [
      "Epoch 1/500, Training Loss: 0.39823777052227427, Loss(SmoothL1Loss()): 0.37887304491148543\n",
      "Epoch 2/500, Training Loss: 0.36018725351434977, Loss(SmoothL1Loss()): 0.31573726050555706\n",
      "Epoch 3/500, Training Loss: 0.3062968156907869, Loss(SmoothL1Loss()): 0.2689851973062524\n",
      "Epoch 4/500, Training Loss: 0.27547257109252726, Loss(SmoothL1Loss()): 0.23681397162950957\n",
      "Epoch 5/500, Training Loss: 0.2349153615642285, Loss(SmoothL1Loss()): 0.19084916152776435\n",
      "Epoch 6/500, Training Loss: 0.20457810750186156, Loss(SmoothL1Loss()): 0.17452900451966202\n",
      "Epoch 7/500, Training Loss: 0.19206804918926118, Loss(SmoothL1Loss()): 0.16585904603394178\n",
      "Epoch 8/500, Training Loss: 0.1817985060422317, Loss(SmoothL1Loss()): 0.15741363755212381\n",
      "Epoch 9/500, Training Loss: 0.17235460035178973, Loss(SmoothL1Loss()): 0.148906937871988\n",
      "Epoch 10/500, Training Loss: 0.16308699490655448, Loss(SmoothL1Loss()): 0.13989036000118807\n",
      "Epoch 11/500, Training Loss: 0.1540233723567304, Loss(SmoothL1Loss()): 0.12966076431509393\n",
      "Epoch 12/500, Training Loss: 0.14470636128371464, Loss(SmoothL1Loss()): 0.11885721367210723\n",
      "Epoch 13/500, Training Loss: 0.1360483227144693, Loss(SmoothL1Loss()): 0.10918185974542911\n",
      "Epoch 14/500, Training Loss: 0.12936740123851287, Loss(SmoothL1Loss()): 0.10292526037217332\n",
      "Epoch 15/500, Training Loss: 0.12507170537747622, Loss(SmoothL1Loss()): 0.09903423796192957\n",
      "Epoch 16/500, Training Loss: 0.12250497996591139, Loss(SmoothL1Loss()): 0.09637297156195228\n",
      "Epoch 17/500, Training Loss: 0.12047171848263717, Loss(SmoothL1Loss()): 0.0944418805794647\n",
      "Epoch 18/500, Training Loss: 0.118798418123509, Loss(SmoothL1Loss()): 0.09284984725169264\n",
      "Epoch 19/500, Training Loss: 0.11763853671542113, Loss(SmoothL1Loss()): 0.09165868202510935\n",
      "Epoch 20/500, Training Loss: 0.1163566177845865, Loss(SmoothL1Loss()): 0.09036210772151557\n",
      "Epoch 21/500, Training Loss: 0.11514160450961855, Loss(SmoothL1Loss()): 0.08957264386117458\n",
      "Epoch 22/500, Training Loss: 0.11428513856613694, Loss(SmoothL1Loss()): 0.08889282285235822\n",
      "Epoch 23/500, Training Loss: 0.11335793767430356, Loss(SmoothL1Loss()): 0.08791080753032404\n",
      "Epoch 24/500, Training Loss: 0.11255034536195262, Loss(SmoothL1Loss()): 0.08749198616267397\n",
      "Epoch 25/500, Training Loss: 0.11197717057693983, Loss(SmoothL1Loss()): 0.08666173986589107\n",
      "Epoch 26/500, Training Loss: 0.11121702392176154, Loss(SmoothL1Loss()): 0.08621971112174484\n",
      "Epoch 27/500, Training Loss: 0.11060600166303525, Loss(SmoothL1Loss()): 0.08580297923002106\n",
      "Epoch 28/500, Training Loss: 0.10986927149880335, Loss(SmoothL1Loss()): 0.08537435329232651\n",
      "Epoch 29/500, Training Loss: 0.10946647201975186, Loss(SmoothL1Loss()): 0.08502046180029328\n",
      "Epoch 30/500, Training Loss: 0.10868787414569786, Loss(SmoothL1Loss()): 0.08468787995381998\n",
      "Epoch 31/500, Training Loss: 0.10826550256730853, Loss(SmoothL1Loss()): 0.08477651093226786\n",
      "Epoch 32/500, Training Loss: 0.10765241412220945, Loss(SmoothL1Loss()): 0.08390927474157742\n",
      "Epoch 33/500, Training Loss: 0.10704706362696086, Loss(SmoothL1Loss()): 0.08379743224941194\n",
      "Epoch 34/500, Training Loss: 0.10684380350985388, Loss(SmoothL1Loss()): 0.08386198714232215\n",
      "Epoch 35/500, Training Loss: 0.10637492234796142, Loss(SmoothL1Loss()): 0.08351345714898063\n",
      "Epoch 36/500, Training Loss: 0.10582001487486029, Loss(SmoothL1Loss()): 0.08324405644088984\n",
      "Epoch 37/500, Training Loss: 0.10556712487469548, Loss(SmoothL1Loss()): 0.08291382297801857\n",
      "Epoch 38/500, Training Loss: 0.10523876414638786, Loss(SmoothL1Loss()): 0.08299178074902067\n",
      "Epoch 39/500, Training Loss: 0.104725723033366, Loss(SmoothL1Loss()): 0.08265258258996674\n",
      "Epoch 40/500, Training Loss: 0.10438045416621194, Loss(SmoothL1Loss()): 0.08250031810110578\n",
      "Epoch 41/500, Training Loss: 0.10398078344510374, Loss(SmoothL1Loss()): 0.08215595436139175\n",
      "Epoch 42/500, Training Loss: 0.10357079194219793, Loss(SmoothL1Loss()): 0.08235549183490758\n",
      "Epoch 43/500, Training Loss: 0.10343251434933161, Loss(SmoothL1Loss()): 0.08199504866766241\n",
      "Epoch 44/500, Training Loss: 0.10297106310797198, Loss(SmoothL1Loss()): 0.08209557498160464\n",
      "Epoch 45/500, Training Loss: 0.10252829475535287, Loss(SmoothL1Loss()): 0.08223428240475747\n",
      "Epoch 46/500, Training Loss: 0.10236704578074281, Loss(SmoothL1Loss()): 0.08165953075513244\n",
      "Epoch 47/500, Training Loss: 0.10195467369136027, Loss(SmoothL1Loss()): 0.08174049005342218\n",
      "Epoch 48/500, Training Loss: 0.10174481835270273, Loss(SmoothL1Loss()): 0.08144122834962148\n",
      "Epoch 49/500, Training Loss: 0.10148847824781414, Loss(SmoothL1Loss()): 0.08161579479033557\n",
      "Epoch 50/500, Training Loss: 0.10125043493322128, Loss(SmoothL1Loss()): 0.08152444306044625\n",
      "Epoch 51/500, Training Loss: 0.10109487971389927, Loss(SmoothL1Loss()): 0.08152917638206138\n",
      "Epoch 52/500, Training Loss: 0.10066829229466581, Loss(SmoothL1Loss()): 0.0812348599294917\n",
      "Epoch 53/500, Training Loss: 0.10067087908585866, Loss(SmoothL1Loss()): 0.08107020027147463\n",
      "Epoch 54/500, Training Loss: 0.10020454830809492, Loss(SmoothL1Loss()): 0.08087374226978192\n",
      "Epoch 55/500, Training Loss: 0.10022588781472566, Loss(SmoothL1Loss()): 0.08111990368566833\n",
      "Epoch 56/500, Training Loss: 0.09995775218099212, Loss(SmoothL1Loss()): 0.08086607397462313\n",
      "Epoch 57/500, Training Loss: 0.0998132533353308, Loss(SmoothL1Loss()): 0.08082751605588083\n",
      "Epoch 58/500, Training Loss: 0.09960203876961833, Loss(SmoothL1Loss()): 0.08105290009496877\n",
      "Epoch 59/500, Training Loss: 0.09933460131287575, Loss(SmoothL1Loss()): 0.08096028835727619\n",
      "Epoch 60/500, Training Loss: 0.09931902941946247, Loss(SmoothL1Loss()): 0.08112848247401416\n",
      "Epoch 61/500, Training Loss: 0.09914731243310343, Loss(SmoothL1Loss()): 0.08065368933603168\n",
      "Epoch 62/500, Training Loss: 0.09906109352258669, Loss(SmoothL1Loss()): 0.08093274429512139\n",
      "Epoch 63/500, Training Loss: 0.09873793016813227, Loss(SmoothL1Loss()): 0.08054089415460251\n",
      "Epoch 64/500, Training Loss: 0.0985981070836961, Loss(SmoothL1Loss()): 0.08041857036117178\n",
      "Epoch 65/500, Training Loss: 0.09840491354681444, Loss(SmoothL1Loss()): 0.08063162888328616\n",
      "Epoch 66/500, Training Loss: 0.09830254197552585, Loss(SmoothL1Loss()): 0.08050931948953523\n",
      "Epoch 67/500, Training Loss: 0.09827562175007258, Loss(SmoothL1Loss()): 0.08031688605506833\n",
      "Epoch 68/500, Training Loss: 0.09808753007923923, Loss(SmoothL1Loss()): 0.08043931222234207\n",
      "Epoch 69/500, Training Loss: 0.09770987630970236, Loss(SmoothL1Loss()): 0.08041132764460948\n",
      "Epoch 70/500, Training Loss: 0.09768900957300468, Loss(SmoothL1Loss()): 0.08038303576624738\n",
      "Epoch 71/500, Training Loss: 0.09766860538418742, Loss(SmoothL1Loss()): 0.08031781220163864\n",
      "Epoch 72/500, Training Loss: 0.09744560696940491, Loss(SmoothL1Loss()): 0.08031285627601811\n",
      "Epoch 73/500, Training Loss: 0.0972498868578586, Loss(SmoothL1Loss()): 0.08020432759076357\n",
      "Epoch 74/500, Training Loss: 0.0972492222264769, Loss(SmoothL1Loss()): 0.08017027892100696\n",
      "Epoch 75/500, Training Loss: 0.0970278180019867, Loss(SmoothL1Loss()): 0.08012968342966185\n",
      "Epoch 76/500, Training Loss: 0.096928630978013, Loss(SmoothL1Loss()): 0.08060267589126642\n",
      "Epoch 77/500, Training Loss: 0.09695742934366355, Loss(SmoothL1Loss()): 0.0802265890659048\n",
      "Epoch 78/500, Training Loss: 0.09653578029162642, Loss(SmoothL1Loss()): 0.0801265426338292\n",
      "Epoch 79/500, Training Loss: 0.09661298650114433, Loss(SmoothL1Loss()): 0.0799770261734151\n",
      "Epoch 80/500, Training Loss: 0.09641362858063357, Loss(SmoothL1Loss()): 0.07992944021064502\n",
      "Epoch 81/500, Training Loss: 0.09628760847060577, Loss(SmoothL1Loss()): 0.08016425822503291\n",
      "Epoch 82/500, Training Loss: 0.09616223708299047, Loss(SmoothL1Loss()): 0.07999676541210367\n",
      "Epoch 83/500, Training Loss: 0.09587162051007943, Loss(SmoothL1Loss()): 0.08001293791816212\n",
      "Epoch 84/500, Training Loss: 0.09596393559721933, Loss(SmoothL1Loss()): 0.0798121399532717\n",
      "Epoch 85/500, Training Loss: 0.09550978968612814, Loss(SmoothL1Loss()): 0.0801335815519381\n",
      "Epoch 86/500, Training Loss: 0.09558433515654094, Loss(SmoothL1Loss()): 0.08042086492507504\n",
      "Epoch 87/500, Training Loss: 0.09574784703804674, Loss(SmoothL1Loss()): 0.07997699359503503\n",
      "Epoch 88/500, Training Loss: 0.0953992389070527, Loss(SmoothL1Loss()): 0.08008035390566175\n",
      "Epoch 89/500, Training Loss: 0.09553448737099551, Loss(SmoothL1Loss()): 0.08006708062468813\n",
      "Epoch 90/500, Training Loss: 0.095171634575739, Loss(SmoothL1Loss()): 0.0798754686346421\n",
      "Epoch 91/500, Training Loss: 0.09526409230370453, Loss(SmoothL1Loss()): 0.07976094303795925\n",
      "Epoch 92/500, Training Loss: 0.09506482463599979, Loss(SmoothL1Loss()): 0.0800079508111454\n",
      "Epoch 93/500, Training Loss: 0.09519023009112491, Loss(SmoothL1Loss()): 0.07996329606080857\n",
      "Epoch 94/500, Training Loss: 0.09501885016255332, Loss(SmoothL1Loss()): 0.07987061579926656\n",
      "Epoch 95/500, Training Loss: 0.09474147661872533, Loss(SmoothL1Loss()): 0.0798558470291587\n",
      "Epoch 96/500, Training Loss: 0.09457490954926048, Loss(SmoothL1Loss()): 0.0800709668905116\n",
      "Epoch 97/500, Training Loss: 0.0947090482906155, Loss(SmoothL1Loss()): 0.08021403052127705\n",
      "Epoch 98/500, Training Loss: 0.09457079601892526, Loss(SmoothL1Loss()): 0.07979701360902534\n",
      "Epoch 99/500, Training Loss: 0.0943603587611286, Loss(SmoothL1Loss()): 0.07985544290680152\n",
      "Epoch 100/500, Training Loss: 0.09431899302967504, Loss(SmoothL1Loss()): 0.08014512927128145\n",
      "Epoch 101/500, Training Loss: 0.09413673487550395, Loss(SmoothL1Loss()): 0.08021657530648205\n",
      "Epoch 102/500, Training Loss: 0.09411092780998363, Loss(SmoothL1Loss()): 0.07963587563986388\n",
      "Epoch 103/500, Training Loss: 0.09401163246464614, Loss(SmoothL1Loss()): 0.07986263517075433\n",
      "Epoch 104/500, Training Loss: 0.09386812359238593, Loss(SmoothL1Loss()): 0.07977059295472617\n",
      "Epoch 105/500, Training Loss: 0.093824229468614, Loss(SmoothL1Loss()): 0.07984733020958419\n",
      "Epoch 106/500, Training Loss: 0.09380099789243965, Loss(SmoothL1Loss()): 0.07999606167252821\n",
      "Epoch 107/500, Training Loss: 0.09378125705724753, Loss(SmoothL1Loss()): 0.07961722556501627\n",
      "Epoch 108/500, Training Loss: 0.09354620540271634, Loss(SmoothL1Loss()): 0.07975967235576648\n",
      "Epoch 109/500, Training Loss: 0.09337028340944921, Loss(SmoothL1Loss()): 0.07982680029593982\n",
      "Epoch 110/500, Training Loss: 0.09348614866606855, Loss(SmoothL1Loss()): 0.0799701212045665\n",
      "Epoch 111/500, Training Loss: 0.09321508457623243, Loss(SmoothL1Loss()): 0.07976494301468708\n",
      "Epoch 112/500, Training Loss: 0.09331398937797201, Loss(SmoothL1Loss()): 0.07999149206667565\n",
      "Epoch 113/500, Training Loss: 0.09310957470881766, Loss(SmoothL1Loss()): 0.07966380564567561\n",
      "Epoch 114/500, Training Loss: 0.09297320896372703, Loss(SmoothL1Loss()): 0.07999722204672602\n",
      "Epoch 115/500, Training Loss: 0.09295455504946662, Loss(SmoothL1Loss()): 0.0801093650695223\n",
      "Epoch 116/500, Training Loss: 0.09287817284896754, Loss(SmoothL1Loss()): 0.07995343765315528\n",
      "Epoch 117/500, Training Loss: 0.09305970518341387, Loss(SmoothL1Loss()): 0.07976374150110552\n",
      "Epoch 118/500, Training Loss: 0.09265681964475751, Loss(SmoothL1Loss()): 0.07973044054009594\n",
      "Epoch 119/500, Training Loss: 0.09260013825507556, Loss(SmoothL1Loss()): 0.0796362658819327\n",
      "Epoch 120/500, Training Loss: 0.09265398802820611, Loss(SmoothL1Loss()): 0.08017582555588049\n",
      "Epoch 121/500, Training Loss: 0.09252897432244918, Loss(SmoothL1Loss()): 0.07981904950709297\n",
      "Epoch 122/500, Training Loss: 0.09247887816622062, Loss(SmoothL1Loss()): 0.07927963578213866\n",
      "Epoch 123/500, Training Loss: 0.09236852911071501, Loss(SmoothL1Loss()): 0.07946074282965408\n",
      "Epoch 124/500, Training Loss: 0.09232579783540992, Loss(SmoothL1Loss()): 0.07983644147260258\n",
      "Epoch 125/500, Training Loss: 0.09222455148175719, Loss(SmoothL1Loss()): 0.08042458897958008\n",
      "Epoch 126/500, Training Loss: 0.09209170268065688, Loss(SmoothL1Loss()): 0.0792044538180702\n",
      "Epoch 127/500, Training Loss: 0.09216327177009721, Loss(SmoothL1Loss()): 0.07940427369724673\n",
      "Epoch 128/500, Training Loss: 0.09188476843750419, Loss(SmoothL1Loss()): 0.07977174732905741\n",
      "Epoch 129/500, Training Loss: 0.09179158285620131, Loss(SmoothL1Loss()): 0.0796380742596319\n",
      "Epoch 130/500, Training Loss: 0.09179970402504511, Loss(SmoothL1Loss()): 0.07978997461927625\n",
      "Epoch 131/500, Training Loss: 0.0918654172460814, Loss(SmoothL1Loss()): 0.0794151342438104\n",
      "Epoch 132/500, Training Loss: 0.0916081788243303, Loss(SmoothL1Loss()): 0.07943483703554823\n",
      "Epoch 133/500, Training Loss: 0.09148125001341824, Loss(SmoothL1Loss()): 0.07915163396571118\n",
      "Epoch 134/500, Training Loss: 0.0915922716907833, Loss(SmoothL1Loss()): 0.07970015378668904\n",
      "Epoch 135/500, Training Loss: 0.09162320725727773, Loss(SmoothL1Loss()): 0.07943171748103431\n",
      "Epoch 136/500, Training Loss: 0.0914355754888288, Loss(SmoothL1Loss()): 0.07961326332476276\n",
      "Epoch 137/500, Training Loss: 0.09135706206234757, Loss(SmoothL1Loss()): 0.07908407573659833\n",
      "Epoch 138/500, Training Loss: 0.0914324244691266, Loss(SmoothL1Loss()): 0.07999790997172777\n",
      "Epoch 139/500, Training Loss: 0.09111865492906547, Loss(SmoothL1Loss()): 0.07921738664691265\n",
      "Epoch 140/500, Training Loss: 0.09102758372895384, Loss(SmoothL1Loss()): 0.07962430603444003\n",
      "Epoch 141/500, Training Loss: 0.09122368774336317, Loss(SmoothL1Loss()): 0.07910045003518462\n",
      "Epoch 142/500, Training Loss: 0.0910490834950537, Loss(SmoothL1Loss()): 0.0796110201985217\n",
      "Epoch 143/500, Training Loss: 0.09106702614881566, Loss(SmoothL1Loss()): 0.0793568049199306\n",
      "Epoch 144/500, Training Loss: 0.09098614619118003, Loss(SmoothL1Loss()): 0.07948618624001168\n",
      "Epoch 145/500, Training Loss: 0.09079108588793428, Loss(SmoothL1Loss()): 0.0798363818679578\n",
      "Epoch 146/500, Training Loss: 0.09074529357578444, Loss(SmoothL1Loss()): 0.07957724549879248\n",
      "Epoch 147/500, Training Loss: 0.09047904853587566, Loss(SmoothL1Loss()): 0.07866493035824253\n",
      "Epoch 148/500, Training Loss: 0.09059362444612715, Loss(SmoothL1Loss()): 0.07930666793925831\n",
      "Epoch 149/500, Training Loss: 0.09061162103561388, Loss(SmoothL1Loss()): 0.07985849991942254\n",
      "Epoch 150/500, Training Loss: 0.09043189516102058, Loss(SmoothL1Loss()): 0.07916623850066501\n",
      "Epoch 151/500, Training Loss: 0.0903363676858697, Loss(SmoothL1Loss()): 0.07889284170232713\n",
      "Epoch 152/500, Training Loss: 0.09024372137183152, Loss(SmoothL1Loss()): 0.07923842389852954\n",
      "Epoch 153/500, Training Loss: 0.09016679167963457, Loss(SmoothL1Loss()): 0.07902245336355498\n",
      "Epoch 154/500, Training Loss: 0.09004551307230756, Loss(SmoothL1Loss()): 0.07926390712292722\n",
      "Epoch 155/500, Training Loss: 0.09013269402554645, Loss(SmoothL1Loss()): 0.07944406192893019\n",
      "Epoch 156/500, Training Loss: 0.09005864194913762, Loss(SmoothL1Loss()): 0.07880981977527532\n",
      "Epoch 157/500, Training Loss: 0.09005389060231223, Loss(SmoothL1Loss()): 0.07974963888633423\n",
      "Epoch 158/500, Training Loss: 0.09005144521018157, Loss(SmoothL1Loss()): 0.0790986954413641\n",
      "Epoch 159/500, Training Loss: 0.08974127017933389, Loss(SmoothL1Loss()): 0.07928326043586892\n",
      "Epoch 160/500, Training Loss: 0.08983509192144237, Loss(SmoothL1Loss()): 0.0790806745017807\n",
      "Epoch 161/500, Training Loss: 0.08981804142971546, Loss(SmoothL1Loss()): 0.07940023749744377\n",
      "Early stopping triggered. Stopping training.\n",
      "Model checkpoint saved at /Users/affanbinusman/Dropbox (ASU)/IRL-Lab/P&G/p_and_g_hackathon/scripts/cache/best_model_checkpoint.pth\n"
     ]
    }
   ],
   "source": [
    "# Storing data for visually observing the different parameters\n",
    "results = {\"training\" : [], \n",
    "          \"evaluation\" : [], \n",
    "          \"labels\" : [], \n",
    "          \"outputs\" : [],\n",
    "          \"labels_t\" : [], \n",
    "          \"outputs_t\" : []\n",
    "          }\n",
    "\n",
    "# Training & Evaluation Porcess\n",
    "patience = 15                      # Patience based stopping criteria. You may also play around with this number for early or delayed stopping of the model from over-fitting\n",
    "best_loss = float('inf')\n",
    "num_epochs_without_improvement = 0\n",
    "checkpoint_path = cache_path / 'best_model_checkpoint.pth'\n",
    "\n",
    "for epoch in range(num_epochs):\n",
    "\n",
    "    all_outputs_training = []\n",
    "    all_labels_training = []\n",
    "    model.train(True)\n",
    "    running_loss = 0.0                          # To calculates the losses in training for each epoch\n",
    "\n",
    "    for inputs, labels in train_loader:\n",
    "        # Transfers data to GPU/CPU\n",
    "        inputs = inputs.to(device)              \n",
    "        labels = labels.to(device)\n",
    "        \n",
    "        optimizer.zero_grad()                   # Zeros the optimizer before generating output\n",
    "        outputs = model(inputs)                 # Calculates the output\n",
    "        loss = criterion(outputs, labels)       # Finds loss as per the criteria defined\n",
    "        loss.backward()                         # Back propogation of loss\n",
    "        optimizer.step()                        # Updates parameters based on gradients computed duing back propogation\n",
    "        \n",
    "        running_loss += loss.item()             # Calculates loss over the training\n",
    "\n",
    "        all_outputs_training.append(outputs.detach().numpy())  # Append outputs to the list\n",
    "        all_labels_training.append(labels.detach().numpy())    # Append labels to the list\n",
    "    \n",
    "    training_loss = running_loss/len(train_loader)\n",
    "\n",
    "    \"\"\"\n",
    "    Evaluating the model that has been trained (so far). \n",
    "    You would notice similar steps as during the training process. The lack of a few lines of code is because we \n",
    "    are evaluating the model here and not training it.\n",
    "    \"\"\"\n",
    "    # model.train(False)\n",
    "    model.eval()\n",
    "    total_loss = 0.0\n",
    "    all_outputs = []\n",
    "    all_labels = []\n",
    "\n",
    "    \n",
    "    with torch.no_grad():\n",
    "        for inputs, labels in test_loader:\n",
    "            inputs = inputs.to(device)\n",
    "            labels = labels.to(device)\n",
    "            \n",
    "            outputs = model(inputs)\n",
    "            loss = criterion(outputs, labels)\n",
    "            total_loss += loss.item()\n",
    "            \n",
    "            all_outputs.append(outputs.cpu().numpy())  \n",
    "            all_labels.append(labels.cpu().numpy())    \n",
    "                \n",
    "    mean_loss = total_loss / len(test_loader)\n",
    "\n",
    "    if mean_loss < best_loss:\n",
    "        best_loss = mean_loss\n",
    "        num_epochs_without_improvement = 0\n",
    "\n",
    "        # Save model checkpoint\n",
    "        checkpoint = {\n",
    "            'epoch': epoch + 1,\n",
    "            'model_state_dict': model.state_dict(),\n",
    "            'optimizer_state_dict': optimizer.state_dict(),\n",
    "            'best_loss': best_loss,\n",
    "            'results': results\n",
    "        }\n",
    "        torch.save(checkpoint, checkpoint_path)\n",
    "\n",
    "    else:\n",
    "        num_epochs_without_improvement += 1\n",
    "        if num_epochs_without_improvement == patience:\n",
    "            print(\"Early stopping triggered. Stopping training.\")\n",
    "            print(f\"Model checkpoint saved at {checkpoint_path}\")\n",
    "            break\n",
    "    \n",
    "    # Recording the data values for\n",
    "    results[\"training\"].append(training_loss)\n",
    "    results[\"evaluation\"].append(mean_loss)\n",
    "    results[\"outputs\"] = np.concatenate(all_outputs)\n",
    "    results[\"labels\"] = np.concatenate(all_labels)\n",
    "    \n",
    "    results[\"outputs_t\"] = np.concatenate(all_outputs_training)\n",
    "    results[\"labels_t\"] = np.concatenate(all_labels_training)\n",
    "\n",
    "    print(f\"Epoch {epoch+1}/{num_epochs}, Training Loss: {training_loss}, Loss({criterion}): {mean_loss}\")"
   ]
  },
  {
   "cell_type": "markdown",
   "metadata": {},
   "source": [
    "### 6. Performance Analysis & Visualization\n",
    "\n",
    "The model's training and evaluation losses over an epochs curve help to analyze its learning progress and detect signs of overfitting or underfitting. Analyzing these curves aids in fine-tuning the model's architecture or regularization techniques to achieve a balance between accuracy and generalization.\n",
    "\n",
    "Since we will be using the neural networks to estimate the X, Y & Z coordinates, a 3D visualization represents the outputs and actual labels to gain a deeper understanding of the model's performance. "
   ]
  },
  {
   "cell_type": "code",
   "execution_count": null,
   "metadata": {},
   "outputs": [
    {
     "data": {
      "image/png": "[encoded data removed]",
      "text/plain": [
       "<Figure size 2000x500 with 1 Axes>"
      ]
     },
     "metadata": {},
     "output_type": "display_data"
    }
   ],
   "source": [
    "lossPlot(results)"
   ]
  },
  {
   "cell_type": "code",
   "execution_count": 32,
   "metadata": {},
   "outputs": [
    {
     "data": {
      "application/vnd.plotly.v1+json": {
       "config": {
        "plotlyServerURL": "https://plot.ly"
       },
       "data": [
        {
         "marker": {
          "color": "blue",
          "opacity": 0.8,
          "size": 3
         },
         "mode": "markers",
         "name": "Input Points",
         "type": "scatter3d",
         "x": [
          0.027012533419230073,
          0.03058604099624343,
          0.034127169283553416,
          0.036887337248195706,
          0.05113783079302747,
          0.05481404241118776,
          0.058398368214213764,
          0.06191272107802434,
          0.06914206029341571,
          0.07272938906510262,
          0.07630006957956911,
          0.07630006957956911,
          0.08794494124565375,
          0.09583440584809866,
          0.09583440584809866,
          0.09975559185948635,
          0.1117019163461235,
          0.11607974206480284,
          0.11942698412028777,
          0.12352846133383069,
          0.1274760458270449,
          0.13557750242633718,
          0.13856076960245542,
          0.1424465105318667,
          0.14600614665531678,
          0.15379358571162602,
          0.15379358571162602,
          0.16165651362029773,
          0.16534338012307906,
          0.16923500134258782
         ],
         "y": [
          0.08621404782995815,
          0.08590716683169641,
          0.08574676303348308,
          0.08491377568597094,
          0.08554981808373807,
          0.08536175511300845,
          0.08512853848925042,
          0.0851435214392885,
          0.08549319546751508,
          0.08553059894710652,
          0.08546355294046135,
          0.08546355294046135,
          0.08484121077974341,
          0.08522506533643812,
          0.08522506533643812,
          0.08497628369120169,
          0.0854201131644517,
          0.08409710789698946,
          0.08533133649070096,
          0.08519546592578739,
          0.08483778302570591,
          0.08474777753447002,
          0.08469553123315024,
          0.08461515147888124,
          0.08433955143098676,
          0.08351589878472135,
          0.08351589878472135,
          0.08340419496368212,
          0.08312708584168307,
          0.08266243114579025
         ],
         "z": [
          0.5222090245019242,
          0.5220570755834499,
          0.5217049878020893,
          0.5216961328998035,
          0.5196633906883569,
          0.5193367833401041,
          0.5189406921157522,
          0.5184568048364245,
          0.5176023368845681,
          0.5167681689467952,
          0.516381173574451,
          0.516381173574451,
          0.5145592924885224,
          0.5129725783313246,
          0.5129725783313246,
          0.5122902087184498,
          0.5102720439651877,
          0.5092561999369813,
          0.5082312901754824,
          0.5073663710294316,
          0.5063004696964672,
          0.5044916902516756,
          0.5029831642792864,
          0.5019217506348954,
          0.5008294653073654,
          0.49841451659930047,
          0.49841451659930047,
          0.4958957035016699,
          0.4948237332475811,
          0.4938604614368568
         ]
        },
        {
         "marker": {
          "color": "red",
          "opacity": 0.5,
          "size": 3
         },
         "mode": "markers",
         "name": "Output Points",
         "type": "scatter3d",
         "x": [
          -0.030136253259336207,
          -0.019464758075219926,
          -0.02035292689202582,
          -0.022355530047166047,
          -0.0071684432452812225,
          0.0004054143767932006,
          0.006497357223608502,
          0.0033236025730826735,
          0.014476647026709047,
          0.0061576950821448095,
          0.01889426522132577,
          0.021935091390898123,
          0.03121709161559283,
          0.03256082585592254,
          0.04623354320451026,
          0.04947184911652275,
          0.05606599135416268,
          0.047779845899864476,
          0.049851140392532245,
          0.05352736457541493,
          0.05755166926378974,
          0.06836905344004654,
          0.07806019872124559,
          0.07594211320224664,
          0.07827915157431944,
          0.0788837031940629,
          0.07296066791088082,
          0.07857138188860799,
          0.08145631754698515,
          0.09095140289937867
         ],
         "y": [
          0.0040722609096499884,
          0.013300761066281398,
          0.005226174423696987,
          0.00224194265508941,
          0.009377852867339172,
          0.005607382711158369,
          0.005756473843137912,
          0.008517691406844309,
          0.013813156399381861,
          0.016057397512170397,
          0.008606910023725677,
          0.011248420284088352,
          0.008609205972184737,
          0.012952693124066085,
          0.011872368530817572,
          0.015731071016161412,
          0.015292587976881829,
          0.01887506522648786,
          0.01357728811684012,
          0.012245767359787892,
          0.01192826894729055,
          0.013790994568246416,
          0.014061549996991406,
          0.017786332934656833,
          0.01891944278426249,
          0.018730312682558918,
          0.019794619532097664,
          0.01877943304466214,
          0.01650114075261442,
          0.01657230437574487
         ],
         "z": [
          0.3594227296662295,
          0.3642376279621611,
          0.35391240529435897,
          0.3482051421730981,
          0.35780874301236604,
          0.35631717387666684,
          0.3578413916997052,
          0.35476103774513423,
          0.3535082497839968,
          0.3555613748359941,
          0.34881618313856433,
          0.34963682024350773,
          0.34571375969538837,
          0.35060823163703037,
          0.3473517208465969,
          0.3481025352398945,
          0.34530681820386494,
          0.34842113100988875,
          0.3440922659517469,
          0.34321291241140894,
          0.3420390279545675,
          0.3430551129324959,
          0.34192244593748433,
          0.3434147379223497,
          0.3386585108837399,
          0.33639971265492763,
          0.3363796310015297,
          0.3343228164069134,
          0.3326555346864017,
          0.3324909359075192
         ]
        }
       ],
       "layout": {
        "scene": {
         "xaxis": {
          "title": {
           "text": "X-Dimension"
          }
         },
         "yaxis": {
          "title": {
           "text": "Y-Dimension"
          }
         },
         "zaxis": {
          "title": {
           "text": "Z-Dimension"
          }
         }
        },
        "template": {
         "data": {
          "bar": [
           {
            "error_x": {
             "color": "#2a3f5f"
            },
            "error_y": {
             "color": "#2a3f5f"
            },
            "marker": {
             "line": {
              "color": "#E5ECF6",
              "width": 0.5
             },
             "pattern": {
              "fillmode": "overlay",
              "size": 10,
              "solidity": 0.2
             }
            },
            "type": "bar"
           }
          ],
          "barpolar": [
           {
            "marker": {
             "line": {
              "color": "#E5ECF6",
              "width": 0.5
             },
             "pattern": {
              "fillmode": "overlay",
              "size": 10,
              "solidity": 0.2
             }
            },
            "type": "barpolar"
           }
          ],
          "carpet": [
           {
            "aaxis": {
             "endlinecolor": "#2a3f5f",
             "gridcolor": "white",
             "linecolor": "white",
             "minorgridcolor": "white",
             "startlinecolor": "#2a3f5f"
            },
            "baxis": {
             "endlinecolor": "#2a3f5f",
             "gridcolor": "white",
             "linecolor": "white",
             "minorgridcolor": "white",
             "startlinecolor": "#2a3f5f"
            },
            "type": "carpet"
           }
          ],
          "choropleth": [
           {
            "colorbar": {
             "outlinewidth": 0,
             "ticks": ""
            },
            "type": "choropleth"
           }
          ],
          "contour": [
           {
            "colorbar": {
             "outlinewidth": 0,
             "ticks": ""
            },
            "colorscale": [
             [
              0,
              "#0d0887"
             ],
             [
              0.1111111111111111,
              "#46039f"
             ],
             [
              0.2222222222222222,
              "#7201a8"
             ],
             [
              0.3333333333333333,
              "#9c179e"
             ],
             [
              0.4444444444444444,
              "#bd3786"
             ],
             [
              0.5555555555555556,
              "#d8576b"
             ],
             [
              0.6666666666666666,
              "#ed7953"
             ],
             [
              0.7777777777777778,
              "#fb9f3a"
             ],
             [
              0.8888888888888888,
              "#fdca26"
             ],
             [
              1,
              "#f0f921"
             ]
            ],
            "type": "contour"
           }
          ],
          "contourcarpet": [
           {
            "colorbar": {
             "outlinewidth": 0,
             "ticks": ""
            },
            "type": "contourcarpet"
           }
          ],
          "heatmap": [
           {
            "colorbar": {
             "outlinewidth": 0,
             "ticks": ""
            },
            "colorscale": [
             [
              0,
              "#0d0887"
             ],
             [
              0.1111111111111111,
              "#46039f"
             ],
             [
              0.2222222222222222,
              "#7201a8"
             ],
             [
              0.3333333333333333,
              "#9c179e"
             ],
             [
              0.4444444444444444,
              "#bd3786"
             ],
             [
              0.5555555555555556,
              "#d8576b"
             ],
             [
              0.6666666666666666,
              "#ed7953"
             ],
             [
              0.7777777777777778,
              "#fb9f3a"
             ],
             [
              0.8888888888888888,
              "#fdca26"
             ],
             [
              1,
              "#f0f921"
             ]
            ],
            "type": "heatmap"
           }
          ],
          "heatmapgl": [
           {
            "colorbar": {
             "outlinewidth": 0,
             "ticks": ""
            },
            "colorscale": [
             [
              0,
              "#0d0887"
             ],
             [
              0.1111111111111111,
              "#46039f"
             ],
             [
              0.2222222222222222,
              "#7201a8"
             ],
             [
              0.3333333333333333,
              "#9c179e"
             ],
             [
              0.4444444444444444,
              "#bd3786"
             ],
             [
              0.5555555555555556,
              "#d8576b"
             ],
             [
              0.6666666666666666,
              "#ed7953"
             ],
             [
              0.7777777777777778,
              "#fb9f3a"
             ],
             [
              0.8888888888888888,
              "#fdca26"
             ],
             [
              1,
              "#f0f921"
             ]
            ],
            "type": "heatmapgl"
           }
          ],
          "histogram": [
           {
            "marker": {
             "pattern": {
              "fillmode": "overlay",
              "size": 10,
              "solidity": 0.2
             }
            },
            "type": "histogram"
           }
          ],
          "histogram2d": [
           {
            "colorbar": {
             "outlinewidth": 0,
             "ticks": ""
            },
            "colorscale": [
             [
              0,
              "#0d0887"
             ],
             [
              0.1111111111111111,
              "#46039f"
             ],
             [
              0.2222222222222222,
              "#7201a8"
             ],
             [
              0.3333333333333333,
              "#9c179e"
             ],
             [
              0.4444444444444444,
              "#bd3786"
             ],
             [
              0.5555555555555556,
              "#d8576b"
             ],
             [
              0.6666666666666666,
              "#ed7953"
             ],
             [
              0.7777777777777778,
              "#fb9f3a"
             ],
             [
              0.8888888888888888,
              "#fdca26"
             ],
             [
              1,
              "#f0f921"
             ]
            ],
            "type": "histogram2d"
           }
          ],
          "histogram2dcontour": [
           {
            "colorbar": {
             "outlinewidth": 0,
             "ticks": ""
            },
            "colorscale": [
             [
              0,
              "#0d0887"
             ],
             [
              0.1111111111111111,
              "#46039f"
             ],
             [
              0.2222222222222222,
              "#7201a8"
             ],
             [
              0.3333333333333333,
              "#9c179e"
             ],
             [
              0.4444444444444444,
              "#bd3786"
             ],
             [
              0.5555555555555556,
              "#d8576b"
             ],
             [
              0.6666666666666666,
              "#ed7953"
             ],
             [
              0.7777777777777778,
              "#fb9f3a"
             ],
             [
              0.8888888888888888,
              "#fdca26"
             ],
             [
              1,
              "#f0f921"
             ]
            ],
            "type": "histogram2dcontour"
           }
          ],
          "mesh3d": [
           {
            "colorbar": {
             "outlinewidth": 0,
             "ticks": ""
            },
            "type": "mesh3d"
           }
          ],
          "parcoords": [
           {
            "line": {
             "colorbar": {
              "outlinewidth": 0,
              "ticks": ""
             }
            },
            "type": "parcoords"
           }
          ],
          "pie": [
           {
            "automargin": true,
            "type": "pie"
           }
          ],
          "scatter": [
           {
            "fillpattern": {
             "fillmode": "overlay",
             "size": 10,
             "solidity": 0.2
            },
            "type": "scatter"
           }
          ],
          "scatter3d": [
           {
            "line": {
             "colorbar": {
              "outlinewidth": 0,
              "ticks": ""
             }
            },
            "marker": {
             "colorbar": {
              "outlinewidth": 0,
              "ticks": ""
             }
            },
            "type": "scatter3d"
           }
          ],
          "scattercarpet": [
           {
            "marker": {
             "colorbar": {
              "outlinewidth": 0,
              "ticks": ""
             }
            },
            "type": "scattercarpet"
           }
          ],
          "scattergeo": [
           {
            "marker": {
             "colorbar": {
              "outlinewidth": 0,
              "ticks": ""
             }
            },
            "type": "scattergeo"
           }
          ],
          "scattergl": [
           {
            "marker": {
             "colorbar": {
              "outlinewidth": 0,
              "ticks": ""
             }
            },
            "type": "scattergl"
           }
          ],
          "scattermapbox": [
           {
            "marker": {
             "colorbar": {
              "outlinewidth": 0,
              "ticks": ""
             }
            },
            "type": "scattermapbox"
           }
          ],
          "scatterpolar": [
           {
            "marker": {
             "colorbar": {
              "outlinewidth": 0,
              "ticks": ""
             }
            },
            "type": "scatterpolar"
           }
          ],
          "scatterpolargl": [
           {
            "marker": {
             "colorbar": {
              "outlinewidth": 0,
              "ticks": ""
             }
            },
            "type": "scatterpolargl"
           }
          ],
          "scatterternary": [
           {
            "marker": {
             "colorbar": {
              "outlinewidth": 0,
              "ticks": ""
             }
            },
            "type": "scatterternary"
           }
          ],
          "surface": [
           {
            "colorbar": {
             "outlinewidth": 0,
             "ticks": ""
            },
            "colorscale": [
             [
              0,
              "#0d0887"
             ],
             [
              0.1111111111111111,
              "#46039f"
             ],
             [
              0.2222222222222222,
              "#7201a8"
             ],
             [
              0.3333333333333333,
              "#9c179e"
             ],
             [
              0.4444444444444444,
              "#bd3786"
             ],
             [
              0.5555555555555556,
              "#d8576b"
             ],
             [
              0.6666666666666666,
              "#ed7953"
             ],
             [
              0.7777777777777778,
              "#fb9f3a"
             ],
             [
              0.8888888888888888,
              "#fdca26"
             ],
             [
              1,
              "#f0f921"
             ]
            ],
            "type": "surface"
           }
          ],
          "table": [
           {
            "cells": {
             "fill": {
              "color": "#EBF0F8"
             },
             "line": {
              "color": "white"
             }
            },
            "header": {
             "fill": {
              "color": "#C8D4E3"
             },
             "line": {
              "color": "white"
             }
            },
            "type": "table"
           }
          ]
         },
         "layout": {
          "annotationdefaults": {
           "arrowcolor": "#2a3f5f",
           "arrowhead": 0,
           "arrowwidth": 1
          },
          "autotypenumbers": "strict",
          "coloraxis": {
           "colorbar": {
            "outlinewidth": 0,
            "ticks": ""
           }
          },
          "colorscale": {
           "diverging": [
            [
             0,
             "#8e0152"
            ],
            [
             0.1,
             "#c51b7d"
            ],
            [
             0.2,
             "#de77ae"
            ],
            [
             0.3,
             "#f1b6da"
            ],
            [
             0.4,
             "#fde0ef"
            ],
            [
             0.5,
             "#f7f7f7"
            ],
            [
             0.6,
             "#e6f5d0"
            ],
            [
             0.7,
             "#b8e186"
            ],
            [
             0.8,
             "#7fbc41"
            ],
            [
             0.9,
             "#4d9221"
            ],
            [
             1,
             "#276419"
            ]
           ],
           "sequential": [
            [
             0,
             "#0d0887"
            ],
            [
             0.1111111111111111,
             "#46039f"
            ],
            [
             0.2222222222222222,
             "#7201a8"
            ],
            [
             0.3333333333333333,
             "#9c179e"
            ],
            [
             0.4444444444444444,
             "#bd3786"
            ],
            [
             0.5555555555555556,
             "#d8576b"
            ],
            [
             0.6666666666666666,
             "#ed7953"
            ],
            [
             0.7777777777777778,
             "#fb9f3a"
            ],
            [
             0.8888888888888888,
             "#fdca26"
            ],
            [
             1,
             "#f0f921"
            ]
           ],
           "sequentialminus": [
            [
             0,
             "#0d0887"
            ],
            [
             0.1111111111111111,
             "#46039f"
            ],
            [
             0.2222222222222222,
             "#7201a8"
            ],
            [
             0.3333333333333333,
             "#9c179e"
            ],
            [
             0.4444444444444444,
             "#bd3786"
            ],
            [
             0.5555555555555556,
             "#d8576b"
            ],
            [
             0.6666666666666666,
             "#ed7953"
            ],
            [
             0.7777777777777778,
             "#fb9f3a"
            ],
            [
             0.8888888888888888,
             "#fdca26"
            ],
            [
             1,
             "#f0f921"
            ]
           ]
          },
          "colorway": [
           "#636efa",
           "#EF553B",
           "#00cc96",
           "#ab63fa",
           "#FFA15A",
           "#19d3f3",
           "#FF6692",
           "#B6E880",
           "#FF97FF",
           "#FECB52"
          ],
          "font": {
           "color": "#2a3f5f"
          },
          "geo": {
           "bgcolor": "white",
           "lakecolor": "white",
           "landcolor": "#E5ECF6",
           "showlakes": true,
           "showland": true,
           "subunitcolor": "white"
          },
          "hoverlabel": {
           "align": "left"
          },
          "hovermode": "closest",
          "mapbox": {
           "style": "light"
          },
          "paper_bgcolor": "white",
          "plot_bgcolor": "#E5ECF6",
          "polar": {
           "angularaxis": {
            "gridcolor": "white",
            "linecolor": "white",
            "ticks": ""
           },
           "bgcolor": "#E5ECF6",
           "radialaxis": {
            "gridcolor": "white",
            "linecolor": "white",
            "ticks": ""
           }
          },
          "scene": {
           "xaxis": {
            "backgroundcolor": "#E5ECF6",
            "gridcolor": "white",
            "gridwidth": 2,
            "linecolor": "white",
            "showbackground": true,
            "ticks": "",
            "zerolinecolor": "white"
           },
           "yaxis": {
            "backgroundcolor": "#E5ECF6",
            "gridcolor": "white",
            "gridwidth": 2,
            "linecolor": "white",
            "showbackground": true,
            "ticks": "",
            "zerolinecolor": "white"
           },
           "zaxis": {
            "backgroundcolor": "#E5ECF6",
            "gridcolor": "white",
            "gridwidth": 2,
            "linecolor": "white",
            "showbackground": true,
            "ticks": "",
            "zerolinecolor": "white"
           }
          },
          "shapedefaults": {
           "line": {
            "color": "#2a3f5f"
           }
          },
          "ternary": {
           "aaxis": {
            "gridcolor": "white",
            "linecolor": "white",
            "ticks": ""
           },
           "baxis": {
            "gridcolor": "white",
            "linecolor": "white",
            "ticks": ""
           },
           "bgcolor": "#E5ECF6",
           "caxis": {
            "gridcolor": "white",
            "linecolor": "white",
            "ticks": ""
           }
          },
          "title": {
           "x": 0.05
          },
          "xaxis": {
           "automargin": true,
           "gridcolor": "white",
           "linecolor": "white",
           "ticks": "",
           "title": {
            "standoff": 15
           },
           "zerolinecolor": "white",
           "zerolinewidth": 2
          },
          "yaxis": {
           "automargin": true,
           "gridcolor": "white",
           "linecolor": "white",
           "ticks": "",
           "title": {
            "standoff": 15
           },
           "zerolinecolor": "white",
           "zerolinewidth": 2
          }
         }
        },
        "title": {
         "text": "Input and Output Points in 3D Space"
        }
       }
      }
     },
     "metadata": {},
     "output_type": "display_data"
    },
    {
     "data": {
      "application/vnd.plotly.v1+json": {
       "config": {
        "plotlyServerURL": "https://plot.ly"
       },
       "data": [
        {
         "marker": {
          "color": "blue",
          "opacity": 0.8,
          "size": 3
         },
         "mode": "markers",
         "name": "Input Points",
         "type": "scatter3d",
         "x": [
          0.004723620487539812,
          -0.18348194326763154,
          -0.04681710965209334,
          0.17349388939874003,
          -0.008434094018066607,
          -0.10861678252367431,
          -0.0813846258668662,
          0.20946053300326775,
          -0.37237987348761314,
          -0.06990526143640703
         ],
         "y": [
          0.28159302059756786,
          -0.07656188013695339,
          -0.08673532746577892,
          -0.10692192342144889,
          -0.07458170273948508,
          -0.4239445895282411,
          -0.282800026201273,
          -0.017194487173656556,
          -0.05935771508216075,
          0.12886678779858285
         ],
         "z": [
          0.00286683689711581,
          0.2762540312761984,
          0.2283662284034975,
          0.23886852841039727,
          0.33266820713584627,
          -0.045385121949665486,
          0.1777321973087746,
          0.43193007299650554,
          0.35019757801385143,
          0.49129415112526514
         ]
        },
        {
         "marker": {
          "color": "red",
          "opacity": 0.5,
          "size": 3
         },
         "mode": "markers",
         "name": "Output Points",
         "type": "scatter3d",
         "x": [
          -0.004744469558711786,
          -0.14836187610748414,
          -0.07839254453796296,
          0.1703140345754742,
          0.1363589779026245,
          -0.13763081157432486,
          -0.14625620767542713,
          0.03461832428336162,
          -0.37078588767063514,
          -0.07323675675350595
         ],
         "y": [
          0.2930759966231469,
          -0.10163094253482202,
          -0.09614961889765755,
          -0.06301070053504479,
          -0.10449185061178531,
          -0.4526960298814372,
          -0.3003404903571351,
          0.022372710953216475,
          -0.09505014253715716,
          0.02220129091403992
         ],
         "z": [
          -0.020792136786849047,
          0.3210148620703688,
          0.2595451469095604,
          0.2739659802451923,
          0.3827277632678454,
          -0.048774230384020345,
          0.20106960099961346,
          0.3556307005888381,
          0.1650933076426398,
          0.3350853319210886
         ]
        }
       ],
       "layout": {
        "scene": {
         "xaxis": {
          "title": {
           "text": "X-Dimension"
          }
         },
         "yaxis": {
          "title": {
           "text": "Y-Dimension"
          }
         },
         "zaxis": {
          "title": {
           "text": "Z-Dimension"
          }
         }
        },
        "template": {
         "data": {
          "bar": [
           {
            "error_x": {
             "color": "#2a3f5f"
            },
            "error_y": {
             "color": "#2a3f5f"
            },
            "marker": {
             "line": {
              "color": "#E5ECF6",
              "width": 0.5
             },
             "pattern": {
              "fillmode": "overlay",
              "size": 10,
              "solidity": 0.2
             }
            },
            "type": "bar"
           }
          ],
          "barpolar": [
           {
            "marker": {
             "line": {
              "color": "#E5ECF6",
              "width": 0.5
             },
             "pattern": {
              "fillmode": "overlay",
              "size": 10,
              "solidity": 0.2
             }
            },
            "type": "barpolar"
           }
          ],
          "carpet": [
           {
            "aaxis": {
             "endlinecolor": "#2a3f5f",
             "gridcolor": "white",
             "linecolor": "white",
             "minorgridcolor": "white",
             "startlinecolor": "#2a3f5f"
            },
            "baxis": {
             "endlinecolor": "#2a3f5f",
             "gridcolor": "white",
             "linecolor": "white",
             "minorgridcolor": "white",
             "startlinecolor": "#2a3f5f"
            },
            "type": "carpet"
           }
          ],
          "choropleth": [
           {
            "colorbar": {
             "outlinewidth": 0,
             "ticks": ""
            },
            "type": "choropleth"
           }
          ],
          "contour": [
           {
            "colorbar": {
             "outlinewidth": 0,
             "ticks": ""
            },
            "colorscale": [
             [
              0,
              "#0d0887"
             ],
             [
              0.1111111111111111,
              "#46039f"
             ],
             [
              0.2222222222222222,
              "#7201a8"
             ],
             [
              0.3333333333333333,
              "#9c179e"
             ],
             [
              0.4444444444444444,
              "#bd3786"
             ],
             [
              0.5555555555555556,
              "#d8576b"
             ],
             [
              0.6666666666666666,
              "#ed7953"
             ],
             [
              0.7777777777777778,
              "#fb9f3a"
             ],
             [
              0.8888888888888888,
              "#fdca26"
             ],
             [
              1,
              "#f0f921"
             ]
            ],
            "type": "contour"
           }
          ],
          "contourcarpet": [
           {
            "colorbar": {
             "outlinewidth": 0,
             "ticks": ""
            },
            "type": "contourcarpet"
           }
          ],
          "heatmap": [
           {
            "colorbar": {
             "outlinewidth": 0,
             "ticks": ""
            },
            "colorscale": [
             [
              0,
              "#0d0887"
             ],
             [
              0.1111111111111111,
              "#46039f"
             ],
             [
              0.2222222222222222,
              "#7201a8"
             ],
             [
              0.3333333333333333,
              "#9c179e"
             ],
             [
              0.4444444444444444,
              "#bd3786"
             ],
             [
              0.5555555555555556,
              "#d8576b"
             ],
             [
              0.6666666666666666,
              "#ed7953"
             ],
             [
              0.7777777777777778,
              "#fb9f3a"
             ],
             [
              0.8888888888888888,
              "#fdca26"
             ],
             [
              1,
              "#f0f921"
             ]
            ],
            "type": "heatmap"
           }
          ],
          "heatmapgl": [
           {
            "colorbar": {
             "outlinewidth": 0,
             "ticks": ""
            },
            "colorscale": [
             [
              0,
              "#0d0887"
             ],
             [
              0.1111111111111111,
              "#46039f"
             ],
             [
              0.2222222222222222,
              "#7201a8"
             ],
             [
              0.3333333333333333,
              "#9c179e"
             ],
             [
              0.4444444444444444,
              "#bd3786"
             ],
             [
              0.5555555555555556,
              "#d8576b"
             ],
             [
              0.6666666666666666,
              "#ed7953"
             ],
             [
              0.7777777777777778,
              "#fb9f3a"
             ],
             [
              0.8888888888888888,
              "#fdca26"
             ],
             [
              1,
              "#f0f921"
             ]
            ],
            "type": "heatmapgl"
           }
          ],
          "histogram": [
           {
            "marker": {
             "pattern": {
              "fillmode": "overlay",
              "size": 10,
              "solidity": 0.2
             }
            },
            "type": "histogram"
           }
          ],
          "histogram2d": [
           {
            "colorbar": {
             "outlinewidth": 0,
             "ticks": ""
            },
            "colorscale": [
             [
              0,
              "#0d0887"
             ],
             [
              0.1111111111111111,
              "#46039f"
             ],
             [
              0.2222222222222222,
              "#7201a8"
             ],
             [
              0.3333333333333333,
              "#9c179e"
             ],
             [
              0.4444444444444444,
              "#bd3786"
             ],
             [
              0.5555555555555556,
              "#d8576b"
             ],
             [
              0.6666666666666666,
              "#ed7953"
             ],
             [
              0.7777777777777778,
              "#fb9f3a"
             ],
             [
              0.8888888888888888,
              "#fdca26"
             ],
             [
              1,
              "#f0f921"
             ]
            ],
            "type": "histogram2d"
           }
          ],
          "histogram2dcontour": [
           {
            "colorbar": {
             "outlinewidth": 0,
             "ticks": ""
            },
            "colorscale": [
             [
              0,
              "#0d0887"
             ],
             [
              0.1111111111111111,
              "#46039f"
             ],
             [
              0.2222222222222222,
              "#7201a8"
             ],
             [
              0.3333333333333333,
              "#9c179e"
             ],
             [
              0.4444444444444444,
              "#bd3786"
             ],
             [
              0.5555555555555556,
              "#d8576b"
             ],
             [
              0.6666666666666666,
              "#ed7953"
             ],
             [
              0.7777777777777778,
              "#fb9f3a"
             ],
             [
              0.8888888888888888,
              "#fdca26"
             ],
             [
              1,
              "#f0f921"
             ]
            ],
            "type": "histogram2dcontour"
           }
          ],
          "mesh3d": [
           {
            "colorbar": {
             "outlinewidth": 0,
             "ticks": ""
            },
            "type": "mesh3d"
           }
          ],
          "parcoords": [
           {
            "line": {
             "colorbar": {
              "outlinewidth": 0,
              "ticks": ""
             }
            },
            "type": "parcoords"
           }
          ],
          "pie": [
           {
            "automargin": true,
            "type": "pie"
           }
          ],
          "scatter": [
           {
            "fillpattern": {
             "fillmode": "overlay",
             "size": 10,
             "solidity": 0.2
            },
            "type": "scatter"
           }
          ],
          "scatter3d": [
           {
            "line": {
             "colorbar": {
              "outlinewidth": 0,
              "ticks": ""
             }
            },
            "marker": {
             "colorbar": {
              "outlinewidth": 0,
              "ticks": ""
             }
            },
            "type": "scatter3d"
           }
          ],
          "scattercarpet": [
           {
            "marker": {
             "colorbar": {
              "outlinewidth": 0,
              "ticks": ""
             }
            },
            "type": "scattercarpet"
           }
          ],
          "scattergeo": [
           {
            "marker": {
             "colorbar": {
              "outlinewidth": 0,
              "ticks": ""
             }
            },
            "type": "scattergeo"
           }
          ],
          "scattergl": [
           {
            "marker": {
             "colorbar": {
              "outlinewidth": 0,
              "ticks": ""
             }
            },
            "type": "scattergl"
           }
          ],
          "scattermapbox": [
           {
            "marker": {
             "colorbar": {
              "outlinewidth": 0,
              "ticks": ""
             }
            },
            "type": "scattermapbox"
           }
          ],
          "scatterpolar": [
           {
            "marker": {
             "colorbar": {
              "outlinewidth": 0,
              "ticks": ""
             }
            },
            "type": "scatterpolar"
           }
          ],
          "scatterpolargl": [
           {
            "marker": {
             "colorbar": {
              "outlinewidth": 0,
              "ticks": ""
             }
            },
            "type": "scatterpolargl"
           }
          ],
          "scatterternary": [
           {
            "marker": {
             "colorbar": {
              "outlinewidth": 0,
              "ticks": ""
             }
            },
            "type": "scatterternary"
           }
          ],
          "surface": [
           {
            "colorbar": {
             "outlinewidth": 0,
             "ticks": ""
            },
            "colorscale": [
             [
              0,
              "#0d0887"
             ],
             [
              0.1111111111111111,
              "#46039f"
             ],
             [
              0.2222222222222222,
              "#7201a8"
             ],
             [
              0.3333333333333333,
              "#9c179e"
             ],
             [
              0.4444444444444444,
              "#bd3786"
             ],
             [
              0.5555555555555556,
              "#d8576b"
             ],
             [
              0.6666666666666666,
              "#ed7953"
             ],
             [
              0.7777777777777778,
              "#fb9f3a"
             ],
             [
              0.8888888888888888,
              "#fdca26"
             ],
             [
              1,
              "#f0f921"
             ]
            ],
            "type": "surface"
           }
          ],
          "table": [
           {
            "cells": {
             "fill": {
              "color": "#EBF0F8"
             },
             "line": {
              "color": "white"
             }
            },
            "header": {
             "fill": {
              "color": "#C8D4E3"
             },
             "line": {
              "color": "white"
             }
            },
            "type": "table"
           }
          ]
         },
         "layout": {
          "annotationdefaults": {
           "arrowcolor": "#2a3f5f",
           "arrowhead": 0,
           "arrowwidth": 1
          },
          "autotypenumbers": "strict",
          "coloraxis": {
           "colorbar": {
            "outlinewidth": 0,
            "ticks": ""
           }
          },
          "colorscale": {
           "diverging": [
            [
             0,
             "#8e0152"
            ],
            [
             0.1,
             "#c51b7d"
            ],
            [
             0.2,
             "#de77ae"
            ],
            [
             0.3,
             "#f1b6da"
            ],
            [
             0.4,
             "#fde0ef"
            ],
            [
             0.5,
             "#f7f7f7"
            ],
            [
             0.6,
             "#e6f5d0"
            ],
            [
             0.7,
             "#b8e186"
            ],
            [
             0.8,
             "#7fbc41"
            ],
            [
             0.9,
             "#4d9221"
            ],
            [
             1,
             "#276419"
            ]
           ],
           "sequential": [
            [
             0,
             "#0d0887"
            ],
            [
             0.1111111111111111,
             "#46039f"
            ],
            [
             0.2222222222222222,
             "#7201a8"
            ],
            [
             0.3333333333333333,
             "#9c179e"
            ],
            [
             0.4444444444444444,
             "#bd3786"
            ],
            [
             0.5555555555555556,
             "#d8576b"
            ],
            [
             0.6666666666666666,
             "#ed7953"
            ],
            [
             0.7777777777777778,
             "#fb9f3a"
            ],
            [
             0.8888888888888888,
             "#fdca26"
            ],
            [
             1,
             "#f0f921"
            ]
           ],
           "sequentialminus": [
            [
             0,
             "#0d0887"
            ],
            [
             0.1111111111111111,
             "#46039f"
            ],
            [
             0.2222222222222222,
             "#7201a8"
            ],
            [
             0.3333333333333333,
             "#9c179e"
            ],
            [
             0.4444444444444444,
             "#bd3786"
            ],
            [
             0.5555555555555556,
             "#d8576b"
            ],
            [
             0.6666666666666666,
             "#ed7953"
            ],
            [
             0.7777777777777778,
             "#fb9f3a"
            ],
            [
             0.8888888888888888,
             "#fdca26"
            ],
            [
             1,
             "#f0f921"
            ]
           ]
          },
          "colorway": [
           "#636efa",
           "#EF553B",
           "#00cc96",
           "#ab63fa",
           "#FFA15A",
           "#19d3f3",
           "#FF6692",
           "#B6E880",
           "#FF97FF",
           "#FECB52"
          ],
          "font": {
           "color": "#2a3f5f"
          },
          "geo": {
           "bgcolor": "white",
           "lakecolor": "white",
           "landcolor": "#E5ECF6",
           "showlakes": true,
           "showland": true,
           "subunitcolor": "white"
          },
          "hoverlabel": {
           "align": "left"
          },
          "hovermode": "closest",
          "mapbox": {
           "style": "light"
          },
          "paper_bgcolor": "white",
          "plot_bgcolor": "#E5ECF6",
          "polar": {
           "angularaxis": {
            "gridcolor": "white",
            "linecolor": "white",
            "ticks": ""
           },
           "bgcolor": "#E5ECF6",
           "radialaxis": {
            "gridcolor": "white",
            "linecolor": "white",
            "ticks": ""
           }
          },
          "scene": {
           "xaxis": {
            "backgroundcolor": "#E5ECF6",
            "gridcolor": "white",
            "gridwidth": 2,
            "linecolor": "white",
            "showbackground": true,
            "ticks": "",
            "zerolinecolor": "white"
           },
           "yaxis": {
            "backgroundcolor": "#E5ECF6",
            "gridcolor": "white",
            "gridwidth": 2,
            "linecolor": "white",
            "showbackground": true,
            "ticks": "",
            "zerolinecolor": "white"
           },
           "zaxis": {
            "backgroundcolor": "#E5ECF6",
            "gridcolor": "white",
            "gridwidth": 2,
            "linecolor": "white",
            "showbackground": true,
            "ticks": "",
            "zerolinecolor": "white"
           }
          },
          "shapedefaults": {
           "line": {
            "color": "#2a3f5f"
           }
          },
          "ternary": {
           "aaxis": {
            "gridcolor": "white",
            "linecolor": "white",
            "ticks": ""
           },
           "baxis": {
            "gridcolor": "white",
            "linecolor": "white",
            "ticks": ""
           },
           "bgcolor": "#E5ECF6",
           "caxis": {
            "gridcolor": "white",
            "linecolor": "white",
            "ticks": ""
           }
          },
          "title": {
           "x": 0.05
          },
          "xaxis": {
           "automargin": true,
           "gridcolor": "white",
           "linecolor": "white",
           "ticks": "",
           "title": {
            "standoff": 15
           },
           "zerolinecolor": "white",
           "zerolinewidth": 2
          },
          "yaxis": {
           "automargin": true,
           "gridcolor": "white",
           "linecolor": "white",
           "ticks": "",
           "title": {
            "standoff": 15
           },
           "zerolinecolor": "white",
           "zerolinewidth": 2
          }
         }
        },
        "title": {
         "text": "Input and Output Points in 3D Space"
        }
       }
      }
     },
     "metadata": {},
     "output_type": "display_data"
    }
   ],
   "source": [
    "interactive_output_visualization(deNorm(results[\"labels\"]), duration=3, randomseed=False, output=True, output_data=deNorm(results[\"outputs\"]))\n",
    "interactive_output_visualization(deNorm(results[\"labels_t\"]), duration=1, randomseed=False, output=True, output_data=deNorm(results[\"outputs_t\"]))"
   ]
  }
 ],
 "metadata": {
  "kernelspec": {
   "display_name": "Python 3",
   "language": "python",
   "name": "python3"
  },
  "language_info": {
   "codemirror_mode": {
    "name": "ipython",
    "version": 3
   },
   "file_extension": ".py",
   "mimetype": "text/x-python",
   "name": "python",
   "nbconvert_exporter": "python",
   "pygments_lexer": "ipython3",
   "version": "3.9.6"
  },
  "orig_nbformat": 4
 },
 "nbformat": 4,
 "nbformat_minor": 2
}
